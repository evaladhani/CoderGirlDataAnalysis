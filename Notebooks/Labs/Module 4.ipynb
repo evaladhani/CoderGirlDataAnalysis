{
    "metadata": {
        "kernelspec": {
            "name": "SQL",
            "display_name": "SQL",
            "language": "sql"
        },
        "language_info": {
            "name": "sql",
            "version": ""
        }
    },
    "nbformat_minor": 2,
    "nbformat": 4,
    "cells": [
        {
            "cell_type": "markdown",
            "source": [
                "# Module 4: Expressions and functions"
            ],
            "metadata": {
                "azdata_cell_guid": "dfc1b729-24c4-40b6-9999-19e2a82f10d4"
            },
            "attachments": {}
        },
        {
            "cell_type": "code",
            "source": [
                "Use AdventureWorks2019;\n",
                "GO"
            ],
            "metadata": {
                "azdata_cell_guid": "688135ad-e463-40f6-ac53-97df3f0e3e70"
            },
            "outputs": [
                {
                    "output_type": "display_data",
                    "data": {
                        "text/html": "Commands completed successfully."
                    },
                    "metadata": {}
                },
                {
                    "output_type": "display_data",
                    "data": {
                        "text/html": "Total execution time: 00:00:00.034"
                    },
                    "metadata": {}
                }
            ],
            "execution_count": 5
        },
        {
            "cell_type": "markdown",
            "source": [
                "## Lab 1\n",
                "\n",
                "### Expressions \n",
                "\n",
                "\\--Concatenate strings \n",
                "\n",
                "SELECT column1 + column2 AS NewColumn \n",
                "\n",
                "FROM theTable; \n",
                "\n",
                "\\------------------------------------------------------------------------\n",
                "\n",
                "\\--Math \n",
                "\n",
                "SELECT 1 + 2, column1 \\* column2 \n",
                "\n",
                "FROM theTable; \n",
                "\n",
                "\\------------------------------------------------------------------------  \n",
                "\n",
                "\\--Cast an integer to a string \n",
                "\n",
                "SELECT CAST(ID as varchar(10)) + Name AS CustID \n",
                "\n",
                "FROM theTable; \n",
                "\n",
                "SELECT CONVERT(varchar(10), ID) + Name AS CustID \n",
                "\n",
                "FROM theTable; \n",
                "\n",
                "\\------------------------------------------------------------------------  \n",
                "\n",
                "\\--See CAST and Convert article for styles \n",
                "\n",
                "SELECT CONVERT(varchar(10),OrderDate,101) AS FormattedDate \n",
                "\n",
                "FROM theTable; \n",
                "\n",
                "\\------------------------------------------------------------------------  \n",
                "\n",
                "\\--Replace NULL with an empty string \n",
                "\n",
                "SELECT FirstName + ' ' + ISNULL(Middlename, '') + ' ' + LastName \n",
                "\n",
                "FROM Names;"
            ],
            "metadata": {
                "azdata_cell_guid": "436e3212-4f04-4e59-aa73-f0f4b9d5716c"
            },
            "attachments": {}
        },
        {
            "cell_type": "markdown",
            "source": [
                "1. Write a query using the Production.Product table displaying the Product ID, Color, and Name columns. Add a \r\n",
                "column called Description formatted as “Name: Color”. If the color is missing, substitute “N/A”."
            ],
            "metadata": {
                "azdata_cell_guid": "78af2501-73cc-466f-a613-efca67b1dfec",
                "tags": []
            }
        },
        {
            "cell_type": "code",
            "source": [
                ""
            ],
            "metadata": {
                "azdata_cell_guid": "68f5dcf1-83b3-4dac-8fd4-a44d5bd9a58c"
            },
            "outputs": [],
            "execution_count": null
        },
        {
            "cell_type": "markdown",
            "source": [
                "2. Write a query using the Sales.SpecialOffer table. Display MinQty and MaxQty columns and the difference between them along with the SpecialOfferID and Description columns."
            ],
            "metadata": {
                "azdata_cell_guid": "310218cf-61c6-42c2-964f-253d5de53dad"
            },
            "attachments": {}
        },
        {
            "cell_type": "code",
            "source": [
                ""
            ],
            "metadata": {
                "azdata_cell_guid": "cc88ce1d-d035-4495-996f-b7cf7b88d054"
            },
            "outputs": [],
            "execution_count": null
        },
        {
            "cell_type": "markdown",
            "source": [
                "## Lab 2\n",
                "\n",
                "[What are the Microsoft SQL database functions? - SQL Server | Microsoft Docs](https://docs.microsoft.com/en-us/sql/t-sql/functions/functions?view=sql-server-ver15)\n",
                "\n",
                "[String Functions (Transact-SQL) - SQL Server | Microsoft Docs](https://docs.microsoft.com/en-us/sql/t-sql/functions/string-functions-transact-sql?view=sql-server-ver15)\n",
                "\n",
                "String functions \n",
                "\n",
                "• RTRIM, LTRIM -- remove spaces \n",
                "\n",
                "• LEFT, RIGHT -- return a number of characters \n",
                "\n",
                "• LEN, DATALENGTH -- return the length \n",
                "\n",
                "• CHARINDEX -- find a string \n",
                "\n",
                "• SUBSTRING -- return part of a string \n",
                "\n",
                "• REVERSE -- returns the string backwards \n",
                "\n",
                "• UPPER, LOWER -- returns all upper or lower case \n",
                "\n",
                "• REPLACE -- replace part of a string \n",
                "\n",
                "• CONCATENATE – build a string and it takes care of NULL and conversions\n",
                "\n",
                "These functions are best used in the SELECT and ORDER BY clauses"
            ],
            "metadata": {
                "azdata_cell_guid": "0c2c10b9-ba81-400c-bc6c-beeb0b2af1ea"
            },
            "attachments": {}
        },
        {
            "cell_type": "markdown",
            "source": [
                "1. Write a query displaying the BusinessEntityID from the Person.Person table. Also return the first and last names all in uppercase."
            ],
            "metadata": {
                "azdata_cell_guid": "1b3b0381-e398-4013-a6dd-59b1ba2af363"
            },
            "attachments": {}
        },
        {
            "cell_type": "code",
            "source": [
                ""
            ],
            "metadata": {
                "azdata_cell_guid": "3a0c7c01-9a9e-4140-9890-42a2c500c017"
            },
            "outputs": [],
            "execution_count": null
        },
        {
            "cell_type": "markdown",
            "source": [
                "2. Return the first initial and last name from all the names in the Person.Person table."
            ],
            "metadata": {
                "azdata_cell_guid": "d261171e-7a52-4a90-b5b8-553b5ba3b332"
            },
            "attachments": {}
        },
        {
            "cell_type": "code",
            "source": [
                ""
            ],
            "metadata": {
                "azdata_cell_guid": "12b63b80-e874-4057-9dc5-9dab189c2d8d"
            },
            "outputs": [],
            "execution_count": null
        },
        {
            "cell_type": "markdown",
            "source": [
                "3. Return the LastNames from Person.Person in spelled reverse order"
            ],
            "metadata": {
                "azdata_cell_guid": "1df88263-002b-4f45-a83e-8c7f2ce3bfcd"
            },
            "attachments": {}
        },
        {
            "cell_type": "code",
            "source": [
                ""
            ],
            "metadata": {
                "azdata_cell_guid": "a7e5e088-50da-4c73-a898-7b343beb113c"
            },
            "outputs": [],
            "execution_count": null
        },
        {
            "cell_type": "markdown",
            "source": [
                "## Lab 3\n",
                "\n",
                "**Date functions**\n",
                "\n",
                "[Date and Time Data Types and Functions - SQL Server (Transact-SQL) | Microsoft Docs](https://docs.microsoft.com/en-us/sql/t-sql/functions/date-and-time-data-types-and-functions-transact-sql?view=sql-server-ver15)\n",
                "\n",
                "• GETDATE, SYSDATETIME -- returns the server date \n",
                "\n",
                "• DATEADD -- adds a time period to a date \n",
                "\n",
                "• DATEDIFF -- calculate the difference between two dates \n",
                "\n",
                "• DATENAME, DATEPART -- returns part of a date \n",
                "\n",
                "• DAY, MONTH, YEAR -- returns part of a date \n",
                "\n",
                "• CONVERT and FORMAT – formatting dates \n",
                "\n",
                "• MM = months, mm = minutes (when using the Format function)"
            ],
            "metadata": {
                "azdata_cell_guid": "2a637d7b-cfda-435f-9155-6524ce080a07"
            },
            "attachments": {}
        },
        {
            "cell_type": "markdown",
            "source": [
                "1. Write a query that calculates the number of days between the date an order was placed and the date that it was shipped using the Sales.SalesOrdeHeader table. Include the SalesOrderID, OrderDate, and ShipDate columns. (Note that the answer is 7 for all the rows)."
            ],
            "metadata": {
                "azdata_cell_guid": "ef01fcef-30ce-4209-8619-769697c08cd6"
            },
            "attachments": {}
        },
        {
            "cell_type": "code",
            "source": [
                "SELECT ProductID, Color, Name, Name + ': ' + ISNULL(Color, 'N/A') AS \"Name: Color\"\n",
                "FROM Production.Product;"
            ],
            "metadata": {
                "azdata_cell_guid": "95461e77-eff2-4ade-b557-223e9114273d",
                "tags": []
            },
            "outputs": [
                {
                    "output_type": "display_data",
                    "data": {
                        "text/html": "(504 rows affected)"
                    },
                    "metadata": {}
                },
                {
                    "output_type": "display_data",
                    "data": {
                        "text/html": "Total execution time: 00:00:00.108"
                    },
                    "metadata": {}
                },
                {
                    "output_type": "execute_result",
                    "execution_count": 6,
                    "data": {
                        "application/vnd.dataresource+json": {
                            "schema": {
                                "fields": [
                                    {
                                        "name": "ProductID"
                                    },
                                    {
                                        "name": "Color"
                                    },
                                    {
                                        "name": "Name"
                                    },
                                    {
                                        "name": "Name: Color"
                                    }
                                ]
                            },
                            "data": [
                                {
                                    "0": "1",
                                    "1": "NULL",
                                    "2": "Adjustable Race",
                                    "3": "Adjustable Race: N/A"
                                },
                                {
                                    "0": "2",
                                    "1": "NULL",
                                    "2": "Bearing Ball",
                                    "3": "Bearing Ball: N/A"
                                },
                                {
                                    "0": "3",
                                    "1": "NULL",
                                    "2": "BB Ball Bearing",
                                    "3": "BB Ball Bearing: N/A"
                                },
                                {
                                    "0": "4",
                                    "1": "NULL",
                                    "2": "Headset Ball Bearings",
                                    "3": "Headset Ball Bearings: N/A"
                                },
                                {
                                    "0": "316",
                                    "1": "NULL",
                                    "2": "Blade",
                                    "3": "Blade: N/A"
                                },
                                {
                                    "0": "317",
                                    "1": "Black",
                                    "2": "LL Crankarm",
                                    "3": "LL Crankarm: Black"
                                },
                                {
                                    "0": "318",
                                    "1": "Black",
                                    "2": "ML Crankarm",
                                    "3": "ML Crankarm: Black"
                                },
                                {
                                    "0": "319",
                                    "1": "Black",
                                    "2": "HL Crankarm",
                                    "3": "HL Crankarm: Black"
                                },
                                {
                                    "0": "320",
                                    "1": "Silver",
                                    "2": "Chainring Bolts",
                                    "3": "Chainring Bolts: Silver"
                                },
                                {
                                    "0": "321",
                                    "1": "Silver",
                                    "2": "Chainring Nut",
                                    "3": "Chainring Nut: Silver"
                                },
                                {
                                    "0": "322",
                                    "1": "Black",
                                    "2": "Chainring",
                                    "3": "Chainring: Black"
                                },
                                {
                                    "0": "323",
                                    "1": "NULL",
                                    "2": "Crown Race",
                                    "3": "Crown Race: N/A"
                                },
                                {
                                    "0": "324",
                                    "1": "NULL",
                                    "2": "Chain Stays",
                                    "3": "Chain Stays: N/A"
                                },
                                {
                                    "0": "325",
                                    "1": "NULL",
                                    "2": "Decal 1",
                                    "3": "Decal 1: N/A"
                                },
                                {
                                    "0": "326",
                                    "1": "NULL",
                                    "2": "Decal 2",
                                    "3": "Decal 2: N/A"
                                },
                                {
                                    "0": "327",
                                    "1": "NULL",
                                    "2": "Down Tube",
                                    "3": "Down Tube: N/A"
                                },
                                {
                                    "0": "328",
                                    "1": "NULL",
                                    "2": "Mountain End Caps",
                                    "3": "Mountain End Caps: N/A"
                                },
                                {
                                    "0": "329",
                                    "1": "NULL",
                                    "2": "Road End Caps",
                                    "3": "Road End Caps: N/A"
                                },
                                {
                                    "0": "330",
                                    "1": "NULL",
                                    "2": "Touring End Caps",
                                    "3": "Touring End Caps: N/A"
                                },
                                {
                                    "0": "331",
                                    "1": "NULL",
                                    "2": "Fork End",
                                    "3": "Fork End: N/A"
                                },
                                {
                                    "0": "332",
                                    "1": "Silver",
                                    "2": "Freewheel",
                                    "3": "Freewheel: Silver"
                                },
                                {
                                    "0": "341",
                                    "1": "NULL",
                                    "2": "Flat Washer 1",
                                    "3": "Flat Washer 1: N/A"
                                },
                                {
                                    "0": "342",
                                    "1": "NULL",
                                    "2": "Flat Washer 6",
                                    "3": "Flat Washer 6: N/A"
                                },
                                {
                                    "0": "343",
                                    "1": "NULL",
                                    "2": "Flat Washer 2",
                                    "3": "Flat Washer 2: N/A"
                                },
                                {
                                    "0": "344",
                                    "1": "NULL",
                                    "2": "Flat Washer 9",
                                    "3": "Flat Washer 9: N/A"
                                },
                                {
                                    "0": "345",
                                    "1": "NULL",
                                    "2": "Flat Washer 4",
                                    "3": "Flat Washer 4: N/A"
                                },
                                {
                                    "0": "346",
                                    "1": "NULL",
                                    "2": "Flat Washer 3",
                                    "3": "Flat Washer 3: N/A"
                                },
                                {
                                    "0": "347",
                                    "1": "NULL",
                                    "2": "Flat Washer 8",
                                    "3": "Flat Washer 8: N/A"
                                },
                                {
                                    "0": "348",
                                    "1": "NULL",
                                    "2": "Flat Washer 5",
                                    "3": "Flat Washer 5: N/A"
                                },
                                {
                                    "0": "349",
                                    "1": "NULL",
                                    "2": "Flat Washer 7",
                                    "3": "Flat Washer 7: N/A"
                                },
                                {
                                    "0": "350",
                                    "1": "NULL",
                                    "2": "Fork Crown",
                                    "3": "Fork Crown: N/A"
                                },
                                {
                                    "0": "351",
                                    "1": "Silver",
                                    "2": "Front Derailleur Cage",
                                    "3": "Front Derailleur Cage: Silver"
                                },
                                {
                                    "0": "352",
                                    "1": "Silver",
                                    "2": "Front Derailleur Linkage",
                                    "3": "Front Derailleur Linkage: Silver"
                                },
                                {
                                    "0": "355",
                                    "1": "NULL",
                                    "2": "Guide Pulley",
                                    "3": "Guide Pulley: N/A"
                                },
                                {
                                    "0": "356",
                                    "1": "NULL",
                                    "2": "LL Grip Tape",
                                    "3": "LL Grip Tape: N/A"
                                },
                                {
                                    "0": "357",
                                    "1": "NULL",
                                    "2": "ML Grip Tape",
                                    "3": "ML Grip Tape: N/A"
                                },
                                {
                                    "0": "358",
                                    "1": "NULL",
                                    "2": "HL Grip Tape",
                                    "3": "HL Grip Tape: N/A"
                                },
                                {
                                    "0": "359",
                                    "1": "NULL",
                                    "2": "Thin-Jam Hex Nut 9",
                                    "3": "Thin-Jam Hex Nut 9: N/A"
                                },
                                {
                                    "0": "360",
                                    "1": "NULL",
                                    "2": "Thin-Jam Hex Nut 10",
                                    "3": "Thin-Jam Hex Nut 10: N/A"
                                },
                                {
                                    "0": "361",
                                    "1": "NULL",
                                    "2": "Thin-Jam Hex Nut 1",
                                    "3": "Thin-Jam Hex Nut 1: N/A"
                                },
                                {
                                    "0": "362",
                                    "1": "NULL",
                                    "2": "Thin-Jam Hex Nut 2",
                                    "3": "Thin-Jam Hex Nut 2: N/A"
                                },
                                {
                                    "0": "363",
                                    "1": "NULL",
                                    "2": "Thin-Jam Hex Nut 15",
                                    "3": "Thin-Jam Hex Nut 15: N/A"
                                },
                                {
                                    "0": "364",
                                    "1": "NULL",
                                    "2": "Thin-Jam Hex Nut 16",
                                    "3": "Thin-Jam Hex Nut 16: N/A"
                                },
                                {
                                    "0": "365",
                                    "1": "NULL",
                                    "2": "Thin-Jam Hex Nut 5",
                                    "3": "Thin-Jam Hex Nut 5: N/A"
                                },
                                {
                                    "0": "366",
                                    "1": "NULL",
                                    "2": "Thin-Jam Hex Nut 6",
                                    "3": "Thin-Jam Hex Nut 6: N/A"
                                },
                                {
                                    "0": "367",
                                    "1": "NULL",
                                    "2": "Thin-Jam Hex Nut 3",
                                    "3": "Thin-Jam Hex Nut 3: N/A"
                                },
                                {
                                    "0": "368",
                                    "1": "NULL",
                                    "2": "Thin-Jam Hex Nut 4",
                                    "3": "Thin-Jam Hex Nut 4: N/A"
                                },
                                {
                                    "0": "369",
                                    "1": "NULL",
                                    "2": "Thin-Jam Hex Nut 13",
                                    "3": "Thin-Jam Hex Nut 13: N/A"
                                },
                                {
                                    "0": "370",
                                    "1": "NULL",
                                    "2": "Thin-Jam Hex Nut 14",
                                    "3": "Thin-Jam Hex Nut 14: N/A"
                                },
                                {
                                    "0": "371",
                                    "1": "NULL",
                                    "2": "Thin-Jam Hex Nut 7",
                                    "3": "Thin-Jam Hex Nut 7: N/A"
                                },
                                {
                                    "0": "372",
                                    "1": "NULL",
                                    "2": "Thin-Jam Hex Nut 8",
                                    "3": "Thin-Jam Hex Nut 8: N/A"
                                },
                                {
                                    "0": "373",
                                    "1": "NULL",
                                    "2": "Thin-Jam Hex Nut 12",
                                    "3": "Thin-Jam Hex Nut 12: N/A"
                                },
                                {
                                    "0": "374",
                                    "1": "NULL",
                                    "2": "Thin-Jam Hex Nut 11",
                                    "3": "Thin-Jam Hex Nut 11: N/A"
                                },
                                {
                                    "0": "375",
                                    "1": "NULL",
                                    "2": "Hex Nut 5",
                                    "3": "Hex Nut 5: N/A"
                                },
                                {
                                    "0": "376",
                                    "1": "NULL",
                                    "2": "Hex Nut 6",
                                    "3": "Hex Nut 6: N/A"
                                },
                                {
                                    "0": "377",
                                    "1": "NULL",
                                    "2": "Hex Nut 16",
                                    "3": "Hex Nut 16: N/A"
                                },
                                {
                                    "0": "378",
                                    "1": "NULL",
                                    "2": "Hex Nut 17",
                                    "3": "Hex Nut 17: N/A"
                                },
                                {
                                    "0": "379",
                                    "1": "NULL",
                                    "2": "Hex Nut 7",
                                    "3": "Hex Nut 7: N/A"
                                },
                                {
                                    "0": "380",
                                    "1": "NULL",
                                    "2": "Hex Nut 8",
                                    "3": "Hex Nut 8: N/A"
                                },
                                {
                                    "0": "381",
                                    "1": "NULL",
                                    "2": "Hex Nut 9",
                                    "3": "Hex Nut 9: N/A"
                                },
                                {
                                    "0": "382",
                                    "1": "NULL",
                                    "2": "Hex Nut 22",
                                    "3": "Hex Nut 22: N/A"
                                },
                                {
                                    "0": "383",
                                    "1": "NULL",
                                    "2": "Hex Nut 23",
                                    "3": "Hex Nut 23: N/A"
                                },
                                {
                                    "0": "384",
                                    "1": "NULL",
                                    "2": "Hex Nut 12",
                                    "3": "Hex Nut 12: N/A"
                                },
                                {
                                    "0": "385",
                                    "1": "NULL",
                                    "2": "Hex Nut 13",
                                    "3": "Hex Nut 13: N/A"
                                },
                                {
                                    "0": "386",
                                    "1": "NULL",
                                    "2": "Hex Nut 1",
                                    "3": "Hex Nut 1: N/A"
                                },
                                {
                                    "0": "387",
                                    "1": "NULL",
                                    "2": "Hex Nut 10",
                                    "3": "Hex Nut 10: N/A"
                                },
                                {
                                    "0": "388",
                                    "1": "NULL",
                                    "2": "Hex Nut 11",
                                    "3": "Hex Nut 11: N/A"
                                },
                                {
                                    "0": "389",
                                    "1": "NULL",
                                    "2": "Hex Nut 2",
                                    "3": "Hex Nut 2: N/A"
                                },
                                {
                                    "0": "390",
                                    "1": "NULL",
                                    "2": "Hex Nut 20",
                                    "3": "Hex Nut 20: N/A"
                                },
                                {
                                    "0": "391",
                                    "1": "NULL",
                                    "2": "Hex Nut 21",
                                    "3": "Hex Nut 21: N/A"
                                },
                                {
                                    "0": "392",
                                    "1": "NULL",
                                    "2": "Hex Nut 3",
                                    "3": "Hex Nut 3: N/A"
                                },
                                {
                                    "0": "393",
                                    "1": "NULL",
                                    "2": "Hex Nut 14",
                                    "3": "Hex Nut 14: N/A"
                                },
                                {
                                    "0": "394",
                                    "1": "NULL",
                                    "2": "Hex Nut 15",
                                    "3": "Hex Nut 15: N/A"
                                },
                                {
                                    "0": "395",
                                    "1": "NULL",
                                    "2": "Hex Nut 4",
                                    "3": "Hex Nut 4: N/A"
                                },
                                {
                                    "0": "396",
                                    "1": "NULL",
                                    "2": "Hex Nut 18",
                                    "3": "Hex Nut 18: N/A"
                                },
                                {
                                    "0": "397",
                                    "1": "NULL",
                                    "2": "Hex Nut 19",
                                    "3": "Hex Nut 19: N/A"
                                },
                                {
                                    "0": "398",
                                    "1": "NULL",
                                    "2": "Handlebar Tube",
                                    "3": "Handlebar Tube: N/A"
                                },
                                {
                                    "0": "399",
                                    "1": "NULL",
                                    "2": "Head Tube",
                                    "3": "Head Tube: N/A"
                                },
                                {
                                    "0": "400",
                                    "1": "NULL",
                                    "2": "LL Hub",
                                    "3": "LL Hub: N/A"
                                },
                                {
                                    "0": "401",
                                    "1": "NULL",
                                    "2": "HL Hub",
                                    "3": "HL Hub: N/A"
                                },
                                {
                                    "0": "402",
                                    "1": "NULL",
                                    "2": "Keyed Washer",
                                    "3": "Keyed Washer: N/A"
                                },
                                {
                                    "0": "403",
                                    "1": "NULL",
                                    "2": "External Lock Washer 3",
                                    "3": "External Lock Washer 3: N/A"
                                },
                                {
                                    "0": "404",
                                    "1": "NULL",
                                    "2": "External Lock Washer 4",
                                    "3": "External Lock Washer 4: N/A"
                                },
                                {
                                    "0": "405",
                                    "1": "NULL",
                                    "2": "External Lock Washer 9",
                                    "3": "External Lock Washer 9: N/A"
                                },
                                {
                                    "0": "406",
                                    "1": "NULL",
                                    "2": "External Lock Washer 5",
                                    "3": "External Lock Washer 5: N/A"
                                },
                                {
                                    "0": "407",
                                    "1": "NULL",
                                    "2": "External Lock Washer 7",
                                    "3": "External Lock Washer 7: N/A"
                                },
                                {
                                    "0": "408",
                                    "1": "NULL",
                                    "2": "External Lock Washer 6",
                                    "3": "External Lock Washer 6: N/A"
                                },
                                {
                                    "0": "409",
                                    "1": "NULL",
                                    "2": "External Lock Washer 1",
                                    "3": "External Lock Washer 1: N/A"
                                },
                                {
                                    "0": "410",
                                    "1": "NULL",
                                    "2": "External Lock Washer 8",
                                    "3": "External Lock Washer 8: N/A"
                                },
                                {
                                    "0": "411",
                                    "1": "NULL",
                                    "2": "External Lock Washer 2",
                                    "3": "External Lock Washer 2: N/A"
                                },
                                {
                                    "0": "412",
                                    "1": "NULL",
                                    "2": "Internal Lock Washer 3",
                                    "3": "Internal Lock Washer 3: N/A"
                                },
                                {
                                    "0": "413",
                                    "1": "NULL",
                                    "2": "Internal Lock Washer 4",
                                    "3": "Internal Lock Washer 4: N/A"
                                },
                                {
                                    "0": "414",
                                    "1": "NULL",
                                    "2": "Internal Lock Washer 9",
                                    "3": "Internal Lock Washer 9: N/A"
                                },
                                {
                                    "0": "415",
                                    "1": "NULL",
                                    "2": "Internal Lock Washer 5",
                                    "3": "Internal Lock Washer 5: N/A"
                                },
                                {
                                    "0": "416",
                                    "1": "NULL",
                                    "2": "Internal Lock Washer 7",
                                    "3": "Internal Lock Washer 7: N/A"
                                },
                                {
                                    "0": "417",
                                    "1": "NULL",
                                    "2": "Internal Lock Washer 6",
                                    "3": "Internal Lock Washer 6: N/A"
                                },
                                {
                                    "0": "418",
                                    "1": "NULL",
                                    "2": "Internal Lock Washer 10",
                                    "3": "Internal Lock Washer 10: N/A"
                                },
                                {
                                    "0": "419",
                                    "1": "NULL",
                                    "2": "Internal Lock Washer 1",
                                    "3": "Internal Lock Washer 1: N/A"
                                },
                                {
                                    "0": "420",
                                    "1": "NULL",
                                    "2": "Internal Lock Washer 8",
                                    "3": "Internal Lock Washer 8: N/A"
                                },
                                {
                                    "0": "421",
                                    "1": "NULL",
                                    "2": "Internal Lock Washer 2",
                                    "3": "Internal Lock Washer 2: N/A"
                                },
                                {
                                    "0": "422",
                                    "1": "NULL",
                                    "2": "Thin-Jam Lock Nut 9",
                                    "3": "Thin-Jam Lock Nut 9: N/A"
                                },
                                {
                                    "0": "423",
                                    "1": "NULL",
                                    "2": "Thin-Jam Lock Nut 10",
                                    "3": "Thin-Jam Lock Nut 10: N/A"
                                },
                                {
                                    "0": "424",
                                    "1": "NULL",
                                    "2": "Thin-Jam Lock Nut 1",
                                    "3": "Thin-Jam Lock Nut 1: N/A"
                                },
                                {
                                    "0": "425",
                                    "1": "NULL",
                                    "2": "Thin-Jam Lock Nut 2",
                                    "3": "Thin-Jam Lock Nut 2: N/A"
                                },
                                {
                                    "0": "426",
                                    "1": "NULL",
                                    "2": "Thin-Jam Lock Nut 15",
                                    "3": "Thin-Jam Lock Nut 15: N/A"
                                },
                                {
                                    "0": "427",
                                    "1": "NULL",
                                    "2": "Thin-Jam Lock Nut 16",
                                    "3": "Thin-Jam Lock Nut 16: N/A"
                                },
                                {
                                    "0": "428",
                                    "1": "NULL",
                                    "2": "Thin-Jam Lock Nut 5",
                                    "3": "Thin-Jam Lock Nut 5: N/A"
                                },
                                {
                                    "0": "429",
                                    "1": "NULL",
                                    "2": "Thin-Jam Lock Nut 6",
                                    "3": "Thin-Jam Lock Nut 6: N/A"
                                },
                                {
                                    "0": "430",
                                    "1": "NULL",
                                    "2": "Thin-Jam Lock Nut 3",
                                    "3": "Thin-Jam Lock Nut 3: N/A"
                                },
                                {
                                    "0": "431",
                                    "1": "NULL",
                                    "2": "Thin-Jam Lock Nut 4",
                                    "3": "Thin-Jam Lock Nut 4: N/A"
                                },
                                {
                                    "0": "432",
                                    "1": "NULL",
                                    "2": "Thin-Jam Lock Nut 13",
                                    "3": "Thin-Jam Lock Nut 13: N/A"
                                },
                                {
                                    "0": "433",
                                    "1": "NULL",
                                    "2": "Thin-Jam Lock Nut 14",
                                    "3": "Thin-Jam Lock Nut 14: N/A"
                                },
                                {
                                    "0": "434",
                                    "1": "NULL",
                                    "2": "Thin-Jam Lock Nut 7",
                                    "3": "Thin-Jam Lock Nut 7: N/A"
                                },
                                {
                                    "0": "435",
                                    "1": "NULL",
                                    "2": "Thin-Jam Lock Nut 8",
                                    "3": "Thin-Jam Lock Nut 8: N/A"
                                },
                                {
                                    "0": "436",
                                    "1": "NULL",
                                    "2": "Thin-Jam Lock Nut 12",
                                    "3": "Thin-Jam Lock Nut 12: N/A"
                                },
                                {
                                    "0": "437",
                                    "1": "NULL",
                                    "2": "Thin-Jam Lock Nut 11",
                                    "3": "Thin-Jam Lock Nut 11: N/A"
                                },
                                {
                                    "0": "438",
                                    "1": "NULL",
                                    "2": "Lock Nut 5",
                                    "3": "Lock Nut 5: N/A"
                                },
                                {
                                    "0": "439",
                                    "1": "NULL",
                                    "2": "Lock Nut 6",
                                    "3": "Lock Nut 6: N/A"
                                },
                                {
                                    "0": "440",
                                    "1": "NULL",
                                    "2": "Lock Nut 16",
                                    "3": "Lock Nut 16: N/A"
                                },
                                {
                                    "0": "441",
                                    "1": "NULL",
                                    "2": "Lock Nut 17",
                                    "3": "Lock Nut 17: N/A"
                                },
                                {
                                    "0": "442",
                                    "1": "NULL",
                                    "2": "Lock Nut 7",
                                    "3": "Lock Nut 7: N/A"
                                },
                                {
                                    "0": "443",
                                    "1": "NULL",
                                    "2": "Lock Nut 8",
                                    "3": "Lock Nut 8: N/A"
                                },
                                {
                                    "0": "444",
                                    "1": "NULL",
                                    "2": "Lock Nut 9",
                                    "3": "Lock Nut 9: N/A"
                                },
                                {
                                    "0": "445",
                                    "1": "NULL",
                                    "2": "Lock Nut 22",
                                    "3": "Lock Nut 22: N/A"
                                },
                                {
                                    "0": "446",
                                    "1": "NULL",
                                    "2": "Lock Nut 23",
                                    "3": "Lock Nut 23: N/A"
                                },
                                {
                                    "0": "447",
                                    "1": "NULL",
                                    "2": "Lock Nut 12",
                                    "3": "Lock Nut 12: N/A"
                                },
                                {
                                    "0": "448",
                                    "1": "NULL",
                                    "2": "Lock Nut 13",
                                    "3": "Lock Nut 13: N/A"
                                },
                                {
                                    "0": "449",
                                    "1": "NULL",
                                    "2": "Lock Nut 1",
                                    "3": "Lock Nut 1: N/A"
                                },
                                {
                                    "0": "450",
                                    "1": "NULL",
                                    "2": "Lock Nut 10",
                                    "3": "Lock Nut 10: N/A"
                                },
                                {
                                    "0": "451",
                                    "1": "NULL",
                                    "2": "Lock Nut 11",
                                    "3": "Lock Nut 11: N/A"
                                },
                                {
                                    "0": "452",
                                    "1": "NULL",
                                    "2": "Lock Nut 2",
                                    "3": "Lock Nut 2: N/A"
                                },
                                {
                                    "0": "453",
                                    "1": "NULL",
                                    "2": "Lock Nut 20",
                                    "3": "Lock Nut 20: N/A"
                                },
                                {
                                    "0": "454",
                                    "1": "NULL",
                                    "2": "Lock Nut 21",
                                    "3": "Lock Nut 21: N/A"
                                },
                                {
                                    "0": "455",
                                    "1": "NULL",
                                    "2": "Lock Nut 3",
                                    "3": "Lock Nut 3: N/A"
                                },
                                {
                                    "0": "456",
                                    "1": "NULL",
                                    "2": "Lock Nut 14",
                                    "3": "Lock Nut 14: N/A"
                                },
                                {
                                    "0": "457",
                                    "1": "NULL",
                                    "2": "Lock Nut 15",
                                    "3": "Lock Nut 15: N/A"
                                },
                                {
                                    "0": "458",
                                    "1": "NULL",
                                    "2": "Lock Nut 4",
                                    "3": "Lock Nut 4: N/A"
                                },
                                {
                                    "0": "459",
                                    "1": "NULL",
                                    "2": "Lock Nut 19",
                                    "3": "Lock Nut 19: N/A"
                                },
                                {
                                    "0": "460",
                                    "1": "NULL",
                                    "2": "Lock Nut 18",
                                    "3": "Lock Nut 18: N/A"
                                },
                                {
                                    "0": "461",
                                    "1": "Silver",
                                    "2": "Lock Ring",
                                    "3": "Lock Ring: Silver"
                                },
                                {
                                    "0": "462",
                                    "1": "NULL",
                                    "2": "Lower Head Race",
                                    "3": "Lower Head Race: N/A"
                                },
                                {
                                    "0": "463",
                                    "1": "NULL",
                                    "2": "Lock Washer 4",
                                    "3": "Lock Washer 4: N/A"
                                },
                                {
                                    "0": "464",
                                    "1": "NULL",
                                    "2": "Lock Washer 5",
                                    "3": "Lock Washer 5: N/A"
                                },
                                {
                                    "0": "465",
                                    "1": "NULL",
                                    "2": "Lock Washer 10",
                                    "3": "Lock Washer 10: N/A"
                                },
                                {
                                    "0": "466",
                                    "1": "NULL",
                                    "2": "Lock Washer 6",
                                    "3": "Lock Washer 6: N/A"
                                },
                                {
                                    "0": "467",
                                    "1": "NULL",
                                    "2": "Lock Washer 13",
                                    "3": "Lock Washer 13: N/A"
                                },
                                {
                                    "0": "468",
                                    "1": "NULL",
                                    "2": "Lock Washer 8",
                                    "3": "Lock Washer 8: N/A"
                                },
                                {
                                    "0": "469",
                                    "1": "NULL",
                                    "2": "Lock Washer 1",
                                    "3": "Lock Washer 1: N/A"
                                },
                                {
                                    "0": "470",
                                    "1": "NULL",
                                    "2": "Lock Washer 7",
                                    "3": "Lock Washer 7: N/A"
                                },
                                {
                                    "0": "471",
                                    "1": "NULL",
                                    "2": "Lock Washer 12",
                                    "3": "Lock Washer 12: N/A"
                                },
                                {
                                    "0": "472",
                                    "1": "NULL",
                                    "2": "Lock Washer 2",
                                    "3": "Lock Washer 2: N/A"
                                },
                                {
                                    "0": "473",
                                    "1": "NULL",
                                    "2": "Lock Washer 9",
                                    "3": "Lock Washer 9: N/A"
                                },
                                {
                                    "0": "474",
                                    "1": "NULL",
                                    "2": "Lock Washer 3",
                                    "3": "Lock Washer 3: N/A"
                                },
                                {
                                    "0": "475",
                                    "1": "NULL",
                                    "2": "Lock Washer 11",
                                    "3": "Lock Washer 11: N/A"
                                },
                                {
                                    "0": "476",
                                    "1": "NULL",
                                    "2": "Metal Angle",
                                    "3": "Metal Angle: N/A"
                                },
                                {
                                    "0": "477",
                                    "1": "NULL",
                                    "2": "Metal Bar 1",
                                    "3": "Metal Bar 1: N/A"
                                },
                                {
                                    "0": "478",
                                    "1": "NULL",
                                    "2": "Metal Bar 2",
                                    "3": "Metal Bar 2: N/A"
                                },
                                {
                                    "0": "479",
                                    "1": "NULL",
                                    "2": "Metal Plate 2",
                                    "3": "Metal Plate 2: N/A"
                                },
                                {
                                    "0": "480",
                                    "1": "NULL",
                                    "2": "Metal Plate 1",
                                    "3": "Metal Plate 1: N/A"
                                },
                                {
                                    "0": "481",
                                    "1": "NULL",
                                    "2": "Metal Plate 3",
                                    "3": "Metal Plate 3: N/A"
                                },
                                {
                                    "0": "482",
                                    "1": "NULL",
                                    "2": "Metal Sheet 2",
                                    "3": "Metal Sheet 2: N/A"
                                },
                                {
                                    "0": "483",
                                    "1": "NULL",
                                    "2": "Metal Sheet 3",
                                    "3": "Metal Sheet 3: N/A"
                                },
                                {
                                    "0": "484",
                                    "1": "NULL",
                                    "2": "Metal Sheet 7",
                                    "3": "Metal Sheet 7: N/A"
                                },
                                {
                                    "0": "485",
                                    "1": "NULL",
                                    "2": "Metal Sheet 4",
                                    "3": "Metal Sheet 4: N/A"
                                },
                                {
                                    "0": "486",
                                    "1": "NULL",
                                    "2": "Metal Sheet 5",
                                    "3": "Metal Sheet 5: N/A"
                                },
                                {
                                    "0": "487",
                                    "1": "NULL",
                                    "2": "Metal Sheet 6",
                                    "3": "Metal Sheet 6: N/A"
                                },
                                {
                                    "0": "488",
                                    "1": "NULL",
                                    "2": "Metal Sheet 1",
                                    "3": "Metal Sheet 1: N/A"
                                },
                                {
                                    "0": "489",
                                    "1": "NULL",
                                    "2": "Metal Tread Plate",
                                    "3": "Metal Tread Plate: N/A"
                                },
                                {
                                    "0": "490",
                                    "1": "NULL",
                                    "2": "LL Nipple",
                                    "3": "LL Nipple: N/A"
                                },
                                {
                                    "0": "491",
                                    "1": "NULL",
                                    "2": "HL Nipple",
                                    "3": "HL Nipple: N/A"
                                },
                                {
                                    "0": "492",
                                    "1": "NULL",
                                    "2": "Paint - Black",
                                    "3": "Paint - Black: N/A"
                                },
                                {
                                    "0": "493",
                                    "1": "NULL",
                                    "2": "Paint - Red",
                                    "3": "Paint - Red: N/A"
                                },
                                {
                                    "0": "494",
                                    "1": "NULL",
                                    "2": "Paint - Silver",
                                    "3": "Paint - Silver: N/A"
                                },
                                {
                                    "0": "495",
                                    "1": "NULL",
                                    "2": "Paint - Blue",
                                    "3": "Paint - Blue: N/A"
                                },
                                {
                                    "0": "496",
                                    "1": "NULL",
                                    "2": "Paint - Yellow",
                                    "3": "Paint - Yellow: N/A"
                                },
                                {
                                    "0": "497",
                                    "1": "NULL",
                                    "2": "Pinch Bolt",
                                    "3": "Pinch Bolt: N/A"
                                },
                                {
                                    "0": "504",
                                    "1": "NULL",
                                    "2": "Cup-Shaped Race",
                                    "3": "Cup-Shaped Race: N/A"
                                },
                                {
                                    "0": "505",
                                    "1": "NULL",
                                    "2": "Cone-Shaped Race",
                                    "3": "Cone-Shaped Race: N/A"
                                },
                                {
                                    "0": "506",
                                    "1": "NULL",
                                    "2": "Reflector",
                                    "3": "Reflector: N/A"
                                },
                                {
                                    "0": "507",
                                    "1": "NULL",
                                    "2": "LL Mountain Rim",
                                    "3": "LL Mountain Rim: N/A"
                                },
                                {
                                    "0": "508",
                                    "1": "NULL",
                                    "2": "ML Mountain Rim",
                                    "3": "ML Mountain Rim: N/A"
                                },
                                {
                                    "0": "509",
                                    "1": "NULL",
                                    "2": "HL Mountain Rim",
                                    "3": "HL Mountain Rim: N/A"
                                },
                                {
                                    "0": "510",
                                    "1": "NULL",
                                    "2": "LL Road Rim",
                                    "3": "LL Road Rim: N/A"
                                },
                                {
                                    "0": "511",
                                    "1": "NULL",
                                    "2": "ML Road Rim",
                                    "3": "ML Road Rim: N/A"
                                },
                                {
                                    "0": "512",
                                    "1": "NULL",
                                    "2": "HL Road Rim",
                                    "3": "HL Road Rim: N/A"
                                },
                                {
                                    "0": "513",
                                    "1": "NULL",
                                    "2": "Touring Rim",
                                    "3": "Touring Rim: N/A"
                                },
                                {
                                    "0": "514",
                                    "1": "NULL",
                                    "2": "LL Mountain Seat Assembly",
                                    "3": "LL Mountain Seat Assembly: N/A"
                                },
                                {
                                    "0": "515",
                                    "1": "NULL",
                                    "2": "ML Mountain Seat Assembly",
                                    "3": "ML Mountain Seat Assembly: N/A"
                                },
                                {
                                    "0": "516",
                                    "1": "NULL",
                                    "2": "HL Mountain Seat Assembly",
                                    "3": "HL Mountain Seat Assembly: N/A"
                                },
                                {
                                    "0": "517",
                                    "1": "NULL",
                                    "2": "LL Road Seat Assembly",
                                    "3": "LL Road Seat Assembly: N/A"
                                },
                                {
                                    "0": "518",
                                    "1": "NULL",
                                    "2": "ML Road Seat Assembly",
                                    "3": "ML Road Seat Assembly: N/A"
                                },
                                {
                                    "0": "519",
                                    "1": "NULL",
                                    "2": "HL Road Seat Assembly",
                                    "3": "HL Road Seat Assembly: N/A"
                                },
                                {
                                    "0": "520",
                                    "1": "NULL",
                                    "2": "LL Touring Seat Assembly",
                                    "3": "LL Touring Seat Assembly: N/A"
                                },
                                {
                                    "0": "521",
                                    "1": "NULL",
                                    "2": "ML Touring Seat Assembly",
                                    "3": "ML Touring Seat Assembly: N/A"
                                },
                                {
                                    "0": "522",
                                    "1": "NULL",
                                    "2": "HL Touring Seat Assembly",
                                    "3": "HL Touring Seat Assembly: N/A"
                                },
                                {
                                    "0": "523",
                                    "1": "NULL",
                                    "2": "LL Spindle/Axle",
                                    "3": "LL Spindle/Axle: N/A"
                                },
                                {
                                    "0": "524",
                                    "1": "NULL",
                                    "2": "HL Spindle/Axle",
                                    "3": "HL Spindle/Axle: N/A"
                                },
                                {
                                    "0": "525",
                                    "1": "NULL",
                                    "2": "LL Shell",
                                    "3": "LL Shell: N/A"
                                },
                                {
                                    "0": "526",
                                    "1": "NULL",
                                    "2": "HL Shell",
                                    "3": "HL Shell: N/A"
                                },
                                {
                                    "0": "527",
                                    "1": "NULL",
                                    "2": "Spokes",
                                    "3": "Spokes: N/A"
                                },
                                {
                                    "0": "528",
                                    "1": "NULL",
                                    "2": "Seat Lug",
                                    "3": "Seat Lug: N/A"
                                },
                                {
                                    "0": "529",
                                    "1": "NULL",
                                    "2": "Stem",
                                    "3": "Stem: N/A"
                                },
                                {
                                    "0": "530",
                                    "1": "NULL",
                                    "2": "Seat Post",
                                    "3": "Seat Post: N/A"
                                },
                                {
                                    "0": "531",
                                    "1": "NULL",
                                    "2": "Steerer",
                                    "3": "Steerer: N/A"
                                },
                                {
                                    "0": "532",
                                    "1": "NULL",
                                    "2": "Seat Stays",
                                    "3": "Seat Stays: N/A"
                                },
                                {
                                    "0": "533",
                                    "1": "NULL",
                                    "2": "Seat Tube",
                                    "3": "Seat Tube: N/A"
                                },
                                {
                                    "0": "534",
                                    "1": "NULL",
                                    "2": "Top Tube",
                                    "3": "Top Tube: N/A"
                                },
                                {
                                    "0": "535",
                                    "1": "NULL",
                                    "2": "Tension Pulley",
                                    "3": "Tension Pulley: N/A"
                                },
                                {
                                    "0": "679",
                                    "1": "Silver",
                                    "2": "Rear Derailleur Cage",
                                    "3": "Rear Derailleur Cage: Silver"
                                },
                                {
                                    "0": "680",
                                    "1": "Black",
                                    "2": "HL Road Frame - Black, 58",
                                    "3": "HL Road Frame - Black, 58: Black"
                                },
                                {
                                    "0": "706",
                                    "1": "Red",
                                    "2": "HL Road Frame - Red, 58",
                                    "3": "HL Road Frame - Red, 58: Red"
                                },
                                {
                                    "0": "707",
                                    "1": "Red",
                                    "2": "Sport-100 Helmet, Red",
                                    "3": "Sport-100 Helmet, Red: Red"
                                },
                                {
                                    "0": "708",
                                    "1": "Black",
                                    "2": "Sport-100 Helmet, Black",
                                    "3": "Sport-100 Helmet, Black: Black"
                                },
                                {
                                    "0": "709",
                                    "1": "White",
                                    "2": "Mountain Bike Socks, M",
                                    "3": "Mountain Bike Socks, M: White"
                                },
                                {
                                    "0": "710",
                                    "1": "White",
                                    "2": "Mountain Bike Socks, L",
                                    "3": "Mountain Bike Socks, L: White"
                                },
                                {
                                    "0": "711",
                                    "1": "Blue",
                                    "2": "Sport-100 Helmet, Blue",
                                    "3": "Sport-100 Helmet, Blue: Blue"
                                },
                                {
                                    "0": "712",
                                    "1": "Multi",
                                    "2": "AWC Logo Cap",
                                    "3": "AWC Logo Cap: Multi"
                                },
                                {
                                    "0": "713",
                                    "1": "Multi",
                                    "2": "Long-Sleeve Logo Jersey, S",
                                    "3": "Long-Sleeve Logo Jersey, S: Multi"
                                },
                                {
                                    "0": "714",
                                    "1": "Multi",
                                    "2": "Long-Sleeve Logo Jersey, M",
                                    "3": "Long-Sleeve Logo Jersey, M: Multi"
                                },
                                {
                                    "0": "715",
                                    "1": "Multi",
                                    "2": "Long-Sleeve Logo Jersey, L",
                                    "3": "Long-Sleeve Logo Jersey, L: Multi"
                                },
                                {
                                    "0": "716",
                                    "1": "Multi",
                                    "2": "Long-Sleeve Logo Jersey, XL",
                                    "3": "Long-Sleeve Logo Jersey, XL: Multi"
                                },
                                {
                                    "0": "717",
                                    "1": "Red",
                                    "2": "HL Road Frame - Red, 62",
                                    "3": "HL Road Frame - Red, 62: Red"
                                },
                                {
                                    "0": "718",
                                    "1": "Red",
                                    "2": "HL Road Frame - Red, 44",
                                    "3": "HL Road Frame - Red, 44: Red"
                                },
                                {
                                    "0": "719",
                                    "1": "Red",
                                    "2": "HL Road Frame - Red, 48",
                                    "3": "HL Road Frame - Red, 48: Red"
                                },
                                {
                                    "0": "720",
                                    "1": "Red",
                                    "2": "HL Road Frame - Red, 52",
                                    "3": "HL Road Frame - Red, 52: Red"
                                },
                                {
                                    "0": "721",
                                    "1": "Red",
                                    "2": "HL Road Frame - Red, 56",
                                    "3": "HL Road Frame - Red, 56: Red"
                                },
                                {
                                    "0": "722",
                                    "1": "Black",
                                    "2": "LL Road Frame - Black, 58",
                                    "3": "LL Road Frame - Black, 58: Black"
                                },
                                {
                                    "0": "723",
                                    "1": "Black",
                                    "2": "LL Road Frame - Black, 60",
                                    "3": "LL Road Frame - Black, 60: Black"
                                },
                                {
                                    "0": "724",
                                    "1": "Black",
                                    "2": "LL Road Frame - Black, 62",
                                    "3": "LL Road Frame - Black, 62: Black"
                                },
                                {
                                    "0": "725",
                                    "1": "Red",
                                    "2": "LL Road Frame - Red, 44",
                                    "3": "LL Road Frame - Red, 44: Red"
                                },
                                {
                                    "0": "726",
                                    "1": "Red",
                                    "2": "LL Road Frame - Red, 48",
                                    "3": "LL Road Frame - Red, 48: Red"
                                },
                                {
                                    "0": "727",
                                    "1": "Red",
                                    "2": "LL Road Frame - Red, 52",
                                    "3": "LL Road Frame - Red, 52: Red"
                                },
                                {
                                    "0": "728",
                                    "1": "Red",
                                    "2": "LL Road Frame - Red, 58",
                                    "3": "LL Road Frame - Red, 58: Red"
                                },
                                {
                                    "0": "729",
                                    "1": "Red",
                                    "2": "LL Road Frame - Red, 60",
                                    "3": "LL Road Frame - Red, 60: Red"
                                },
                                {
                                    "0": "730",
                                    "1": "Red",
                                    "2": "LL Road Frame - Red, 62",
                                    "3": "LL Road Frame - Red, 62: Red"
                                },
                                {
                                    "0": "731",
                                    "1": "Red",
                                    "2": "ML Road Frame - Red, 44",
                                    "3": "ML Road Frame - Red, 44: Red"
                                },
                                {
                                    "0": "732",
                                    "1": "Red",
                                    "2": "ML Road Frame - Red, 48",
                                    "3": "ML Road Frame - Red, 48: Red"
                                },
                                {
                                    "0": "733",
                                    "1": "Red",
                                    "2": "ML Road Frame - Red, 52",
                                    "3": "ML Road Frame - Red, 52: Red"
                                },
                                {
                                    "0": "734",
                                    "1": "Red",
                                    "2": "ML Road Frame - Red, 58",
                                    "3": "ML Road Frame - Red, 58: Red"
                                },
                                {
                                    "0": "735",
                                    "1": "Red",
                                    "2": "ML Road Frame - Red, 60",
                                    "3": "ML Road Frame - Red, 60: Red"
                                },
                                {
                                    "0": "736",
                                    "1": "Black",
                                    "2": "LL Road Frame - Black, 44",
                                    "3": "LL Road Frame - Black, 44: Black"
                                },
                                {
                                    "0": "737",
                                    "1": "Black",
                                    "2": "LL Road Frame - Black, 48",
                                    "3": "LL Road Frame - Black, 48: Black"
                                },
                                {
                                    "0": "738",
                                    "1": "Black",
                                    "2": "LL Road Frame - Black, 52",
                                    "3": "LL Road Frame - Black, 52: Black"
                                },
                                {
                                    "0": "739",
                                    "1": "Silver",
                                    "2": "HL Mountain Frame - Silver, 42",
                                    "3": "HL Mountain Frame - Silver, 42: Silver"
                                },
                                {
                                    "0": "740",
                                    "1": "Silver",
                                    "2": "HL Mountain Frame - Silver, 44",
                                    "3": "HL Mountain Frame - Silver, 44: Silver"
                                },
                                {
                                    "0": "741",
                                    "1": "Silver",
                                    "2": "HL Mountain Frame - Silver, 48",
                                    "3": "HL Mountain Frame - Silver, 48: Silver"
                                },
                                {
                                    "0": "742",
                                    "1": "Silver",
                                    "2": "HL Mountain Frame - Silver, 46",
                                    "3": "HL Mountain Frame - Silver, 46: Silver"
                                },
                                {
                                    "0": "743",
                                    "1": "Black",
                                    "2": "HL Mountain Frame - Black, 42",
                                    "3": "HL Mountain Frame - Black, 42: Black"
                                },
                                {
                                    "0": "744",
                                    "1": "Black",
                                    "2": "HL Mountain Frame - Black, 44",
                                    "3": "HL Mountain Frame - Black, 44: Black"
                                },
                                {
                                    "0": "745",
                                    "1": "Black",
                                    "2": "HL Mountain Frame - Black, 48",
                                    "3": "HL Mountain Frame - Black, 48: Black"
                                },
                                {
                                    "0": "746",
                                    "1": "Black",
                                    "2": "HL Mountain Frame - Black, 46",
                                    "3": "HL Mountain Frame - Black, 46: Black"
                                },
                                {
                                    "0": "747",
                                    "1": "Black",
                                    "2": "HL Mountain Frame - Black, 38",
                                    "3": "HL Mountain Frame - Black, 38: Black"
                                },
                                {
                                    "0": "748",
                                    "1": "Silver",
                                    "2": "HL Mountain Frame - Silver, 38",
                                    "3": "HL Mountain Frame - Silver, 38: Silver"
                                },
                                {
                                    "0": "749",
                                    "1": "Red",
                                    "2": "Road-150 Red, 62",
                                    "3": "Road-150 Red, 62: Red"
                                },
                                {
                                    "0": "750",
                                    "1": "Red",
                                    "2": "Road-150 Red, 44",
                                    "3": "Road-150 Red, 44: Red"
                                },
                                {
                                    "0": "751",
                                    "1": "Red",
                                    "2": "Road-150 Red, 48",
                                    "3": "Road-150 Red, 48: Red"
                                },
                                {
                                    "0": "752",
                                    "1": "Red",
                                    "2": "Road-150 Red, 52",
                                    "3": "Road-150 Red, 52: Red"
                                },
                                {
                                    "0": "753",
                                    "1": "Red",
                                    "2": "Road-150 Red, 56",
                                    "3": "Road-150 Red, 56: Red"
                                },
                                {
                                    "0": "754",
                                    "1": "Red",
                                    "2": "Road-450 Red, 58",
                                    "3": "Road-450 Red, 58: Red"
                                },
                                {
                                    "0": "755",
                                    "1": "Red",
                                    "2": "Road-450 Red, 60",
                                    "3": "Road-450 Red, 60: Red"
                                },
                                {
                                    "0": "756",
                                    "1": "Red",
                                    "2": "Road-450 Red, 44",
                                    "3": "Road-450 Red, 44: Red"
                                },
                                {
                                    "0": "757",
                                    "1": "Red",
                                    "2": "Road-450 Red, 48",
                                    "3": "Road-450 Red, 48: Red"
                                },
                                {
                                    "0": "758",
                                    "1": "Red",
                                    "2": "Road-450 Red, 52",
                                    "3": "Road-450 Red, 52: Red"
                                },
                                {
                                    "0": "759",
                                    "1": "Red",
                                    "2": "Road-650 Red, 58",
                                    "3": "Road-650 Red, 58: Red"
                                },
                                {
                                    "0": "760",
                                    "1": "Red",
                                    "2": "Road-650 Red, 60",
                                    "3": "Road-650 Red, 60: Red"
                                },
                                {
                                    "0": "761",
                                    "1": "Red",
                                    "2": "Road-650 Red, 62",
                                    "3": "Road-650 Red, 62: Red"
                                },
                                {
                                    "0": "762",
                                    "1": "Red",
                                    "2": "Road-650 Red, 44",
                                    "3": "Road-650 Red, 44: Red"
                                },
                                {
                                    "0": "763",
                                    "1": "Red",
                                    "2": "Road-650 Red, 48",
                                    "3": "Road-650 Red, 48: Red"
                                },
                                {
                                    "0": "764",
                                    "1": "Red",
                                    "2": "Road-650 Red, 52",
                                    "3": "Road-650 Red, 52: Red"
                                },
                                {
                                    "0": "765",
                                    "1": "Black",
                                    "2": "Road-650 Black, 58",
                                    "3": "Road-650 Black, 58: Black"
                                },
                                {
                                    "0": "766",
                                    "1": "Black",
                                    "2": "Road-650 Black, 60",
                                    "3": "Road-650 Black, 60: Black"
                                },
                                {
                                    "0": "767",
                                    "1": "Black",
                                    "2": "Road-650 Black, 62",
                                    "3": "Road-650 Black, 62: Black"
                                },
                                {
                                    "0": "768",
                                    "1": "Black",
                                    "2": "Road-650 Black, 44",
                                    "3": "Road-650 Black, 44: Black"
                                },
                                {
                                    "0": "769",
                                    "1": "Black",
                                    "2": "Road-650 Black, 48",
                                    "3": "Road-650 Black, 48: Black"
                                },
                                {
                                    "0": "770",
                                    "1": "Black",
                                    "2": "Road-650 Black, 52",
                                    "3": "Road-650 Black, 52: Black"
                                },
                                {
                                    "0": "771",
                                    "1": "Silver",
                                    "2": "Mountain-100 Silver, 38",
                                    "3": "Mountain-100 Silver, 38: Silver"
                                },
                                {
                                    "0": "772",
                                    "1": "Silver",
                                    "2": "Mountain-100 Silver, 42",
                                    "3": "Mountain-100 Silver, 42: Silver"
                                },
                                {
                                    "0": "773",
                                    "1": "Silver",
                                    "2": "Mountain-100 Silver, 44",
                                    "3": "Mountain-100 Silver, 44: Silver"
                                },
                                {
                                    "0": "774",
                                    "1": "Silver",
                                    "2": "Mountain-100 Silver, 48",
                                    "3": "Mountain-100 Silver, 48: Silver"
                                },
                                {
                                    "0": "775",
                                    "1": "Black",
                                    "2": "Mountain-100 Black, 38",
                                    "3": "Mountain-100 Black, 38: Black"
                                },
                                {
                                    "0": "776",
                                    "1": "Black",
                                    "2": "Mountain-100 Black, 42",
                                    "3": "Mountain-100 Black, 42: Black"
                                },
                                {
                                    "0": "777",
                                    "1": "Black",
                                    "2": "Mountain-100 Black, 44",
                                    "3": "Mountain-100 Black, 44: Black"
                                },
                                {
                                    "0": "778",
                                    "1": "Black",
                                    "2": "Mountain-100 Black, 48",
                                    "3": "Mountain-100 Black, 48: Black"
                                },
                                {
                                    "0": "779",
                                    "1": "Silver",
                                    "2": "Mountain-200 Silver, 38",
                                    "3": "Mountain-200 Silver, 38: Silver"
                                },
                                {
                                    "0": "780",
                                    "1": "Silver",
                                    "2": "Mountain-200 Silver, 42",
                                    "3": "Mountain-200 Silver, 42: Silver"
                                },
                                {
                                    "0": "781",
                                    "1": "Silver",
                                    "2": "Mountain-200 Silver, 46",
                                    "3": "Mountain-200 Silver, 46: Silver"
                                },
                                {
                                    "0": "782",
                                    "1": "Black",
                                    "2": "Mountain-200 Black, 38",
                                    "3": "Mountain-200 Black, 38: Black"
                                },
                                {
                                    "0": "783",
                                    "1": "Black",
                                    "2": "Mountain-200 Black, 42",
                                    "3": "Mountain-200 Black, 42: Black"
                                },
                                {
                                    "0": "784",
                                    "1": "Black",
                                    "2": "Mountain-200 Black, 46",
                                    "3": "Mountain-200 Black, 46: Black"
                                },
                                {
                                    "0": "785",
                                    "1": "Black",
                                    "2": "Mountain-300 Black, 38",
                                    "3": "Mountain-300 Black, 38: Black"
                                },
                                {
                                    "0": "786",
                                    "1": "Black",
                                    "2": "Mountain-300 Black, 40",
                                    "3": "Mountain-300 Black, 40: Black"
                                },
                                {
                                    "0": "787",
                                    "1": "Black",
                                    "2": "Mountain-300 Black, 44",
                                    "3": "Mountain-300 Black, 44: Black"
                                },
                                {
                                    "0": "788",
                                    "1": "Black",
                                    "2": "Mountain-300 Black, 48",
                                    "3": "Mountain-300 Black, 48: Black"
                                },
                                {
                                    "0": "789",
                                    "1": "Red",
                                    "2": "Road-250 Red, 44",
                                    "3": "Road-250 Red, 44: Red"
                                },
                                {
                                    "0": "790",
                                    "1": "Red",
                                    "2": "Road-250 Red, 48",
                                    "3": "Road-250 Red, 48: Red"
                                },
                                {
                                    "0": "791",
                                    "1": "Red",
                                    "2": "Road-250 Red, 52",
                                    "3": "Road-250 Red, 52: Red"
                                },
                                {
                                    "0": "792",
                                    "1": "Red",
                                    "2": "Road-250 Red, 58",
                                    "3": "Road-250 Red, 58: Red"
                                },
                                {
                                    "0": "793",
                                    "1": "Black",
                                    "2": "Road-250 Black, 44",
                                    "3": "Road-250 Black, 44: Black"
                                },
                                {
                                    "0": "794",
                                    "1": "Black",
                                    "2": "Road-250 Black, 48",
                                    "3": "Road-250 Black, 48: Black"
                                },
                                {
                                    "0": "795",
                                    "1": "Black",
                                    "2": "Road-250 Black, 52",
                                    "3": "Road-250 Black, 52: Black"
                                },
                                {
                                    "0": "796",
                                    "1": "Black",
                                    "2": "Road-250 Black, 58",
                                    "3": "Road-250 Black, 58: Black"
                                },
                                {
                                    "0": "797",
                                    "1": "Yellow",
                                    "2": "Road-550-W Yellow, 38",
                                    "3": "Road-550-W Yellow, 38: Yellow"
                                },
                                {
                                    "0": "798",
                                    "1": "Yellow",
                                    "2": "Road-550-W Yellow, 40",
                                    "3": "Road-550-W Yellow, 40: Yellow"
                                },
                                {
                                    "0": "799",
                                    "1": "Yellow",
                                    "2": "Road-550-W Yellow, 42",
                                    "3": "Road-550-W Yellow, 42: Yellow"
                                },
                                {
                                    "0": "800",
                                    "1": "Yellow",
                                    "2": "Road-550-W Yellow, 44",
                                    "3": "Road-550-W Yellow, 44: Yellow"
                                },
                                {
                                    "0": "801",
                                    "1": "Yellow",
                                    "2": "Road-550-W Yellow, 48",
                                    "3": "Road-550-W Yellow, 48: Yellow"
                                },
                                {
                                    "0": "802",
                                    "1": "NULL",
                                    "2": "LL Fork",
                                    "3": "LL Fork: N/A"
                                },
                                {
                                    "0": "803",
                                    "1": "NULL",
                                    "2": "ML Fork",
                                    "3": "ML Fork: N/A"
                                },
                                {
                                    "0": "804",
                                    "1": "NULL",
                                    "2": "HL Fork",
                                    "3": "HL Fork: N/A"
                                },
                                {
                                    "0": "805",
                                    "1": "NULL",
                                    "2": "LL Headset",
                                    "3": "LL Headset: N/A"
                                },
                                {
                                    "0": "806",
                                    "1": "NULL",
                                    "2": "ML Headset",
                                    "3": "ML Headset: N/A"
                                },
                                {
                                    "0": "807",
                                    "1": "NULL",
                                    "2": "HL Headset",
                                    "3": "HL Headset: N/A"
                                },
                                {
                                    "0": "808",
                                    "1": "NULL",
                                    "2": "LL Mountain Handlebars",
                                    "3": "LL Mountain Handlebars: N/A"
                                },
                                {
                                    "0": "809",
                                    "1": "NULL",
                                    "2": "ML Mountain Handlebars",
                                    "3": "ML Mountain Handlebars: N/A"
                                },
                                {
                                    "0": "810",
                                    "1": "NULL",
                                    "2": "HL Mountain Handlebars",
                                    "3": "HL Mountain Handlebars: N/A"
                                },
                                {
                                    "0": "811",
                                    "1": "NULL",
                                    "2": "LL Road Handlebars",
                                    "3": "LL Road Handlebars: N/A"
                                },
                                {
                                    "0": "812",
                                    "1": "NULL",
                                    "2": "ML Road Handlebars",
                                    "3": "ML Road Handlebars: N/A"
                                },
                                {
                                    "0": "813",
                                    "1": "NULL",
                                    "2": "HL Road Handlebars",
                                    "3": "HL Road Handlebars: N/A"
                                },
                                {
                                    "0": "814",
                                    "1": "Black",
                                    "2": "ML Mountain Frame - Black, 38",
                                    "3": "ML Mountain Frame - Black, 38: Black"
                                },
                                {
                                    "0": "815",
                                    "1": "Black",
                                    "2": "LL Mountain Front Wheel",
                                    "3": "LL Mountain Front Wheel: Black"
                                },
                                {
                                    "0": "816",
                                    "1": "Black",
                                    "2": "ML Mountain Front Wheel",
                                    "3": "ML Mountain Front Wheel: Black"
                                },
                                {
                                    "0": "817",
                                    "1": "Black",
                                    "2": "HL Mountain Front Wheel",
                                    "3": "HL Mountain Front Wheel: Black"
                                },
                                {
                                    "0": "818",
                                    "1": "Black",
                                    "2": "LL Road Front Wheel",
                                    "3": "LL Road Front Wheel: Black"
                                },
                                {
                                    "0": "819",
                                    "1": "Black",
                                    "2": "ML Road Front Wheel",
                                    "3": "ML Road Front Wheel: Black"
                                },
                                {
                                    "0": "820",
                                    "1": "Black",
                                    "2": "HL Road Front Wheel",
                                    "3": "HL Road Front Wheel: Black"
                                },
                                {
                                    "0": "821",
                                    "1": "Black",
                                    "2": "Touring Front Wheel",
                                    "3": "Touring Front Wheel: Black"
                                },
                                {
                                    "0": "822",
                                    "1": "Yellow",
                                    "2": "ML Road Frame-W - Yellow, 38",
                                    "3": "ML Road Frame-W - Yellow, 38: Yellow"
                                },
                                {
                                    "0": "823",
                                    "1": "Black",
                                    "2": "LL Mountain Rear Wheel",
                                    "3": "LL Mountain Rear Wheel: Black"
                                },
                                {
                                    "0": "824",
                                    "1": "Black",
                                    "2": "ML Mountain Rear Wheel",
                                    "3": "ML Mountain Rear Wheel: Black"
                                },
                                {
                                    "0": "825",
                                    "1": "Black",
                                    "2": "HL Mountain Rear Wheel",
                                    "3": "HL Mountain Rear Wheel: Black"
                                },
                                {
                                    "0": "826",
                                    "1": "Black",
                                    "2": "LL Road Rear Wheel",
                                    "3": "LL Road Rear Wheel: Black"
                                },
                                {
                                    "0": "827",
                                    "1": "Black",
                                    "2": "ML Road Rear Wheel",
                                    "3": "ML Road Rear Wheel: Black"
                                },
                                {
                                    "0": "828",
                                    "1": "Black",
                                    "2": "HL Road Rear Wheel",
                                    "3": "HL Road Rear Wheel: Black"
                                },
                                {
                                    "0": "829",
                                    "1": "Black",
                                    "2": "Touring Rear Wheel",
                                    "3": "Touring Rear Wheel: Black"
                                },
                                {
                                    "0": "830",
                                    "1": "Black",
                                    "2": "ML Mountain Frame - Black, 40",
                                    "3": "ML Mountain Frame - Black, 40: Black"
                                },
                                {
                                    "0": "831",
                                    "1": "Black",
                                    "2": "ML Mountain Frame - Black, 44",
                                    "3": "ML Mountain Frame - Black, 44: Black"
                                },
                                {
                                    "0": "832",
                                    "1": "Black",
                                    "2": "ML Mountain Frame - Black, 48",
                                    "3": "ML Mountain Frame - Black, 48: Black"
                                },
                                {
                                    "0": "833",
                                    "1": "Yellow",
                                    "2": "ML Road Frame-W - Yellow, 40",
                                    "3": "ML Road Frame-W - Yellow, 40: Yellow"
                                },
                                {
                                    "0": "834",
                                    "1": "Yellow",
                                    "2": "ML Road Frame-W - Yellow, 42",
                                    "3": "ML Road Frame-W - Yellow, 42: Yellow"
                                },
                                {
                                    "0": "835",
                                    "1": "Yellow",
                                    "2": "ML Road Frame-W - Yellow, 44",
                                    "3": "ML Road Frame-W - Yellow, 44: Yellow"
                                },
                                {
                                    "0": "836",
                                    "1": "Yellow",
                                    "2": "ML Road Frame-W - Yellow, 48",
                                    "3": "ML Road Frame-W - Yellow, 48: Yellow"
                                },
                                {
                                    "0": "837",
                                    "1": "Black",
                                    "2": "HL Road Frame - Black, 62",
                                    "3": "HL Road Frame - Black, 62: Black"
                                },
                                {
                                    "0": "838",
                                    "1": "Black",
                                    "2": "HL Road Frame - Black, 44",
                                    "3": "HL Road Frame - Black, 44: Black"
                                },
                                {
                                    "0": "839",
                                    "1": "Black",
                                    "2": "HL Road Frame - Black, 48",
                                    "3": "HL Road Frame - Black, 48: Black"
                                },
                                {
                                    "0": "840",
                                    "1": "Black",
                                    "2": "HL Road Frame - Black, 52",
                                    "3": "HL Road Frame - Black, 52: Black"
                                },
                                {
                                    "0": "841",
                                    "1": "Black",
                                    "2": "Men's Sports Shorts, S",
                                    "3": "Men's Sports Shorts, S: Black"
                                },
                                {
                                    "0": "842",
                                    "1": "Grey",
                                    "2": "Touring-Panniers, Large",
                                    "3": "Touring-Panniers, Large: Grey"
                                },
                                {
                                    "0": "843",
                                    "1": "NULL",
                                    "2": "Cable Lock",
                                    "3": "Cable Lock: N/A"
                                },
                                {
                                    "0": "844",
                                    "1": "NULL",
                                    "2": "Minipump",
                                    "3": "Minipump: N/A"
                                },
                                {
                                    "0": "845",
                                    "1": "NULL",
                                    "2": "Mountain Pump",
                                    "3": "Mountain Pump: N/A"
                                },
                                {
                                    "0": "846",
                                    "1": "NULL",
                                    "2": "Taillights - Battery-Powered",
                                    "3": "Taillights - Battery-Powered: N/A"
                                },
                                {
                                    "0": "847",
                                    "1": "NULL",
                                    "2": "Headlights - Dual-Beam",
                                    "3": "Headlights - Dual-Beam: N/A"
                                },
                                {
                                    "0": "848",
                                    "1": "NULL",
                                    "2": "Headlights - Weatherproof",
                                    "3": "Headlights - Weatherproof: N/A"
                                },
                                {
                                    "0": "849",
                                    "1": "Black",
                                    "2": "Men's Sports Shorts, M",
                                    "3": "Men's Sports Shorts, M: Black"
                                },
                                {
                                    "0": "850",
                                    "1": "Black",
                                    "2": "Men's Sports Shorts, L",
                                    "3": "Men's Sports Shorts, L: Black"
                                },
                                {
                                    "0": "851",
                                    "1": "Black",
                                    "2": "Men's Sports Shorts, XL",
                                    "3": "Men's Sports Shorts, XL: Black"
                                },
                                {
                                    "0": "852",
                                    "1": "Black",
                                    "2": "Women's Tights, S",
                                    "3": "Women's Tights, S: Black"
                                },
                                {
                                    "0": "853",
                                    "1": "Black",
                                    "2": "Women's Tights, M",
                                    "3": "Women's Tights, M: Black"
                                },
                                {
                                    "0": "854",
                                    "1": "Black",
                                    "2": "Women's Tights, L",
                                    "3": "Women's Tights, L: Black"
                                },
                                {
                                    "0": "855",
                                    "1": "Multi",
                                    "2": "Men's Bib-Shorts, S",
                                    "3": "Men's Bib-Shorts, S: Multi"
                                },
                                {
                                    "0": "856",
                                    "1": "Multi",
                                    "2": "Men's Bib-Shorts, M",
                                    "3": "Men's Bib-Shorts, M: Multi"
                                },
                                {
                                    "0": "857",
                                    "1": "Multi",
                                    "2": "Men's Bib-Shorts, L",
                                    "3": "Men's Bib-Shorts, L: Multi"
                                },
                                {
                                    "0": "858",
                                    "1": "Black",
                                    "2": "Half-Finger Gloves, S",
                                    "3": "Half-Finger Gloves, S: Black"
                                },
                                {
                                    "0": "859",
                                    "1": "Black",
                                    "2": "Half-Finger Gloves, M",
                                    "3": "Half-Finger Gloves, M: Black"
                                },
                                {
                                    "0": "860",
                                    "1": "Black",
                                    "2": "Half-Finger Gloves, L",
                                    "3": "Half-Finger Gloves, L: Black"
                                },
                                {
                                    "0": "861",
                                    "1": "Black",
                                    "2": "Full-Finger Gloves, S",
                                    "3": "Full-Finger Gloves, S: Black"
                                },
                                {
                                    "0": "862",
                                    "1": "Black",
                                    "2": "Full-Finger Gloves, M",
                                    "3": "Full-Finger Gloves, M: Black"
                                },
                                {
                                    "0": "863",
                                    "1": "Black",
                                    "2": "Full-Finger Gloves, L",
                                    "3": "Full-Finger Gloves, L: Black"
                                },
                                {
                                    "0": "864",
                                    "1": "Blue",
                                    "2": "Classic Vest, S",
                                    "3": "Classic Vest, S: Blue"
                                },
                                {
                                    "0": "865",
                                    "1": "Blue",
                                    "2": "Classic Vest, M",
                                    "3": "Classic Vest, M: Blue"
                                },
                                {
                                    "0": "866",
                                    "1": "Blue",
                                    "2": "Classic Vest, L",
                                    "3": "Classic Vest, L: Blue"
                                },
                                {
                                    "0": "867",
                                    "1": "Black",
                                    "2": "Women's Mountain Shorts, S",
                                    "3": "Women's Mountain Shorts, S: Black"
                                },
                                {
                                    "0": "868",
                                    "1": "Black",
                                    "2": "Women's Mountain Shorts, M",
                                    "3": "Women's Mountain Shorts, M: Black"
                                },
                                {
                                    "0": "869",
                                    "1": "Black",
                                    "2": "Women's Mountain Shorts, L",
                                    "3": "Women's Mountain Shorts, L: Black"
                                },
                                {
                                    "0": "870",
                                    "1": "NULL",
                                    "2": "Water Bottle - 30 oz.",
                                    "3": "Water Bottle - 30 oz.: N/A"
                                },
                                {
                                    "0": "871",
                                    "1": "NULL",
                                    "2": "Mountain Bottle Cage",
                                    "3": "Mountain Bottle Cage: N/A"
                                },
                                {
                                    "0": "872",
                                    "1": "NULL",
                                    "2": "Road Bottle Cage",
                                    "3": "Road Bottle Cage: N/A"
                                },
                                {
                                    "0": "873",
                                    "1": "NULL",
                                    "2": "Patch Kit/8 Patches",
                                    "3": "Patch Kit/8 Patches: N/A"
                                },
                                {
                                    "0": "874",
                                    "1": "White",
                                    "2": "Racing Socks, M",
                                    "3": "Racing Socks, M: White"
                                },
                                {
                                    "0": "875",
                                    "1": "White",
                                    "2": "Racing Socks, L",
                                    "3": "Racing Socks, L: White"
                                },
                                {
                                    "0": "876",
                                    "1": "NULL",
                                    "2": "Hitch Rack - 4-Bike",
                                    "3": "Hitch Rack - 4-Bike: N/A"
                                },
                                {
                                    "0": "877",
                                    "1": "NULL",
                                    "2": "Bike Wash - Dissolver",
                                    "3": "Bike Wash - Dissolver: N/A"
                                },
                                {
                                    "0": "878",
                                    "1": "NULL",
                                    "2": "Fender Set - Mountain",
                                    "3": "Fender Set - Mountain: N/A"
                                },
                                {
                                    "0": "879",
                                    "1": "NULL",
                                    "2": "All-Purpose Bike Stand",
                                    "3": "All-Purpose Bike Stand: N/A"
                                },
                                {
                                    "0": "880",
                                    "1": "Silver",
                                    "2": "Hydration Pack - 70 oz.",
                                    "3": "Hydration Pack - 70 oz.: Silver"
                                },
                                {
                                    "0": "881",
                                    "1": "Yellow",
                                    "2": "Short-Sleeve Classic Jersey, S",
                                    "3": "Short-Sleeve Classic Jersey, S: Yellow"
                                },
                                {
                                    "0": "882",
                                    "1": "Yellow",
                                    "2": "Short-Sleeve Classic Jersey, M",
                                    "3": "Short-Sleeve Classic Jersey, M: Yellow"
                                },
                                {
                                    "0": "883",
                                    "1": "Yellow",
                                    "2": "Short-Sleeve Classic Jersey, L",
                                    "3": "Short-Sleeve Classic Jersey, L: Yellow"
                                },
                                {
                                    "0": "884",
                                    "1": "Yellow",
                                    "2": "Short-Sleeve Classic Jersey, XL",
                                    "3": "Short-Sleeve Classic Jersey, XL: Yellow"
                                },
                                {
                                    "0": "885",
                                    "1": "Yellow",
                                    "2": "HL Touring Frame - Yellow, 60",
                                    "3": "HL Touring Frame - Yellow, 60: Yellow"
                                },
                                {
                                    "0": "886",
                                    "1": "Yellow",
                                    "2": "LL Touring Frame - Yellow, 62",
                                    "3": "LL Touring Frame - Yellow, 62: Yellow"
                                },
                                {
                                    "0": "887",
                                    "1": "Yellow",
                                    "2": "HL Touring Frame - Yellow, 46",
                                    "3": "HL Touring Frame - Yellow, 46: Yellow"
                                },
                                {
                                    "0": "888",
                                    "1": "Yellow",
                                    "2": "HL Touring Frame - Yellow, 50",
                                    "3": "HL Touring Frame - Yellow, 50: Yellow"
                                },
                                {
                                    "0": "889",
                                    "1": "Yellow",
                                    "2": "HL Touring Frame - Yellow, 54",
                                    "3": "HL Touring Frame - Yellow, 54: Yellow"
                                },
                                {
                                    "0": "890",
                                    "1": "Blue",
                                    "2": "HL Touring Frame - Blue, 46",
                                    "3": "HL Touring Frame - Blue, 46: Blue"
                                },
                                {
                                    "0": "891",
                                    "1": "Blue",
                                    "2": "HL Touring Frame - Blue, 50",
                                    "3": "HL Touring Frame - Blue, 50: Blue"
                                },
                                {
                                    "0": "892",
                                    "1": "Blue",
                                    "2": "HL Touring Frame - Blue, 54",
                                    "3": "HL Touring Frame - Blue, 54: Blue"
                                },
                                {
                                    "0": "893",
                                    "1": "Blue",
                                    "2": "HL Touring Frame - Blue, 60",
                                    "3": "HL Touring Frame - Blue, 60: Blue"
                                },
                                {
                                    "0": "894",
                                    "1": "Silver",
                                    "2": "Rear Derailleur",
                                    "3": "Rear Derailleur: Silver"
                                },
                                {
                                    "0": "895",
                                    "1": "Blue",
                                    "2": "LL Touring Frame - Blue, 50",
                                    "3": "LL Touring Frame - Blue, 50: Blue"
                                },
                                {
                                    "0": "896",
                                    "1": "Blue",
                                    "2": "LL Touring Frame - Blue, 54",
                                    "3": "LL Touring Frame - Blue, 54: Blue"
                                },
                                {
                                    "0": "897",
                                    "1": "Blue",
                                    "2": "LL Touring Frame - Blue, 58",
                                    "3": "LL Touring Frame - Blue, 58: Blue"
                                },
                                {
                                    "0": "898",
                                    "1": "Blue",
                                    "2": "LL Touring Frame - Blue, 62",
                                    "3": "LL Touring Frame - Blue, 62: Blue"
                                },
                                {
                                    "0": "899",
                                    "1": "Yellow",
                                    "2": "LL Touring Frame - Yellow, 44",
                                    "3": "LL Touring Frame - Yellow, 44: Yellow"
                                },
                                {
                                    "0": "900",
                                    "1": "Yellow",
                                    "2": "LL Touring Frame - Yellow, 50",
                                    "3": "LL Touring Frame - Yellow, 50: Yellow"
                                },
                                {
                                    "0": "901",
                                    "1": "Yellow",
                                    "2": "LL Touring Frame - Yellow, 54",
                                    "3": "LL Touring Frame - Yellow, 54: Yellow"
                                },
                                {
                                    "0": "902",
                                    "1": "Yellow",
                                    "2": "LL Touring Frame - Yellow, 58",
                                    "3": "LL Touring Frame - Yellow, 58: Yellow"
                                },
                                {
                                    "0": "903",
                                    "1": "Blue",
                                    "2": "LL Touring Frame - Blue, 44",
                                    "3": "LL Touring Frame - Blue, 44: Blue"
                                },
                                {
                                    "0": "904",
                                    "1": "Silver",
                                    "2": "ML Mountain Frame-W - Silver, 40",
                                    "3": "ML Mountain Frame-W - Silver, 40: Silver"
                                },
                                {
                                    "0": "905",
                                    "1": "Silver",
                                    "2": "ML Mountain Frame-W - Silver, 42",
                                    "3": "ML Mountain Frame-W - Silver, 42: Silver"
                                },
                                {
                                    "0": "906",
                                    "1": "Silver",
                                    "2": "ML Mountain Frame-W - Silver, 46",
                                    "3": "ML Mountain Frame-W - Silver, 46: Silver"
                                },
                                {
                                    "0": "907",
                                    "1": "Silver",
                                    "2": "Rear Brakes",
                                    "3": "Rear Brakes: Silver"
                                },
                                {
                                    "0": "908",
                                    "1": "NULL",
                                    "2": "LL Mountain Seat/Saddle",
                                    "3": "LL Mountain Seat/Saddle: N/A"
                                },
                                {
                                    "0": "909",
                                    "1": "NULL",
                                    "2": "ML Mountain Seat/Saddle",
                                    "3": "ML Mountain Seat/Saddle: N/A"
                                },
                                {
                                    "0": "910",
                                    "1": "NULL",
                                    "2": "HL Mountain Seat/Saddle",
                                    "3": "HL Mountain Seat/Saddle: N/A"
                                },
                                {
                                    "0": "911",
                                    "1": "NULL",
                                    "2": "LL Road Seat/Saddle",
                                    "3": "LL Road Seat/Saddle: N/A"
                                },
                                {
                                    "0": "912",
                                    "1": "NULL",
                                    "2": "ML Road Seat/Saddle",
                                    "3": "ML Road Seat/Saddle: N/A"
                                },
                                {
                                    "0": "913",
                                    "1": "NULL",
                                    "2": "HL Road Seat/Saddle",
                                    "3": "HL Road Seat/Saddle: N/A"
                                },
                                {
                                    "0": "914",
                                    "1": "NULL",
                                    "2": "LL Touring Seat/Saddle",
                                    "3": "LL Touring Seat/Saddle: N/A"
                                },
                                {
                                    "0": "915",
                                    "1": "NULL",
                                    "2": "ML Touring Seat/Saddle",
                                    "3": "ML Touring Seat/Saddle: N/A"
                                },
                                {
                                    "0": "916",
                                    "1": "NULL",
                                    "2": "HL Touring Seat/Saddle",
                                    "3": "HL Touring Seat/Saddle: N/A"
                                },
                                {
                                    "0": "917",
                                    "1": "Silver",
                                    "2": "LL Mountain Frame - Silver, 42",
                                    "3": "LL Mountain Frame - Silver, 42: Silver"
                                },
                                {
                                    "0": "918",
                                    "1": "Silver",
                                    "2": "LL Mountain Frame - Silver, 44",
                                    "3": "LL Mountain Frame - Silver, 44: Silver"
                                },
                                {
                                    "0": "919",
                                    "1": "Silver",
                                    "2": "LL Mountain Frame - Silver, 48",
                                    "3": "LL Mountain Frame - Silver, 48: Silver"
                                },
                                {
                                    "0": "920",
                                    "1": "Silver",
                                    "2": "LL Mountain Frame - Silver, 52",
                                    "3": "LL Mountain Frame - Silver, 52: Silver"
                                },
                                {
                                    "0": "921",
                                    "1": "NULL",
                                    "2": "Mountain Tire Tube",
                                    "3": "Mountain Tire Tube: N/A"
                                },
                                {
                                    "0": "922",
                                    "1": "NULL",
                                    "2": "Road Tire Tube",
                                    "3": "Road Tire Tube: N/A"
                                },
                                {
                                    "0": "923",
                                    "1": "NULL",
                                    "2": "Touring Tire Tube",
                                    "3": "Touring Tire Tube: N/A"
                                },
                                {
                                    "0": "924",
                                    "1": "Black",
                                    "2": "LL Mountain Frame - Black, 42",
                                    "3": "LL Mountain Frame - Black, 42: Black"
                                },
                                {
                                    "0": "925",
                                    "1": "Black",
                                    "2": "LL Mountain Frame - Black, 44",
                                    "3": "LL Mountain Frame - Black, 44: Black"
                                },
                                {
                                    "0": "926",
                                    "1": "Black",
                                    "2": "LL Mountain Frame - Black, 48",
                                    "3": "LL Mountain Frame - Black, 48: Black"
                                },
                                {
                                    "0": "927",
                                    "1": "Black",
                                    "2": "LL Mountain Frame - Black, 52",
                                    "3": "LL Mountain Frame - Black, 52: Black"
                                },
                                {
                                    "0": "928",
                                    "1": "NULL",
                                    "2": "LL Mountain Tire",
                                    "3": "LL Mountain Tire: N/A"
                                },
                                {
                                    "0": "929",
                                    "1": "NULL",
                                    "2": "ML Mountain Tire",
                                    "3": "ML Mountain Tire: N/A"
                                },
                                {
                                    "0": "930",
                                    "1": "NULL",
                                    "2": "HL Mountain Tire",
                                    "3": "HL Mountain Tire: N/A"
                                },
                                {
                                    "0": "931",
                                    "1": "NULL",
                                    "2": "LL Road Tire",
                                    "3": "LL Road Tire: N/A"
                                },
                                {
                                    "0": "932",
                                    "1": "NULL",
                                    "2": "ML Road Tire",
                                    "3": "ML Road Tire: N/A"
                                },
                                {
                                    "0": "933",
                                    "1": "NULL",
                                    "2": "HL Road Tire",
                                    "3": "HL Road Tire: N/A"
                                },
                                {
                                    "0": "934",
                                    "1": "NULL",
                                    "2": "Touring Tire",
                                    "3": "Touring Tire: N/A"
                                },
                                {
                                    "0": "935",
                                    "1": "Silver/Black",
                                    "2": "LL Mountain Pedal",
                                    "3": "LL Mountain Pedal: Silver/Black"
                                },
                                {
                                    "0": "936",
                                    "1": "Silver/Black",
                                    "2": "ML Mountain Pedal",
                                    "3": "ML Mountain Pedal: Silver/Black"
                                },
                                {
                                    "0": "937",
                                    "1": "Silver/Black",
                                    "2": "HL Mountain Pedal",
                                    "3": "HL Mountain Pedal: Silver/Black"
                                },
                                {
                                    "0": "938",
                                    "1": "Silver/Black",
                                    "2": "LL Road Pedal",
                                    "3": "LL Road Pedal: Silver/Black"
                                },
                                {
                                    "0": "939",
                                    "1": "Silver/Black",
                                    "2": "ML Road Pedal",
                                    "3": "ML Road Pedal: Silver/Black"
                                },
                                {
                                    "0": "940",
                                    "1": "Silver/Black",
                                    "2": "HL Road Pedal",
                                    "3": "HL Road Pedal: Silver/Black"
                                },
                                {
                                    "0": "941",
                                    "1": "Silver/Black",
                                    "2": "Touring Pedal",
                                    "3": "Touring Pedal: Silver/Black"
                                },
                                {
                                    "0": "942",
                                    "1": "Silver",
                                    "2": "ML Mountain Frame-W - Silver, 38",
                                    "3": "ML Mountain Frame-W - Silver, 38: Silver"
                                },
                                {
                                    "0": "943",
                                    "1": "Black",
                                    "2": "LL Mountain Frame - Black, 40",
                                    "3": "LL Mountain Frame - Black, 40: Black"
                                },
                                {
                                    "0": "944",
                                    "1": "Silver",
                                    "2": "LL Mountain Frame - Silver, 40",
                                    "3": "LL Mountain Frame - Silver, 40: Silver"
                                },
                                {
                                    "0": "945",
                                    "1": "Silver",
                                    "2": "Front Derailleur",
                                    "3": "Front Derailleur: Silver"
                                },
                                {
                                    "0": "946",
                                    "1": "NULL",
                                    "2": "LL Touring Handlebars",
                                    "3": "LL Touring Handlebars: N/A"
                                },
                                {
                                    "0": "947",
                                    "1": "NULL",
                                    "2": "HL Touring Handlebars",
                                    "3": "HL Touring Handlebars: N/A"
                                },
                                {
                                    "0": "948",
                                    "1": "Silver",
                                    "2": "Front Brakes",
                                    "3": "Front Brakes: Silver"
                                },
                                {
                                    "0": "949",
                                    "1": "Black",
                                    "2": "LL Crankset",
                                    "3": "LL Crankset: Black"
                                },
                                {
                                    "0": "950",
                                    "1": "Black",
                                    "2": "ML Crankset",
                                    "3": "ML Crankset: Black"
                                },
                                {
                                    "0": "951",
                                    "1": "Black",
                                    "2": "HL Crankset",
                                    "3": "HL Crankset: Black"
                                },
                                {
                                    "0": "952",
                                    "1": "Silver",
                                    "2": "Chain",
                                    "3": "Chain: Silver"
                                },
                                {
                                    "0": "953",
                                    "1": "Blue",
                                    "2": "Touring-2000 Blue, 60",
                                    "3": "Touring-2000 Blue, 60: Blue"
                                },
                                {
                                    "0": "954",
                                    "1": "Yellow",
                                    "2": "Touring-1000 Yellow, 46",
                                    "3": "Touring-1000 Yellow, 46: Yellow"
                                },
                                {
                                    "0": "955",
                                    "1": "Yellow",
                                    "2": "Touring-1000 Yellow, 50",
                                    "3": "Touring-1000 Yellow, 50: Yellow"
                                },
                                {
                                    "0": "956",
                                    "1": "Yellow",
                                    "2": "Touring-1000 Yellow, 54",
                                    "3": "Touring-1000 Yellow, 54: Yellow"
                                },
                                {
                                    "0": "957",
                                    "1": "Yellow",
                                    "2": "Touring-1000 Yellow, 60",
                                    "3": "Touring-1000 Yellow, 60: Yellow"
                                },
                                {
                                    "0": "958",
                                    "1": "Blue",
                                    "2": "Touring-3000 Blue, 54",
                                    "3": "Touring-3000 Blue, 54: Blue"
                                },
                                {
                                    "0": "959",
                                    "1": "Blue",
                                    "2": "Touring-3000 Blue, 58",
                                    "3": "Touring-3000 Blue, 58: Blue"
                                },
                                {
                                    "0": "960",
                                    "1": "Blue",
                                    "2": "Touring-3000 Blue, 62",
                                    "3": "Touring-3000 Blue, 62: Blue"
                                },
                                {
                                    "0": "961",
                                    "1": "Yellow",
                                    "2": "Touring-3000 Yellow, 44",
                                    "3": "Touring-3000 Yellow, 44: Yellow"
                                },
                                {
                                    "0": "962",
                                    "1": "Yellow",
                                    "2": "Touring-3000 Yellow, 50",
                                    "3": "Touring-3000 Yellow, 50: Yellow"
                                },
                                {
                                    "0": "963",
                                    "1": "Yellow",
                                    "2": "Touring-3000 Yellow, 54",
                                    "3": "Touring-3000 Yellow, 54: Yellow"
                                },
                                {
                                    "0": "964",
                                    "1": "Yellow",
                                    "2": "Touring-3000 Yellow, 58",
                                    "3": "Touring-3000 Yellow, 58: Yellow"
                                },
                                {
                                    "0": "965",
                                    "1": "Yellow",
                                    "2": "Touring-3000 Yellow, 62",
                                    "3": "Touring-3000 Yellow, 62: Yellow"
                                },
                                {
                                    "0": "966",
                                    "1": "Blue",
                                    "2": "Touring-1000 Blue, 46",
                                    "3": "Touring-1000 Blue, 46: Blue"
                                },
                                {
                                    "0": "967",
                                    "1": "Blue",
                                    "2": "Touring-1000 Blue, 50",
                                    "3": "Touring-1000 Blue, 50: Blue"
                                },
                                {
                                    "0": "968",
                                    "1": "Blue",
                                    "2": "Touring-1000 Blue, 54",
                                    "3": "Touring-1000 Blue, 54: Blue"
                                },
                                {
                                    "0": "969",
                                    "1": "Blue",
                                    "2": "Touring-1000 Blue, 60",
                                    "3": "Touring-1000 Blue, 60: Blue"
                                },
                                {
                                    "0": "970",
                                    "1": "Blue",
                                    "2": "Touring-2000 Blue, 46",
                                    "3": "Touring-2000 Blue, 46: Blue"
                                },
                                {
                                    "0": "971",
                                    "1": "Blue",
                                    "2": "Touring-2000 Blue, 50",
                                    "3": "Touring-2000 Blue, 50: Blue"
                                },
                                {
                                    "0": "972",
                                    "1": "Blue",
                                    "2": "Touring-2000 Blue, 54",
                                    "3": "Touring-2000 Blue, 54: Blue"
                                },
                                {
                                    "0": "973",
                                    "1": "Yellow",
                                    "2": "Road-350-W Yellow, 40",
                                    "3": "Road-350-W Yellow, 40: Yellow"
                                },
                                {
                                    "0": "974",
                                    "1": "Yellow",
                                    "2": "Road-350-W Yellow, 42",
                                    "3": "Road-350-W Yellow, 42: Yellow"
                                },
                                {
                                    "0": "975",
                                    "1": "Yellow",
                                    "2": "Road-350-W Yellow, 44",
                                    "3": "Road-350-W Yellow, 44: Yellow"
                                },
                                {
                                    "0": "976",
                                    "1": "Yellow",
                                    "2": "Road-350-W Yellow, 48",
                                    "3": "Road-350-W Yellow, 48: Yellow"
                                },
                                {
                                    "0": "977",
                                    "1": "Black",
                                    "2": "Road-750 Black, 58",
                                    "3": "Road-750 Black, 58: Black"
                                },
                                {
                                    "0": "978",
                                    "1": "Blue",
                                    "2": "Touring-3000 Blue, 44",
                                    "3": "Touring-3000 Blue, 44: Blue"
                                },
                                {
                                    "0": "979",
                                    "1": "Blue",
                                    "2": "Touring-3000 Blue, 50",
                                    "3": "Touring-3000 Blue, 50: Blue"
                                },
                                {
                                    "0": "980",
                                    "1": "Silver",
                                    "2": "Mountain-400-W Silver, 38",
                                    "3": "Mountain-400-W Silver, 38: Silver"
                                },
                                {
                                    "0": "981",
                                    "1": "Silver",
                                    "2": "Mountain-400-W Silver, 40",
                                    "3": "Mountain-400-W Silver, 40: Silver"
                                },
                                {
                                    "0": "982",
                                    "1": "Silver",
                                    "2": "Mountain-400-W Silver, 42",
                                    "3": "Mountain-400-W Silver, 42: Silver"
                                },
                                {
                                    "0": "983",
                                    "1": "Silver",
                                    "2": "Mountain-400-W Silver, 46",
                                    "3": "Mountain-400-W Silver, 46: Silver"
                                },
                                {
                                    "0": "984",
                                    "1": "Silver",
                                    "2": "Mountain-500 Silver, 40",
                                    "3": "Mountain-500 Silver, 40: Silver"
                                },
                                {
                                    "0": "985",
                                    "1": "Silver",
                                    "2": "Mountain-500 Silver, 42",
                                    "3": "Mountain-500 Silver, 42: Silver"
                                },
                                {
                                    "0": "986",
                                    "1": "Silver",
                                    "2": "Mountain-500 Silver, 44",
                                    "3": "Mountain-500 Silver, 44: Silver"
                                },
                                {
                                    "0": "987",
                                    "1": "Silver",
                                    "2": "Mountain-500 Silver, 48",
                                    "3": "Mountain-500 Silver, 48: Silver"
                                },
                                {
                                    "0": "988",
                                    "1": "Silver",
                                    "2": "Mountain-500 Silver, 52",
                                    "3": "Mountain-500 Silver, 52: Silver"
                                },
                                {
                                    "0": "989",
                                    "1": "Black",
                                    "2": "Mountain-500 Black, 40",
                                    "3": "Mountain-500 Black, 40: Black"
                                },
                                {
                                    "0": "990",
                                    "1": "Black",
                                    "2": "Mountain-500 Black, 42",
                                    "3": "Mountain-500 Black, 42: Black"
                                },
                                {
                                    "0": "991",
                                    "1": "Black",
                                    "2": "Mountain-500 Black, 44",
                                    "3": "Mountain-500 Black, 44: Black"
                                },
                                {
                                    "0": "992",
                                    "1": "Black",
                                    "2": "Mountain-500 Black, 48",
                                    "3": "Mountain-500 Black, 48: Black"
                                },
                                {
                                    "0": "993",
                                    "1": "Black",
                                    "2": "Mountain-500 Black, 52",
                                    "3": "Mountain-500 Black, 52: Black"
                                },
                                {
                                    "0": "994",
                                    "1": "NULL",
                                    "2": "LL Bottom Bracket",
                                    "3": "LL Bottom Bracket: N/A"
                                },
                                {
                                    "0": "995",
                                    "1": "NULL",
                                    "2": "ML Bottom Bracket",
                                    "3": "ML Bottom Bracket: N/A"
                                },
                                {
                                    "0": "996",
                                    "1": "NULL",
                                    "2": "HL Bottom Bracket",
                                    "3": "HL Bottom Bracket: N/A"
                                },
                                {
                                    "0": "997",
                                    "1": "Black",
                                    "2": "Road-750 Black, 44",
                                    "3": "Road-750 Black, 44: Black"
                                },
                                {
                                    "0": "998",
                                    "1": "Black",
                                    "2": "Road-750 Black, 48",
                                    "3": "Road-750 Black, 48: Black"
                                },
                                {
                                    "0": "999",
                                    "1": "Black",
                                    "2": "Road-750 Black, 52",
                                    "3": "Road-750 Black, 52: Black"
                                }
                            ]
                        },
                        "text/html": "<table><tr><th>ProductID</th><th>Color</th><th>Name</th><th>Name: Color</th></tr><tr><td>1</td><td>NULL</td><td>Adjustable Race</td><td>Adjustable Race: N/A</td></tr><tr><td>2</td><td>NULL</td><td>Bearing Ball</td><td>Bearing Ball: N/A</td></tr><tr><td>3</td><td>NULL</td><td>BB Ball Bearing</td><td>BB Ball Bearing: N/A</td></tr><tr><td>4</td><td>NULL</td><td>Headset Ball Bearings</td><td>Headset Ball Bearings: N/A</td></tr><tr><td>316</td><td>NULL</td><td>Blade</td><td>Blade: N/A</td></tr><tr><td>317</td><td>Black</td><td>LL Crankarm</td><td>LL Crankarm: Black</td></tr><tr><td>318</td><td>Black</td><td>ML Crankarm</td><td>ML Crankarm: Black</td></tr><tr><td>319</td><td>Black</td><td>HL Crankarm</td><td>HL Crankarm: Black</td></tr><tr><td>320</td><td>Silver</td><td>Chainring Bolts</td><td>Chainring Bolts: Silver</td></tr><tr><td>321</td><td>Silver</td><td>Chainring Nut</td><td>Chainring Nut: Silver</td></tr><tr><td>322</td><td>Black</td><td>Chainring</td><td>Chainring: Black</td></tr><tr><td>323</td><td>NULL</td><td>Crown Race</td><td>Crown Race: N/A</td></tr><tr><td>324</td><td>NULL</td><td>Chain Stays</td><td>Chain Stays: N/A</td></tr><tr><td>325</td><td>NULL</td><td>Decal 1</td><td>Decal 1: N/A</td></tr><tr><td>326</td><td>NULL</td><td>Decal 2</td><td>Decal 2: N/A</td></tr><tr><td>327</td><td>NULL</td><td>Down Tube</td><td>Down Tube: N/A</td></tr><tr><td>328</td><td>NULL</td><td>Mountain End Caps</td><td>Mountain End Caps: N/A</td></tr><tr><td>329</td><td>NULL</td><td>Road End Caps</td><td>Road End Caps: N/A</td></tr><tr><td>330</td><td>NULL</td><td>Touring End Caps</td><td>Touring End Caps: N/A</td></tr><tr><td>331</td><td>NULL</td><td>Fork End</td><td>Fork End: N/A</td></tr><tr><td>332</td><td>Silver</td><td>Freewheel</td><td>Freewheel: Silver</td></tr><tr><td>341</td><td>NULL</td><td>Flat Washer 1</td><td>Flat Washer 1: N/A</td></tr><tr><td>342</td><td>NULL</td><td>Flat Washer 6</td><td>Flat Washer 6: N/A</td></tr><tr><td>343</td><td>NULL</td><td>Flat Washer 2</td><td>Flat Washer 2: N/A</td></tr><tr><td>344</td><td>NULL</td><td>Flat Washer 9</td><td>Flat Washer 9: N/A</td></tr><tr><td>345</td><td>NULL</td><td>Flat Washer 4</td><td>Flat Washer 4: N/A</td></tr><tr><td>346</td><td>NULL</td><td>Flat Washer 3</td><td>Flat Washer 3: N/A</td></tr><tr><td>347</td><td>NULL</td><td>Flat Washer 8</td><td>Flat Washer 8: N/A</td></tr><tr><td>348</td><td>NULL</td><td>Flat Washer 5</td><td>Flat Washer 5: N/A</td></tr><tr><td>349</td><td>NULL</td><td>Flat Washer 7</td><td>Flat Washer 7: N/A</td></tr><tr><td>350</td><td>NULL</td><td>Fork Crown</td><td>Fork Crown: N/A</td></tr><tr><td>351</td><td>Silver</td><td>Front Derailleur Cage</td><td>Front Derailleur Cage: Silver</td></tr><tr><td>352</td><td>Silver</td><td>Front Derailleur Linkage</td><td>Front Derailleur Linkage: Silver</td></tr><tr><td>355</td><td>NULL</td><td>Guide Pulley</td><td>Guide Pulley: N/A</td></tr><tr><td>356</td><td>NULL</td><td>LL Grip Tape</td><td>LL Grip Tape: N/A</td></tr><tr><td>357</td><td>NULL</td><td>ML Grip Tape</td><td>ML Grip Tape: N/A</td></tr><tr><td>358</td><td>NULL</td><td>HL Grip Tape</td><td>HL Grip Tape: N/A</td></tr><tr><td>359</td><td>NULL</td><td>Thin-Jam Hex Nut 9</td><td>Thin-Jam Hex Nut 9: N/A</td></tr><tr><td>360</td><td>NULL</td><td>Thin-Jam Hex Nut 10</td><td>Thin-Jam Hex Nut 10: N/A</td></tr><tr><td>361</td><td>NULL</td><td>Thin-Jam Hex Nut 1</td><td>Thin-Jam Hex Nut 1: N/A</td></tr><tr><td>362</td><td>NULL</td><td>Thin-Jam Hex Nut 2</td><td>Thin-Jam Hex Nut 2: N/A</td></tr><tr><td>363</td><td>NULL</td><td>Thin-Jam Hex Nut 15</td><td>Thin-Jam Hex Nut 15: N/A</td></tr><tr><td>364</td><td>NULL</td><td>Thin-Jam Hex Nut 16</td><td>Thin-Jam Hex Nut 16: N/A</td></tr><tr><td>365</td><td>NULL</td><td>Thin-Jam Hex Nut 5</td><td>Thin-Jam Hex Nut 5: N/A</td></tr><tr><td>366</td><td>NULL</td><td>Thin-Jam Hex Nut 6</td><td>Thin-Jam Hex Nut 6: N/A</td></tr><tr><td>367</td><td>NULL</td><td>Thin-Jam Hex Nut 3</td><td>Thin-Jam Hex Nut 3: N/A</td></tr><tr><td>368</td><td>NULL</td><td>Thin-Jam Hex Nut 4</td><td>Thin-Jam Hex Nut 4: N/A</td></tr><tr><td>369</td><td>NULL</td><td>Thin-Jam Hex Nut 13</td><td>Thin-Jam Hex Nut 13: N/A</td></tr><tr><td>370</td><td>NULL</td><td>Thin-Jam Hex Nut 14</td><td>Thin-Jam Hex Nut 14: N/A</td></tr><tr><td>371</td><td>NULL</td><td>Thin-Jam Hex Nut 7</td><td>Thin-Jam Hex Nut 7: N/A</td></tr><tr><td>372</td><td>NULL</td><td>Thin-Jam Hex Nut 8</td><td>Thin-Jam Hex Nut 8: N/A</td></tr><tr><td>373</td><td>NULL</td><td>Thin-Jam Hex Nut 12</td><td>Thin-Jam Hex Nut 12: N/A</td></tr><tr><td>374</td><td>NULL</td><td>Thin-Jam Hex Nut 11</td><td>Thin-Jam Hex Nut 11: N/A</td></tr><tr><td>375</td><td>NULL</td><td>Hex Nut 5</td><td>Hex Nut 5: N/A</td></tr><tr><td>376</td><td>NULL</td><td>Hex Nut 6</td><td>Hex Nut 6: N/A</td></tr><tr><td>377</td><td>NULL</td><td>Hex Nut 16</td><td>Hex Nut 16: N/A</td></tr><tr><td>378</td><td>NULL</td><td>Hex Nut 17</td><td>Hex Nut 17: N/A</td></tr><tr><td>379</td><td>NULL</td><td>Hex Nut 7</td><td>Hex Nut 7: N/A</td></tr><tr><td>380</td><td>NULL</td><td>Hex Nut 8</td><td>Hex Nut 8: N/A</td></tr><tr><td>381</td><td>NULL</td><td>Hex Nut 9</td><td>Hex Nut 9: N/A</td></tr><tr><td>382</td><td>NULL</td><td>Hex Nut 22</td><td>Hex Nut 22: N/A</td></tr><tr><td>383</td><td>NULL</td><td>Hex Nut 23</td><td>Hex Nut 23: N/A</td></tr><tr><td>384</td><td>NULL</td><td>Hex Nut 12</td><td>Hex Nut 12: N/A</td></tr><tr><td>385</td><td>NULL</td><td>Hex Nut 13</td><td>Hex Nut 13: N/A</td></tr><tr><td>386</td><td>NULL</td><td>Hex Nut 1</td><td>Hex Nut 1: N/A</td></tr><tr><td>387</td><td>NULL</td><td>Hex Nut 10</td><td>Hex Nut 10: N/A</td></tr><tr><td>388</td><td>NULL</td><td>Hex Nut 11</td><td>Hex Nut 11: N/A</td></tr><tr><td>389</td><td>NULL</td><td>Hex Nut 2</td><td>Hex Nut 2: N/A</td></tr><tr><td>390</td><td>NULL</td><td>Hex Nut 20</td><td>Hex Nut 20: N/A</td></tr><tr><td>391</td><td>NULL</td><td>Hex Nut 21</td><td>Hex Nut 21: N/A</td></tr><tr><td>392</td><td>NULL</td><td>Hex Nut 3</td><td>Hex Nut 3: N/A</td></tr><tr><td>393</td><td>NULL</td><td>Hex Nut 14</td><td>Hex Nut 14: N/A</td></tr><tr><td>394</td><td>NULL</td><td>Hex Nut 15</td><td>Hex Nut 15: N/A</td></tr><tr><td>395</td><td>NULL</td><td>Hex Nut 4</td><td>Hex Nut 4: N/A</td></tr><tr><td>396</td><td>NULL</td><td>Hex Nut 18</td><td>Hex Nut 18: N/A</td></tr><tr><td>397</td><td>NULL</td><td>Hex Nut 19</td><td>Hex Nut 19: N/A</td></tr><tr><td>398</td><td>NULL</td><td>Handlebar Tube</td><td>Handlebar Tube: N/A</td></tr><tr><td>399</td><td>NULL</td><td>Head Tube</td><td>Head Tube: N/A</td></tr><tr><td>400</td><td>NULL</td><td>LL Hub</td><td>LL Hub: N/A</td></tr><tr><td>401</td><td>NULL</td><td>HL Hub</td><td>HL Hub: N/A</td></tr><tr><td>402</td><td>NULL</td><td>Keyed Washer</td><td>Keyed Washer: N/A</td></tr><tr><td>403</td><td>NULL</td><td>External Lock Washer 3</td><td>External Lock Washer 3: N/A</td></tr><tr><td>404</td><td>NULL</td><td>External Lock Washer 4</td><td>External Lock Washer 4: N/A</td></tr><tr><td>405</td><td>NULL</td><td>External Lock Washer 9</td><td>External Lock Washer 9: N/A</td></tr><tr><td>406</td><td>NULL</td><td>External Lock Washer 5</td><td>External Lock Washer 5: N/A</td></tr><tr><td>407</td><td>NULL</td><td>External Lock Washer 7</td><td>External Lock Washer 7: N/A</td></tr><tr><td>408</td><td>NULL</td><td>External Lock Washer 6</td><td>External Lock Washer 6: N/A</td></tr><tr><td>409</td><td>NULL</td><td>External Lock Washer 1</td><td>External Lock Washer 1: N/A</td></tr><tr><td>410</td><td>NULL</td><td>External Lock Washer 8</td><td>External Lock Washer 8: N/A</td></tr><tr><td>411</td><td>NULL</td><td>External Lock Washer 2</td><td>External Lock Washer 2: N/A</td></tr><tr><td>412</td><td>NULL</td><td>Internal Lock Washer 3</td><td>Internal Lock Washer 3: N/A</td></tr><tr><td>413</td><td>NULL</td><td>Internal Lock Washer 4</td><td>Internal Lock Washer 4: N/A</td></tr><tr><td>414</td><td>NULL</td><td>Internal Lock Washer 9</td><td>Internal Lock Washer 9: N/A</td></tr><tr><td>415</td><td>NULL</td><td>Internal Lock Washer 5</td><td>Internal Lock Washer 5: N/A</td></tr><tr><td>416</td><td>NULL</td><td>Internal Lock Washer 7</td><td>Internal Lock Washer 7: N/A</td></tr><tr><td>417</td><td>NULL</td><td>Internal Lock Washer 6</td><td>Internal Lock Washer 6: N/A</td></tr><tr><td>418</td><td>NULL</td><td>Internal Lock Washer 10</td><td>Internal Lock Washer 10: N/A</td></tr><tr><td>419</td><td>NULL</td><td>Internal Lock Washer 1</td><td>Internal Lock Washer 1: N/A</td></tr><tr><td>420</td><td>NULL</td><td>Internal Lock Washer 8</td><td>Internal Lock Washer 8: N/A</td></tr><tr><td>421</td><td>NULL</td><td>Internal Lock Washer 2</td><td>Internal Lock Washer 2: N/A</td></tr><tr><td>422</td><td>NULL</td><td>Thin-Jam Lock Nut 9</td><td>Thin-Jam Lock Nut 9: N/A</td></tr><tr><td>423</td><td>NULL</td><td>Thin-Jam Lock Nut 10</td><td>Thin-Jam Lock Nut 10: N/A</td></tr><tr><td>424</td><td>NULL</td><td>Thin-Jam Lock Nut 1</td><td>Thin-Jam Lock Nut 1: N/A</td></tr><tr><td>425</td><td>NULL</td><td>Thin-Jam Lock Nut 2</td><td>Thin-Jam Lock Nut 2: N/A</td></tr><tr><td>426</td><td>NULL</td><td>Thin-Jam Lock Nut 15</td><td>Thin-Jam Lock Nut 15: N/A</td></tr><tr><td>427</td><td>NULL</td><td>Thin-Jam Lock Nut 16</td><td>Thin-Jam Lock Nut 16: N/A</td></tr><tr><td>428</td><td>NULL</td><td>Thin-Jam Lock Nut 5</td><td>Thin-Jam Lock Nut 5: N/A</td></tr><tr><td>429</td><td>NULL</td><td>Thin-Jam Lock Nut 6</td><td>Thin-Jam Lock Nut 6: N/A</td></tr><tr><td>430</td><td>NULL</td><td>Thin-Jam Lock Nut 3</td><td>Thin-Jam Lock Nut 3: N/A</td></tr><tr><td>431</td><td>NULL</td><td>Thin-Jam Lock Nut 4</td><td>Thin-Jam Lock Nut 4: N/A</td></tr><tr><td>432</td><td>NULL</td><td>Thin-Jam Lock Nut 13</td><td>Thin-Jam Lock Nut 13: N/A</td></tr><tr><td>433</td><td>NULL</td><td>Thin-Jam Lock Nut 14</td><td>Thin-Jam Lock Nut 14: N/A</td></tr><tr><td>434</td><td>NULL</td><td>Thin-Jam Lock Nut 7</td><td>Thin-Jam Lock Nut 7: N/A</td></tr><tr><td>435</td><td>NULL</td><td>Thin-Jam Lock Nut 8</td><td>Thin-Jam Lock Nut 8: N/A</td></tr><tr><td>436</td><td>NULL</td><td>Thin-Jam Lock Nut 12</td><td>Thin-Jam Lock Nut 12: N/A</td></tr><tr><td>437</td><td>NULL</td><td>Thin-Jam Lock Nut 11</td><td>Thin-Jam Lock Nut 11: N/A</td></tr><tr><td>438</td><td>NULL</td><td>Lock Nut 5</td><td>Lock Nut 5: N/A</td></tr><tr><td>439</td><td>NULL</td><td>Lock Nut 6</td><td>Lock Nut 6: N/A</td></tr><tr><td>440</td><td>NULL</td><td>Lock Nut 16</td><td>Lock Nut 16: N/A</td></tr><tr><td>441</td><td>NULL</td><td>Lock Nut 17</td><td>Lock Nut 17: N/A</td></tr><tr><td>442</td><td>NULL</td><td>Lock Nut 7</td><td>Lock Nut 7: N/A</td></tr><tr><td>443</td><td>NULL</td><td>Lock Nut 8</td><td>Lock Nut 8: N/A</td></tr><tr><td>444</td><td>NULL</td><td>Lock Nut 9</td><td>Lock Nut 9: N/A</td></tr><tr><td>445</td><td>NULL</td><td>Lock Nut 22</td><td>Lock Nut 22: N/A</td></tr><tr><td>446</td><td>NULL</td><td>Lock Nut 23</td><td>Lock Nut 23: N/A</td></tr><tr><td>447</td><td>NULL</td><td>Lock Nut 12</td><td>Lock Nut 12: N/A</td></tr><tr><td>448</td><td>NULL</td><td>Lock Nut 13</td><td>Lock Nut 13: N/A</td></tr><tr><td>449</td><td>NULL</td><td>Lock Nut 1</td><td>Lock Nut 1: N/A</td></tr><tr><td>450</td><td>NULL</td><td>Lock Nut 10</td><td>Lock Nut 10: N/A</td></tr><tr><td>451</td><td>NULL</td><td>Lock Nut 11</td><td>Lock Nut 11: N/A</td></tr><tr><td>452</td><td>NULL</td><td>Lock Nut 2</td><td>Lock Nut 2: N/A</td></tr><tr><td>453</td><td>NULL</td><td>Lock Nut 20</td><td>Lock Nut 20: N/A</td></tr><tr><td>454</td><td>NULL</td><td>Lock Nut 21</td><td>Lock Nut 21: N/A</td></tr><tr><td>455</td><td>NULL</td><td>Lock Nut 3</td><td>Lock Nut 3: N/A</td></tr><tr><td>456</td><td>NULL</td><td>Lock Nut 14</td><td>Lock Nut 14: N/A</td></tr><tr><td>457</td><td>NULL</td><td>Lock Nut 15</td><td>Lock Nut 15: N/A</td></tr><tr><td>458</td><td>NULL</td><td>Lock Nut 4</td><td>Lock Nut 4: N/A</td></tr><tr><td>459</td><td>NULL</td><td>Lock Nut 19</td><td>Lock Nut 19: N/A</td></tr><tr><td>460</td><td>NULL</td><td>Lock Nut 18</td><td>Lock Nut 18: N/A</td></tr><tr><td>461</td><td>Silver</td><td>Lock Ring</td><td>Lock Ring: Silver</td></tr><tr><td>462</td><td>NULL</td><td>Lower Head Race</td><td>Lower Head Race: N/A</td></tr><tr><td>463</td><td>NULL</td><td>Lock Washer 4</td><td>Lock Washer 4: N/A</td></tr><tr><td>464</td><td>NULL</td><td>Lock Washer 5</td><td>Lock Washer 5: N/A</td></tr><tr><td>465</td><td>NULL</td><td>Lock Washer 10</td><td>Lock Washer 10: N/A</td></tr><tr><td>466</td><td>NULL</td><td>Lock Washer 6</td><td>Lock Washer 6: N/A</td></tr><tr><td>467</td><td>NULL</td><td>Lock Washer 13</td><td>Lock Washer 13: N/A</td></tr><tr><td>468</td><td>NULL</td><td>Lock Washer 8</td><td>Lock Washer 8: N/A</td></tr><tr><td>469</td><td>NULL</td><td>Lock Washer 1</td><td>Lock Washer 1: N/A</td></tr><tr><td>470</td><td>NULL</td><td>Lock Washer 7</td><td>Lock Washer 7: N/A</td></tr><tr><td>471</td><td>NULL</td><td>Lock Washer 12</td><td>Lock Washer 12: N/A</td></tr><tr><td>472</td><td>NULL</td><td>Lock Washer 2</td><td>Lock Washer 2: N/A</td></tr><tr><td>473</td><td>NULL</td><td>Lock Washer 9</td><td>Lock Washer 9: N/A</td></tr><tr><td>474</td><td>NULL</td><td>Lock Washer 3</td><td>Lock Washer 3: N/A</td></tr><tr><td>475</td><td>NULL</td><td>Lock Washer 11</td><td>Lock Washer 11: N/A</td></tr><tr><td>476</td><td>NULL</td><td>Metal Angle</td><td>Metal Angle: N/A</td></tr><tr><td>477</td><td>NULL</td><td>Metal Bar 1</td><td>Metal Bar 1: N/A</td></tr><tr><td>478</td><td>NULL</td><td>Metal Bar 2</td><td>Metal Bar 2: N/A</td></tr><tr><td>479</td><td>NULL</td><td>Metal Plate 2</td><td>Metal Plate 2: N/A</td></tr><tr><td>480</td><td>NULL</td><td>Metal Plate 1</td><td>Metal Plate 1: N/A</td></tr><tr><td>481</td><td>NULL</td><td>Metal Plate 3</td><td>Metal Plate 3: N/A</td></tr><tr><td>482</td><td>NULL</td><td>Metal Sheet 2</td><td>Metal Sheet 2: N/A</td></tr><tr><td>483</td><td>NULL</td><td>Metal Sheet 3</td><td>Metal Sheet 3: N/A</td></tr><tr><td>484</td><td>NULL</td><td>Metal Sheet 7</td><td>Metal Sheet 7: N/A</td></tr><tr><td>485</td><td>NULL</td><td>Metal Sheet 4</td><td>Metal Sheet 4: N/A</td></tr><tr><td>486</td><td>NULL</td><td>Metal Sheet 5</td><td>Metal Sheet 5: N/A</td></tr><tr><td>487</td><td>NULL</td><td>Metal Sheet 6</td><td>Metal Sheet 6: N/A</td></tr><tr><td>488</td><td>NULL</td><td>Metal Sheet 1</td><td>Metal Sheet 1: N/A</td></tr><tr><td>489</td><td>NULL</td><td>Metal Tread Plate</td><td>Metal Tread Plate: N/A</td></tr><tr><td>490</td><td>NULL</td><td>LL Nipple</td><td>LL Nipple: N/A</td></tr><tr><td>491</td><td>NULL</td><td>HL Nipple</td><td>HL Nipple: N/A</td></tr><tr><td>492</td><td>NULL</td><td>Paint - Black</td><td>Paint - Black: N/A</td></tr><tr><td>493</td><td>NULL</td><td>Paint - Red</td><td>Paint - Red: N/A</td></tr><tr><td>494</td><td>NULL</td><td>Paint - Silver</td><td>Paint - Silver: N/A</td></tr><tr><td>495</td><td>NULL</td><td>Paint - Blue</td><td>Paint - Blue: N/A</td></tr><tr><td>496</td><td>NULL</td><td>Paint - Yellow</td><td>Paint - Yellow: N/A</td></tr><tr><td>497</td><td>NULL</td><td>Pinch Bolt</td><td>Pinch Bolt: N/A</td></tr><tr><td>504</td><td>NULL</td><td>Cup-Shaped Race</td><td>Cup-Shaped Race: N/A</td></tr><tr><td>505</td><td>NULL</td><td>Cone-Shaped Race</td><td>Cone-Shaped Race: N/A</td></tr><tr><td>506</td><td>NULL</td><td>Reflector</td><td>Reflector: N/A</td></tr><tr><td>507</td><td>NULL</td><td>LL Mountain Rim</td><td>LL Mountain Rim: N/A</td></tr><tr><td>508</td><td>NULL</td><td>ML Mountain Rim</td><td>ML Mountain Rim: N/A</td></tr><tr><td>509</td><td>NULL</td><td>HL Mountain Rim</td><td>HL Mountain Rim: N/A</td></tr><tr><td>510</td><td>NULL</td><td>LL Road Rim</td><td>LL Road Rim: N/A</td></tr><tr><td>511</td><td>NULL</td><td>ML Road Rim</td><td>ML Road Rim: N/A</td></tr><tr><td>512</td><td>NULL</td><td>HL Road Rim</td><td>HL Road Rim: N/A</td></tr><tr><td>513</td><td>NULL</td><td>Touring Rim</td><td>Touring Rim: N/A</td></tr><tr><td>514</td><td>NULL</td><td>LL Mountain Seat Assembly</td><td>LL Mountain Seat Assembly: N/A</td></tr><tr><td>515</td><td>NULL</td><td>ML Mountain Seat Assembly</td><td>ML Mountain Seat Assembly: N/A</td></tr><tr><td>516</td><td>NULL</td><td>HL Mountain Seat Assembly</td><td>HL Mountain Seat Assembly: N/A</td></tr><tr><td>517</td><td>NULL</td><td>LL Road Seat Assembly</td><td>LL Road Seat Assembly: N/A</td></tr><tr><td>518</td><td>NULL</td><td>ML Road Seat Assembly</td><td>ML Road Seat Assembly: N/A</td></tr><tr><td>519</td><td>NULL</td><td>HL Road Seat Assembly</td><td>HL Road Seat Assembly: N/A</td></tr><tr><td>520</td><td>NULL</td><td>LL Touring Seat Assembly</td><td>LL Touring Seat Assembly: N/A</td></tr><tr><td>521</td><td>NULL</td><td>ML Touring Seat Assembly</td><td>ML Touring Seat Assembly: N/A</td></tr><tr><td>522</td><td>NULL</td><td>HL Touring Seat Assembly</td><td>HL Touring Seat Assembly: N/A</td></tr><tr><td>523</td><td>NULL</td><td>LL Spindle/Axle</td><td>LL Spindle/Axle: N/A</td></tr><tr><td>524</td><td>NULL</td><td>HL Spindle/Axle</td><td>HL Spindle/Axle: N/A</td></tr><tr><td>525</td><td>NULL</td><td>LL Shell</td><td>LL Shell: N/A</td></tr><tr><td>526</td><td>NULL</td><td>HL Shell</td><td>HL Shell: N/A</td></tr><tr><td>527</td><td>NULL</td><td>Spokes</td><td>Spokes: N/A</td></tr><tr><td>528</td><td>NULL</td><td>Seat Lug</td><td>Seat Lug: N/A</td></tr><tr><td>529</td><td>NULL</td><td>Stem</td><td>Stem: N/A</td></tr><tr><td>530</td><td>NULL</td><td>Seat Post</td><td>Seat Post: N/A</td></tr><tr><td>531</td><td>NULL</td><td>Steerer</td><td>Steerer: N/A</td></tr><tr><td>532</td><td>NULL</td><td>Seat Stays</td><td>Seat Stays: N/A</td></tr><tr><td>533</td><td>NULL</td><td>Seat Tube</td><td>Seat Tube: N/A</td></tr><tr><td>534</td><td>NULL</td><td>Top Tube</td><td>Top Tube: N/A</td></tr><tr><td>535</td><td>NULL</td><td>Tension Pulley</td><td>Tension Pulley: N/A</td></tr><tr><td>679</td><td>Silver</td><td>Rear Derailleur Cage</td><td>Rear Derailleur Cage: Silver</td></tr><tr><td>680</td><td>Black</td><td>HL Road Frame - Black, 58</td><td>HL Road Frame - Black, 58: Black</td></tr><tr><td>706</td><td>Red</td><td>HL Road Frame - Red, 58</td><td>HL Road Frame - Red, 58: Red</td></tr><tr><td>707</td><td>Red</td><td>Sport-100 Helmet, Red</td><td>Sport-100 Helmet, Red: Red</td></tr><tr><td>708</td><td>Black</td><td>Sport-100 Helmet, Black</td><td>Sport-100 Helmet, Black: Black</td></tr><tr><td>709</td><td>White</td><td>Mountain Bike Socks, M</td><td>Mountain Bike Socks, M: White</td></tr><tr><td>710</td><td>White</td><td>Mountain Bike Socks, L</td><td>Mountain Bike Socks, L: White</td></tr><tr><td>711</td><td>Blue</td><td>Sport-100 Helmet, Blue</td><td>Sport-100 Helmet, Blue: Blue</td></tr><tr><td>712</td><td>Multi</td><td>AWC Logo Cap</td><td>AWC Logo Cap: Multi</td></tr><tr><td>713</td><td>Multi</td><td>Long-Sleeve Logo Jersey, S</td><td>Long-Sleeve Logo Jersey, S: Multi</td></tr><tr><td>714</td><td>Multi</td><td>Long-Sleeve Logo Jersey, M</td><td>Long-Sleeve Logo Jersey, M: Multi</td></tr><tr><td>715</td><td>Multi</td><td>Long-Sleeve Logo Jersey, L</td><td>Long-Sleeve Logo Jersey, L: Multi</td></tr><tr><td>716</td><td>Multi</td><td>Long-Sleeve Logo Jersey, XL</td><td>Long-Sleeve Logo Jersey, XL: Multi</td></tr><tr><td>717</td><td>Red</td><td>HL Road Frame - Red, 62</td><td>HL Road Frame - Red, 62: Red</td></tr><tr><td>718</td><td>Red</td><td>HL Road Frame - Red, 44</td><td>HL Road Frame - Red, 44: Red</td></tr><tr><td>719</td><td>Red</td><td>HL Road Frame - Red, 48</td><td>HL Road Frame - Red, 48: Red</td></tr><tr><td>720</td><td>Red</td><td>HL Road Frame - Red, 52</td><td>HL Road Frame - Red, 52: Red</td></tr><tr><td>721</td><td>Red</td><td>HL Road Frame - Red, 56</td><td>HL Road Frame - Red, 56: Red</td></tr><tr><td>722</td><td>Black</td><td>LL Road Frame - Black, 58</td><td>LL Road Frame - Black, 58: Black</td></tr><tr><td>723</td><td>Black</td><td>LL Road Frame - Black, 60</td><td>LL Road Frame - Black, 60: Black</td></tr><tr><td>724</td><td>Black</td><td>LL Road Frame - Black, 62</td><td>LL Road Frame - Black, 62: Black</td></tr><tr><td>725</td><td>Red</td><td>LL Road Frame - Red, 44</td><td>LL Road Frame - Red, 44: Red</td></tr><tr><td>726</td><td>Red</td><td>LL Road Frame - Red, 48</td><td>LL Road Frame - Red, 48: Red</td></tr><tr><td>727</td><td>Red</td><td>LL Road Frame - Red, 52</td><td>LL Road Frame - Red, 52: Red</td></tr><tr><td>728</td><td>Red</td><td>LL Road Frame - Red, 58</td><td>LL Road Frame - Red, 58: Red</td></tr><tr><td>729</td><td>Red</td><td>LL Road Frame - Red, 60</td><td>LL Road Frame - Red, 60: Red</td></tr><tr><td>730</td><td>Red</td><td>LL Road Frame - Red, 62</td><td>LL Road Frame - Red, 62: Red</td></tr><tr><td>731</td><td>Red</td><td>ML Road Frame - Red, 44</td><td>ML Road Frame - Red, 44: Red</td></tr><tr><td>732</td><td>Red</td><td>ML Road Frame - Red, 48</td><td>ML Road Frame - Red, 48: Red</td></tr><tr><td>733</td><td>Red</td><td>ML Road Frame - Red, 52</td><td>ML Road Frame - Red, 52: Red</td></tr><tr><td>734</td><td>Red</td><td>ML Road Frame - Red, 58</td><td>ML Road Frame - Red, 58: Red</td></tr><tr><td>735</td><td>Red</td><td>ML Road Frame - Red, 60</td><td>ML Road Frame - Red, 60: Red</td></tr><tr><td>736</td><td>Black</td><td>LL Road Frame - Black, 44</td><td>LL Road Frame - Black, 44: Black</td></tr><tr><td>737</td><td>Black</td><td>LL Road Frame - Black, 48</td><td>LL Road Frame - Black, 48: Black</td></tr><tr><td>738</td><td>Black</td><td>LL Road Frame - Black, 52</td><td>LL Road Frame - Black, 52: Black</td></tr><tr><td>739</td><td>Silver</td><td>HL Mountain Frame - Silver, 42</td><td>HL Mountain Frame - Silver, 42: Silver</td></tr><tr><td>740</td><td>Silver</td><td>HL Mountain Frame - Silver, 44</td><td>HL Mountain Frame - Silver, 44: Silver</td></tr><tr><td>741</td><td>Silver</td><td>HL Mountain Frame - Silver, 48</td><td>HL Mountain Frame - Silver, 48: Silver</td></tr><tr><td>742</td><td>Silver</td><td>HL Mountain Frame - Silver, 46</td><td>HL Mountain Frame - Silver, 46: Silver</td></tr><tr><td>743</td><td>Black</td><td>HL Mountain Frame - Black, 42</td><td>HL Mountain Frame - Black, 42: Black</td></tr><tr><td>744</td><td>Black</td><td>HL Mountain Frame - Black, 44</td><td>HL Mountain Frame - Black, 44: Black</td></tr><tr><td>745</td><td>Black</td><td>HL Mountain Frame - Black, 48</td><td>HL Mountain Frame - Black, 48: Black</td></tr><tr><td>746</td><td>Black</td><td>HL Mountain Frame - Black, 46</td><td>HL Mountain Frame - Black, 46: Black</td></tr><tr><td>747</td><td>Black</td><td>HL Mountain Frame - Black, 38</td><td>HL Mountain Frame - Black, 38: Black</td></tr><tr><td>748</td><td>Silver</td><td>HL Mountain Frame - Silver, 38</td><td>HL Mountain Frame - Silver, 38: Silver</td></tr><tr><td>749</td><td>Red</td><td>Road-150 Red, 62</td><td>Road-150 Red, 62: Red</td></tr><tr><td>750</td><td>Red</td><td>Road-150 Red, 44</td><td>Road-150 Red, 44: Red</td></tr><tr><td>751</td><td>Red</td><td>Road-150 Red, 48</td><td>Road-150 Red, 48: Red</td></tr><tr><td>752</td><td>Red</td><td>Road-150 Red, 52</td><td>Road-150 Red, 52: Red</td></tr><tr><td>753</td><td>Red</td><td>Road-150 Red, 56</td><td>Road-150 Red, 56: Red</td></tr><tr><td>754</td><td>Red</td><td>Road-450 Red, 58</td><td>Road-450 Red, 58: Red</td></tr><tr><td>755</td><td>Red</td><td>Road-450 Red, 60</td><td>Road-450 Red, 60: Red</td></tr><tr><td>756</td><td>Red</td><td>Road-450 Red, 44</td><td>Road-450 Red, 44: Red</td></tr><tr><td>757</td><td>Red</td><td>Road-450 Red, 48</td><td>Road-450 Red, 48: Red</td></tr><tr><td>758</td><td>Red</td><td>Road-450 Red, 52</td><td>Road-450 Red, 52: Red</td></tr><tr><td>759</td><td>Red</td><td>Road-650 Red, 58</td><td>Road-650 Red, 58: Red</td></tr><tr><td>760</td><td>Red</td><td>Road-650 Red, 60</td><td>Road-650 Red, 60: Red</td></tr><tr><td>761</td><td>Red</td><td>Road-650 Red, 62</td><td>Road-650 Red, 62: Red</td></tr><tr><td>762</td><td>Red</td><td>Road-650 Red, 44</td><td>Road-650 Red, 44: Red</td></tr><tr><td>763</td><td>Red</td><td>Road-650 Red, 48</td><td>Road-650 Red, 48: Red</td></tr><tr><td>764</td><td>Red</td><td>Road-650 Red, 52</td><td>Road-650 Red, 52: Red</td></tr><tr><td>765</td><td>Black</td><td>Road-650 Black, 58</td><td>Road-650 Black, 58: Black</td></tr><tr><td>766</td><td>Black</td><td>Road-650 Black, 60</td><td>Road-650 Black, 60: Black</td></tr><tr><td>767</td><td>Black</td><td>Road-650 Black, 62</td><td>Road-650 Black, 62: Black</td></tr><tr><td>768</td><td>Black</td><td>Road-650 Black, 44</td><td>Road-650 Black, 44: Black</td></tr><tr><td>769</td><td>Black</td><td>Road-650 Black, 48</td><td>Road-650 Black, 48: Black</td></tr><tr><td>770</td><td>Black</td><td>Road-650 Black, 52</td><td>Road-650 Black, 52: Black</td></tr><tr><td>771</td><td>Silver</td><td>Mountain-100 Silver, 38</td><td>Mountain-100 Silver, 38: Silver</td></tr><tr><td>772</td><td>Silver</td><td>Mountain-100 Silver, 42</td><td>Mountain-100 Silver, 42: Silver</td></tr><tr><td>773</td><td>Silver</td><td>Mountain-100 Silver, 44</td><td>Mountain-100 Silver, 44: Silver</td></tr><tr><td>774</td><td>Silver</td><td>Mountain-100 Silver, 48</td><td>Mountain-100 Silver, 48: Silver</td></tr><tr><td>775</td><td>Black</td><td>Mountain-100 Black, 38</td><td>Mountain-100 Black, 38: Black</td></tr><tr><td>776</td><td>Black</td><td>Mountain-100 Black, 42</td><td>Mountain-100 Black, 42: Black</td></tr><tr><td>777</td><td>Black</td><td>Mountain-100 Black, 44</td><td>Mountain-100 Black, 44: Black</td></tr><tr><td>778</td><td>Black</td><td>Mountain-100 Black, 48</td><td>Mountain-100 Black, 48: Black</td></tr><tr><td>779</td><td>Silver</td><td>Mountain-200 Silver, 38</td><td>Mountain-200 Silver, 38: Silver</td></tr><tr><td>780</td><td>Silver</td><td>Mountain-200 Silver, 42</td><td>Mountain-200 Silver, 42: Silver</td></tr><tr><td>781</td><td>Silver</td><td>Mountain-200 Silver, 46</td><td>Mountain-200 Silver, 46: Silver</td></tr><tr><td>782</td><td>Black</td><td>Mountain-200 Black, 38</td><td>Mountain-200 Black, 38: Black</td></tr><tr><td>783</td><td>Black</td><td>Mountain-200 Black, 42</td><td>Mountain-200 Black, 42: Black</td></tr><tr><td>784</td><td>Black</td><td>Mountain-200 Black, 46</td><td>Mountain-200 Black, 46: Black</td></tr><tr><td>785</td><td>Black</td><td>Mountain-300 Black, 38</td><td>Mountain-300 Black, 38: Black</td></tr><tr><td>786</td><td>Black</td><td>Mountain-300 Black, 40</td><td>Mountain-300 Black, 40: Black</td></tr><tr><td>787</td><td>Black</td><td>Mountain-300 Black, 44</td><td>Mountain-300 Black, 44: Black</td></tr><tr><td>788</td><td>Black</td><td>Mountain-300 Black, 48</td><td>Mountain-300 Black, 48: Black</td></tr><tr><td>789</td><td>Red</td><td>Road-250 Red, 44</td><td>Road-250 Red, 44: Red</td></tr><tr><td>790</td><td>Red</td><td>Road-250 Red, 48</td><td>Road-250 Red, 48: Red</td></tr><tr><td>791</td><td>Red</td><td>Road-250 Red, 52</td><td>Road-250 Red, 52: Red</td></tr><tr><td>792</td><td>Red</td><td>Road-250 Red, 58</td><td>Road-250 Red, 58: Red</td></tr><tr><td>793</td><td>Black</td><td>Road-250 Black, 44</td><td>Road-250 Black, 44: Black</td></tr><tr><td>794</td><td>Black</td><td>Road-250 Black, 48</td><td>Road-250 Black, 48: Black</td></tr><tr><td>795</td><td>Black</td><td>Road-250 Black, 52</td><td>Road-250 Black, 52: Black</td></tr><tr><td>796</td><td>Black</td><td>Road-250 Black, 58</td><td>Road-250 Black, 58: Black</td></tr><tr><td>797</td><td>Yellow</td><td>Road-550-W Yellow, 38</td><td>Road-550-W Yellow, 38: Yellow</td></tr><tr><td>798</td><td>Yellow</td><td>Road-550-W Yellow, 40</td><td>Road-550-W Yellow, 40: Yellow</td></tr><tr><td>799</td><td>Yellow</td><td>Road-550-W Yellow, 42</td><td>Road-550-W Yellow, 42: Yellow</td></tr><tr><td>800</td><td>Yellow</td><td>Road-550-W Yellow, 44</td><td>Road-550-W Yellow, 44: Yellow</td></tr><tr><td>801</td><td>Yellow</td><td>Road-550-W Yellow, 48</td><td>Road-550-W Yellow, 48: Yellow</td></tr><tr><td>802</td><td>NULL</td><td>LL Fork</td><td>LL Fork: N/A</td></tr><tr><td>803</td><td>NULL</td><td>ML Fork</td><td>ML Fork: N/A</td></tr><tr><td>804</td><td>NULL</td><td>HL Fork</td><td>HL Fork: N/A</td></tr><tr><td>805</td><td>NULL</td><td>LL Headset</td><td>LL Headset: N/A</td></tr><tr><td>806</td><td>NULL</td><td>ML Headset</td><td>ML Headset: N/A</td></tr><tr><td>807</td><td>NULL</td><td>HL Headset</td><td>HL Headset: N/A</td></tr><tr><td>808</td><td>NULL</td><td>LL Mountain Handlebars</td><td>LL Mountain Handlebars: N/A</td></tr><tr><td>809</td><td>NULL</td><td>ML Mountain Handlebars</td><td>ML Mountain Handlebars: N/A</td></tr><tr><td>810</td><td>NULL</td><td>HL Mountain Handlebars</td><td>HL Mountain Handlebars: N/A</td></tr><tr><td>811</td><td>NULL</td><td>LL Road Handlebars</td><td>LL Road Handlebars: N/A</td></tr><tr><td>812</td><td>NULL</td><td>ML Road Handlebars</td><td>ML Road Handlebars: N/A</td></tr><tr><td>813</td><td>NULL</td><td>HL Road Handlebars</td><td>HL Road Handlebars: N/A</td></tr><tr><td>814</td><td>Black</td><td>ML Mountain Frame - Black, 38</td><td>ML Mountain Frame - Black, 38: Black</td></tr><tr><td>815</td><td>Black</td><td>LL Mountain Front Wheel</td><td>LL Mountain Front Wheel: Black</td></tr><tr><td>816</td><td>Black</td><td>ML Mountain Front Wheel</td><td>ML Mountain Front Wheel: Black</td></tr><tr><td>817</td><td>Black</td><td>HL Mountain Front Wheel</td><td>HL Mountain Front Wheel: Black</td></tr><tr><td>818</td><td>Black</td><td>LL Road Front Wheel</td><td>LL Road Front Wheel: Black</td></tr><tr><td>819</td><td>Black</td><td>ML Road Front Wheel</td><td>ML Road Front Wheel: Black</td></tr><tr><td>820</td><td>Black</td><td>HL Road Front Wheel</td><td>HL Road Front Wheel: Black</td></tr><tr><td>821</td><td>Black</td><td>Touring Front Wheel</td><td>Touring Front Wheel: Black</td></tr><tr><td>822</td><td>Yellow</td><td>ML Road Frame-W - Yellow, 38</td><td>ML Road Frame-W - Yellow, 38: Yellow</td></tr><tr><td>823</td><td>Black</td><td>LL Mountain Rear Wheel</td><td>LL Mountain Rear Wheel: Black</td></tr><tr><td>824</td><td>Black</td><td>ML Mountain Rear Wheel</td><td>ML Mountain Rear Wheel: Black</td></tr><tr><td>825</td><td>Black</td><td>HL Mountain Rear Wheel</td><td>HL Mountain Rear Wheel: Black</td></tr><tr><td>826</td><td>Black</td><td>LL Road Rear Wheel</td><td>LL Road Rear Wheel: Black</td></tr><tr><td>827</td><td>Black</td><td>ML Road Rear Wheel</td><td>ML Road Rear Wheel: Black</td></tr><tr><td>828</td><td>Black</td><td>HL Road Rear Wheel</td><td>HL Road Rear Wheel: Black</td></tr><tr><td>829</td><td>Black</td><td>Touring Rear Wheel</td><td>Touring Rear Wheel: Black</td></tr><tr><td>830</td><td>Black</td><td>ML Mountain Frame - Black, 40</td><td>ML Mountain Frame - Black, 40: Black</td></tr><tr><td>831</td><td>Black</td><td>ML Mountain Frame - Black, 44</td><td>ML Mountain Frame - Black, 44: Black</td></tr><tr><td>832</td><td>Black</td><td>ML Mountain Frame - Black, 48</td><td>ML Mountain Frame - Black, 48: Black</td></tr><tr><td>833</td><td>Yellow</td><td>ML Road Frame-W - Yellow, 40</td><td>ML Road Frame-W - Yellow, 40: Yellow</td></tr><tr><td>834</td><td>Yellow</td><td>ML Road Frame-W - Yellow, 42</td><td>ML Road Frame-W - Yellow, 42: Yellow</td></tr><tr><td>835</td><td>Yellow</td><td>ML Road Frame-W - Yellow, 44</td><td>ML Road Frame-W - Yellow, 44: Yellow</td></tr><tr><td>836</td><td>Yellow</td><td>ML Road Frame-W - Yellow, 48</td><td>ML Road Frame-W - Yellow, 48: Yellow</td></tr><tr><td>837</td><td>Black</td><td>HL Road Frame - Black, 62</td><td>HL Road Frame - Black, 62: Black</td></tr><tr><td>838</td><td>Black</td><td>HL Road Frame - Black, 44</td><td>HL Road Frame - Black, 44: Black</td></tr><tr><td>839</td><td>Black</td><td>HL Road Frame - Black, 48</td><td>HL Road Frame - Black, 48: Black</td></tr><tr><td>840</td><td>Black</td><td>HL Road Frame - Black, 52</td><td>HL Road Frame - Black, 52: Black</td></tr><tr><td>841</td><td>Black</td><td>Men's Sports Shorts, S</td><td>Men's Sports Shorts, S: Black</td></tr><tr><td>842</td><td>Grey</td><td>Touring-Panniers, Large</td><td>Touring-Panniers, Large: Grey</td></tr><tr><td>843</td><td>NULL</td><td>Cable Lock</td><td>Cable Lock: N/A</td></tr><tr><td>844</td><td>NULL</td><td>Minipump</td><td>Minipump: N/A</td></tr><tr><td>845</td><td>NULL</td><td>Mountain Pump</td><td>Mountain Pump: N/A</td></tr><tr><td>846</td><td>NULL</td><td>Taillights - Battery-Powered</td><td>Taillights - Battery-Powered: N/A</td></tr><tr><td>847</td><td>NULL</td><td>Headlights - Dual-Beam</td><td>Headlights - Dual-Beam: N/A</td></tr><tr><td>848</td><td>NULL</td><td>Headlights - Weatherproof</td><td>Headlights - Weatherproof: N/A</td></tr><tr><td>849</td><td>Black</td><td>Men's Sports Shorts, M</td><td>Men's Sports Shorts, M: Black</td></tr><tr><td>850</td><td>Black</td><td>Men's Sports Shorts, L</td><td>Men's Sports Shorts, L: Black</td></tr><tr><td>851</td><td>Black</td><td>Men's Sports Shorts, XL</td><td>Men's Sports Shorts, XL: Black</td></tr><tr><td>852</td><td>Black</td><td>Women's Tights, S</td><td>Women's Tights, S: Black</td></tr><tr><td>853</td><td>Black</td><td>Women's Tights, M</td><td>Women's Tights, M: Black</td></tr><tr><td>854</td><td>Black</td><td>Women's Tights, L</td><td>Women's Tights, L: Black</td></tr><tr><td>855</td><td>Multi</td><td>Men's Bib-Shorts, S</td><td>Men's Bib-Shorts, S: Multi</td></tr><tr><td>856</td><td>Multi</td><td>Men's Bib-Shorts, M</td><td>Men's Bib-Shorts, M: Multi</td></tr><tr><td>857</td><td>Multi</td><td>Men's Bib-Shorts, L</td><td>Men's Bib-Shorts, L: Multi</td></tr><tr><td>858</td><td>Black</td><td>Half-Finger Gloves, S</td><td>Half-Finger Gloves, S: Black</td></tr><tr><td>859</td><td>Black</td><td>Half-Finger Gloves, M</td><td>Half-Finger Gloves, M: Black</td></tr><tr><td>860</td><td>Black</td><td>Half-Finger Gloves, L</td><td>Half-Finger Gloves, L: Black</td></tr><tr><td>861</td><td>Black</td><td>Full-Finger Gloves, S</td><td>Full-Finger Gloves, S: Black</td></tr><tr><td>862</td><td>Black</td><td>Full-Finger Gloves, M</td><td>Full-Finger Gloves, M: Black</td></tr><tr><td>863</td><td>Black</td><td>Full-Finger Gloves, L</td><td>Full-Finger Gloves, L: Black</td></tr><tr><td>864</td><td>Blue</td><td>Classic Vest, S</td><td>Classic Vest, S: Blue</td></tr><tr><td>865</td><td>Blue</td><td>Classic Vest, M</td><td>Classic Vest, M: Blue</td></tr><tr><td>866</td><td>Blue</td><td>Classic Vest, L</td><td>Classic Vest, L: Blue</td></tr><tr><td>867</td><td>Black</td><td>Women's Mountain Shorts, S</td><td>Women's Mountain Shorts, S: Black</td></tr><tr><td>868</td><td>Black</td><td>Women's Mountain Shorts, M</td><td>Women's Mountain Shorts, M: Black</td></tr><tr><td>869</td><td>Black</td><td>Women's Mountain Shorts, L</td><td>Women's Mountain Shorts, L: Black</td></tr><tr><td>870</td><td>NULL</td><td>Water Bottle - 30 oz.</td><td>Water Bottle - 30 oz.: N/A</td></tr><tr><td>871</td><td>NULL</td><td>Mountain Bottle Cage</td><td>Mountain Bottle Cage: N/A</td></tr><tr><td>872</td><td>NULL</td><td>Road Bottle Cage</td><td>Road Bottle Cage: N/A</td></tr><tr><td>873</td><td>NULL</td><td>Patch Kit/8 Patches</td><td>Patch Kit/8 Patches: N/A</td></tr><tr><td>874</td><td>White</td><td>Racing Socks, M</td><td>Racing Socks, M: White</td></tr><tr><td>875</td><td>White</td><td>Racing Socks, L</td><td>Racing Socks, L: White</td></tr><tr><td>876</td><td>NULL</td><td>Hitch Rack - 4-Bike</td><td>Hitch Rack - 4-Bike: N/A</td></tr><tr><td>877</td><td>NULL</td><td>Bike Wash - Dissolver</td><td>Bike Wash - Dissolver: N/A</td></tr><tr><td>878</td><td>NULL</td><td>Fender Set - Mountain</td><td>Fender Set - Mountain: N/A</td></tr><tr><td>879</td><td>NULL</td><td>All-Purpose Bike Stand</td><td>All-Purpose Bike Stand: N/A</td></tr><tr><td>880</td><td>Silver</td><td>Hydration Pack - 70 oz.</td><td>Hydration Pack - 70 oz.: Silver</td></tr><tr><td>881</td><td>Yellow</td><td>Short-Sleeve Classic Jersey, S</td><td>Short-Sleeve Classic Jersey, S: Yellow</td></tr><tr><td>882</td><td>Yellow</td><td>Short-Sleeve Classic Jersey, M</td><td>Short-Sleeve Classic Jersey, M: Yellow</td></tr><tr><td>883</td><td>Yellow</td><td>Short-Sleeve Classic Jersey, L</td><td>Short-Sleeve Classic Jersey, L: Yellow</td></tr><tr><td>884</td><td>Yellow</td><td>Short-Sleeve Classic Jersey, XL</td><td>Short-Sleeve Classic Jersey, XL: Yellow</td></tr><tr><td>885</td><td>Yellow</td><td>HL Touring Frame - Yellow, 60</td><td>HL Touring Frame - Yellow, 60: Yellow</td></tr><tr><td>886</td><td>Yellow</td><td>LL Touring Frame - Yellow, 62</td><td>LL Touring Frame - Yellow, 62: Yellow</td></tr><tr><td>887</td><td>Yellow</td><td>HL Touring Frame - Yellow, 46</td><td>HL Touring Frame - Yellow, 46: Yellow</td></tr><tr><td>888</td><td>Yellow</td><td>HL Touring Frame - Yellow, 50</td><td>HL Touring Frame - Yellow, 50: Yellow</td></tr><tr><td>889</td><td>Yellow</td><td>HL Touring Frame - Yellow, 54</td><td>HL Touring Frame - Yellow, 54: Yellow</td></tr><tr><td>890</td><td>Blue</td><td>HL Touring Frame - Blue, 46</td><td>HL Touring Frame - Blue, 46: Blue</td></tr><tr><td>891</td><td>Blue</td><td>HL Touring Frame - Blue, 50</td><td>HL Touring Frame - Blue, 50: Blue</td></tr><tr><td>892</td><td>Blue</td><td>HL Touring Frame - Blue, 54</td><td>HL Touring Frame - Blue, 54: Blue</td></tr><tr><td>893</td><td>Blue</td><td>HL Touring Frame - Blue, 60</td><td>HL Touring Frame - Blue, 60: Blue</td></tr><tr><td>894</td><td>Silver</td><td>Rear Derailleur</td><td>Rear Derailleur: Silver</td></tr><tr><td>895</td><td>Blue</td><td>LL Touring Frame - Blue, 50</td><td>LL Touring Frame - Blue, 50: Blue</td></tr><tr><td>896</td><td>Blue</td><td>LL Touring Frame - Blue, 54</td><td>LL Touring Frame - Blue, 54: Blue</td></tr><tr><td>897</td><td>Blue</td><td>LL Touring Frame - Blue, 58</td><td>LL Touring Frame - Blue, 58: Blue</td></tr><tr><td>898</td><td>Blue</td><td>LL Touring Frame - Blue, 62</td><td>LL Touring Frame - Blue, 62: Blue</td></tr><tr><td>899</td><td>Yellow</td><td>LL Touring Frame - Yellow, 44</td><td>LL Touring Frame - Yellow, 44: Yellow</td></tr><tr><td>900</td><td>Yellow</td><td>LL Touring Frame - Yellow, 50</td><td>LL Touring Frame - Yellow, 50: Yellow</td></tr><tr><td>901</td><td>Yellow</td><td>LL Touring Frame - Yellow, 54</td><td>LL Touring Frame - Yellow, 54: Yellow</td></tr><tr><td>902</td><td>Yellow</td><td>LL Touring Frame - Yellow, 58</td><td>LL Touring Frame - Yellow, 58: Yellow</td></tr><tr><td>903</td><td>Blue</td><td>LL Touring Frame - Blue, 44</td><td>LL Touring Frame - Blue, 44: Blue</td></tr><tr><td>904</td><td>Silver</td><td>ML Mountain Frame-W - Silver, 40</td><td>ML Mountain Frame-W - Silver, 40: Silver</td></tr><tr><td>905</td><td>Silver</td><td>ML Mountain Frame-W - Silver, 42</td><td>ML Mountain Frame-W - Silver, 42: Silver</td></tr><tr><td>906</td><td>Silver</td><td>ML Mountain Frame-W - Silver, 46</td><td>ML Mountain Frame-W - Silver, 46: Silver</td></tr><tr><td>907</td><td>Silver</td><td>Rear Brakes</td><td>Rear Brakes: Silver</td></tr><tr><td>908</td><td>NULL</td><td>LL Mountain Seat/Saddle</td><td>LL Mountain Seat/Saddle: N/A</td></tr><tr><td>909</td><td>NULL</td><td>ML Mountain Seat/Saddle</td><td>ML Mountain Seat/Saddle: N/A</td></tr><tr><td>910</td><td>NULL</td><td>HL Mountain Seat/Saddle</td><td>HL Mountain Seat/Saddle: N/A</td></tr><tr><td>911</td><td>NULL</td><td>LL Road Seat/Saddle</td><td>LL Road Seat/Saddle: N/A</td></tr><tr><td>912</td><td>NULL</td><td>ML Road Seat/Saddle</td><td>ML Road Seat/Saddle: N/A</td></tr><tr><td>913</td><td>NULL</td><td>HL Road Seat/Saddle</td><td>HL Road Seat/Saddle: N/A</td></tr><tr><td>914</td><td>NULL</td><td>LL Touring Seat/Saddle</td><td>LL Touring Seat/Saddle: N/A</td></tr><tr><td>915</td><td>NULL</td><td>ML Touring Seat/Saddle</td><td>ML Touring Seat/Saddle: N/A</td></tr><tr><td>916</td><td>NULL</td><td>HL Touring Seat/Saddle</td><td>HL Touring Seat/Saddle: N/A</td></tr><tr><td>917</td><td>Silver</td><td>LL Mountain Frame - Silver, 42</td><td>LL Mountain Frame - Silver, 42: Silver</td></tr><tr><td>918</td><td>Silver</td><td>LL Mountain Frame - Silver, 44</td><td>LL Mountain Frame - Silver, 44: Silver</td></tr><tr><td>919</td><td>Silver</td><td>LL Mountain Frame - Silver, 48</td><td>LL Mountain Frame - Silver, 48: Silver</td></tr><tr><td>920</td><td>Silver</td><td>LL Mountain Frame - Silver, 52</td><td>LL Mountain Frame - Silver, 52: Silver</td></tr><tr><td>921</td><td>NULL</td><td>Mountain Tire Tube</td><td>Mountain Tire Tube: N/A</td></tr><tr><td>922</td><td>NULL</td><td>Road Tire Tube</td><td>Road Tire Tube: N/A</td></tr><tr><td>923</td><td>NULL</td><td>Touring Tire Tube</td><td>Touring Tire Tube: N/A</td></tr><tr><td>924</td><td>Black</td><td>LL Mountain Frame - Black, 42</td><td>LL Mountain Frame - Black, 42: Black</td></tr><tr><td>925</td><td>Black</td><td>LL Mountain Frame - Black, 44</td><td>LL Mountain Frame - Black, 44: Black</td></tr><tr><td>926</td><td>Black</td><td>LL Mountain Frame - Black, 48</td><td>LL Mountain Frame - Black, 48: Black</td></tr><tr><td>927</td><td>Black</td><td>LL Mountain Frame - Black, 52</td><td>LL Mountain Frame - Black, 52: Black</td></tr><tr><td>928</td><td>NULL</td><td>LL Mountain Tire</td><td>LL Mountain Tire: N/A</td></tr><tr><td>929</td><td>NULL</td><td>ML Mountain Tire</td><td>ML Mountain Tire: N/A</td></tr><tr><td>930</td><td>NULL</td><td>HL Mountain Tire</td><td>HL Mountain Tire: N/A</td></tr><tr><td>931</td><td>NULL</td><td>LL Road Tire</td><td>LL Road Tire: N/A</td></tr><tr><td>932</td><td>NULL</td><td>ML Road Tire</td><td>ML Road Tire: N/A</td></tr><tr><td>933</td><td>NULL</td><td>HL Road Tire</td><td>HL Road Tire: N/A</td></tr><tr><td>934</td><td>NULL</td><td>Touring Tire</td><td>Touring Tire: N/A</td></tr><tr><td>935</td><td>Silver/Black</td><td>LL Mountain Pedal</td><td>LL Mountain Pedal: Silver/Black</td></tr><tr><td>936</td><td>Silver/Black</td><td>ML Mountain Pedal</td><td>ML Mountain Pedal: Silver/Black</td></tr><tr><td>937</td><td>Silver/Black</td><td>HL Mountain Pedal</td><td>HL Mountain Pedal: Silver/Black</td></tr><tr><td>938</td><td>Silver/Black</td><td>LL Road Pedal</td><td>LL Road Pedal: Silver/Black</td></tr><tr><td>939</td><td>Silver/Black</td><td>ML Road Pedal</td><td>ML Road Pedal: Silver/Black</td></tr><tr><td>940</td><td>Silver/Black</td><td>HL Road Pedal</td><td>HL Road Pedal: Silver/Black</td></tr><tr><td>941</td><td>Silver/Black</td><td>Touring Pedal</td><td>Touring Pedal: Silver/Black</td></tr><tr><td>942</td><td>Silver</td><td>ML Mountain Frame-W - Silver, 38</td><td>ML Mountain Frame-W - Silver, 38: Silver</td></tr><tr><td>943</td><td>Black</td><td>LL Mountain Frame - Black, 40</td><td>LL Mountain Frame - Black, 40: Black</td></tr><tr><td>944</td><td>Silver</td><td>LL Mountain Frame - Silver, 40</td><td>LL Mountain Frame - Silver, 40: Silver</td></tr><tr><td>945</td><td>Silver</td><td>Front Derailleur</td><td>Front Derailleur: Silver</td></tr><tr><td>946</td><td>NULL</td><td>LL Touring Handlebars</td><td>LL Touring Handlebars: N/A</td></tr><tr><td>947</td><td>NULL</td><td>HL Touring Handlebars</td><td>HL Touring Handlebars: N/A</td></tr><tr><td>948</td><td>Silver</td><td>Front Brakes</td><td>Front Brakes: Silver</td></tr><tr><td>949</td><td>Black</td><td>LL Crankset</td><td>LL Crankset: Black</td></tr><tr><td>950</td><td>Black</td><td>ML Crankset</td><td>ML Crankset: Black</td></tr><tr><td>951</td><td>Black</td><td>HL Crankset</td><td>HL Crankset: Black</td></tr><tr><td>952</td><td>Silver</td><td>Chain</td><td>Chain: Silver</td></tr><tr><td>953</td><td>Blue</td><td>Touring-2000 Blue, 60</td><td>Touring-2000 Blue, 60: Blue</td></tr><tr><td>954</td><td>Yellow</td><td>Touring-1000 Yellow, 46</td><td>Touring-1000 Yellow, 46: Yellow</td></tr><tr><td>955</td><td>Yellow</td><td>Touring-1000 Yellow, 50</td><td>Touring-1000 Yellow, 50: Yellow</td></tr><tr><td>956</td><td>Yellow</td><td>Touring-1000 Yellow, 54</td><td>Touring-1000 Yellow, 54: Yellow</td></tr><tr><td>957</td><td>Yellow</td><td>Touring-1000 Yellow, 60</td><td>Touring-1000 Yellow, 60: Yellow</td></tr><tr><td>958</td><td>Blue</td><td>Touring-3000 Blue, 54</td><td>Touring-3000 Blue, 54: Blue</td></tr><tr><td>959</td><td>Blue</td><td>Touring-3000 Blue, 58</td><td>Touring-3000 Blue, 58: Blue</td></tr><tr><td>960</td><td>Blue</td><td>Touring-3000 Blue, 62</td><td>Touring-3000 Blue, 62: Blue</td></tr><tr><td>961</td><td>Yellow</td><td>Touring-3000 Yellow, 44</td><td>Touring-3000 Yellow, 44: Yellow</td></tr><tr><td>962</td><td>Yellow</td><td>Touring-3000 Yellow, 50</td><td>Touring-3000 Yellow, 50: Yellow</td></tr><tr><td>963</td><td>Yellow</td><td>Touring-3000 Yellow, 54</td><td>Touring-3000 Yellow, 54: Yellow</td></tr><tr><td>964</td><td>Yellow</td><td>Touring-3000 Yellow, 58</td><td>Touring-3000 Yellow, 58: Yellow</td></tr><tr><td>965</td><td>Yellow</td><td>Touring-3000 Yellow, 62</td><td>Touring-3000 Yellow, 62: Yellow</td></tr><tr><td>966</td><td>Blue</td><td>Touring-1000 Blue, 46</td><td>Touring-1000 Blue, 46: Blue</td></tr><tr><td>967</td><td>Blue</td><td>Touring-1000 Blue, 50</td><td>Touring-1000 Blue, 50: Blue</td></tr><tr><td>968</td><td>Blue</td><td>Touring-1000 Blue, 54</td><td>Touring-1000 Blue, 54: Blue</td></tr><tr><td>969</td><td>Blue</td><td>Touring-1000 Blue, 60</td><td>Touring-1000 Blue, 60: Blue</td></tr><tr><td>970</td><td>Blue</td><td>Touring-2000 Blue, 46</td><td>Touring-2000 Blue, 46: Blue</td></tr><tr><td>971</td><td>Blue</td><td>Touring-2000 Blue, 50</td><td>Touring-2000 Blue, 50: Blue</td></tr><tr><td>972</td><td>Blue</td><td>Touring-2000 Blue, 54</td><td>Touring-2000 Blue, 54: Blue</td></tr><tr><td>973</td><td>Yellow</td><td>Road-350-W Yellow, 40</td><td>Road-350-W Yellow, 40: Yellow</td></tr><tr><td>974</td><td>Yellow</td><td>Road-350-W Yellow, 42</td><td>Road-350-W Yellow, 42: Yellow</td></tr><tr><td>975</td><td>Yellow</td><td>Road-350-W Yellow, 44</td><td>Road-350-W Yellow, 44: Yellow</td></tr><tr><td>976</td><td>Yellow</td><td>Road-350-W Yellow, 48</td><td>Road-350-W Yellow, 48: Yellow</td></tr><tr><td>977</td><td>Black</td><td>Road-750 Black, 58</td><td>Road-750 Black, 58: Black</td></tr><tr><td>978</td><td>Blue</td><td>Touring-3000 Blue, 44</td><td>Touring-3000 Blue, 44: Blue</td></tr><tr><td>979</td><td>Blue</td><td>Touring-3000 Blue, 50</td><td>Touring-3000 Blue, 50: Blue</td></tr><tr><td>980</td><td>Silver</td><td>Mountain-400-W Silver, 38</td><td>Mountain-400-W Silver, 38: Silver</td></tr><tr><td>981</td><td>Silver</td><td>Mountain-400-W Silver, 40</td><td>Mountain-400-W Silver, 40: Silver</td></tr><tr><td>982</td><td>Silver</td><td>Mountain-400-W Silver, 42</td><td>Mountain-400-W Silver, 42: Silver</td></tr><tr><td>983</td><td>Silver</td><td>Mountain-400-W Silver, 46</td><td>Mountain-400-W Silver, 46: Silver</td></tr><tr><td>984</td><td>Silver</td><td>Mountain-500 Silver, 40</td><td>Mountain-500 Silver, 40: Silver</td></tr><tr><td>985</td><td>Silver</td><td>Mountain-500 Silver, 42</td><td>Mountain-500 Silver, 42: Silver</td></tr><tr><td>986</td><td>Silver</td><td>Mountain-500 Silver, 44</td><td>Mountain-500 Silver, 44: Silver</td></tr><tr><td>987</td><td>Silver</td><td>Mountain-500 Silver, 48</td><td>Mountain-500 Silver, 48: Silver</td></tr><tr><td>988</td><td>Silver</td><td>Mountain-500 Silver, 52</td><td>Mountain-500 Silver, 52: Silver</td></tr><tr><td>989</td><td>Black</td><td>Mountain-500 Black, 40</td><td>Mountain-500 Black, 40: Black</td></tr><tr><td>990</td><td>Black</td><td>Mountain-500 Black, 42</td><td>Mountain-500 Black, 42: Black</td></tr><tr><td>991</td><td>Black</td><td>Mountain-500 Black, 44</td><td>Mountain-500 Black, 44: Black</td></tr><tr><td>992</td><td>Black</td><td>Mountain-500 Black, 48</td><td>Mountain-500 Black, 48: Black</td></tr><tr><td>993</td><td>Black</td><td>Mountain-500 Black, 52</td><td>Mountain-500 Black, 52: Black</td></tr><tr><td>994</td><td>NULL</td><td>LL Bottom Bracket</td><td>LL Bottom Bracket: N/A</td></tr><tr><td>995</td><td>NULL</td><td>ML Bottom Bracket</td><td>ML Bottom Bracket: N/A</td></tr><tr><td>996</td><td>NULL</td><td>HL Bottom Bracket</td><td>HL Bottom Bracket: N/A</td></tr><tr><td>997</td><td>Black</td><td>Road-750 Black, 44</td><td>Road-750 Black, 44: Black</td></tr><tr><td>998</td><td>Black</td><td>Road-750 Black, 48</td><td>Road-750 Black, 48: Black</td></tr><tr><td>999</td><td>Black</td><td>Road-750 Black, 52</td><td>Road-750 Black, 52: Black</td></tr></table>"
                    },
                    "metadata": {}
                }
            ],
            "execution_count": 6
        },
        {
            "cell_type": "markdown",
            "source": [
                "2. Write a query that displays only the date, not the time, for the OrderDate, DueDate, and ShipDate in the Sales.SalesOrderHeader table. Try to use a different function for each column."
            ],
            "metadata": {
                "azdata_cell_guid": "27e8ecc3-5363-4600-afcc-e7fe6347a787"
            },
            "attachments": {}
        },
        {
            "cell_type": "code",
            "source": [
                ""
            ],
            "metadata": {
                "azdata_cell_guid": "66c8a9ad-1795-4992-be7c-0a114e17d8c9"
            },
            "outputs": [],
            "execution_count": null
        },
        {
            "cell_type": "markdown",
            "source": [
                "3\\. Write a query that adds six months to each OrderDate in the Sales.SalesOrderHeader table. Include the SalesOrderID and OrderDate columns."
            ],
            "metadata": {
                "azdata_cell_guid": "609cb713-da35-4ba9-8e0b-6d630d3295d2"
            },
            "attachments": {}
        },
        {
            "cell_type": "code",
            "source": [
                ""
            ],
            "metadata": {
                "azdata_cell_guid": "d65d8519-a872-41e2-b2e9-31e935b754be"
            },
            "outputs": [],
            "execution_count": null
        }
    ]
}