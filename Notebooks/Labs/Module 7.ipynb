{
    "metadata": {
        "kernelspec": {
            "name": "SQL",
            "display_name": "SQL",
            "language": "sql"
        },
        "language_info": {
            "name": "sql",
            "version": ""
        }
    },
    "nbformat_minor": 2,
    "nbformat": 4,
    "cells": [
        {
            "cell_type": "markdown",
            "source": [
                "## Module 7:  Subqueries and Common Table Expressions (CTE)\n",
                "\n",
                "### <u><mark>INFO for Lab 1</mark></u>\n",
                "\n",
                "### IN Subquery\n",
                "\n",
                "Used in the WHERE clause. Must return one column.\n",
                "\n",
                "<span style=\"font-size:9.5pt;font-family:Consolas;\n",
                "mso-bidi-font-family:Consolas;color:green;mso-ansi-language:EN-US\">--Returns customers who have orders</span>\n",
                "\n",
                "<span style=\"font-size:9.5pt;font-family:Consolas;\n",
                "mso-bidi-font-family:Consolas;color:blue;mso-ansi-language:EN-US\">SELECT</span> <span style=\"font-size:9.5pt;font-family:Consolas;mso-bidi-font-family:Consolas;\n",
                "color:black;mso-ansi-language:EN-US\">CustomerID</span><span style=\"font-size:\n",
                "9.5pt;font-family:Consolas;mso-bidi-font-family:Consolas;color:gray;mso-ansi-language:\n",
                "EN-US\">,</span> <span style=\"font-size:9.5pt;font-family:Consolas;mso-bidi-font-family:\n",
                "Consolas;color:black;mso-ansi-language:EN-US\">AccountNumber</span>\n",
                "\n",
                "<span style=\"font-size:9.5pt;font-family:Consolas;\n",
                "mso-bidi-font-family:Consolas;color:blue;mso-ansi-language:EN-US\">FROM</span> <span style=\"font-size:9.5pt;font-family:Consolas;mso-bidi-font-family:Consolas;\n",
                "color:black;mso-ansi-language:EN-US\">Sales</span><span style=\"font-size:9.5pt;\n",
                "font-family:Consolas;mso-bidi-font-family:Consolas;color:gray;mso-ansi-language:\n",
                "EN-US\">.</span><span style=\"font-size:9.5pt;font-family:Consolas;mso-bidi-font-family:\n",
                "Consolas;color:black;mso-ansi-language:EN-US\">Customer</span>\n",
                "\n",
                "<span style=\"font-size:9.5pt;font-family:Consolas;\n",
                "mso-bidi-font-family:Consolas;color:blue;mso-ansi-language:EN-US\">WHERE</span> <span style=\"font-size:9.5pt;font-family:Consolas;mso-bidi-font-family:Consolas;\n",
                "color:black;mso-ansi-language:EN-US\">CustomerID </span> <span style=\"font-size:\n",
                "9.5pt;font-family:Consolas;mso-bidi-font-family:Consolas;color:gray;mso-ansi-language:\n",
                "EN-US\">IN</span> <span style=\"font-size:\n",
                "9.5pt;font-family:Consolas;mso-bidi-font-family:Consolas;color:gray;mso-ansi-language:\n",
                "EN-US\">(</span><span style=\"font-size:9.5pt;font-family:Consolas;mso-bidi-font-family:\n",
                "Consolas;color:blue;mso-ansi-language:EN-US\">SELECT</span> <span style=\"font-size:9.5pt;font-family:Consolas;mso-bidi-font-family:Consolas;\n",
                "color:black;mso-ansi-language:EN-US\">CustomerID </span> <span style=\"font-size:\n",
                "9.5pt;font-family:Consolas;mso-bidi-font-family:Consolas;color:blue;mso-ansi-language:\n",
                "EN-US\">FROM</span> <span style=\"font-size:9.5pt;font-family:Consolas;mso-bidi-font-family:\n",
                "Consolas;color:black;mso-ansi-language:EN-US\">Sales</span><span style=\"font-size:9.5pt;font-family:Consolas;mso-bidi-font-family:Consolas;\n",
                "color:gray;mso-ansi-language:EN-US\">.</span><span style=\"font-size:9.5pt;\n",
                "font-family:Consolas;mso-bidi-font-family:Consolas;color:black;mso-ansi-language:\n",
                "EN-US\">SalesOrderHeader</span><span style=\"font-size:9.5pt;font-family:Consolas;\n",
                "mso-bidi-font-family:Consolas;color:gray;mso-ansi-language:EN-US\">);</span>\n",
                "\n",
                "<span style=\"font-size:9.5pt;font-family:Consolas;\n",
                "mso-bidi-font-family:Consolas;color:green;mso-ansi-language:EN-US\">--Returns customers who don't have orders</span>\n",
                "\n",
                "<span style=\"font-size:9.5pt;font-family:Consolas;\n",
                "mso-bidi-font-family:Consolas;color:blue;mso-ansi-language:EN-US\">SELECT</span> <span style=\"font-size:9.5pt;font-family:Consolas;mso-bidi-font-family:Consolas;\n",
                "color:black;mso-ansi-language:EN-US\">CustomerID</span><span style=\"font-size:\n",
                "9.5pt;font-family:Consolas;mso-bidi-font-family:Consolas;color:gray;mso-ansi-language:\n",
                "EN-US\">,</span> <span style=\"font-size:9.5pt;font-family:Consolas;mso-bidi-font-family:\n",
                "Consolas;color:black;mso-ansi-language:EN-US\">AccountNumber</span>\n",
                "\n",
                "<span style=\"font-size:9.5pt;font-family:Consolas;\n",
                "mso-bidi-font-family:Consolas;color:blue;mso-ansi-language:EN-US\">FROM</span> <span style=\"font-size:9.5pt;font-family:Consolas;mso-bidi-font-family:Consolas;\n",
                "color:black;mso-ansi-language:EN-US\">Sales</span><span style=\"font-size:9.5pt;\n",
                "font-family:Consolas;mso-bidi-font-family:Consolas;color:gray;mso-ansi-language:\n",
                "EN-US\">.</span><span style=\"font-size:9.5pt;font-family:Consolas;mso-bidi-font-family:\n",
                "Consolas;color:black;mso-ansi-language:EN-US\">Customer</span>\n",
                "\n",
                "<span style=\"font-size:9.5pt;font-family:Consolas;\n",
                "mso-bidi-font-family:Consolas;color:blue;mso-ansi-language:EN-US\">WHERE</span> <span style=\"font-size:9.5pt;font-family:Consolas;mso-bidi-font-family:Consolas;\n",
                "color:black;mso-ansi-language:EN-US\">CustomerID </span> <span style=\"font-size:\n",
                "9.5pt;font-family:Consolas;mso-bidi-font-family:Consolas;color:gray;mso-ansi-language:\n",
                "EN-US\">NOT</span> <span style=\"font-size:\n",
                "9.5pt;font-family:Consolas;mso-bidi-font-family:Consolas;color:gray;mso-ansi-language:\n",
                "EN-US\">IN</span> <span style=\"font-size:\n",
                "9.5pt;font-family:Consolas;mso-bidi-font-family:Consolas;color:gray;mso-ansi-language:\n",
                "EN-US\">(</span><span style=\"font-size:9.5pt;font-family:Consolas;mso-bidi-font-family:\n",
                "Consolas;color:blue;mso-ansi-language:EN-US\">SELECT</span> <span style=\"font-size:9.5pt;font-family:Consolas;mso-bidi-font-family:Consolas;\n",
                "color:black;mso-ansi-language:EN-US\">CustomerID </span> <span style=\"font-size:\n",
                "9.5pt;font-family:Consolas;mso-bidi-font-family:Consolas;color:blue;mso-ansi-language:\n",
                "EN-US\">FROM</span> <span style=\"font-size:9.5pt;font-family:Consolas;mso-bidi-font-family:\n",
                "Consolas;color:black;mso-ansi-language:EN-US\">Sales</span><span style=\"font-size:9.5pt;font-family:Consolas;mso-bidi-font-family:Consolas;\n",
                "color:gray;mso-ansi-language:EN-US\">.</span><span style=\"font-size:9.5pt;\n",
                "font-family:Consolas;mso-bidi-font-family:Consolas;color:black;mso-ansi-language:\n",
                "EN-US\">SalesOrderHeader</span><span style=\"font-size:9.5pt;font-family:Consolas;\n",
                "mso-bidi-font-family:Consolas;color:gray;mso-ansi-language:EN-US\">);</span>"
            ],
            "metadata": {
                "azdata_cell_guid": "8f577664-b71d-4010-bc0a-b2705944d375"
            },
            "attachments": {}
        },
        {
            "cell_type": "code",
            "source": [
                "USE AdventureWorks2019\n",
                "GO"
            ],
            "metadata": {
                "azdata_cell_guid": "8cc3d285-bfed-4240-8777-0669be95de92"
            },
            "outputs": [
                {
                    "output_type": "display_data",
                    "data": {
                        "text/html": "Commands completed successfully."
                    },
                    "metadata": {}
                },
                {
                    "output_type": "display_data",
                    "data": {
                        "text/html": "Total execution time: 00:00:00.032"
                    },
                    "metadata": {}
                }
            ],
            "execution_count": 2
        },
        {
            "cell_type": "markdown",
            "source": [
                "1. Using a subquery with the Sales.SalesOrderDetail table, display the product names and product ID numbers from the <span style=\"mso-bidi-font-size:10.0pt;\n",
                "line-height:107%;mso-fareast-font-family:&quot;Times New Roman&quot;;border:none;\n",
                "mso-ansi-language:EN-US\">Production.Product</span> table that have been ordered."
            ],
            "metadata": {
                "azdata_cell_guid": "95a9d11a-a092-4e63-acfe-222120901150"
            },
            "attachments": {}
        },
        {
            "cell_type": "code",
            "source": [
                "SELECT ProductID, Name\n",
                "FROM Production.Product\n",
                "WHERE ProductID IN (select ProductID FROM Sales.SalesOrderDetail)\n",
                ""
            ],
            "metadata": {
                "azdata_cell_guid": "69b2d034-000d-476d-8828-0c7f2e2d77dd"
            },
            "outputs": [
                {
                    "output_type": "display_data",
                    "data": {
                        "text/html": "(266 rows affected)"
                    },
                    "metadata": {}
                },
                {
                    "output_type": "display_data",
                    "data": {
                        "text/html": "Total execution time: 00:00:00.090"
                    },
                    "metadata": {}
                },
                {
                    "output_type": "execute_result",
                    "metadata": {},
                    "execution_count": 5,
                    "data": {
                        "application/vnd.dataresource+json": {
                            "schema": {
                                "fields": [
                                    {
                                        "name": "ProductID"
                                    },
                                    {
                                        "name": "Name"
                                    }
                                ]
                            },
                            "data": [
                                {
                                    "0": "707",
                                    "1": "Sport-100 Helmet, Red"
                                },
                                {
                                    "0": "708",
                                    "1": "Sport-100 Helmet, Black"
                                },
                                {
                                    "0": "709",
                                    "1": "Mountain Bike Socks, M"
                                },
                                {
                                    "0": "710",
                                    "1": "Mountain Bike Socks, L"
                                },
                                {
                                    "0": "711",
                                    "1": "Sport-100 Helmet, Blue"
                                },
                                {
                                    "0": "712",
                                    "1": "AWC Logo Cap"
                                },
                                {
                                    "0": "713",
                                    "1": "Long-Sleeve Logo Jersey, S"
                                },
                                {
                                    "0": "714",
                                    "1": "Long-Sleeve Logo Jersey, M"
                                },
                                {
                                    "0": "715",
                                    "1": "Long-Sleeve Logo Jersey, L"
                                },
                                {
                                    "0": "716",
                                    "1": "Long-Sleeve Logo Jersey, XL"
                                },
                                {
                                    "0": "717",
                                    "1": "HL Road Frame - Red, 62"
                                },
                                {
                                    "0": "718",
                                    "1": "HL Road Frame - Red, 44"
                                },
                                {
                                    "0": "719",
                                    "1": "HL Road Frame - Red, 48"
                                },
                                {
                                    "0": "722",
                                    "1": "LL Road Frame - Black, 58"
                                },
                                {
                                    "0": "723",
                                    "1": "LL Road Frame - Black, 60"
                                },
                                {
                                    "0": "725",
                                    "1": "LL Road Frame - Red, 44"
                                },
                                {
                                    "0": "726",
                                    "1": "LL Road Frame - Red, 48"
                                },
                                {
                                    "0": "727",
                                    "1": "LL Road Frame - Red, 52"
                                },
                                {
                                    "0": "729",
                                    "1": "LL Road Frame - Red, 60"
                                },
                                {
                                    "0": "730",
                                    "1": "LL Road Frame - Red, 62"
                                },
                                {
                                    "0": "732",
                                    "1": "ML Road Frame - Red, 48"
                                },
                                {
                                    "0": "733",
                                    "1": "ML Road Frame - Red, 52"
                                },
                                {
                                    "0": "736",
                                    "1": "LL Road Frame - Black, 44"
                                },
                                {
                                    "0": "738",
                                    "1": "LL Road Frame - Black, 52"
                                },
                                {
                                    "0": "739",
                                    "1": "HL Mountain Frame - Silver, 42"
                                },
                                {
                                    "0": "741",
                                    "1": "HL Mountain Frame - Silver, 48"
                                },
                                {
                                    "0": "742",
                                    "1": "HL Mountain Frame - Silver, 46"
                                },
                                {
                                    "0": "743",
                                    "1": "HL Mountain Frame - Black, 42"
                                },
                                {
                                    "0": "744",
                                    "1": "HL Mountain Frame - Black, 44"
                                },
                                {
                                    "0": "745",
                                    "1": "HL Mountain Frame - Black, 48"
                                },
                                {
                                    "0": "747",
                                    "1": "HL Mountain Frame - Black, 38"
                                },
                                {
                                    "0": "748",
                                    "1": "HL Mountain Frame - Silver, 38"
                                },
                                {
                                    "0": "749",
                                    "1": "Road-150 Red, 62"
                                },
                                {
                                    "0": "750",
                                    "1": "Road-150 Red, 44"
                                },
                                {
                                    "0": "751",
                                    "1": "Road-150 Red, 48"
                                },
                                {
                                    "0": "752",
                                    "1": "Road-150 Red, 52"
                                },
                                {
                                    "0": "753",
                                    "1": "Road-150 Red, 56"
                                },
                                {
                                    "0": "754",
                                    "1": "Road-450 Red, 58"
                                },
                                {
                                    "0": "755",
                                    "1": "Road-450 Red, 60"
                                },
                                {
                                    "0": "756",
                                    "1": "Road-450 Red, 44"
                                },
                                {
                                    "0": "757",
                                    "1": "Road-450 Red, 48"
                                },
                                {
                                    "0": "758",
                                    "1": "Road-450 Red, 52"
                                },
                                {
                                    "0": "759",
                                    "1": "Road-650 Red, 58"
                                },
                                {
                                    "0": "760",
                                    "1": "Road-650 Red, 60"
                                },
                                {
                                    "0": "761",
                                    "1": "Road-650 Red, 62"
                                },
                                {
                                    "0": "762",
                                    "1": "Road-650 Red, 44"
                                },
                                {
                                    "0": "763",
                                    "1": "Road-650 Red, 48"
                                },
                                {
                                    "0": "764",
                                    "1": "Road-650 Red, 52"
                                },
                                {
                                    "0": "765",
                                    "1": "Road-650 Black, 58"
                                },
                                {
                                    "0": "766",
                                    "1": "Road-650 Black, 60"
                                },
                                {
                                    "0": "767",
                                    "1": "Road-650 Black, 62"
                                },
                                {
                                    "0": "768",
                                    "1": "Road-650 Black, 44"
                                },
                                {
                                    "0": "769",
                                    "1": "Road-650 Black, 48"
                                },
                                {
                                    "0": "770",
                                    "1": "Road-650 Black, 52"
                                },
                                {
                                    "0": "771",
                                    "1": "Mountain-100 Silver, 38"
                                },
                                {
                                    "0": "772",
                                    "1": "Mountain-100 Silver, 42"
                                },
                                {
                                    "0": "773",
                                    "1": "Mountain-100 Silver, 44"
                                },
                                {
                                    "0": "774",
                                    "1": "Mountain-100 Silver, 48"
                                },
                                {
                                    "0": "775",
                                    "1": "Mountain-100 Black, 38"
                                },
                                {
                                    "0": "776",
                                    "1": "Mountain-100 Black, 42"
                                },
                                {
                                    "0": "777",
                                    "1": "Mountain-100 Black, 44"
                                },
                                {
                                    "0": "778",
                                    "1": "Mountain-100 Black, 48"
                                },
                                {
                                    "0": "779",
                                    "1": "Mountain-200 Silver, 38"
                                },
                                {
                                    "0": "780",
                                    "1": "Mountain-200 Silver, 42"
                                },
                                {
                                    "0": "781",
                                    "1": "Mountain-200 Silver, 46"
                                },
                                {
                                    "0": "782",
                                    "1": "Mountain-200 Black, 38"
                                },
                                {
                                    "0": "783",
                                    "1": "Mountain-200 Black, 42"
                                },
                                {
                                    "0": "784",
                                    "1": "Mountain-200 Black, 46"
                                },
                                {
                                    "0": "785",
                                    "1": "Mountain-300 Black, 38"
                                },
                                {
                                    "0": "786",
                                    "1": "Mountain-300 Black, 40"
                                },
                                {
                                    "0": "787",
                                    "1": "Mountain-300 Black, 44"
                                },
                                {
                                    "0": "788",
                                    "1": "Mountain-300 Black, 48"
                                },
                                {
                                    "0": "789",
                                    "1": "Road-250 Red, 44"
                                },
                                {
                                    "0": "790",
                                    "1": "Road-250 Red, 48"
                                },
                                {
                                    "0": "791",
                                    "1": "Road-250 Red, 52"
                                },
                                {
                                    "0": "792",
                                    "1": "Road-250 Red, 58"
                                },
                                {
                                    "0": "793",
                                    "1": "Road-250 Black, 44"
                                },
                                {
                                    "0": "794",
                                    "1": "Road-250 Black, 48"
                                },
                                {
                                    "0": "795",
                                    "1": "Road-250 Black, 52"
                                },
                                {
                                    "0": "796",
                                    "1": "Road-250 Black, 58"
                                },
                                {
                                    "0": "797",
                                    "1": "Road-550-W Yellow, 38"
                                },
                                {
                                    "0": "798",
                                    "1": "Road-550-W Yellow, 40"
                                },
                                {
                                    "0": "799",
                                    "1": "Road-550-W Yellow, 42"
                                },
                                {
                                    "0": "800",
                                    "1": "Road-550-W Yellow, 44"
                                },
                                {
                                    "0": "801",
                                    "1": "Road-550-W Yellow, 48"
                                },
                                {
                                    "0": "802",
                                    "1": "LL Fork"
                                },
                                {
                                    "0": "804",
                                    "1": "HL Fork"
                                },
                                {
                                    "0": "805",
                                    "1": "LL Headset"
                                },
                                {
                                    "0": "806",
                                    "1": "ML Headset"
                                },
                                {
                                    "0": "807",
                                    "1": "HL Headset"
                                },
                                {
                                    "0": "808",
                                    "1": "LL Mountain Handlebars"
                                },
                                {
                                    "0": "809",
                                    "1": "ML Mountain Handlebars"
                                },
                                {
                                    "0": "810",
                                    "1": "HL Mountain Handlebars"
                                },
                                {
                                    "0": "811",
                                    "1": "LL Road Handlebars"
                                },
                                {
                                    "0": "813",
                                    "1": "HL Road Handlebars"
                                },
                                {
                                    "0": "814",
                                    "1": "ML Mountain Frame - Black, 38"
                                },
                                {
                                    "0": "815",
                                    "1": "LL Mountain Front Wheel"
                                },
                                {
                                    "0": "816",
                                    "1": "ML Mountain Front Wheel"
                                },
                                {
                                    "0": "817",
                                    "1": "HL Mountain Front Wheel"
                                },
                                {
                                    "0": "819",
                                    "1": "ML Road Front Wheel"
                                },
                                {
                                    "0": "820",
                                    "1": "HL Road Front Wheel"
                                },
                                {
                                    "0": "822",
                                    "1": "ML Road Frame-W - Yellow, 38"
                                },
                                {
                                    "0": "823",
                                    "1": "LL Mountain Rear Wheel"
                                },
                                {
                                    "0": "824",
                                    "1": "ML Mountain Rear Wheel"
                                },
                                {
                                    "0": "825",
                                    "1": "HL Mountain Rear Wheel"
                                },
                                {
                                    "0": "826",
                                    "1": "LL Road Rear Wheel"
                                },
                                {
                                    "0": "827",
                                    "1": "ML Road Rear Wheel"
                                },
                                {
                                    "0": "828",
                                    "1": "HL Road Rear Wheel"
                                },
                                {
                                    "0": "830",
                                    "1": "ML Mountain Frame - Black, 40"
                                },
                                {
                                    "0": "831",
                                    "1": "ML Mountain Frame - Black, 44"
                                },
                                {
                                    "0": "832",
                                    "1": "ML Mountain Frame - Black, 48"
                                },
                                {
                                    "0": "833",
                                    "1": "ML Road Frame-W - Yellow, 40"
                                },
                                {
                                    "0": "835",
                                    "1": "ML Road Frame-W - Yellow, 44"
                                },
                                {
                                    "0": "836",
                                    "1": "ML Road Frame-W - Yellow, 48"
                                },
                                {
                                    "0": "838",
                                    "1": "HL Road Frame - Black, 44"
                                },
                                {
                                    "0": "839",
                                    "1": "HL Road Frame - Black, 48"
                                },
                                {
                                    "0": "841",
                                    "1": "Men's Sports Shorts, S"
                                },
                                {
                                    "0": "843",
                                    "1": "Cable Lock"
                                },
                                {
                                    "0": "844",
                                    "1": "Minipump"
                                },
                                {
                                    "0": "849",
                                    "1": "Men's Sports Shorts, M"
                                },
                                {
                                    "0": "850",
                                    "1": "Men's Sports Shorts, L"
                                },
                                {
                                    "0": "852",
                                    "1": "Women's Tights, S"
                                },
                                {
                                    "0": "853",
                                    "1": "Women's Tights, M"
                                },
                                {
                                    "0": "854",
                                    "1": "Women's Tights, L"
                                },
                                {
                                    "0": "855",
                                    "1": "Men's Bib-Shorts, S"
                                },
                                {
                                    "0": "856",
                                    "1": "Men's Bib-Shorts, M"
                                },
                                {
                                    "0": "857",
                                    "1": "Men's Bib-Shorts, L"
                                },
                                {
                                    "0": "858",
                                    "1": "Half-Finger Gloves, S"
                                },
                                {
                                    "0": "859",
                                    "1": "Half-Finger Gloves, M"
                                },
                                {
                                    "0": "860",
                                    "1": "Half-Finger Gloves, L"
                                },
                                {
                                    "0": "861",
                                    "1": "Full-Finger Gloves, S"
                                },
                                {
                                    "0": "862",
                                    "1": "Full-Finger Gloves, M"
                                },
                                {
                                    "0": "863",
                                    "1": "Full-Finger Gloves, L"
                                },
                                {
                                    "0": "864",
                                    "1": "Classic Vest, S"
                                },
                                {
                                    "0": "865",
                                    "1": "Classic Vest, M"
                                },
                                {
                                    "0": "866",
                                    "1": "Classic Vest, L"
                                },
                                {
                                    "0": "867",
                                    "1": "Women's Mountain Shorts, S"
                                },
                                {
                                    "0": "868",
                                    "1": "Women's Mountain Shorts, M"
                                },
                                {
                                    "0": "869",
                                    "1": "Women's Mountain Shorts, L"
                                },
                                {
                                    "0": "870",
                                    "1": "Water Bottle - 30 oz."
                                },
                                {
                                    "0": "871",
                                    "1": "Mountain Bottle Cage"
                                },
                                {
                                    "0": "872",
                                    "1": "Road Bottle Cage"
                                },
                                {
                                    "0": "873",
                                    "1": "Patch Kit/8 Patches"
                                },
                                {
                                    "0": "874",
                                    "1": "Racing Socks, M"
                                },
                                {
                                    "0": "875",
                                    "1": "Racing Socks, L"
                                },
                                {
                                    "0": "876",
                                    "1": "Hitch Rack - 4-Bike"
                                },
                                {
                                    "0": "877",
                                    "1": "Bike Wash - Dissolver"
                                },
                                {
                                    "0": "878",
                                    "1": "Fender Set - Mountain"
                                },
                                {
                                    "0": "879",
                                    "1": "All-Purpose Bike Stand"
                                },
                                {
                                    "0": "880",
                                    "1": "Hydration Pack - 70 oz."
                                },
                                {
                                    "0": "881",
                                    "1": "Short-Sleeve Classic Jersey, S"
                                },
                                {
                                    "0": "882",
                                    "1": "Short-Sleeve Classic Jersey, M"
                                },
                                {
                                    "0": "883",
                                    "1": "Short-Sleeve Classic Jersey, L"
                                },
                                {
                                    "0": "884",
                                    "1": "Short-Sleeve Classic Jersey, XL"
                                },
                                {
                                    "0": "885",
                                    "1": "HL Touring Frame - Yellow, 60"
                                },
                                {
                                    "0": "886",
                                    "1": "LL Touring Frame - Yellow, 62"
                                },
                                {
                                    "0": "887",
                                    "1": "HL Touring Frame - Yellow, 46"
                                },
                                {
                                    "0": "888",
                                    "1": "HL Touring Frame - Yellow, 50"
                                },
                                {
                                    "0": "889",
                                    "1": "HL Touring Frame - Yellow, 54"
                                },
                                {
                                    "0": "890",
                                    "1": "HL Touring Frame - Blue, 46"
                                },
                                {
                                    "0": "891",
                                    "1": "HL Touring Frame - Blue, 50"
                                },
                                {
                                    "0": "892",
                                    "1": "HL Touring Frame - Blue, 54"
                                },
                                {
                                    "0": "893",
                                    "1": "HL Touring Frame - Blue, 60"
                                },
                                {
                                    "0": "894",
                                    "1": "Rear Derailleur"
                                },
                                {
                                    "0": "895",
                                    "1": "LL Touring Frame - Blue, 50"
                                },
                                {
                                    "0": "896",
                                    "1": "LL Touring Frame - Blue, 54"
                                },
                                {
                                    "0": "897",
                                    "1": "LL Touring Frame - Blue, 58"
                                },
                                {
                                    "0": "898",
                                    "1": "LL Touring Frame - Blue, 62"
                                },
                                {
                                    "0": "899",
                                    "1": "LL Touring Frame - Yellow, 44"
                                },
                                {
                                    "0": "900",
                                    "1": "LL Touring Frame - Yellow, 50"
                                },
                                {
                                    "0": "902",
                                    "1": "LL Touring Frame - Yellow, 58"
                                },
                                {
                                    "0": "903",
                                    "1": "LL Touring Frame - Blue, 44"
                                },
                                {
                                    "0": "904",
                                    "1": "ML Mountain Frame-W - Silver, 40"
                                },
                                {
                                    "0": "905",
                                    "1": "ML Mountain Frame-W - Silver, 42"
                                },
                                {
                                    "0": "906",
                                    "1": "ML Mountain Frame-W - Silver, 46"
                                },
                                {
                                    "0": "907",
                                    "1": "Rear Brakes"
                                },
                                {
                                    "0": "908",
                                    "1": "LL Mountain Seat/Saddle"
                                },
                                {
                                    "0": "909",
                                    "1": "ML Mountain Seat/Saddle"
                                },
                                {
                                    "0": "910",
                                    "1": "HL Mountain Seat/Saddle"
                                },
                                {
                                    "0": "911",
                                    "1": "LL Road Seat/Saddle"
                                },
                                {
                                    "0": "913",
                                    "1": "HL Road Seat/Saddle"
                                },
                                {
                                    "0": "914",
                                    "1": "LL Touring Seat/Saddle"
                                },
                                {
                                    "0": "915",
                                    "1": "ML Touring Seat/Saddle"
                                },
                                {
                                    "0": "916",
                                    "1": "HL Touring Seat/Saddle"
                                },
                                {
                                    "0": "917",
                                    "1": "LL Mountain Frame - Silver, 42"
                                },
                                {
                                    "0": "918",
                                    "1": "LL Mountain Frame - Silver, 44"
                                },
                                {
                                    "0": "919",
                                    "1": "LL Mountain Frame - Silver, 48"
                                },
                                {
                                    "0": "920",
                                    "1": "LL Mountain Frame - Silver, 52"
                                },
                                {
                                    "0": "921",
                                    "1": "Mountain Tire Tube"
                                },
                                {
                                    "0": "922",
                                    "1": "Road Tire Tube"
                                },
                                {
                                    "0": "923",
                                    "1": "Touring Tire Tube"
                                },
                                {
                                    "0": "924",
                                    "1": "LL Mountain Frame - Black, 42"
                                },
                                {
                                    "0": "925",
                                    "1": "LL Mountain Frame - Black, 44"
                                },
                                {
                                    "0": "926",
                                    "1": "LL Mountain Frame - Black, 48"
                                },
                                {
                                    "0": "927",
                                    "1": "LL Mountain Frame - Black, 52"
                                },
                                {
                                    "0": "928",
                                    "1": "LL Mountain Tire"
                                },
                                {
                                    "0": "929",
                                    "1": "ML Mountain Tire"
                                },
                                {
                                    "0": "930",
                                    "1": "HL Mountain Tire"
                                },
                                {
                                    "0": "931",
                                    "1": "LL Road Tire"
                                },
                                {
                                    "0": "932",
                                    "1": "ML Road Tire"
                                },
                                {
                                    "0": "933",
                                    "1": "HL Road Tire"
                                },
                                {
                                    "0": "934",
                                    "1": "Touring Tire"
                                },
                                {
                                    "0": "935",
                                    "1": "LL Mountain Pedal"
                                },
                                {
                                    "0": "936",
                                    "1": "ML Mountain Pedal"
                                },
                                {
                                    "0": "937",
                                    "1": "HL Mountain Pedal"
                                },
                                {
                                    "0": "938",
                                    "1": "LL Road Pedal"
                                },
                                {
                                    "0": "939",
                                    "1": "ML Road Pedal"
                                },
                                {
                                    "0": "940",
                                    "1": "HL Road Pedal"
                                },
                                {
                                    "0": "941",
                                    "1": "Touring Pedal"
                                },
                                {
                                    "0": "942",
                                    "1": "ML Mountain Frame-W - Silver, 38"
                                },
                                {
                                    "0": "943",
                                    "1": "LL Mountain Frame - Black, 40"
                                },
                                {
                                    "0": "944",
                                    "1": "LL Mountain Frame - Silver, 40"
                                },
                                {
                                    "0": "945",
                                    "1": "Front Derailleur"
                                },
                                {
                                    "0": "946",
                                    "1": "LL Touring Handlebars"
                                },
                                {
                                    "0": "947",
                                    "1": "HL Touring Handlebars"
                                },
                                {
                                    "0": "948",
                                    "1": "Front Brakes"
                                },
                                {
                                    "0": "949",
                                    "1": "LL Crankset"
                                },
                                {
                                    "0": "950",
                                    "1": "ML Crankset"
                                },
                                {
                                    "0": "951",
                                    "1": "HL Crankset"
                                },
                                {
                                    "0": "952",
                                    "1": "Chain"
                                },
                                {
                                    "0": "953",
                                    "1": "Touring-2000 Blue, 60"
                                },
                                {
                                    "0": "954",
                                    "1": "Touring-1000 Yellow, 46"
                                },
                                {
                                    "0": "955",
                                    "1": "Touring-1000 Yellow, 50"
                                },
                                {
                                    "0": "956",
                                    "1": "Touring-1000 Yellow, 54"
                                },
                                {
                                    "0": "957",
                                    "1": "Touring-1000 Yellow, 60"
                                },
                                {
                                    "0": "958",
                                    "1": "Touring-3000 Blue, 54"
                                },
                                {
                                    "0": "959",
                                    "1": "Touring-3000 Blue, 58"
                                },
                                {
                                    "0": "960",
                                    "1": "Touring-3000 Blue, 62"
                                },
                                {
                                    "0": "961",
                                    "1": "Touring-3000 Yellow, 44"
                                },
                                {
                                    "0": "962",
                                    "1": "Touring-3000 Yellow, 50"
                                },
                                {
                                    "0": "963",
                                    "1": "Touring-3000 Yellow, 54"
                                },
                                {
                                    "0": "964",
                                    "1": "Touring-3000 Yellow, 58"
                                },
                                {
                                    "0": "965",
                                    "1": "Touring-3000 Yellow, 62"
                                },
                                {
                                    "0": "966",
                                    "1": "Touring-1000 Blue, 46"
                                },
                                {
                                    "0": "967",
                                    "1": "Touring-1000 Blue, 50"
                                },
                                {
                                    "0": "968",
                                    "1": "Touring-1000 Blue, 54"
                                },
                                {
                                    "0": "969",
                                    "1": "Touring-1000 Blue, 60"
                                },
                                {
                                    "0": "970",
                                    "1": "Touring-2000 Blue, 46"
                                },
                                {
                                    "0": "971",
                                    "1": "Touring-2000 Blue, 50"
                                },
                                {
                                    "0": "972",
                                    "1": "Touring-2000 Blue, 54"
                                },
                                {
                                    "0": "973",
                                    "1": "Road-350-W Yellow, 40"
                                },
                                {
                                    "0": "974",
                                    "1": "Road-350-W Yellow, 42"
                                },
                                {
                                    "0": "975",
                                    "1": "Road-350-W Yellow, 44"
                                },
                                {
                                    "0": "976",
                                    "1": "Road-350-W Yellow, 48"
                                },
                                {
                                    "0": "977",
                                    "1": "Road-750 Black, 58"
                                },
                                {
                                    "0": "978",
                                    "1": "Touring-3000 Blue, 44"
                                },
                                {
                                    "0": "979",
                                    "1": "Touring-3000 Blue, 50"
                                },
                                {
                                    "0": "980",
                                    "1": "Mountain-400-W Silver, 38"
                                },
                                {
                                    "0": "981",
                                    "1": "Mountain-400-W Silver, 40"
                                },
                                {
                                    "0": "982",
                                    "1": "Mountain-400-W Silver, 42"
                                },
                                {
                                    "0": "983",
                                    "1": "Mountain-400-W Silver, 46"
                                },
                                {
                                    "0": "984",
                                    "1": "Mountain-500 Silver, 40"
                                },
                                {
                                    "0": "985",
                                    "1": "Mountain-500 Silver, 42"
                                },
                                {
                                    "0": "986",
                                    "1": "Mountain-500 Silver, 44"
                                },
                                {
                                    "0": "987",
                                    "1": "Mountain-500 Silver, 48"
                                },
                                {
                                    "0": "988",
                                    "1": "Mountain-500 Silver, 52"
                                },
                                {
                                    "0": "989",
                                    "1": "Mountain-500 Black, 40"
                                },
                                {
                                    "0": "990",
                                    "1": "Mountain-500 Black, 42"
                                },
                                {
                                    "0": "991",
                                    "1": "Mountain-500 Black, 44"
                                },
                                {
                                    "0": "992",
                                    "1": "Mountain-500 Black, 48"
                                },
                                {
                                    "0": "993",
                                    "1": "Mountain-500 Black, 52"
                                },
                                {
                                    "0": "994",
                                    "1": "LL Bottom Bracket"
                                },
                                {
                                    "0": "996",
                                    "1": "HL Bottom Bracket"
                                },
                                {
                                    "0": "997",
                                    "1": "Road-750 Black, 44"
                                },
                                {
                                    "0": "998",
                                    "1": "Road-750 Black, 48"
                                },
                                {
                                    "0": "999",
                                    "1": "Road-750 Black, 52"
                                }
                            ]
                        },
                        "text/html": [
                            "<table>",
                            "<tr><th>ProductID</th><th>Name</th></tr>",
                            "<tr><td>707</td><td>Sport-100 Helmet, Red</td></tr>",
                            "<tr><td>708</td><td>Sport-100 Helmet, Black</td></tr>",
                            "<tr><td>709</td><td>Mountain Bike Socks, M</td></tr>",
                            "<tr><td>710</td><td>Mountain Bike Socks, L</td></tr>",
                            "<tr><td>711</td><td>Sport-100 Helmet, Blue</td></tr>",
                            "<tr><td>712</td><td>AWC Logo Cap</td></tr>",
                            "<tr><td>713</td><td>Long-Sleeve Logo Jersey, S</td></tr>",
                            "<tr><td>714</td><td>Long-Sleeve Logo Jersey, M</td></tr>",
                            "<tr><td>715</td><td>Long-Sleeve Logo Jersey, L</td></tr>",
                            "<tr><td>716</td><td>Long-Sleeve Logo Jersey, XL</td></tr>",
                            "<tr><td>717</td><td>HL Road Frame - Red, 62</td></tr>",
                            "<tr><td>718</td><td>HL Road Frame - Red, 44</td></tr>",
                            "<tr><td>719</td><td>HL Road Frame - Red, 48</td></tr>",
                            "<tr><td>722</td><td>LL Road Frame - Black, 58</td></tr>",
                            "<tr><td>723</td><td>LL Road Frame - Black, 60</td></tr>",
                            "<tr><td>725</td><td>LL Road Frame - Red, 44</td></tr>",
                            "<tr><td>726</td><td>LL Road Frame - Red, 48</td></tr>",
                            "<tr><td>727</td><td>LL Road Frame - Red, 52</td></tr>",
                            "<tr><td>729</td><td>LL Road Frame - Red, 60</td></tr>",
                            "<tr><td>730</td><td>LL Road Frame - Red, 62</td></tr>",
                            "<tr><td>732</td><td>ML Road Frame - Red, 48</td></tr>",
                            "<tr><td>733</td><td>ML Road Frame - Red, 52</td></tr>",
                            "<tr><td>736</td><td>LL Road Frame - Black, 44</td></tr>",
                            "<tr><td>738</td><td>LL Road Frame - Black, 52</td></tr>",
                            "<tr><td>739</td><td>HL Mountain Frame - Silver, 42</td></tr>",
                            "<tr><td>741</td><td>HL Mountain Frame - Silver, 48</td></tr>",
                            "<tr><td>742</td><td>HL Mountain Frame - Silver, 46</td></tr>",
                            "<tr><td>743</td><td>HL Mountain Frame - Black, 42</td></tr>",
                            "<tr><td>744</td><td>HL Mountain Frame - Black, 44</td></tr>",
                            "<tr><td>745</td><td>HL Mountain Frame - Black, 48</td></tr>",
                            "<tr><td>747</td><td>HL Mountain Frame - Black, 38</td></tr>",
                            "<tr><td>748</td><td>HL Mountain Frame - Silver, 38</td></tr>",
                            "<tr><td>749</td><td>Road-150 Red, 62</td></tr>",
                            "<tr><td>750</td><td>Road-150 Red, 44</td></tr>",
                            "<tr><td>751</td><td>Road-150 Red, 48</td></tr>",
                            "<tr><td>752</td><td>Road-150 Red, 52</td></tr>",
                            "<tr><td>753</td><td>Road-150 Red, 56</td></tr>",
                            "<tr><td>754</td><td>Road-450 Red, 58</td></tr>",
                            "<tr><td>755</td><td>Road-450 Red, 60</td></tr>",
                            "<tr><td>756</td><td>Road-450 Red, 44</td></tr>",
                            "<tr><td>757</td><td>Road-450 Red, 48</td></tr>",
                            "<tr><td>758</td><td>Road-450 Red, 52</td></tr>",
                            "<tr><td>759</td><td>Road-650 Red, 58</td></tr>",
                            "<tr><td>760</td><td>Road-650 Red, 60</td></tr>",
                            "<tr><td>761</td><td>Road-650 Red, 62</td></tr>",
                            "<tr><td>762</td><td>Road-650 Red, 44</td></tr>",
                            "<tr><td>763</td><td>Road-650 Red, 48</td></tr>",
                            "<tr><td>764</td><td>Road-650 Red, 52</td></tr>",
                            "<tr><td>765</td><td>Road-650 Black, 58</td></tr>",
                            "<tr><td>766</td><td>Road-650 Black, 60</td></tr>",
                            "<tr><td>767</td><td>Road-650 Black, 62</td></tr>",
                            "<tr><td>768</td><td>Road-650 Black, 44</td></tr>",
                            "<tr><td>769</td><td>Road-650 Black, 48</td></tr>",
                            "<tr><td>770</td><td>Road-650 Black, 52</td></tr>",
                            "<tr><td>771</td><td>Mountain-100 Silver, 38</td></tr>",
                            "<tr><td>772</td><td>Mountain-100 Silver, 42</td></tr>",
                            "<tr><td>773</td><td>Mountain-100 Silver, 44</td></tr>",
                            "<tr><td>774</td><td>Mountain-100 Silver, 48</td></tr>",
                            "<tr><td>775</td><td>Mountain-100 Black, 38</td></tr>",
                            "<tr><td>776</td><td>Mountain-100 Black, 42</td></tr>",
                            "<tr><td>777</td><td>Mountain-100 Black, 44</td></tr>",
                            "<tr><td>778</td><td>Mountain-100 Black, 48</td></tr>",
                            "<tr><td>779</td><td>Mountain-200 Silver, 38</td></tr>",
                            "<tr><td>780</td><td>Mountain-200 Silver, 42</td></tr>",
                            "<tr><td>781</td><td>Mountain-200 Silver, 46</td></tr>",
                            "<tr><td>782</td><td>Mountain-200 Black, 38</td></tr>",
                            "<tr><td>783</td><td>Mountain-200 Black, 42</td></tr>",
                            "<tr><td>784</td><td>Mountain-200 Black, 46</td></tr>",
                            "<tr><td>785</td><td>Mountain-300 Black, 38</td></tr>",
                            "<tr><td>786</td><td>Mountain-300 Black, 40</td></tr>",
                            "<tr><td>787</td><td>Mountain-300 Black, 44</td></tr>",
                            "<tr><td>788</td><td>Mountain-300 Black, 48</td></tr>",
                            "<tr><td>789</td><td>Road-250 Red, 44</td></tr>",
                            "<tr><td>790</td><td>Road-250 Red, 48</td></tr>",
                            "<tr><td>791</td><td>Road-250 Red, 52</td></tr>",
                            "<tr><td>792</td><td>Road-250 Red, 58</td></tr>",
                            "<tr><td>793</td><td>Road-250 Black, 44</td></tr>",
                            "<tr><td>794</td><td>Road-250 Black, 48</td></tr>",
                            "<tr><td>795</td><td>Road-250 Black, 52</td></tr>",
                            "<tr><td>796</td><td>Road-250 Black, 58</td></tr>",
                            "<tr><td>797</td><td>Road-550-W Yellow, 38</td></tr>",
                            "<tr><td>798</td><td>Road-550-W Yellow, 40</td></tr>",
                            "<tr><td>799</td><td>Road-550-W Yellow, 42</td></tr>",
                            "<tr><td>800</td><td>Road-550-W Yellow, 44</td></tr>",
                            "<tr><td>801</td><td>Road-550-W Yellow, 48</td></tr>",
                            "<tr><td>802</td><td>LL Fork</td></tr>",
                            "<tr><td>804</td><td>HL Fork</td></tr>",
                            "<tr><td>805</td><td>LL Headset</td></tr>",
                            "<tr><td>806</td><td>ML Headset</td></tr>",
                            "<tr><td>807</td><td>HL Headset</td></tr>",
                            "<tr><td>808</td><td>LL Mountain Handlebars</td></tr>",
                            "<tr><td>809</td><td>ML Mountain Handlebars</td></tr>",
                            "<tr><td>810</td><td>HL Mountain Handlebars</td></tr>",
                            "<tr><td>811</td><td>LL Road Handlebars</td></tr>",
                            "<tr><td>813</td><td>HL Road Handlebars</td></tr>",
                            "<tr><td>814</td><td>ML Mountain Frame - Black, 38</td></tr>",
                            "<tr><td>815</td><td>LL Mountain Front Wheel</td></tr>",
                            "<tr><td>816</td><td>ML Mountain Front Wheel</td></tr>",
                            "<tr><td>817</td><td>HL Mountain Front Wheel</td></tr>",
                            "<tr><td>819</td><td>ML Road Front Wheel</td></tr>",
                            "<tr><td>820</td><td>HL Road Front Wheel</td></tr>",
                            "<tr><td>822</td><td>ML Road Frame-W - Yellow, 38</td></tr>",
                            "<tr><td>823</td><td>LL Mountain Rear Wheel</td></tr>",
                            "<tr><td>824</td><td>ML Mountain Rear Wheel</td></tr>",
                            "<tr><td>825</td><td>HL Mountain Rear Wheel</td></tr>",
                            "<tr><td>826</td><td>LL Road Rear Wheel</td></tr>",
                            "<tr><td>827</td><td>ML Road Rear Wheel</td></tr>",
                            "<tr><td>828</td><td>HL Road Rear Wheel</td></tr>",
                            "<tr><td>830</td><td>ML Mountain Frame - Black, 40</td></tr>",
                            "<tr><td>831</td><td>ML Mountain Frame - Black, 44</td></tr>",
                            "<tr><td>832</td><td>ML Mountain Frame - Black, 48</td></tr>",
                            "<tr><td>833</td><td>ML Road Frame-W - Yellow, 40</td></tr>",
                            "<tr><td>835</td><td>ML Road Frame-W - Yellow, 44</td></tr>",
                            "<tr><td>836</td><td>ML Road Frame-W - Yellow, 48</td></tr>",
                            "<tr><td>838</td><td>HL Road Frame - Black, 44</td></tr>",
                            "<tr><td>839</td><td>HL Road Frame - Black, 48</td></tr>",
                            "<tr><td>841</td><td>Men's Sports Shorts, S</td></tr>",
                            "<tr><td>843</td><td>Cable Lock</td></tr>",
                            "<tr><td>844</td><td>Minipump</td></tr>",
                            "<tr><td>849</td><td>Men's Sports Shorts, M</td></tr>",
                            "<tr><td>850</td><td>Men's Sports Shorts, L</td></tr>",
                            "<tr><td>852</td><td>Women's Tights, S</td></tr>",
                            "<tr><td>853</td><td>Women's Tights, M</td></tr>",
                            "<tr><td>854</td><td>Women's Tights, L</td></tr>",
                            "<tr><td>855</td><td>Men's Bib-Shorts, S</td></tr>",
                            "<tr><td>856</td><td>Men's Bib-Shorts, M</td></tr>",
                            "<tr><td>857</td><td>Men's Bib-Shorts, L</td></tr>",
                            "<tr><td>858</td><td>Half-Finger Gloves, S</td></tr>",
                            "<tr><td>859</td><td>Half-Finger Gloves, M</td></tr>",
                            "<tr><td>860</td><td>Half-Finger Gloves, L</td></tr>",
                            "<tr><td>861</td><td>Full-Finger Gloves, S</td></tr>",
                            "<tr><td>862</td><td>Full-Finger Gloves, M</td></tr>",
                            "<tr><td>863</td><td>Full-Finger Gloves, L</td></tr>",
                            "<tr><td>864</td><td>Classic Vest, S</td></tr>",
                            "<tr><td>865</td><td>Classic Vest, M</td></tr>",
                            "<tr><td>866</td><td>Classic Vest, L</td></tr>",
                            "<tr><td>867</td><td>Women's Mountain Shorts, S</td></tr>",
                            "<tr><td>868</td><td>Women's Mountain Shorts, M</td></tr>",
                            "<tr><td>869</td><td>Women's Mountain Shorts, L</td></tr>",
                            "<tr><td>870</td><td>Water Bottle - 30 oz.</td></tr>",
                            "<tr><td>871</td><td>Mountain Bottle Cage</td></tr>",
                            "<tr><td>872</td><td>Road Bottle Cage</td></tr>",
                            "<tr><td>873</td><td>Patch Kit/8 Patches</td></tr>",
                            "<tr><td>874</td><td>Racing Socks, M</td></tr>",
                            "<tr><td>875</td><td>Racing Socks, L</td></tr>",
                            "<tr><td>876</td><td>Hitch Rack - 4-Bike</td></tr>",
                            "<tr><td>877</td><td>Bike Wash - Dissolver</td></tr>",
                            "<tr><td>878</td><td>Fender Set - Mountain</td></tr>",
                            "<tr><td>879</td><td>All-Purpose Bike Stand</td></tr>",
                            "<tr><td>880</td><td>Hydration Pack - 70 oz.</td></tr>",
                            "<tr><td>881</td><td>Short-Sleeve Classic Jersey, S</td></tr>",
                            "<tr><td>882</td><td>Short-Sleeve Classic Jersey, M</td></tr>",
                            "<tr><td>883</td><td>Short-Sleeve Classic Jersey, L</td></tr>",
                            "<tr><td>884</td><td>Short-Sleeve Classic Jersey, XL</td></tr>",
                            "<tr><td>885</td><td>HL Touring Frame - Yellow, 60</td></tr>",
                            "<tr><td>886</td><td>LL Touring Frame - Yellow, 62</td></tr>",
                            "<tr><td>887</td><td>HL Touring Frame - Yellow, 46</td></tr>",
                            "<tr><td>888</td><td>HL Touring Frame - Yellow, 50</td></tr>",
                            "<tr><td>889</td><td>HL Touring Frame - Yellow, 54</td></tr>",
                            "<tr><td>890</td><td>HL Touring Frame - Blue, 46</td></tr>",
                            "<tr><td>891</td><td>HL Touring Frame - Blue, 50</td></tr>",
                            "<tr><td>892</td><td>HL Touring Frame - Blue, 54</td></tr>",
                            "<tr><td>893</td><td>HL Touring Frame - Blue, 60</td></tr>",
                            "<tr><td>894</td><td>Rear Derailleur</td></tr>",
                            "<tr><td>895</td><td>LL Touring Frame - Blue, 50</td></tr>",
                            "<tr><td>896</td><td>LL Touring Frame - Blue, 54</td></tr>",
                            "<tr><td>897</td><td>LL Touring Frame - Blue, 58</td></tr>",
                            "<tr><td>898</td><td>LL Touring Frame - Blue, 62</td></tr>",
                            "<tr><td>899</td><td>LL Touring Frame - Yellow, 44</td></tr>",
                            "<tr><td>900</td><td>LL Touring Frame - Yellow, 50</td></tr>",
                            "<tr><td>902</td><td>LL Touring Frame - Yellow, 58</td></tr>",
                            "<tr><td>903</td><td>LL Touring Frame - Blue, 44</td></tr>",
                            "<tr><td>904</td><td>ML Mountain Frame-W - Silver, 40</td></tr>",
                            "<tr><td>905</td><td>ML Mountain Frame-W - Silver, 42</td></tr>",
                            "<tr><td>906</td><td>ML Mountain Frame-W - Silver, 46</td></tr>",
                            "<tr><td>907</td><td>Rear Brakes</td></tr>",
                            "<tr><td>908</td><td>LL Mountain Seat/Saddle</td></tr>",
                            "<tr><td>909</td><td>ML Mountain Seat/Saddle</td></tr>",
                            "<tr><td>910</td><td>HL Mountain Seat/Saddle</td></tr>",
                            "<tr><td>911</td><td>LL Road Seat/Saddle</td></tr>",
                            "<tr><td>913</td><td>HL Road Seat/Saddle</td></tr>",
                            "<tr><td>914</td><td>LL Touring Seat/Saddle</td></tr>",
                            "<tr><td>915</td><td>ML Touring Seat/Saddle</td></tr>",
                            "<tr><td>916</td><td>HL Touring Seat/Saddle</td></tr>",
                            "<tr><td>917</td><td>LL Mountain Frame - Silver, 42</td></tr>",
                            "<tr><td>918</td><td>LL Mountain Frame - Silver, 44</td></tr>",
                            "<tr><td>919</td><td>LL Mountain Frame - Silver, 48</td></tr>",
                            "<tr><td>920</td><td>LL Mountain Frame - Silver, 52</td></tr>",
                            "<tr><td>921</td><td>Mountain Tire Tube</td></tr>",
                            "<tr><td>922</td><td>Road Tire Tube</td></tr>",
                            "<tr><td>923</td><td>Touring Tire Tube</td></tr>",
                            "<tr><td>924</td><td>LL Mountain Frame - Black, 42</td></tr>",
                            "<tr><td>925</td><td>LL Mountain Frame - Black, 44</td></tr>",
                            "<tr><td>926</td><td>LL Mountain Frame - Black, 48</td></tr>",
                            "<tr><td>927</td><td>LL Mountain Frame - Black, 52</td></tr>",
                            "<tr><td>928</td><td>LL Mountain Tire</td></tr>",
                            "<tr><td>929</td><td>ML Mountain Tire</td></tr>",
                            "<tr><td>930</td><td>HL Mountain Tire</td></tr>",
                            "<tr><td>931</td><td>LL Road Tire</td></tr>",
                            "<tr><td>932</td><td>ML Road Tire</td></tr>",
                            "<tr><td>933</td><td>HL Road Tire</td></tr>",
                            "<tr><td>934</td><td>Touring Tire</td></tr>",
                            "<tr><td>935</td><td>LL Mountain Pedal</td></tr>",
                            "<tr><td>936</td><td>ML Mountain Pedal</td></tr>",
                            "<tr><td>937</td><td>HL Mountain Pedal</td></tr>",
                            "<tr><td>938</td><td>LL Road Pedal</td></tr>",
                            "<tr><td>939</td><td>ML Road Pedal</td></tr>",
                            "<tr><td>940</td><td>HL Road Pedal</td></tr>",
                            "<tr><td>941</td><td>Touring Pedal</td></tr>",
                            "<tr><td>942</td><td>ML Mountain Frame-W - Silver, 38</td></tr>",
                            "<tr><td>943</td><td>LL Mountain Frame - Black, 40</td></tr>",
                            "<tr><td>944</td><td>LL Mountain Frame - Silver, 40</td></tr>",
                            "<tr><td>945</td><td>Front Derailleur</td></tr>",
                            "<tr><td>946</td><td>LL Touring Handlebars</td></tr>",
                            "<tr><td>947</td><td>HL Touring Handlebars</td></tr>",
                            "<tr><td>948</td><td>Front Brakes</td></tr>",
                            "<tr><td>949</td><td>LL Crankset</td></tr>",
                            "<tr><td>950</td><td>ML Crankset</td></tr>",
                            "<tr><td>951</td><td>HL Crankset</td></tr>",
                            "<tr><td>952</td><td>Chain</td></tr>",
                            "<tr><td>953</td><td>Touring-2000 Blue, 60</td></tr>",
                            "<tr><td>954</td><td>Touring-1000 Yellow, 46</td></tr>",
                            "<tr><td>955</td><td>Touring-1000 Yellow, 50</td></tr>",
                            "<tr><td>956</td><td>Touring-1000 Yellow, 54</td></tr>",
                            "<tr><td>957</td><td>Touring-1000 Yellow, 60</td></tr>",
                            "<tr><td>958</td><td>Touring-3000 Blue, 54</td></tr>",
                            "<tr><td>959</td><td>Touring-3000 Blue, 58</td></tr>",
                            "<tr><td>960</td><td>Touring-3000 Blue, 62</td></tr>",
                            "<tr><td>961</td><td>Touring-3000 Yellow, 44</td></tr>",
                            "<tr><td>962</td><td>Touring-3000 Yellow, 50</td></tr>",
                            "<tr><td>963</td><td>Touring-3000 Yellow, 54</td></tr>",
                            "<tr><td>964</td><td>Touring-3000 Yellow, 58</td></tr>",
                            "<tr><td>965</td><td>Touring-3000 Yellow, 62</td></tr>",
                            "<tr><td>966</td><td>Touring-1000 Blue, 46</td></tr>",
                            "<tr><td>967</td><td>Touring-1000 Blue, 50</td></tr>",
                            "<tr><td>968</td><td>Touring-1000 Blue, 54</td></tr>",
                            "<tr><td>969</td><td>Touring-1000 Blue, 60</td></tr>",
                            "<tr><td>970</td><td>Touring-2000 Blue, 46</td></tr>",
                            "<tr><td>971</td><td>Touring-2000 Blue, 50</td></tr>",
                            "<tr><td>972</td><td>Touring-2000 Blue, 54</td></tr>",
                            "<tr><td>973</td><td>Road-350-W Yellow, 40</td></tr>",
                            "<tr><td>974</td><td>Road-350-W Yellow, 42</td></tr>",
                            "<tr><td>975</td><td>Road-350-W Yellow, 44</td></tr>",
                            "<tr><td>976</td><td>Road-350-W Yellow, 48</td></tr>",
                            "<tr><td>977</td><td>Road-750 Black, 58</td></tr>",
                            "<tr><td>978</td><td>Touring-3000 Blue, 44</td></tr>",
                            "<tr><td>979</td><td>Touring-3000 Blue, 50</td></tr>",
                            "<tr><td>980</td><td>Mountain-400-W Silver, 38</td></tr>",
                            "<tr><td>981</td><td>Mountain-400-W Silver, 40</td></tr>",
                            "<tr><td>982</td><td>Mountain-400-W Silver, 42</td></tr>",
                            "<tr><td>983</td><td>Mountain-400-W Silver, 46</td></tr>",
                            "<tr><td>984</td><td>Mountain-500 Silver, 40</td></tr>",
                            "<tr><td>985</td><td>Mountain-500 Silver, 42</td></tr>",
                            "<tr><td>986</td><td>Mountain-500 Silver, 44</td></tr>",
                            "<tr><td>987</td><td>Mountain-500 Silver, 48</td></tr>",
                            "<tr><td>988</td><td>Mountain-500 Silver, 52</td></tr>",
                            "<tr><td>989</td><td>Mountain-500 Black, 40</td></tr>",
                            "<tr><td>990</td><td>Mountain-500 Black, 42</td></tr>",
                            "<tr><td>991</td><td>Mountain-500 Black, 44</td></tr>",
                            "<tr><td>992</td><td>Mountain-500 Black, 48</td></tr>",
                            "<tr><td>993</td><td>Mountain-500 Black, 52</td></tr>",
                            "<tr><td>994</td><td>LL Bottom Bracket</td></tr>",
                            "<tr><td>996</td><td>HL Bottom Bracket</td></tr>",
                            "<tr><td>997</td><td>Road-750 Black, 44</td></tr>",
                            "<tr><td>998</td><td>Road-750 Black, 48</td></tr>",
                            "<tr><td>999</td><td>Road-750 Black, 52</td></tr>",
                            "</table>"
                        ]
                    }
                }
            ],
            "execution_count": 5
        },
        {
            "cell_type": "markdown",
            "source": [
                "<span style=\"font-variant-numeric: normal; font-variant-east-asian: normal; font-stretch: normal; line-height: normal;\">2.</span> Change the query written in question 1 to display the products that have not been ordered."
            ],
            "metadata": {
                "azdata_cell_guid": "d33a1e60-0824-4605-8943-11898f071909"
            },
            "attachments": {}
        },
        {
            "cell_type": "code",
            "source": [
                "SELECT ProductID, Name\n",
                "FROM Production.Product\n",
                "WHERE ProductID not IN (select ProductID FROM Sales.SalesOrderDetail)"
            ],
            "metadata": {
                "azdata_cell_guid": "0c6bcf73-4171-461d-b24f-387303b261d6"
            },
            "outputs": [
                {
                    "output_type": "display_data",
                    "data": {
                        "text/html": "(238 rows affected)"
                    },
                    "metadata": {}
                },
                {
                    "output_type": "display_data",
                    "data": {
                        "text/html": "Total execution time: 00:00:00.073"
                    },
                    "metadata": {}
                },
                {
                    "output_type": "execute_result",
                    "metadata": {},
                    "execution_count": 6,
                    "data": {
                        "application/vnd.dataresource+json": {
                            "schema": {
                                "fields": [
                                    {
                                        "name": "ProductID"
                                    },
                                    {
                                        "name": "Name"
                                    }
                                ]
                            },
                            "data": [
                                {
                                    "0": "1",
                                    "1": "Adjustable Race"
                                },
                                {
                                    "0": "3",
                                    "1": "BB Ball Bearing"
                                },
                                {
                                    "0": "2",
                                    "1": "Bearing Ball"
                                },
                                {
                                    "0": "316",
                                    "1": "Blade"
                                },
                                {
                                    "0": "324",
                                    "1": "Chain Stays"
                                },
                                {
                                    "0": "322",
                                    "1": "Chainring"
                                },
                                {
                                    "0": "320",
                                    "1": "Chainring Bolts"
                                },
                                {
                                    "0": "321",
                                    "1": "Chainring Nut"
                                },
                                {
                                    "0": "505",
                                    "1": "Cone-Shaped Race"
                                },
                                {
                                    "0": "323",
                                    "1": "Crown Race"
                                },
                                {
                                    "0": "504",
                                    "1": "Cup-Shaped Race"
                                },
                                {
                                    "0": "325",
                                    "1": "Decal 1"
                                },
                                {
                                    "0": "326",
                                    "1": "Decal 2"
                                },
                                {
                                    "0": "327",
                                    "1": "Down Tube"
                                },
                                {
                                    "0": "409",
                                    "1": "External Lock Washer 1"
                                },
                                {
                                    "0": "411",
                                    "1": "External Lock Washer 2"
                                },
                                {
                                    "0": "403",
                                    "1": "External Lock Washer 3"
                                },
                                {
                                    "0": "404",
                                    "1": "External Lock Washer 4"
                                },
                                {
                                    "0": "406",
                                    "1": "External Lock Washer 5"
                                },
                                {
                                    "0": "408",
                                    "1": "External Lock Washer 6"
                                },
                                {
                                    "0": "407",
                                    "1": "External Lock Washer 7"
                                },
                                {
                                    "0": "410",
                                    "1": "External Lock Washer 8"
                                },
                                {
                                    "0": "405",
                                    "1": "External Lock Washer 9"
                                },
                                {
                                    "0": "341",
                                    "1": "Flat Washer 1"
                                },
                                {
                                    "0": "343",
                                    "1": "Flat Washer 2"
                                },
                                {
                                    "0": "346",
                                    "1": "Flat Washer 3"
                                },
                                {
                                    "0": "345",
                                    "1": "Flat Washer 4"
                                },
                                {
                                    "0": "348",
                                    "1": "Flat Washer 5"
                                },
                                {
                                    "0": "342",
                                    "1": "Flat Washer 6"
                                },
                                {
                                    "0": "349",
                                    "1": "Flat Washer 7"
                                },
                                {
                                    "0": "347",
                                    "1": "Flat Washer 8"
                                },
                                {
                                    "0": "344",
                                    "1": "Flat Washer 9"
                                },
                                {
                                    "0": "350",
                                    "1": "Fork Crown"
                                },
                                {
                                    "0": "331",
                                    "1": "Fork End"
                                },
                                {
                                    "0": "332",
                                    "1": "Freewheel"
                                },
                                {
                                    "0": "351",
                                    "1": "Front Derailleur Cage"
                                },
                                {
                                    "0": "352",
                                    "1": "Front Derailleur Linkage"
                                },
                                {
                                    "0": "355",
                                    "1": "Guide Pulley"
                                },
                                {
                                    "0": "398",
                                    "1": "Handlebar Tube"
                                },
                                {
                                    "0": "399",
                                    "1": "Head Tube"
                                },
                                {
                                    "0": "847",
                                    "1": "Headlights - Dual-Beam"
                                },
                                {
                                    "0": "848",
                                    "1": "Headlights - Weatherproof"
                                },
                                {
                                    "0": "4",
                                    "1": "Headset Ball Bearings"
                                },
                                {
                                    "0": "386",
                                    "1": "Hex Nut 1"
                                },
                                {
                                    "0": "387",
                                    "1": "Hex Nut 10"
                                },
                                {
                                    "0": "388",
                                    "1": "Hex Nut 11"
                                },
                                {
                                    "0": "384",
                                    "1": "Hex Nut 12"
                                },
                                {
                                    "0": "385",
                                    "1": "Hex Nut 13"
                                },
                                {
                                    "0": "393",
                                    "1": "Hex Nut 14"
                                },
                                {
                                    "0": "394",
                                    "1": "Hex Nut 15"
                                },
                                {
                                    "0": "377",
                                    "1": "Hex Nut 16"
                                },
                                {
                                    "0": "378",
                                    "1": "Hex Nut 17"
                                },
                                {
                                    "0": "396",
                                    "1": "Hex Nut 18"
                                },
                                {
                                    "0": "397",
                                    "1": "Hex Nut 19"
                                },
                                {
                                    "0": "389",
                                    "1": "Hex Nut 2"
                                },
                                {
                                    "0": "390",
                                    "1": "Hex Nut 20"
                                },
                                {
                                    "0": "391",
                                    "1": "Hex Nut 21"
                                },
                                {
                                    "0": "382",
                                    "1": "Hex Nut 22"
                                },
                                {
                                    "0": "383",
                                    "1": "Hex Nut 23"
                                },
                                {
                                    "0": "392",
                                    "1": "Hex Nut 3"
                                },
                                {
                                    "0": "395",
                                    "1": "Hex Nut 4"
                                },
                                {
                                    "0": "375",
                                    "1": "Hex Nut 5"
                                },
                                {
                                    "0": "376",
                                    "1": "Hex Nut 6"
                                },
                                {
                                    "0": "379",
                                    "1": "Hex Nut 7"
                                },
                                {
                                    "0": "380",
                                    "1": "Hex Nut 8"
                                },
                                {
                                    "0": "381",
                                    "1": "Hex Nut 9"
                                },
                                {
                                    "0": "319",
                                    "1": "HL Crankarm"
                                },
                                {
                                    "0": "358",
                                    "1": "HL Grip Tape"
                                },
                                {
                                    "0": "401",
                                    "1": "HL Hub"
                                },
                                {
                                    "0": "746",
                                    "1": "HL Mountain Frame - Black, 46"
                                },
                                {
                                    "0": "740",
                                    "1": "HL Mountain Frame - Silver, 44"
                                },
                                {
                                    "0": "509",
                                    "1": "HL Mountain Rim"
                                },
                                {
                                    "0": "516",
                                    "1": "HL Mountain Seat Assembly"
                                },
                                {
                                    "0": "491",
                                    "1": "HL Nipple"
                                },
                                {
                                    "0": "840",
                                    "1": "HL Road Frame - Black, 52"
                                },
                                {
                                    "0": "680",
                                    "1": "HL Road Frame - Black, 58"
                                },
                                {
                                    "0": "837",
                                    "1": "HL Road Frame - Black, 62"
                                },
                                {
                                    "0": "720",
                                    "1": "HL Road Frame - Red, 52"
                                },
                                {
                                    "0": "721",
                                    "1": "HL Road Frame - Red, 56"
                                },
                                {
                                    "0": "706",
                                    "1": "HL Road Frame - Red, 58"
                                },
                                {
                                    "0": "512",
                                    "1": "HL Road Rim"
                                },
                                {
                                    "0": "519",
                                    "1": "HL Road Seat Assembly"
                                },
                                {
                                    "0": "526",
                                    "1": "HL Shell"
                                },
                                {
                                    "0": "524",
                                    "1": "HL Spindle/Axle"
                                },
                                {
                                    "0": "522",
                                    "1": "HL Touring Seat Assembly"
                                },
                                {
                                    "0": "419",
                                    "1": "Internal Lock Washer 1"
                                },
                                {
                                    "0": "418",
                                    "1": "Internal Lock Washer 10"
                                },
                                {
                                    "0": "421",
                                    "1": "Internal Lock Washer 2"
                                },
                                {
                                    "0": "412",
                                    "1": "Internal Lock Washer 3"
                                },
                                {
                                    "0": "413",
                                    "1": "Internal Lock Washer 4"
                                },
                                {
                                    "0": "415",
                                    "1": "Internal Lock Washer 5"
                                },
                                {
                                    "0": "417",
                                    "1": "Internal Lock Washer 6"
                                },
                                {
                                    "0": "416",
                                    "1": "Internal Lock Washer 7"
                                },
                                {
                                    "0": "420",
                                    "1": "Internal Lock Washer 8"
                                },
                                {
                                    "0": "414",
                                    "1": "Internal Lock Washer 9"
                                },
                                {
                                    "0": "402",
                                    "1": "Keyed Washer"
                                },
                                {
                                    "0": "317",
                                    "1": "LL Crankarm"
                                },
                                {
                                    "0": "356",
                                    "1": "LL Grip Tape"
                                },
                                {
                                    "0": "400",
                                    "1": "LL Hub"
                                },
                                {
                                    "0": "507",
                                    "1": "LL Mountain Rim"
                                },
                                {
                                    "0": "514",
                                    "1": "LL Mountain Seat Assembly"
                                },
                                {
                                    "0": "490",
                                    "1": "LL Nipple"
                                },
                                {
                                    "0": "737",
                                    "1": "LL Road Frame - Black, 48"
                                },
                                {
                                    "0": "724",
                                    "1": "LL Road Frame - Black, 62"
                                },
                                {
                                    "0": "728",
                                    "1": "LL Road Frame - Red, 58"
                                },
                                {
                                    "0": "818",
                                    "1": "LL Road Front Wheel"
                                },
                                {
                                    "0": "510",
                                    "1": "LL Road Rim"
                                },
                                {
                                    "0": "517",
                                    "1": "LL Road Seat Assembly"
                                },
                                {
                                    "0": "525",
                                    "1": "LL Shell"
                                },
                                {
                                    "0": "523",
                                    "1": "LL Spindle/Axle"
                                },
                                {
                                    "0": "901",
                                    "1": "LL Touring Frame - Yellow, 54"
                                },
                                {
                                    "0": "520",
                                    "1": "LL Touring Seat Assembly"
                                },
                                {
                                    "0": "449",
                                    "1": "Lock Nut 1"
                                },
                                {
                                    "0": "450",
                                    "1": "Lock Nut 10"
                                },
                                {
                                    "0": "451",
                                    "1": "Lock Nut 11"
                                },
                                {
                                    "0": "447",
                                    "1": "Lock Nut 12"
                                },
                                {
                                    "0": "448",
                                    "1": "Lock Nut 13"
                                },
                                {
                                    "0": "456",
                                    "1": "Lock Nut 14"
                                },
                                {
                                    "0": "457",
                                    "1": "Lock Nut 15"
                                },
                                {
                                    "0": "440",
                                    "1": "Lock Nut 16"
                                },
                                {
                                    "0": "441",
                                    "1": "Lock Nut 17"
                                },
                                {
                                    "0": "460",
                                    "1": "Lock Nut 18"
                                },
                                {
                                    "0": "459",
                                    "1": "Lock Nut 19"
                                },
                                {
                                    "0": "452",
                                    "1": "Lock Nut 2"
                                },
                                {
                                    "0": "453",
                                    "1": "Lock Nut 20"
                                },
                                {
                                    "0": "454",
                                    "1": "Lock Nut 21"
                                },
                                {
                                    "0": "445",
                                    "1": "Lock Nut 22"
                                },
                                {
                                    "0": "446",
                                    "1": "Lock Nut 23"
                                },
                                {
                                    "0": "455",
                                    "1": "Lock Nut 3"
                                },
                                {
                                    "0": "458",
                                    "1": "Lock Nut 4"
                                },
                                {
                                    "0": "438",
                                    "1": "Lock Nut 5"
                                },
                                {
                                    "0": "439",
                                    "1": "Lock Nut 6"
                                },
                                {
                                    "0": "442",
                                    "1": "Lock Nut 7"
                                },
                                {
                                    "0": "443",
                                    "1": "Lock Nut 8"
                                },
                                {
                                    "0": "444",
                                    "1": "Lock Nut 9"
                                },
                                {
                                    "0": "461",
                                    "1": "Lock Ring"
                                },
                                {
                                    "0": "469",
                                    "1": "Lock Washer 1"
                                },
                                {
                                    "0": "465",
                                    "1": "Lock Washer 10"
                                },
                                {
                                    "0": "475",
                                    "1": "Lock Washer 11"
                                },
                                {
                                    "0": "471",
                                    "1": "Lock Washer 12"
                                },
                                {
                                    "0": "467",
                                    "1": "Lock Washer 13"
                                },
                                {
                                    "0": "472",
                                    "1": "Lock Washer 2"
                                },
                                {
                                    "0": "474",
                                    "1": "Lock Washer 3"
                                },
                                {
                                    "0": "463",
                                    "1": "Lock Washer 4"
                                },
                                {
                                    "0": "464",
                                    "1": "Lock Washer 5"
                                },
                                {
                                    "0": "466",
                                    "1": "Lock Washer 6"
                                },
                                {
                                    "0": "470",
                                    "1": "Lock Washer 7"
                                },
                                {
                                    "0": "468",
                                    "1": "Lock Washer 8"
                                },
                                {
                                    "0": "473",
                                    "1": "Lock Washer 9"
                                },
                                {
                                    "0": "462",
                                    "1": "Lower Head Race"
                                },
                                {
                                    "0": "851",
                                    "1": "Men's Sports Shorts, XL"
                                },
                                {
                                    "0": "476",
                                    "1": "Metal Angle"
                                },
                                {
                                    "0": "477",
                                    "1": "Metal Bar 1"
                                },
                                {
                                    "0": "478",
                                    "1": "Metal Bar 2"
                                },
                                {
                                    "0": "480",
                                    "1": "Metal Plate 1"
                                },
                                {
                                    "0": "479",
                                    "1": "Metal Plate 2"
                                },
                                {
                                    "0": "481",
                                    "1": "Metal Plate 3"
                                },
                                {
                                    "0": "488",
                                    "1": "Metal Sheet 1"
                                },
                                {
                                    "0": "482",
                                    "1": "Metal Sheet 2"
                                },
                                {
                                    "0": "483",
                                    "1": "Metal Sheet 3"
                                },
                                {
                                    "0": "485",
                                    "1": "Metal Sheet 4"
                                },
                                {
                                    "0": "486",
                                    "1": "Metal Sheet 5"
                                },
                                {
                                    "0": "487",
                                    "1": "Metal Sheet 6"
                                },
                                {
                                    "0": "484",
                                    "1": "Metal Sheet 7"
                                },
                                {
                                    "0": "489",
                                    "1": "Metal Tread Plate"
                                },
                                {
                                    "0": "995",
                                    "1": "ML Bottom Bracket"
                                },
                                {
                                    "0": "318",
                                    "1": "ML Crankarm"
                                },
                                {
                                    "0": "803",
                                    "1": "ML Fork"
                                },
                                {
                                    "0": "357",
                                    "1": "ML Grip Tape"
                                },
                                {
                                    "0": "508",
                                    "1": "ML Mountain Rim"
                                },
                                {
                                    "0": "515",
                                    "1": "ML Mountain Seat Assembly"
                                },
                                {
                                    "0": "731",
                                    "1": "ML Road Frame - Red, 44"
                                },
                                {
                                    "0": "734",
                                    "1": "ML Road Frame - Red, 58"
                                },
                                {
                                    "0": "735",
                                    "1": "ML Road Frame - Red, 60"
                                },
                                {
                                    "0": "834",
                                    "1": "ML Road Frame-W - Yellow, 42"
                                },
                                {
                                    "0": "812",
                                    "1": "ML Road Handlebars"
                                },
                                {
                                    "0": "511",
                                    "1": "ML Road Rim"
                                },
                                {
                                    "0": "518",
                                    "1": "ML Road Seat Assembly"
                                },
                                {
                                    "0": "912",
                                    "1": "ML Road Seat/Saddle"
                                },
                                {
                                    "0": "521",
                                    "1": "ML Touring Seat Assembly"
                                },
                                {
                                    "0": "328",
                                    "1": "Mountain End Caps"
                                },
                                {
                                    "0": "845",
                                    "1": "Mountain Pump"
                                },
                                {
                                    "0": "492",
                                    "1": "Paint - Black"
                                },
                                {
                                    "0": "495",
                                    "1": "Paint - Blue"
                                },
                                {
                                    "0": "493",
                                    "1": "Paint - Red"
                                },
                                {
                                    "0": "494",
                                    "1": "Paint - Silver"
                                },
                                {
                                    "0": "496",
                                    "1": "Paint - Yellow"
                                },
                                {
                                    "0": "497",
                                    "1": "Pinch Bolt"
                                },
                                {
                                    "0": "679",
                                    "1": "Rear Derailleur Cage"
                                },
                                {
                                    "0": "506",
                                    "1": "Reflector"
                                },
                                {
                                    "0": "329",
                                    "1": "Road End Caps"
                                },
                                {
                                    "0": "528",
                                    "1": "Seat Lug"
                                },
                                {
                                    "0": "530",
                                    "1": "Seat Post"
                                },
                                {
                                    "0": "532",
                                    "1": "Seat Stays"
                                },
                                {
                                    "0": "533",
                                    "1": "Seat Tube"
                                },
                                {
                                    "0": "527",
                                    "1": "Spokes"
                                },
                                {
                                    "0": "531",
                                    "1": "Steerer"
                                },
                                {
                                    "0": "529",
                                    "1": "Stem"
                                },
                                {
                                    "0": "846",
                                    "1": "Taillights - Battery-Powered"
                                },
                                {
                                    "0": "535",
                                    "1": "Tension Pulley"
                                },
                                {
                                    "0": "361",
                                    "1": "Thin-Jam Hex Nut 1"
                                },
                                {
                                    "0": "360",
                                    "1": "Thin-Jam Hex Nut 10"
                                },
                                {
                                    "0": "374",
                                    "1": "Thin-Jam Hex Nut 11"
                                },
                                {
                                    "0": "373",
                                    "1": "Thin-Jam Hex Nut 12"
                                },
                                {
                                    "0": "369",
                                    "1": "Thin-Jam Hex Nut 13"
                                },
                                {
                                    "0": "370",
                                    "1": "Thin-Jam Hex Nut 14"
                                },
                                {
                                    "0": "363",
                                    "1": "Thin-Jam Hex Nut 15"
                                },
                                {
                                    "0": "364",
                                    "1": "Thin-Jam Hex Nut 16"
                                },
                                {
                                    "0": "362",
                                    "1": "Thin-Jam Hex Nut 2"
                                },
                                {
                                    "0": "367",
                                    "1": "Thin-Jam Hex Nut 3"
                                },
                                {
                                    "0": "368",
                                    "1": "Thin-Jam Hex Nut 4"
                                },
                                {
                                    "0": "365",
                                    "1": "Thin-Jam Hex Nut 5"
                                },
                                {
                                    "0": "366",
                                    "1": "Thin-Jam Hex Nut 6"
                                },
                                {
                                    "0": "371",
                                    "1": "Thin-Jam Hex Nut 7"
                                },
                                {
                                    "0": "372",
                                    "1": "Thin-Jam Hex Nut 8"
                                },
                                {
                                    "0": "359",
                                    "1": "Thin-Jam Hex Nut 9"
                                },
                                {
                                    "0": "424",
                                    "1": "Thin-Jam Lock Nut 1"
                                },
                                {
                                    "0": "423",
                                    "1": "Thin-Jam Lock Nut 10"
                                },
                                {
                                    "0": "437",
                                    "1": "Thin-Jam Lock Nut 11"
                                },
                                {
                                    "0": "436",
                                    "1": "Thin-Jam Lock Nut 12"
                                },
                                {
                                    "0": "432",
                                    "1": "Thin-Jam Lock Nut 13"
                                },
                                {
                                    "0": "433",
                                    "1": "Thin-Jam Lock Nut 14"
                                },
                                {
                                    "0": "426",
                                    "1": "Thin-Jam Lock Nut 15"
                                },
                                {
                                    "0": "427",
                                    "1": "Thin-Jam Lock Nut 16"
                                },
                                {
                                    "0": "425",
                                    "1": "Thin-Jam Lock Nut 2"
                                },
                                {
                                    "0": "430",
                                    "1": "Thin-Jam Lock Nut 3"
                                },
                                {
                                    "0": "431",
                                    "1": "Thin-Jam Lock Nut 4"
                                },
                                {
                                    "0": "428",
                                    "1": "Thin-Jam Lock Nut 5"
                                },
                                {
                                    "0": "429",
                                    "1": "Thin-Jam Lock Nut 6"
                                },
                                {
                                    "0": "434",
                                    "1": "Thin-Jam Lock Nut 7"
                                },
                                {
                                    "0": "435",
                                    "1": "Thin-Jam Lock Nut 8"
                                },
                                {
                                    "0": "422",
                                    "1": "Thin-Jam Lock Nut 9"
                                },
                                {
                                    "0": "534",
                                    "1": "Top Tube"
                                },
                                {
                                    "0": "330",
                                    "1": "Touring End Caps"
                                },
                                {
                                    "0": "821",
                                    "1": "Touring Front Wheel"
                                },
                                {
                                    "0": "829",
                                    "1": "Touring Rear Wheel"
                                },
                                {
                                    "0": "513",
                                    "1": "Touring Rim"
                                },
                                {
                                    "0": "842",
                                    "1": "Touring-Panniers, Large"
                                }
                            ]
                        },
                        "text/html": [
                            "<table>",
                            "<tr><th>ProductID</th><th>Name</th></tr>",
                            "<tr><td>1</td><td>Adjustable Race</td></tr>",
                            "<tr><td>3</td><td>BB Ball Bearing</td></tr>",
                            "<tr><td>2</td><td>Bearing Ball</td></tr>",
                            "<tr><td>316</td><td>Blade</td></tr>",
                            "<tr><td>324</td><td>Chain Stays</td></tr>",
                            "<tr><td>322</td><td>Chainring</td></tr>",
                            "<tr><td>320</td><td>Chainring Bolts</td></tr>",
                            "<tr><td>321</td><td>Chainring Nut</td></tr>",
                            "<tr><td>505</td><td>Cone-Shaped Race</td></tr>",
                            "<tr><td>323</td><td>Crown Race</td></tr>",
                            "<tr><td>504</td><td>Cup-Shaped Race</td></tr>",
                            "<tr><td>325</td><td>Decal 1</td></tr>",
                            "<tr><td>326</td><td>Decal 2</td></tr>",
                            "<tr><td>327</td><td>Down Tube</td></tr>",
                            "<tr><td>409</td><td>External Lock Washer 1</td></tr>",
                            "<tr><td>411</td><td>External Lock Washer 2</td></tr>",
                            "<tr><td>403</td><td>External Lock Washer 3</td></tr>",
                            "<tr><td>404</td><td>External Lock Washer 4</td></tr>",
                            "<tr><td>406</td><td>External Lock Washer 5</td></tr>",
                            "<tr><td>408</td><td>External Lock Washer 6</td></tr>",
                            "<tr><td>407</td><td>External Lock Washer 7</td></tr>",
                            "<tr><td>410</td><td>External Lock Washer 8</td></tr>",
                            "<tr><td>405</td><td>External Lock Washer 9</td></tr>",
                            "<tr><td>341</td><td>Flat Washer 1</td></tr>",
                            "<tr><td>343</td><td>Flat Washer 2</td></tr>",
                            "<tr><td>346</td><td>Flat Washer 3</td></tr>",
                            "<tr><td>345</td><td>Flat Washer 4</td></tr>",
                            "<tr><td>348</td><td>Flat Washer 5</td></tr>",
                            "<tr><td>342</td><td>Flat Washer 6</td></tr>",
                            "<tr><td>349</td><td>Flat Washer 7</td></tr>",
                            "<tr><td>347</td><td>Flat Washer 8</td></tr>",
                            "<tr><td>344</td><td>Flat Washer 9</td></tr>",
                            "<tr><td>350</td><td>Fork Crown</td></tr>",
                            "<tr><td>331</td><td>Fork End</td></tr>",
                            "<tr><td>332</td><td>Freewheel</td></tr>",
                            "<tr><td>351</td><td>Front Derailleur Cage</td></tr>",
                            "<tr><td>352</td><td>Front Derailleur Linkage</td></tr>",
                            "<tr><td>355</td><td>Guide Pulley</td></tr>",
                            "<tr><td>398</td><td>Handlebar Tube</td></tr>",
                            "<tr><td>399</td><td>Head Tube</td></tr>",
                            "<tr><td>847</td><td>Headlights - Dual-Beam</td></tr>",
                            "<tr><td>848</td><td>Headlights - Weatherproof</td></tr>",
                            "<tr><td>4</td><td>Headset Ball Bearings</td></tr>",
                            "<tr><td>386</td><td>Hex Nut 1</td></tr>",
                            "<tr><td>387</td><td>Hex Nut 10</td></tr>",
                            "<tr><td>388</td><td>Hex Nut 11</td></tr>",
                            "<tr><td>384</td><td>Hex Nut 12</td></tr>",
                            "<tr><td>385</td><td>Hex Nut 13</td></tr>",
                            "<tr><td>393</td><td>Hex Nut 14</td></tr>",
                            "<tr><td>394</td><td>Hex Nut 15</td></tr>",
                            "<tr><td>377</td><td>Hex Nut 16</td></tr>",
                            "<tr><td>378</td><td>Hex Nut 17</td></tr>",
                            "<tr><td>396</td><td>Hex Nut 18</td></tr>",
                            "<tr><td>397</td><td>Hex Nut 19</td></tr>",
                            "<tr><td>389</td><td>Hex Nut 2</td></tr>",
                            "<tr><td>390</td><td>Hex Nut 20</td></tr>",
                            "<tr><td>391</td><td>Hex Nut 21</td></tr>",
                            "<tr><td>382</td><td>Hex Nut 22</td></tr>",
                            "<tr><td>383</td><td>Hex Nut 23</td></tr>",
                            "<tr><td>392</td><td>Hex Nut 3</td></tr>",
                            "<tr><td>395</td><td>Hex Nut 4</td></tr>",
                            "<tr><td>375</td><td>Hex Nut 5</td></tr>",
                            "<tr><td>376</td><td>Hex Nut 6</td></tr>",
                            "<tr><td>379</td><td>Hex Nut 7</td></tr>",
                            "<tr><td>380</td><td>Hex Nut 8</td></tr>",
                            "<tr><td>381</td><td>Hex Nut 9</td></tr>",
                            "<tr><td>319</td><td>HL Crankarm</td></tr>",
                            "<tr><td>358</td><td>HL Grip Tape</td></tr>",
                            "<tr><td>401</td><td>HL Hub</td></tr>",
                            "<tr><td>746</td><td>HL Mountain Frame - Black, 46</td></tr>",
                            "<tr><td>740</td><td>HL Mountain Frame - Silver, 44</td></tr>",
                            "<tr><td>509</td><td>HL Mountain Rim</td></tr>",
                            "<tr><td>516</td><td>HL Mountain Seat Assembly</td></tr>",
                            "<tr><td>491</td><td>HL Nipple</td></tr>",
                            "<tr><td>840</td><td>HL Road Frame - Black, 52</td></tr>",
                            "<tr><td>680</td><td>HL Road Frame - Black, 58</td></tr>",
                            "<tr><td>837</td><td>HL Road Frame - Black, 62</td></tr>",
                            "<tr><td>720</td><td>HL Road Frame - Red, 52</td></tr>",
                            "<tr><td>721</td><td>HL Road Frame - Red, 56</td></tr>",
                            "<tr><td>706</td><td>HL Road Frame - Red, 58</td></tr>",
                            "<tr><td>512</td><td>HL Road Rim</td></tr>",
                            "<tr><td>519</td><td>HL Road Seat Assembly</td></tr>",
                            "<tr><td>526</td><td>HL Shell</td></tr>",
                            "<tr><td>524</td><td>HL Spindle/Axle</td></tr>",
                            "<tr><td>522</td><td>HL Touring Seat Assembly</td></tr>",
                            "<tr><td>419</td><td>Internal Lock Washer 1</td></tr>",
                            "<tr><td>418</td><td>Internal Lock Washer 10</td></tr>",
                            "<tr><td>421</td><td>Internal Lock Washer 2</td></tr>",
                            "<tr><td>412</td><td>Internal Lock Washer 3</td></tr>",
                            "<tr><td>413</td><td>Internal Lock Washer 4</td></tr>",
                            "<tr><td>415</td><td>Internal Lock Washer 5</td></tr>",
                            "<tr><td>417</td><td>Internal Lock Washer 6</td></tr>",
                            "<tr><td>416</td><td>Internal Lock Washer 7</td></tr>",
                            "<tr><td>420</td><td>Internal Lock Washer 8</td></tr>",
                            "<tr><td>414</td><td>Internal Lock Washer 9</td></tr>",
                            "<tr><td>402</td><td>Keyed Washer</td></tr>",
                            "<tr><td>317</td><td>LL Crankarm</td></tr>",
                            "<tr><td>356</td><td>LL Grip Tape</td></tr>",
                            "<tr><td>400</td><td>LL Hub</td></tr>",
                            "<tr><td>507</td><td>LL Mountain Rim</td></tr>",
                            "<tr><td>514</td><td>LL Mountain Seat Assembly</td></tr>",
                            "<tr><td>490</td><td>LL Nipple</td></tr>",
                            "<tr><td>737</td><td>LL Road Frame - Black, 48</td></tr>",
                            "<tr><td>724</td><td>LL Road Frame - Black, 62</td></tr>",
                            "<tr><td>728</td><td>LL Road Frame - Red, 58</td></tr>",
                            "<tr><td>818</td><td>LL Road Front Wheel</td></tr>",
                            "<tr><td>510</td><td>LL Road Rim</td></tr>",
                            "<tr><td>517</td><td>LL Road Seat Assembly</td></tr>",
                            "<tr><td>525</td><td>LL Shell</td></tr>",
                            "<tr><td>523</td><td>LL Spindle/Axle</td></tr>",
                            "<tr><td>901</td><td>LL Touring Frame - Yellow, 54</td></tr>",
                            "<tr><td>520</td><td>LL Touring Seat Assembly</td></tr>",
                            "<tr><td>449</td><td>Lock Nut 1</td></tr>",
                            "<tr><td>450</td><td>Lock Nut 10</td></tr>",
                            "<tr><td>451</td><td>Lock Nut 11</td></tr>",
                            "<tr><td>447</td><td>Lock Nut 12</td></tr>",
                            "<tr><td>448</td><td>Lock Nut 13</td></tr>",
                            "<tr><td>456</td><td>Lock Nut 14</td></tr>",
                            "<tr><td>457</td><td>Lock Nut 15</td></tr>",
                            "<tr><td>440</td><td>Lock Nut 16</td></tr>",
                            "<tr><td>441</td><td>Lock Nut 17</td></tr>",
                            "<tr><td>460</td><td>Lock Nut 18</td></tr>",
                            "<tr><td>459</td><td>Lock Nut 19</td></tr>",
                            "<tr><td>452</td><td>Lock Nut 2</td></tr>",
                            "<tr><td>453</td><td>Lock Nut 20</td></tr>",
                            "<tr><td>454</td><td>Lock Nut 21</td></tr>",
                            "<tr><td>445</td><td>Lock Nut 22</td></tr>",
                            "<tr><td>446</td><td>Lock Nut 23</td></tr>",
                            "<tr><td>455</td><td>Lock Nut 3</td></tr>",
                            "<tr><td>458</td><td>Lock Nut 4</td></tr>",
                            "<tr><td>438</td><td>Lock Nut 5</td></tr>",
                            "<tr><td>439</td><td>Lock Nut 6</td></tr>",
                            "<tr><td>442</td><td>Lock Nut 7</td></tr>",
                            "<tr><td>443</td><td>Lock Nut 8</td></tr>",
                            "<tr><td>444</td><td>Lock Nut 9</td></tr>",
                            "<tr><td>461</td><td>Lock Ring</td></tr>",
                            "<tr><td>469</td><td>Lock Washer 1</td></tr>",
                            "<tr><td>465</td><td>Lock Washer 10</td></tr>",
                            "<tr><td>475</td><td>Lock Washer 11</td></tr>",
                            "<tr><td>471</td><td>Lock Washer 12</td></tr>",
                            "<tr><td>467</td><td>Lock Washer 13</td></tr>",
                            "<tr><td>472</td><td>Lock Washer 2</td></tr>",
                            "<tr><td>474</td><td>Lock Washer 3</td></tr>",
                            "<tr><td>463</td><td>Lock Washer 4</td></tr>",
                            "<tr><td>464</td><td>Lock Washer 5</td></tr>",
                            "<tr><td>466</td><td>Lock Washer 6</td></tr>",
                            "<tr><td>470</td><td>Lock Washer 7</td></tr>",
                            "<tr><td>468</td><td>Lock Washer 8</td></tr>",
                            "<tr><td>473</td><td>Lock Washer 9</td></tr>",
                            "<tr><td>462</td><td>Lower Head Race</td></tr>",
                            "<tr><td>851</td><td>Men's Sports Shorts, XL</td></tr>",
                            "<tr><td>476</td><td>Metal Angle</td></tr>",
                            "<tr><td>477</td><td>Metal Bar 1</td></tr>",
                            "<tr><td>478</td><td>Metal Bar 2</td></tr>",
                            "<tr><td>480</td><td>Metal Plate 1</td></tr>",
                            "<tr><td>479</td><td>Metal Plate 2</td></tr>",
                            "<tr><td>481</td><td>Metal Plate 3</td></tr>",
                            "<tr><td>488</td><td>Metal Sheet 1</td></tr>",
                            "<tr><td>482</td><td>Metal Sheet 2</td></tr>",
                            "<tr><td>483</td><td>Metal Sheet 3</td></tr>",
                            "<tr><td>485</td><td>Metal Sheet 4</td></tr>",
                            "<tr><td>486</td><td>Metal Sheet 5</td></tr>",
                            "<tr><td>487</td><td>Metal Sheet 6</td></tr>",
                            "<tr><td>484</td><td>Metal Sheet 7</td></tr>",
                            "<tr><td>489</td><td>Metal Tread Plate</td></tr>",
                            "<tr><td>995</td><td>ML Bottom Bracket</td></tr>",
                            "<tr><td>318</td><td>ML Crankarm</td></tr>",
                            "<tr><td>803</td><td>ML Fork</td></tr>",
                            "<tr><td>357</td><td>ML Grip Tape</td></tr>",
                            "<tr><td>508</td><td>ML Mountain Rim</td></tr>",
                            "<tr><td>515</td><td>ML Mountain Seat Assembly</td></tr>",
                            "<tr><td>731</td><td>ML Road Frame - Red, 44</td></tr>",
                            "<tr><td>734</td><td>ML Road Frame - Red, 58</td></tr>",
                            "<tr><td>735</td><td>ML Road Frame - Red, 60</td></tr>",
                            "<tr><td>834</td><td>ML Road Frame-W - Yellow, 42</td></tr>",
                            "<tr><td>812</td><td>ML Road Handlebars</td></tr>",
                            "<tr><td>511</td><td>ML Road Rim</td></tr>",
                            "<tr><td>518</td><td>ML Road Seat Assembly</td></tr>",
                            "<tr><td>912</td><td>ML Road Seat/Saddle</td></tr>",
                            "<tr><td>521</td><td>ML Touring Seat Assembly</td></tr>",
                            "<tr><td>328</td><td>Mountain End Caps</td></tr>",
                            "<tr><td>845</td><td>Mountain Pump</td></tr>",
                            "<tr><td>492</td><td>Paint - Black</td></tr>",
                            "<tr><td>495</td><td>Paint - Blue</td></tr>",
                            "<tr><td>493</td><td>Paint - Red</td></tr>",
                            "<tr><td>494</td><td>Paint - Silver</td></tr>",
                            "<tr><td>496</td><td>Paint - Yellow</td></tr>",
                            "<tr><td>497</td><td>Pinch Bolt</td></tr>",
                            "<tr><td>679</td><td>Rear Derailleur Cage</td></tr>",
                            "<tr><td>506</td><td>Reflector</td></tr>",
                            "<tr><td>329</td><td>Road End Caps</td></tr>",
                            "<tr><td>528</td><td>Seat Lug</td></tr>",
                            "<tr><td>530</td><td>Seat Post</td></tr>",
                            "<tr><td>532</td><td>Seat Stays</td></tr>",
                            "<tr><td>533</td><td>Seat Tube</td></tr>",
                            "<tr><td>527</td><td>Spokes</td></tr>",
                            "<tr><td>531</td><td>Steerer</td></tr>",
                            "<tr><td>529</td><td>Stem</td></tr>",
                            "<tr><td>846</td><td>Taillights - Battery-Powered</td></tr>",
                            "<tr><td>535</td><td>Tension Pulley</td></tr>",
                            "<tr><td>361</td><td>Thin-Jam Hex Nut 1</td></tr>",
                            "<tr><td>360</td><td>Thin-Jam Hex Nut 10</td></tr>",
                            "<tr><td>374</td><td>Thin-Jam Hex Nut 11</td></tr>",
                            "<tr><td>373</td><td>Thin-Jam Hex Nut 12</td></tr>",
                            "<tr><td>369</td><td>Thin-Jam Hex Nut 13</td></tr>",
                            "<tr><td>370</td><td>Thin-Jam Hex Nut 14</td></tr>",
                            "<tr><td>363</td><td>Thin-Jam Hex Nut 15</td></tr>",
                            "<tr><td>364</td><td>Thin-Jam Hex Nut 16</td></tr>",
                            "<tr><td>362</td><td>Thin-Jam Hex Nut 2</td></tr>",
                            "<tr><td>367</td><td>Thin-Jam Hex Nut 3</td></tr>",
                            "<tr><td>368</td><td>Thin-Jam Hex Nut 4</td></tr>",
                            "<tr><td>365</td><td>Thin-Jam Hex Nut 5</td></tr>",
                            "<tr><td>366</td><td>Thin-Jam Hex Nut 6</td></tr>",
                            "<tr><td>371</td><td>Thin-Jam Hex Nut 7</td></tr>",
                            "<tr><td>372</td><td>Thin-Jam Hex Nut 8</td></tr>",
                            "<tr><td>359</td><td>Thin-Jam Hex Nut 9</td></tr>",
                            "<tr><td>424</td><td>Thin-Jam Lock Nut 1</td></tr>",
                            "<tr><td>423</td><td>Thin-Jam Lock Nut 10</td></tr>",
                            "<tr><td>437</td><td>Thin-Jam Lock Nut 11</td></tr>",
                            "<tr><td>436</td><td>Thin-Jam Lock Nut 12</td></tr>",
                            "<tr><td>432</td><td>Thin-Jam Lock Nut 13</td></tr>",
                            "<tr><td>433</td><td>Thin-Jam Lock Nut 14</td></tr>",
                            "<tr><td>426</td><td>Thin-Jam Lock Nut 15</td></tr>",
                            "<tr><td>427</td><td>Thin-Jam Lock Nut 16</td></tr>",
                            "<tr><td>425</td><td>Thin-Jam Lock Nut 2</td></tr>",
                            "<tr><td>430</td><td>Thin-Jam Lock Nut 3</td></tr>",
                            "<tr><td>431</td><td>Thin-Jam Lock Nut 4</td></tr>",
                            "<tr><td>428</td><td>Thin-Jam Lock Nut 5</td></tr>",
                            "<tr><td>429</td><td>Thin-Jam Lock Nut 6</td></tr>",
                            "<tr><td>434</td><td>Thin-Jam Lock Nut 7</td></tr>",
                            "<tr><td>435</td><td>Thin-Jam Lock Nut 8</td></tr>",
                            "<tr><td>422</td><td>Thin-Jam Lock Nut 9</td></tr>",
                            "<tr><td>534</td><td>Top Tube</td></tr>",
                            "<tr><td>330</td><td>Touring End Caps</td></tr>",
                            "<tr><td>821</td><td>Touring Front Wheel</td></tr>",
                            "<tr><td>829</td><td>Touring Rear Wheel</td></tr>",
                            "<tr><td>513</td><td>Touring Rim</td></tr>",
                            "<tr><td>842</td><td>Touring-Panniers, Large</td></tr>",
                            "</table>"
                        ]
                    }
                }
            ],
            "execution_count": 6
        },
        {
            "cell_type": "markdown",
            "source": [
                "### <u><mark>INFO for Lab 2</mark></u>\n",
                "\n",
                "### Correlated subquery\n",
                "\n",
                "A subquery used in the SELECT list to include an aggregate or other single value. The subquery can see the main query.\n",
                "\n",
                "<span style=\"font-size:9.5pt;font-family:Consolas;\n",
                "mso-bidi-font-family:Consolas;color:blue;mso-ansi-language:EN-US\">SELECT</span> <span style=\"font-size:9.5pt;font-family:Consolas;mso-bidi-font-family:Consolas;\n",
                "color:black;mso-ansi-language:EN-US\">CustomerID</span><span style=\"font-size:\n",
                "9.5pt;font-family:Consolas;mso-bidi-font-family:Consolas;color:gray;mso-ansi-language:\n",
                "EN-US\">,</span> <span style=\"font-size:9.5pt;font-family:Consolas;mso-bidi-font-family:\n",
                "Consolas;color:black;mso-ansi-language:EN-US\">SalesOrderID</span><span style=\"font-size:9.5pt;font-family:Consolas;mso-bidi-font-family:Consolas;\n",
                "color:gray;mso-ansi-language:EN-US\">,</span> <span style=\"font-size:9.5pt;\n",
                "font-family:Consolas;mso-bidi-font-family:Consolas;color:black;mso-ansi-language:\n",
                "EN-US\">OrderDate</span><span style=\"font-size:9.5pt;font-family:Consolas;\n",
                "mso-bidi-font-family:Consolas;color:gray;mso-ansi-language:EN-US\">,</span> <span style=\"font-size:9.5pt;font-family:Consolas;mso-bidi-font-family:Consolas;\n",
                "color:black;mso-ansi-language:EN-US\">TotalDue</span><span style=\"font-size:\n",
                "9.5pt;font-family:Consolas;mso-bidi-font-family:Consolas;color:gray;mso-ansi-language:\n",
                "EN-US\">,</span>\n",
                "\n",
                "<span style=\"font-size:9.5pt;\n",
                "font-family:Consolas;mso-bidi-font-family:Consolas;color:gray;mso-ansi-language:\n",
                "EN-US\">(</span><span style=\"font-size:9.5pt;font-family:Consolas;mso-bidi-font-family:\n",
                "Consolas;color:blue;mso-ansi-language:EN-US\">SELECT</span> <span style=\"font-size:9.5pt;\n",
                "font-family:Consolas;mso-bidi-font-family:Consolas;color:fuchsia;mso-ansi-language:\n",
                "EN-US\">SUM</span><span style=\"font-size:9.5pt;font-family:Consolas;mso-bidi-font-family:\n",
                "Consolas;color:gray;mso-ansi-language:EN-US\">(</span><span style=\"font-size:\n",
                "9.5pt;font-family:Consolas;mso-bidi-font-family:Consolas;color:black;\n",
                "mso-ansi-language:EN-US\">TotalDue</span><span style=\"font-size:9.5pt;\n",
                "font-family:Consolas;mso-bidi-font-family:Consolas;color:gray;mso-ansi-language:\n",
                "EN-US\">)</span>\n",
                "\n",
                "<span style=\"font-size:9.5pt;\n",
                "font-family:Consolas;mso-bidi-font-family:Consolas;color:blue;mso-ansi-language:\n",
                "EN-US\">FROM</span> <span style=\"font-size:9.5pt;font-family:Consolas;mso-bidi-font-family:\n",
                "Consolas;color:black;mso-ansi-language:EN-US\">Sales</span><span style=\"font-size:9.5pt;font-family:Consolas;mso-bidi-font-family:Consolas;\n",
                "color:gray;mso-ansi-language:EN-US\">.</span><span style=\"font-size:9.5pt;\n",
                "font-family:Consolas;mso-bidi-font-family:Consolas;color:black;mso-ansi-language:\n",
                "EN-US\">SalesOrderHeader</span>\n",
                "\n",
                "<span style=\"font-size:9.5pt;\n",
                "font-family:Consolas;mso-bidi-font-family:Consolas;color:blue;mso-ansi-language:\n",
                "EN-US\">WHERE</span> <span style=\"font-size:9.5pt;font-family:Consolas;\n",
                "mso-bidi-font-family:Consolas;color:black;mso-ansi-language:EN-US\">CustomerID </span> <span style=\"font-size:9.5pt;font-family:Consolas;mso-bidi-font-family:Consolas;\n",
                "color:gray;mso-ansi-language:EN-US\">=</span> <span style=\"font-size:9.5pt;\n",
                "font-family:Consolas;mso-bidi-font-family:Consolas;color:black;mso-ansi-language:\n",
                "EN-US\">SOD</span><span style=\"font-size:9.5pt;font-family:Consolas;mso-bidi-font-family:\n",
                "Consolas;color:gray;mso-ansi-language:EN-US\">.</span><span style=\"font-size:\n",
                "9.5pt;font-family:Consolas;mso-bidi-font-family:Consolas;color:black;\n",
                "mso-ansi-language:EN-US\">CustomerID</span><span style=\"font-size:9.5pt;\n",
                "font-family:Consolas;mso-bidi-font-family:Consolas;color:gray;mso-ansi-language:\n",
                "EN-US\">)</span> <span style=\"font-size:\n",
                "9.5pt;font-family:Consolas;mso-bidi-font-family:Consolas;color:blue;mso-ansi-language:\n",
                "EN-US\">AS</span> <span style=\"font-size:9.5pt;font-family:Consolas;mso-bidi-font-family:\n",
                "Consolas;color:black;mso-ansi-language:EN-US\">TotalCustSales</span><span style=\"font-size:9.5pt;font-family:Consolas;mso-bidi-font-family:Consolas;\n",
                "color:gray;mso-ansi-language:EN-US\">,</span>\n",
                "\n",
                "<span style=\"font-size:9.5pt;\n",
                "font-family:Consolas;mso-bidi-font-family:Consolas;color:gray;mso-ansi-language:\n",
                "EN-US\">(</span><span style=\"font-size:9.5pt;font-family:Consolas;mso-bidi-font-family:\n",
                "Consolas;color:blue;mso-ansi-language:EN-US\">SELECT</span> <span style=\"font-size:9.5pt;\n",
                "font-family:Consolas;mso-bidi-font-family:Consolas;color:fuchsia;mso-ansi-language:\n",
                "EN-US\">SUM</span><span style=\"font-size:9.5pt;font-family:Consolas;mso-bidi-font-family:\n",
                "Consolas;color:gray;mso-ansi-language:EN-US\">(</span><span style=\"font-size:\n",
                "9.5pt;font-family:Consolas;mso-bidi-font-family:Consolas;color:black;\n",
                "mso-ansi-language:EN-US\">TotalDue</span><span style=\"font-size:9.5pt;\n",
                "font-family:Consolas;mso-bidi-font-family:Consolas;color:gray;mso-ansi-language:\n",
                "EN-US\">)</span>\n",
                "\n",
                "<span style=\"font-size:9.5pt;\n",
                "font-family:Consolas;mso-bidi-font-family:Consolas;color:blue;mso-ansi-language:\n",
                "EN-US\">FROM</span> <span style=\"font-size:9.5pt;font-family:Consolas;mso-bidi-font-family:\n",
                "Consolas;color:black;mso-ansi-language:EN-US\">Sales</span><span style=\"font-size:9.5pt;font-family:Consolas;mso-bidi-font-family:Consolas;\n",
                "color:gray;mso-ansi-language:EN-US\">.</span><span style=\"font-size:9.5pt;\n",
                "font-family:Consolas;mso-bidi-font-family:Consolas;color:black;mso-ansi-language:\n",
                "EN-US\">SalesOrderHeader</span><span style=\"font-size:9.5pt;font-family:Consolas;\n",
                "mso-bidi-font-family:Consolas;color:gray;mso-ansi-language:EN-US\">)</span> <span style=\"font-size:9.5pt;\n",
                "font-family:Consolas;mso-bidi-font-family:Consolas;color:blue;mso-ansi-language:\n",
                "EN-US\">AS</span> <span style=\"font-size:9.5pt;font-family:Consolas;mso-bidi-font-family:\n",
                "Consolas;color:black;mso-ansi-language:EN-US\">TotalSales</span>\n",
                "\n",
                "<span style=\"font-size:9.5pt;font-family:Consolas;\n",
                "mso-bidi-font-family:Consolas;color:blue;mso-ansi-language:EN-US\">FROM</span> <span style=\"font-size:9.5pt;font-family:Consolas;mso-bidi-font-family:Consolas;\n",
                "color:black;mso-ansi-language:EN-US\">Sales</span><span style=\"font-size:9.5pt;\n",
                "font-family:Consolas;mso-bidi-font-family:Consolas;color:gray;mso-ansi-language:\n",
                "EN-US\">.</span><span style=\"font-size:9.5pt;font-family:Consolas;mso-bidi-font-family:\n",
                "Consolas;color:black;mso-ansi-language:EN-US\">SalesOrderHeader </span> <span style=\"font-size:9.5pt;font-family:Consolas;mso-bidi-font-family:Consolas;\n",
                "color:blue;mso-ansi-language:EN-US\">AS</span> <span style=\"font-size:9.5pt;\n",
                "font-family:Consolas;mso-bidi-font-family:Consolas;color:black;mso-ansi-language:\n",
                "EN-US\">SOD</span>\n",
                "\n",
                "<span style=\"font-size:9.5pt;font-family:Consolas;\n",
                "mso-bidi-font-family:Consolas;color:blue;mso-ansi-language:EN-US\">ORDER</span> <span style=\"font-size:9.5pt;\n",
                "font-family:Consolas;mso-bidi-font-family:Consolas;color:blue;mso-ansi-language:\n",
                "EN-US\">BY</span> <span style=\"font-size:9.5pt;font-family:Consolas;mso-bidi-font-family:\n",
                "Consolas;color:black;mso-ansi-language:EN-US\">CustomerID</span><span style=\"font-size:9.5pt;font-family:Consolas;mso-bidi-font-family:Consolas;\n",
                "color:gray;mso-ansi-language:EN-US\">;</span>"
            ],
            "metadata": {
                "azdata_cell_guid": "cc03cb60-2f0e-4734-93b0-5b08d6c63681"
            },
            "attachments": {}
        },
        {
            "cell_type": "markdown",
            "source": [
                "1.  Write a query returning the list of products from Production.Product. Include the ProductID, Name, and Color. Using a correlated subquery, include the  sum of OrderQty for each product from the Sales.SalesOrderDetail table. Filter the query to only return rows that have a FinishedGoodsFlag of 1."
            ],
            "metadata": {
                "azdata_cell_guid": "8dae0e37-a961-4753-81bb-3d66e0020aab"
            },
            "attachments": {}
        },
        {
            "cell_type": "code",
            "source": [
                "SELECT p.ProductID, p.Name, p.Color,\n",
                "    (SELECT SUM(sod.OrderQty)\n",
                "    FROM Sales.SalesOrderDetail as sod\n",
                "    WHERE sod.ProductID = p.ProductID) AS TotalQty\n",
                "FROM Production.Product AS p\n",
                "WHERE p.FinishedGoodsFlag = '1';"
            ],
            "metadata": {
                "azdata_cell_guid": "e8ae6d10-0081-4a8c-a40a-56ea036f7910"
            },
            "outputs": [
                {
                    "output_type": "display_data",
                    "data": {
                        "text/html": "(295 rows affected)"
                    },
                    "metadata": {}
                },
                {
                    "output_type": "display_data",
                    "data": {
                        "text/html": "Total execution time: 00:00:00.233"
                    },
                    "metadata": {}
                },
                {
                    "output_type": "execute_result",
                    "metadata": {},
                    "execution_count": 17,
                    "data": {
                        "application/vnd.dataresource+json": {
                            "schema": {
                                "fields": [
                                    {
                                        "name": "ProductID"
                                    },
                                    {
                                        "name": "Name"
                                    },
                                    {
                                        "name": "Color"
                                    },
                                    {
                                        "name": "TotalQty"
                                    }
                                ]
                            },
                            "data": [
                                {
                                    "0": "680",
                                    "1": "HL Road Frame - Black, 58",
                                    "2": "Black",
                                    "3": "NULL"
                                },
                                {
                                    "0": "706",
                                    "1": "HL Road Frame - Red, 58",
                                    "2": "Red",
                                    "3": "NULL"
                                },
                                {
                                    "0": "707",
                                    "1": "Sport-100 Helmet, Red",
                                    "2": "Red",
                                    "3": "6266"
                                },
                                {
                                    "0": "708",
                                    "1": "Sport-100 Helmet, Black",
                                    "2": "Black",
                                    "3": "6532"
                                },
                                {
                                    "0": "709",
                                    "1": "Mountain Bike Socks, M",
                                    "2": "White",
                                    "3": "1107"
                                },
                                {
                                    "0": "710",
                                    "1": "Mountain Bike Socks, L",
                                    "2": "White",
                                    "3": "90"
                                },
                                {
                                    "0": "711",
                                    "1": "Sport-100 Helmet, Blue",
                                    "2": "Blue",
                                    "3": "6743"
                                },
                                {
                                    "0": "712",
                                    "1": "AWC Logo Cap",
                                    "2": "Multi",
                                    "3": "8311"
                                },
                                {
                                    "0": "713",
                                    "1": "Long-Sleeve Logo Jersey, S",
                                    "2": "Multi",
                                    "3": "429"
                                },
                                {
                                    "0": "714",
                                    "1": "Long-Sleeve Logo Jersey, M",
                                    "2": "Multi",
                                    "3": "3636"
                                },
                                {
                                    "0": "715",
                                    "1": "Long-Sleeve Logo Jersey, L",
                                    "2": "Multi",
                                    "3": "6592"
                                },
                                {
                                    "0": "716",
                                    "1": "Long-Sleeve Logo Jersey, XL",
                                    "2": "Multi",
                                    "3": "2980"
                                },
                                {
                                    "0": "717",
                                    "1": "HL Road Frame - Red, 62",
                                    "2": "Red",
                                    "3": "485"
                                },
                                {
                                    "0": "718",
                                    "1": "HL Road Frame - Red, 44",
                                    "2": "Red",
                                    "3": "486"
                                },
                                {
                                    "0": "719",
                                    "1": "HL Road Frame - Red, 48",
                                    "2": "Red",
                                    "3": "109"
                                },
                                {
                                    "0": "720",
                                    "1": "HL Road Frame - Red, 52",
                                    "2": "Red",
                                    "3": "NULL"
                                },
                                {
                                    "0": "721",
                                    "1": "HL Road Frame - Red, 56",
                                    "2": "Red",
                                    "3": "NULL"
                                },
                                {
                                    "0": "722",
                                    "1": "LL Road Frame - Black, 58",
                                    "2": "Black",
                                    "3": "940"
                                },
                                {
                                    "0": "723",
                                    "1": "LL Road Frame - Black, 60",
                                    "2": "Black",
                                    "3": "129"
                                },
                                {
                                    "0": "724",
                                    "1": "LL Road Frame - Black, 62",
                                    "2": "Black",
                                    "3": "NULL"
                                },
                                {
                                    "0": "725",
                                    "1": "LL Road Frame - Red, 44",
                                    "2": "Red",
                                    "3": "991"
                                },
                                {
                                    "0": "726",
                                    "1": "LL Road Frame - Red, 48",
                                    "2": "Red",
                                    "3": "671"
                                },
                                {
                                    "0": "727",
                                    "1": "LL Road Frame - Red, 52",
                                    "2": "Red",
                                    "3": "100"
                                },
                                {
                                    "0": "728",
                                    "1": "LL Road Frame - Red, 58",
                                    "2": "Red",
                                    "3": "NULL"
                                },
                                {
                                    "0": "729",
                                    "1": "LL Road Frame - Red, 60",
                                    "2": "Red",
                                    "3": "996"
                                },
                                {
                                    "0": "730",
                                    "1": "LL Road Frame - Red, 62",
                                    "2": "Red",
                                    "3": "697"
                                },
                                {
                                    "0": "731",
                                    "1": "ML Road Frame - Red, 44",
                                    "2": "Red",
                                    "3": "NULL"
                                },
                                {
                                    "0": "732",
                                    "1": "ML Road Frame - Red, 48",
                                    "2": "Red",
                                    "3": "250"
                                },
                                {
                                    "0": "733",
                                    "1": "ML Road Frame - Red, 52",
                                    "2": "Red",
                                    "3": "90"
                                },
                                {
                                    "0": "734",
                                    "1": "ML Road Frame - Red, 58",
                                    "2": "Red",
                                    "3": "NULL"
                                },
                                {
                                    "0": "735",
                                    "1": "ML Road Frame - Red, 60",
                                    "2": "Red",
                                    "3": "NULL"
                                },
                                {
                                    "0": "736",
                                    "1": "LL Road Frame - Black, 44",
                                    "2": "Black",
                                    "3": "238"
                                },
                                {
                                    "0": "737",
                                    "1": "LL Road Frame - Black, 48",
                                    "2": "Black",
                                    "3": "NULL"
                                },
                                {
                                    "0": "738",
                                    "1": "LL Road Frame - Black, 52",
                                    "2": "Black",
                                    "3": "1581"
                                },
                                {
                                    "0": "739",
                                    "1": "HL Mountain Frame - Silver, 42",
                                    "2": "Silver",
                                    "3": "347"
                                },
                                {
                                    "0": "740",
                                    "1": "HL Mountain Frame - Silver, 44",
                                    "2": "Silver",
                                    "3": "NULL"
                                },
                                {
                                    "0": "741",
                                    "1": "HL Mountain Frame - Silver, 48",
                                    "2": "Silver",
                                    "3": "173"
                                },
                                {
                                    "0": "742",
                                    "1": "HL Mountain Frame - Silver, 46",
                                    "2": "Silver",
                                    "3": "649"
                                },
                                {
                                    "0": "743",
                                    "1": "HL Mountain Frame - Black, 42",
                                    "2": "Black",
                                    "3": "1181"
                                },
                                {
                                    "0": "744",
                                    "1": "HL Mountain Frame - Black, 44",
                                    "2": "Black",
                                    "3": "17"
                                },
                                {
                                    "0": "745",
                                    "1": "HL Mountain Frame - Black, 48",
                                    "2": "Black",
                                    "3": "131"
                                },
                                {
                                    "0": "746",
                                    "1": "HL Mountain Frame - Black, 46",
                                    "2": "Black",
                                    "3": "NULL"
                                },
                                {
                                    "0": "747",
                                    "1": "HL Mountain Frame - Black, 38",
                                    "2": "Black",
                                    "3": "659"
                                },
                                {
                                    "0": "748",
                                    "1": "HL Mountain Frame - Silver, 38",
                                    "2": "Silver",
                                    "3": "1206"
                                },
                                {
                                    "0": "749",
                                    "1": "Road-150 Red, 62",
                                    "2": "Red",
                                    "3": "600"
                                },
                                {
                                    "0": "750",
                                    "1": "Road-150 Red, 44",
                                    "2": "Red",
                                    "3": "437"
                                },
                                {
                                    "0": "751",
                                    "1": "Road-150 Red, 48",
                                    "2": "Red",
                                    "3": "493"
                                },
                                {
                                    "0": "752",
                                    "1": "Road-150 Red, 52",
                                    "2": "Red",
                                    "3": "458"
                                },
                                {
                                    "0": "753",
                                    "1": "Road-150 Red, 56",
                                    "2": "Red",
                                    "3": "664"
                                },
                                {
                                    "0": "754",
                                    "1": "Road-450 Red, 58",
                                    "2": "Red",
                                    "3": "582"
                                },
                                {
                                    "0": "755",
                                    "1": "Road-450 Red, 60",
                                    "2": "Red",
                                    "3": "350"
                                },
                                {
                                    "0": "756",
                                    "1": "Road-450 Red, 44",
                                    "2": "Red",
                                    "3": "346"
                                },
                                {
                                    "0": "757",
                                    "1": "Road-450 Red, 48",
                                    "2": "Red",
                                    "3": "156"
                                },
                                {
                                    "0": "758",
                                    "1": "Road-450 Red, 52",
                                    "2": "Red",
                                    "3": "710"
                                },
                                {
                                    "0": "759",
                                    "1": "Road-650 Red, 58",
                                    "2": "Red",
                                    "3": "618"
                                },
                                {
                                    "0": "760",
                                    "1": "Road-650 Red, 60",
                                    "2": "Red",
                                    "3": "2232"
                                },
                                {
                                    "0": "761",
                                    "1": "Road-650 Red, 62",
                                    "2": "Red",
                                    "3": "1896"
                                },
                                {
                                    "0": "762",
                                    "1": "Road-650 Red, 44",
                                    "2": "Red",
                                    "3": "2254"
                                },
                                {
                                    "0": "763",
                                    "1": "Road-650 Red, 48",
                                    "2": "Red",
                                    "3": "1888"
                                },
                                {
                                    "0": "764",
                                    "1": "Road-650 Red, 52",
                                    "2": "Red",
                                    "3": "1112"
                                },
                                {
                                    "0": "765",
                                    "1": "Road-650 Black, 58",
                                    "2": "Black",
                                    "3": "1871"
                                },
                                {
                                    "0": "766",
                                    "1": "Road-650 Black, 60",
                                    "2": "Black",
                                    "3": "1100"
                                },
                                {
                                    "0": "767",
                                    "1": "Road-650 Black, 62",
                                    "2": "Black",
                                    "3": "644"
                                },
                                {
                                    "0": "768",
                                    "1": "Road-650 Black, 44",
                                    "2": "Black",
                                    "3": "1080"
                                },
                                {
                                    "0": "769",
                                    "1": "Road-650 Black, 48",
                                    "2": "Black",
                                    "3": "644"
                                },
                                {
                                    "0": "770",
                                    "1": "Road-650 Black, 52",
                                    "2": "Black",
                                    "3": "2270"
                                },
                                {
                                    "0": "771",
                                    "1": "Mountain-100 Silver, 38",
                                    "2": "Silver",
                                    "3": "642"
                                },
                                {
                                    "0": "772",
                                    "1": "Mountain-100 Silver, 42",
                                    "2": "Silver",
                                    "3": "593"
                                },
                                {
                                    "0": "773",
                                    "1": "Mountain-100 Silver, 44",
                                    "2": "Silver",
                                    "3": "601"
                                },
                                {
                                    "0": "774",
                                    "1": "Mountain-100 Silver, 48",
                                    "2": "Silver",
                                    "3": "505"
                                },
                                {
                                    "0": "775",
                                    "1": "Mountain-100 Black, 38",
                                    "2": "Black",
                                    "3": "682"
                                },
                                {
                                    "0": "776",
                                    "1": "Mountain-100 Black, 42",
                                    "2": "Black",
                                    "3": "634"
                                },
                                {
                                    "0": "777",
                                    "1": "Mountain-100 Black, 44",
                                    "2": "Black",
                                    "3": "678"
                                },
                                {
                                    "0": "778",
                                    "1": "Mountain-100 Black, 48",
                                    "2": "Black",
                                    "3": "616"
                                },
                                {
                                    "0": "779",
                                    "1": "Mountain-200 Silver, 38",
                                    "2": "Silver",
                                    "3": "2394"
                                },
                                {
                                    "0": "780",
                                    "1": "Mountain-200 Silver, 42",
                                    "2": "Silver",
                                    "3": "2234"
                                },
                                {
                                    "0": "781",
                                    "1": "Mountain-200 Silver, 46",
                                    "2": "Silver",
                                    "3": "2216"
                                },
                                {
                                    "0": "782",
                                    "1": "Mountain-200 Black, 38",
                                    "2": "Black",
                                    "3": "2977"
                                },
                                {
                                    "0": "783",
                                    "1": "Mountain-200 Black, 42",
                                    "2": "Black",
                                    "3": "2664"
                                },
                                {
                                    "0": "784",
                                    "1": "Mountain-200 Black, 46",
                                    "2": "Black",
                                    "3": "2111"
                                },
                                {
                                    "0": "785",
                                    "1": "Mountain-300 Black, 38",
                                    "2": "Black",
                                    "3": "684"
                                },
                                {
                                    "0": "786",
                                    "1": "Mountain-300 Black, 40",
                                    "2": "Black",
                                    "3": "776"
                                },
                                {
                                    "0": "787",
                                    "1": "Mountain-300 Black, 44",
                                    "2": "Black",
                                    "3": "747"
                                },
                                {
                                    "0": "788",
                                    "1": "Mountain-300 Black, 48",
                                    "2": "Black",
                                    "3": "740"
                                },
                                {
                                    "0": "789",
                                    "1": "Road-250 Red, 44",
                                    "2": "Red",
                                    "3": "895"
                                },
                                {
                                    "0": "790",
                                    "1": "Road-250 Red, 48",
                                    "2": "Red",
                                    "3": "812"
                                },
                                {
                                    "0": "791",
                                    "1": "Road-250 Red, 52",
                                    "2": "Red",
                                    "3": "639"
                                },
                                {
                                    "0": "792",
                                    "1": "Road-250 Red, 58",
                                    "2": "Red",
                                    "3": "946"
                                },
                                {
                                    "0": "793",
                                    "1": "Road-250 Black, 44",
                                    "2": "Black",
                                    "3": "1642"
                                },
                                {
                                    "0": "794",
                                    "1": "Road-250 Black, 48",
                                    "2": "Black",
                                    "3": "1498"
                                },
                                {
                                    "0": "795",
                                    "1": "Road-250 Black, 52",
                                    "2": "Black",
                                    "3": "1245"
                                },
                                {
                                    "0": "796",
                                    "1": "Road-250 Black, 58",
                                    "2": "Black",
                                    "3": "910"
                                },
                                {
                                    "0": "797",
                                    "1": "Road-550-W Yellow, 38",
                                    "2": "Yellow",
                                    "3": "1744"
                                },
                                {
                                    "0": "798",
                                    "1": "Road-550-W Yellow, 40",
                                    "2": "Yellow",
                                    "3": "1500"
                                },
                                {
                                    "0": "799",
                                    "1": "Road-550-W Yellow, 42",
                                    "2": "Yellow",
                                    "3": "1249"
                                },
                                {
                                    "0": "800",
                                    "1": "Road-550-W Yellow, 44",
                                    "2": "Yellow",
                                    "3": "927"
                                },
                                {
                                    "0": "801",
                                    "1": "Road-550-W Yellow, 48",
                                    "2": "Yellow",
                                    "3": "1763"
                                },
                                {
                                    "0": "802",
                                    "1": "LL Fork",
                                    "2": "NULL",
                                    "3": "190"
                                },
                                {
                                    "0": "803",
                                    "1": "ML Fork",
                                    "2": "NULL",
                                    "3": "NULL"
                                },
                                {
                                    "0": "804",
                                    "1": "HL Fork",
                                    "2": "NULL",
                                    "3": "444"
                                },
                                {
                                    "0": "805",
                                    "1": "LL Headset",
                                    "2": "NULL",
                                    "3": "95"
                                },
                                {
                                    "0": "806",
                                    "1": "ML Headset",
                                    "2": "NULL",
                                    "3": "659"
                                },
                                {
                                    "0": "807",
                                    "1": "HL Headset",
                                    "2": "NULL",
                                    "3": "255"
                                },
                                {
                                    "0": "808",
                                    "1": "LL Mountain Handlebars",
                                    "2": "NULL",
                                    "3": "865"
                                },
                                {
                                    "0": "809",
                                    "1": "ML Mountain Handlebars",
                                    "2": "NULL",
                                    "3": "1465"
                                },
                                {
                                    "0": "810",
                                    "1": "HL Mountain Handlebars",
                                    "2": "NULL",
                                    "3": "500"
                                },
                                {
                                    "0": "811",
                                    "1": "LL Road Handlebars",
                                    "2": "NULL",
                                    "3": "213"
                                },
                                {
                                    "0": "812",
                                    "1": "ML Road Handlebars",
                                    "2": "NULL",
                                    "3": "NULL"
                                },
                                {
                                    "0": "813",
                                    "1": "HL Road Handlebars",
                                    "2": "NULL",
                                    "3": "631"
                                },
                                {
                                    "0": "814",
                                    "1": "ML Mountain Frame - Black, 38",
                                    "2": "Black",
                                    "3": "514"
                                },
                                {
                                    "0": "815",
                                    "1": "LL Mountain Front Wheel",
                                    "2": "Black",
                                    "3": "617"
                                },
                                {
                                    "0": "816",
                                    "1": "ML Mountain Front Wheel",
                                    "2": "Black",
                                    "3": "266"
                                },
                                {
                                    "0": "817",
                                    "1": "HL Mountain Front Wheel",
                                    "2": "Black",
                                    "3": "222"
                                },
                                {
                                    "0": "818",
                                    "1": "LL Road Front Wheel",
                                    "2": "Black",
                                    "3": "NULL"
                                },
                                {
                                    "0": "819",
                                    "1": "ML Road Front Wheel",
                                    "2": "Black",
                                    "3": "532"
                                },
                                {
                                    "0": "820",
                                    "1": "HL Road Front Wheel",
                                    "2": "Black",
                                    "3": "567"
                                },
                                {
                                    "0": "821",
                                    "1": "Touring Front Wheel",
                                    "2": "Black",
                                    "3": "NULL"
                                },
                                {
                                    "0": "822",
                                    "1": "ML Road Frame-W - Yellow, 38",
                                    "2": "Yellow",
                                    "3": "895"
                                },
                                {
                                    "0": "823",
                                    "1": "LL Mountain Rear Wheel",
                                    "2": "Black",
                                    "3": "342"
                                },
                                {
                                    "0": "824",
                                    "1": "ML Mountain Rear Wheel",
                                    "2": "Black",
                                    "3": "851"
                                },
                                {
                                    "0": "825",
                                    "1": "HL Mountain Rear Wheel",
                                    "2": "Black",
                                    "3": "850"
                                },
                                {
                                    "0": "826",
                                    "1": "LL Road Rear Wheel",
                                    "2": "Black",
                                    "3": "868"
                                },
                                {
                                    "0": "827",
                                    "1": "ML Road Rear Wheel",
                                    "2": "Black",
                                    "3": "64"
                                },
                                {
                                    "0": "828",
                                    "1": "HL Road Rear Wheel",
                                    "2": "Black",
                                    "3": "94"
                                },
                                {
                                    "0": "829",
                                    "1": "Touring Rear Wheel",
                                    "2": "Black",
                                    "3": "NULL"
                                },
                                {
                                    "0": "830",
                                    "1": "ML Mountain Frame - Black, 40",
                                    "2": "Black",
                                    "3": "68"
                                },
                                {
                                    "0": "831",
                                    "1": "ML Mountain Frame - Black, 44",
                                    "2": "Black",
                                    "3": "619"
                                },
                                {
                                    "0": "832",
                                    "1": "ML Mountain Frame - Black, 48",
                                    "2": "Black",
                                    "3": "959"
                                },
                                {
                                    "0": "833",
                                    "1": "ML Road Frame-W - Yellow, 40",
                                    "2": "Yellow",
                                    "3": "203"
                                },
                                {
                                    "0": "834",
                                    "1": "ML Road Frame-W - Yellow, 42",
                                    "2": "Yellow",
                                    "3": "NULL"
                                },
                                {
                                    "0": "835",
                                    "1": "ML Road Frame-W - Yellow, 44",
                                    "2": "Yellow",
                                    "3": "1435"
                                },
                                {
                                    "0": "836",
                                    "1": "ML Road Frame-W - Yellow, 48",
                                    "2": "Yellow",
                                    "3": "889"
                                },
                                {
                                    "0": "837",
                                    "1": "HL Road Frame - Black, 62",
                                    "2": "Black",
                                    "3": "NULL"
                                },
                                {
                                    "0": "838",
                                    "1": "HL Road Frame - Black, 44",
                                    "2": "Black",
                                    "3": "459"
                                },
                                {
                                    "0": "839",
                                    "1": "HL Road Frame - Black, 48",
                                    "2": "Black",
                                    "3": "109"
                                },
                                {
                                    "0": "840",
                                    "1": "HL Road Frame - Black, 52",
                                    "2": "Black",
                                    "3": "NULL"
                                },
                                {
                                    "0": "841",
                                    "1": "Men's Sports Shorts, S",
                                    "2": "Black",
                                    "3": "567"
                                },
                                {
                                    "0": "842",
                                    "1": "Touring-Panniers, Large",
                                    "2": "Grey",
                                    "3": "NULL"
                                },
                                {
                                    "0": "843",
                                    "1": "Cable Lock",
                                    "2": "NULL",
                                    "3": "1087"
                                },
                                {
                                    "0": "844",
                                    "1": "Minipump",
                                    "2": "NULL",
                                    "3": "1130"
                                },
                                {
                                    "0": "845",
                                    "1": "Mountain Pump",
                                    "2": "NULL",
                                    "3": "NULL"
                                },
                                {
                                    "0": "846",
                                    "1": "Taillights - Battery-Powered",
                                    "2": "NULL",
                                    "3": "NULL"
                                },
                                {
                                    "0": "847",
                                    "1": "Headlights - Dual-Beam",
                                    "2": "NULL",
                                    "3": "NULL"
                                },
                                {
                                    "0": "848",
                                    "1": "Headlights - Weatherproof",
                                    "2": "NULL",
                                    "3": "NULL"
                                },
                                {
                                    "0": "849",
                                    "1": "Men's Sports Shorts, M",
                                    "2": "Black",
                                    "3": "1276"
                                },
                                {
                                    "0": "850",
                                    "1": "Men's Sports Shorts, L",
                                    "2": "Black",
                                    "3": "445"
                                },
                                {
                                    "0": "851",
                                    "1": "Men's Sports Shorts, XL",
                                    "2": "Black",
                                    "3": "NULL"
                                },
                                {
                                    "0": "852",
                                    "1": "Women's Tights, S",
                                    "2": "Black",
                                    "3": "2072"
                                },
                                {
                                    "0": "853",
                                    "1": "Women's Tights, M",
                                    "2": "Black",
                                    "3": "394"
                                },
                                {
                                    "0": "854",
                                    "1": "Women's Tights, L",
                                    "2": "Black",
                                    "3": "2123"
                                },
                                {
                                    "0": "855",
                                    "1": "Men's Bib-Shorts, S",
                                    "2": "Multi",
                                    "3": "876"
                                },
                                {
                                    "0": "856",
                                    "1": "Men's Bib-Shorts, M",
                                    "2": "Multi",
                                    "3": "1616"
                                },
                                {
                                    "0": "857",
                                    "1": "Men's Bib-Shorts, L",
                                    "2": "Multi",
                                    "3": "633"
                                },
                                {
                                    "0": "858",
                                    "1": "Half-Finger Gloves, S",
                                    "2": "Black",
                                    "3": "2188"
                                },
                                {
                                    "0": "859",
                                    "1": "Half-Finger Gloves, M",
                                    "2": "Black",
                                    "3": "3464"
                                },
                                {
                                    "0": "860",
                                    "1": "Half-Finger Gloves, L",
                                    "2": "Black",
                                    "3": "1276"
                                },
                                {
                                    "0": "861",
                                    "1": "Full-Finger Gloves, S",
                                    "2": "Black",
                                    "3": "500"
                                },
                                {
                                    "0": "862",
                                    "1": "Full-Finger Gloves, M",
                                    "2": "Black",
                                    "3": "2206"
                                },
                                {
                                    "0": "863",
                                    "1": "Full-Finger Gloves, L",
                                    "2": "Black",
                                    "3": "3378"
                                },
                                {
                                    "0": "864",
                                    "1": "Classic Vest, S",
                                    "2": "Blue",
                                    "3": "4247"
                                },
                                {
                                    "0": "865",
                                    "1": "Classic Vest, M",
                                    "2": "Blue",
                                    "3": "2284"
                                },
                                {
                                    "0": "866",
                                    "1": "Classic Vest, L",
                                    "2": "Blue",
                                    "3": "207"
                                },
                                {
                                    "0": "867",
                                    "1": "Women's Mountain Shorts, S",
                                    "2": "Black",
                                    "3": "3296"
                                },
                                {
                                    "0": "868",
                                    "1": "Women's Mountain Shorts, M",
                                    "2": "Black",
                                    "3": "1139"
                                },
                                {
                                    "0": "869",
                                    "1": "Women's Mountain Shorts, L",
                                    "2": "Black",
                                    "3": "3244"
                                },
                                {
                                    "0": "870",
                                    "1": "Water Bottle - 30 oz.",
                                    "2": "NULL",
                                    "3": "6815"
                                },
                                {
                                    "0": "871",
                                    "1": "Mountain Bottle Cage",
                                    "2": "NULL",
                                    "3": "2025"
                                },
                                {
                                    "0": "872",
                                    "1": "Road Bottle Cage",
                                    "2": "NULL",
                                    "3": "1712"
                                },
                                {
                                    "0": "873",
                                    "1": "Patch Kit/8 Patches",
                                    "2": "NULL",
                                    "3": "3865"
                                },
                                {
                                    "0": "874",
                                    "1": "Racing Socks, M",
                                    "2": "White",
                                    "3": "1547"
                                },
                                {
                                    "0": "875",
                                    "1": "Racing Socks, L",
                                    "2": "White",
                                    "3": "2473"
                                },
                                {
                                    "0": "876",
                                    "1": "Hitch Rack - 4-Bike",
                                    "2": "NULL",
                                    "3": "3166"
                                },
                                {
                                    "0": "877",
                                    "1": "Bike Wash - Dissolver",
                                    "2": "NULL",
                                    "3": "3319"
                                },
                                {
                                    "0": "878",
                                    "1": "Fender Set - Mountain",
                                    "2": "NULL",
                                    "3": "2121"
                                },
                                {
                                    "0": "879",
                                    "1": "All-Purpose Bike Stand",
                                    "2": "NULL",
                                    "3": "249"
                                },
                                {
                                    "0": "880",
                                    "1": "Hydration Pack - 70 oz.",
                                    "2": "Silver",
                                    "3": "2761"
                                },
                                {
                                    "0": "881",
                                    "1": "Short-Sleeve Classic Jersey, S",
                                    "2": "Yellow",
                                    "3": "1955"
                                },
                                {
                                    "0": "882",
                                    "1": "Short-Sleeve Classic Jersey, M",
                                    "2": "Yellow",
                                    "3": "407"
                                },
                                {
                                    "0": "883",
                                    "1": "Short-Sleeve Classic Jersey, L",
                                    "2": "Yellow",
                                    "3": "2848"
                                },
                                {
                                    "0": "884",
                                    "1": "Short-Sleeve Classic Jersey, XL",
                                    "2": "Yellow",
                                    "3": "3864"
                                },
                                {
                                    "0": "885",
                                    "1": "HL Touring Frame - Yellow, 60",
                                    "2": "Yellow",
                                    "3": "387"
                                },
                                {
                                    "0": "886",
                                    "1": "LL Touring Frame - Yellow, 62",
                                    "2": "Yellow",
                                    "3": "348"
                                },
                                {
                                    "0": "887",
                                    "1": "HL Touring Frame - Yellow, 46",
                                    "2": "Yellow",
                                    "3": "87"
                                },
                                {
                                    "0": "888",
                                    "1": "HL Touring Frame - Yellow, 50",
                                    "2": "Yellow",
                                    "3": "83"
                                },
                                {
                                    "0": "889",
                                    "1": "HL Touring Frame - Yellow, 54",
                                    "2": "Yellow",
                                    "3": "540"
                                },
                                {
                                    "0": "890",
                                    "1": "HL Touring Frame - Blue, 46",
                                    "2": "Blue",
                                    "3": "114"
                                },
                                {
                                    "0": "891",
                                    "1": "HL Touring Frame - Blue, 50",
                                    "2": "Blue",
                                    "3": "124"
                                },
                                {
                                    "0": "892",
                                    "1": "HL Touring Frame - Blue, 54",
                                    "2": "Blue",
                                    "3": "542"
                                },
                                {
                                    "0": "893",
                                    "1": "HL Touring Frame - Blue, 60",
                                    "2": "Blue",
                                    "3": "371"
                                },
                                {
                                    "0": "894",
                                    "1": "Rear Derailleur",
                                    "2": "Silver",
                                    "3": "353"
                                },
                                {
                                    "0": "895",
                                    "1": "LL Touring Frame - Blue, 50",
                                    "2": "Blue",
                                    "3": "316"
                                },
                                {
                                    "0": "896",
                                    "1": "LL Touring Frame - Blue, 54",
                                    "2": "Blue",
                                    "3": "211"
                                },
                                {
                                    "0": "897",
                                    "1": "LL Touring Frame - Blue, 58",
                                    "2": "Blue",
                                    "3": "4"
                                },
                                {
                                    "0": "898",
                                    "1": "LL Touring Frame - Blue, 62",
                                    "2": "Blue",
                                    "3": "15"
                                },
                                {
                                    "0": "899",
                                    "1": "LL Touring Frame - Yellow, 44",
                                    "2": "Yellow",
                                    "3": "294"
                                },
                                {
                                    "0": "900",
                                    "1": "LL Touring Frame - Yellow, 50",
                                    "2": "Yellow",
                                    "3": "228"
                                },
                                {
                                    "0": "901",
                                    "1": "LL Touring Frame - Yellow, 54",
                                    "2": "Yellow",
                                    "3": "NULL"
                                },
                                {
                                    "0": "902",
                                    "1": "LL Touring Frame - Yellow, 58",
                                    "2": "Yellow",
                                    "3": "36"
                                },
                                {
                                    "0": "903",
                                    "1": "LL Touring Frame - Blue, 44",
                                    "2": "Blue",
                                    "3": "25"
                                },
                                {
                                    "0": "904",
                                    "1": "ML Mountain Frame-W - Silver, 40",
                                    "2": "Silver",
                                    "3": "899"
                                },
                                {
                                    "0": "905",
                                    "1": "ML Mountain Frame-W - Silver, 42",
                                    "2": "Silver",
                                    "3": "627"
                                },
                                {
                                    "0": "906",
                                    "1": "ML Mountain Frame-W - Silver, 46",
                                    "2": "Silver",
                                    "3": "188"
                                },
                                {
                                    "0": "907",
                                    "1": "Rear Brakes",
                                    "2": "Silver",
                                    "3": "246"
                                },
                                {
                                    "0": "908",
                                    "1": "LL Mountain Seat/Saddle",
                                    "2": "NULL",
                                    "3": "347"
                                },
                                {
                                    "0": "909",
                                    "1": "ML Mountain Seat/Saddle",
                                    "2": "NULL",
                                    "3": "534"
                                },
                                {
                                    "0": "910",
                                    "1": "HL Mountain Seat/Saddle",
                                    "2": "NULL",
                                    "3": "519"
                                },
                                {
                                    "0": "911",
                                    "1": "LL Road Seat/Saddle",
                                    "2": "NULL",
                                    "3": "10"
                                },
                                {
                                    "0": "912",
                                    "1": "ML Road Seat/Saddle",
                                    "2": "NULL",
                                    "3": "NULL"
                                },
                                {
                                    "0": "913",
                                    "1": "HL Road Seat/Saddle",
                                    "2": "NULL",
                                    "3": "134"
                                },
                                {
                                    "0": "914",
                                    "1": "LL Touring Seat/Saddle",
                                    "2": "NULL",
                                    "3": "91"
                                },
                                {
                                    "0": "915",
                                    "1": "ML Touring Seat/Saddle",
                                    "2": "NULL",
                                    "3": "84"
                                },
                                {
                                    "0": "916",
                                    "1": "HL Touring Seat/Saddle",
                                    "2": "NULL",
                                    "3": "426"
                                },
                                {
                                    "0": "917",
                                    "1": "LL Mountain Frame - Silver, 42",
                                    "2": "Silver",
                                    "3": "638"
                                },
                                {
                                    "0": "918",
                                    "1": "LL Mountain Frame - Silver, 44",
                                    "2": "Silver",
                                    "3": "371"
                                },
                                {
                                    "0": "919",
                                    "1": "LL Mountain Frame - Silver, 48",
                                    "2": "Silver",
                                    "3": "44"
                                },
                                {
                                    "0": "920",
                                    "1": "LL Mountain Frame - Silver, 52",
                                    "2": "Silver",
                                    "3": "425"
                                },
                                {
                                    "0": "921",
                                    "1": "Mountain Tire Tube",
                                    "2": "NULL",
                                    "3": "3095"
                                },
                                {
                                    "0": "922",
                                    "1": "Road Tire Tube",
                                    "2": "NULL",
                                    "3": "2376"
                                },
                                {
                                    "0": "923",
                                    "1": "Touring Tire Tube",
                                    "2": "NULL",
                                    "3": "1488"
                                },
                                {
                                    "0": "924",
                                    "1": "LL Mountain Frame - Black, 42",
                                    "2": "Black",
                                    "3": "423"
                                },
                                {
                                    "0": "925",
                                    "1": "LL Mountain Frame - Black, 44",
                                    "2": "Black",
                                    "3": "625"
                                },
                                {
                                    "0": "926",
                                    "1": "LL Mountain Frame - Black, 48",
                                    "2": "Black",
                                    "3": "386"
                                },
                                {
                                    "0": "927",
                                    "1": "LL Mountain Frame - Black, 52",
                                    "2": "Black",
                                    "3": "15"
                                },
                                {
                                    "0": "928",
                                    "1": "LL Mountain Tire",
                                    "2": "NULL",
                                    "3": "862"
                                },
                                {
                                    "0": "929",
                                    "1": "ML Mountain Tire",
                                    "2": "NULL",
                                    "3": "1161"
                                },
                                {
                                    "0": "930",
                                    "1": "HL Mountain Tire",
                                    "2": "NULL",
                                    "3": "1396"
                                },
                                {
                                    "0": "931",
                                    "1": "LL Road Tire",
                                    "2": "NULL",
                                    "3": "1044"
                                },
                                {
                                    "0": "932",
                                    "1": "ML Road Tire",
                                    "2": "NULL",
                                    "3": "926"
                                },
                                {
                                    "0": "933",
                                    "1": "HL Road Tire",
                                    "2": "NULL",
                                    "3": "858"
                                },
                                {
                                    "0": "934",
                                    "1": "Touring Tire",
                                    "2": "NULL",
                                    "3": "935"
                                },
                                {
                                    "0": "935",
                                    "1": "LL Mountain Pedal",
                                    "2": "Silver/Black",
                                    "3": "449"
                                },
                                {
                                    "0": "936",
                                    "1": "ML Mountain Pedal",
                                    "2": "Silver/Black",
                                    "3": "345"
                                },
                                {
                                    "0": "937",
                                    "1": "HL Mountain Pedal",
                                    "2": "Silver/Black",
                                    "3": "785"
                                },
                                {
                                    "0": "938",
                                    "1": "LL Road Pedal",
                                    "2": "Silver/Black",
                                    "3": "868"
                                },
                                {
                                    "0": "939",
                                    "1": "ML Road Pedal",
                                    "2": "Silver/Black",
                                    "3": "661"
                                },
                                {
                                    "0": "940",
                                    "1": "HL Road Pedal",
                                    "2": "Silver/Black",
                                    "3": "676"
                                },
                                {
                                    "0": "941",
                                    "1": "Touring Pedal",
                                    "2": "Silver/Black",
                                    "3": "147"
                                },
                                {
                                    "0": "942",
                                    "1": "ML Mountain Frame-W - Silver, 38",
                                    "2": "Silver",
                                    "3": "7"
                                },
                                {
                                    "0": "943",
                                    "1": "LL Mountain Frame - Black, 40",
                                    "2": "Black",
                                    "3": "8"
                                },
                                {
                                    "0": "944",
                                    "1": "LL Mountain Frame - Silver, 40",
                                    "2": "Silver",
                                    "3": "442"
                                },
                                {
                                    "0": "945",
                                    "1": "Front Derailleur",
                                    "2": "Silver",
                                    "3": "813"
                                },
                                {
                                    "0": "946",
                                    "1": "LL Touring Handlebars",
                                    "2": "NULL",
                                    "3": "56"
                                },
                                {
                                    "0": "947",
                                    "1": "HL Touring Handlebars",
                                    "2": "NULL",
                                    "3": "220"
                                },
                                {
                                    "0": "948",
                                    "1": "Front Brakes",
                                    "2": "Silver",
                                    "3": "789"
                                },
                                {
                                    "0": "949",
                                    "1": "LL Crankset",
                                    "2": "Black",
                                    "3": "426"
                                },
                                {
                                    "0": "950",
                                    "1": "ML Crankset",
                                    "2": "Black",
                                    "3": "68"
                                },
                                {
                                    "0": "951",
                                    "1": "HL Crankset",
                                    "2": "Black",
                                    "3": "613"
                                },
                                {
                                    "0": "952",
                                    "1": "Chain",
                                    "2": "Silver",
                                    "3": "774"
                                },
                                {
                                    "0": "953",
                                    "1": "Touring-2000 Blue, 60",
                                    "2": "Blue",
                                    "3": "820"
                                },
                                {
                                    "0": "954",
                                    "1": "Touring-1000 Yellow, 46",
                                    "2": "Yellow",
                                    "3": "1005"
                                },
                                {
                                    "0": "955",
                                    "1": "Touring-1000 Yellow, 50",
                                    "2": "Yellow",
                                    "3": "652"
                                },
                                {
                                    "0": "956",
                                    "1": "Touring-1000 Yellow, 54",
                                    "2": "Yellow",
                                    "3": "397"
                                },
                                {
                                    "0": "957",
                                    "1": "Touring-1000 Yellow, 60",
                                    "2": "Yellow",
                                    "3": "1114"
                                },
                                {
                                    "0": "958",
                                    "1": "Touring-3000 Blue, 54",
                                    "2": "Blue",
                                    "3": "686"
                                },
                                {
                                    "0": "959",
                                    "1": "Touring-3000 Blue, 58",
                                    "2": "Blue",
                                    "3": "482"
                                },
                                {
                                    "0": "960",
                                    "1": "Touring-3000 Blue, 62",
                                    "2": "Blue",
                                    "3": "281"
                                },
                                {
                                    "0": "961",
                                    "1": "Touring-3000 Yellow, 44",
                                    "2": "Yellow",
                                    "3": "851"
                                },
                                {
                                    "0": "962",
                                    "1": "Touring-3000 Yellow, 50",
                                    "2": "Yellow",
                                    "3": "686"
                                },
                                {
                                    "0": "963",
                                    "1": "Touring-3000 Yellow, 54",
                                    "2": "Yellow",
                                    "3": "453"
                                },
                                {
                                    "0": "964",
                                    "1": "Touring-3000 Yellow, 58",
                                    "2": "Yellow",
                                    "3": "293"
                                },
                                {
                                    "0": "965",
                                    "1": "Touring-3000 Yellow, 62",
                                    "2": "Yellow",
                                    "3": "844"
                                },
                                {
                                    "0": "966",
                                    "1": "Touring-1000 Blue, 46",
                                    "2": "Blue",
                                    "3": "1002"
                                },
                                {
                                    "0": "967",
                                    "1": "Touring-1000 Blue, 50",
                                    "2": "Blue",
                                    "3": "649"
                                },
                                {
                                    "0": "968",
                                    "1": "Touring-1000 Blue, 54",
                                    "2": "Blue",
                                    "3": "413"
                                },
                                {
                                    "0": "969",
                                    "1": "Touring-1000 Blue, 60",
                                    "2": "Blue",
                                    "3": "1120"
                                },
                                {
                                    "0": "970",
                                    "1": "Touring-2000 Blue, 46",
                                    "2": "Blue",
                                    "3": "538"
                                },
                                {
                                    "0": "971",
                                    "1": "Touring-2000 Blue, 50",
                                    "2": "Blue",
                                    "3": "322"
                                },
                                {
                                    "0": "972",
                                    "1": "Touring-2000 Blue, 54",
                                    "2": "Blue",
                                    "3": "1010"
                                },
                                {
                                    "0": "973",
                                    "1": "Road-350-W Yellow, 40",
                                    "2": "Yellow",
                                    "3": "1477"
                                },
                                {
                                    "0": "974",
                                    "1": "Road-350-W Yellow, 42",
                                    "2": "Yellow",
                                    "3": "944"
                                },
                                {
                                    "0": "975",
                                    "1": "Road-350-W Yellow, 44",
                                    "2": "Yellow",
                                    "3": "536"
                                },
                                {
                                    "0": "976",
                                    "1": "Road-350-W Yellow, 48",
                                    "2": "Yellow",
                                    "3": "1622"
                                },
                                {
                                    "0": "977",
                                    "1": "Road-750 Black, 58",
                                    "2": "Black",
                                    "3": "892"
                                },
                                {
                                    "0": "978",
                                    "1": "Touring-3000 Blue, 44",
                                    "2": "Blue",
                                    "3": "292"
                                },
                                {
                                    "0": "979",
                                    "1": "Touring-3000 Blue, 50",
                                    "2": "Blue",
                                    "3": "841"
                                },
                                {
                                    "0": "980",
                                    "1": "Mountain-400-W Silver, 38",
                                    "2": "Silver",
                                    "3": "425"
                                },
                                {
                                    "0": "981",
                                    "1": "Mountain-400-W Silver, 40",
                                    "2": "Silver",
                                    "3": "617"
                                },
                                {
                                    "0": "982",
                                    "1": "Mountain-400-W Silver, 42",
                                    "2": "Silver",
                                    "3": "385"
                                },
                                {
                                    "0": "983",
                                    "1": "Mountain-400-W Silver, 46",
                                    "2": "Silver",
                                    "3": "401"
                                },
                                {
                                    "0": "984",
                                    "1": "Mountain-500 Silver, 40",
                                    "2": "Silver",
                                    "3": "450"
                                },
                                {
                                    "0": "985",
                                    "1": "Mountain-500 Silver, 42",
                                    "2": "Silver",
                                    "3": "455"
                                },
                                {
                                    "0": "986",
                                    "1": "Mountain-500 Silver, 44",
                                    "2": "Silver",
                                    "3": "381"
                                },
                                {
                                    "0": "987",
                                    "1": "Mountain-500 Silver, 48",
                                    "2": "Silver",
                                    "3": "457"
                                },
                                {
                                    "0": "988",
                                    "1": "Mountain-500 Silver, 52",
                                    "2": "Silver",
                                    "3": "515"
                                },
                                {
                                    "0": "989",
                                    "1": "Mountain-500 Black, 40",
                                    "2": "Black",
                                    "3": "282"
                                },
                                {
                                    "0": "990",
                                    "1": "Mountain-500 Black, 42",
                                    "2": "Black",
                                    "3": "388"
                                },
                                {
                                    "0": "991",
                                    "1": "Mountain-500 Black, 44",
                                    "2": "Black",
                                    "3": "350"
                                },
                                {
                                    "0": "992",
                                    "1": "Mountain-500 Black, 48",
                                    "2": "Black",
                                    "3": "449"
                                },
                                {
                                    "0": "993",
                                    "1": "Mountain-500 Black, 52",
                                    "2": "Black",
                                    "3": "272"
                                },
                                {
                                    "0": "994",
                                    "1": "LL Bottom Bracket",
                                    "2": "NULL",
                                    "3": "378"
                                },
                                {
                                    "0": "995",
                                    "1": "ML Bottom Bracket",
                                    "2": "NULL",
                                    "3": "NULL"
                                },
                                {
                                    "0": "996",
                                    "1": "HL Bottom Bracket",
                                    "2": "NULL",
                                    "3": "543"
                                },
                                {
                                    "0": "997",
                                    "1": "Road-750 Black, 44",
                                    "2": "Black",
                                    "3": "656"
                                },
                                {
                                    "0": "998",
                                    "1": "Road-750 Black, 48",
                                    "2": "Black",
                                    "3": "1556"
                                },
                                {
                                    "0": "999",
                                    "1": "Road-750 Black, 52",
                                    "2": "Black",
                                    "3": "1338"
                                }
                            ]
                        },
                        "text/html": [
                            "<table>",
                            "<tr><th>ProductID</th><th>Name</th><th>Color</th><th>TotalQty</th></tr>",
                            "<tr><td>680</td><td>HL Road Frame - Black, 58</td><td>Black</td><td>NULL</td></tr>",
                            "<tr><td>706</td><td>HL Road Frame - Red, 58</td><td>Red</td><td>NULL</td></tr>",
                            "<tr><td>707</td><td>Sport-100 Helmet, Red</td><td>Red</td><td>6266</td></tr>",
                            "<tr><td>708</td><td>Sport-100 Helmet, Black</td><td>Black</td><td>6532</td></tr>",
                            "<tr><td>709</td><td>Mountain Bike Socks, M</td><td>White</td><td>1107</td></tr>",
                            "<tr><td>710</td><td>Mountain Bike Socks, L</td><td>White</td><td>90</td></tr>",
                            "<tr><td>711</td><td>Sport-100 Helmet, Blue</td><td>Blue</td><td>6743</td></tr>",
                            "<tr><td>712</td><td>AWC Logo Cap</td><td>Multi</td><td>8311</td></tr>",
                            "<tr><td>713</td><td>Long-Sleeve Logo Jersey, S</td><td>Multi</td><td>429</td></tr>",
                            "<tr><td>714</td><td>Long-Sleeve Logo Jersey, M</td><td>Multi</td><td>3636</td></tr>",
                            "<tr><td>715</td><td>Long-Sleeve Logo Jersey, L</td><td>Multi</td><td>6592</td></tr>",
                            "<tr><td>716</td><td>Long-Sleeve Logo Jersey, XL</td><td>Multi</td><td>2980</td></tr>",
                            "<tr><td>717</td><td>HL Road Frame - Red, 62</td><td>Red</td><td>485</td></tr>",
                            "<tr><td>718</td><td>HL Road Frame - Red, 44</td><td>Red</td><td>486</td></tr>",
                            "<tr><td>719</td><td>HL Road Frame - Red, 48</td><td>Red</td><td>109</td></tr>",
                            "<tr><td>720</td><td>HL Road Frame - Red, 52</td><td>Red</td><td>NULL</td></tr>",
                            "<tr><td>721</td><td>HL Road Frame - Red, 56</td><td>Red</td><td>NULL</td></tr>",
                            "<tr><td>722</td><td>LL Road Frame - Black, 58</td><td>Black</td><td>940</td></tr>",
                            "<tr><td>723</td><td>LL Road Frame - Black, 60</td><td>Black</td><td>129</td></tr>",
                            "<tr><td>724</td><td>LL Road Frame - Black, 62</td><td>Black</td><td>NULL</td></tr>",
                            "<tr><td>725</td><td>LL Road Frame - Red, 44</td><td>Red</td><td>991</td></tr>",
                            "<tr><td>726</td><td>LL Road Frame - Red, 48</td><td>Red</td><td>671</td></tr>",
                            "<tr><td>727</td><td>LL Road Frame - Red, 52</td><td>Red</td><td>100</td></tr>",
                            "<tr><td>728</td><td>LL Road Frame - Red, 58</td><td>Red</td><td>NULL</td></tr>",
                            "<tr><td>729</td><td>LL Road Frame - Red, 60</td><td>Red</td><td>996</td></tr>",
                            "<tr><td>730</td><td>LL Road Frame - Red, 62</td><td>Red</td><td>697</td></tr>",
                            "<tr><td>731</td><td>ML Road Frame - Red, 44</td><td>Red</td><td>NULL</td></tr>",
                            "<tr><td>732</td><td>ML Road Frame - Red, 48</td><td>Red</td><td>250</td></tr>",
                            "<tr><td>733</td><td>ML Road Frame - Red, 52</td><td>Red</td><td>90</td></tr>",
                            "<tr><td>734</td><td>ML Road Frame - Red, 58</td><td>Red</td><td>NULL</td></tr>",
                            "<tr><td>735</td><td>ML Road Frame - Red, 60</td><td>Red</td><td>NULL</td></tr>",
                            "<tr><td>736</td><td>LL Road Frame - Black, 44</td><td>Black</td><td>238</td></tr>",
                            "<tr><td>737</td><td>LL Road Frame - Black, 48</td><td>Black</td><td>NULL</td></tr>",
                            "<tr><td>738</td><td>LL Road Frame - Black, 52</td><td>Black</td><td>1581</td></tr>",
                            "<tr><td>739</td><td>HL Mountain Frame - Silver, 42</td><td>Silver</td><td>347</td></tr>",
                            "<tr><td>740</td><td>HL Mountain Frame - Silver, 44</td><td>Silver</td><td>NULL</td></tr>",
                            "<tr><td>741</td><td>HL Mountain Frame - Silver, 48</td><td>Silver</td><td>173</td></tr>",
                            "<tr><td>742</td><td>HL Mountain Frame - Silver, 46</td><td>Silver</td><td>649</td></tr>",
                            "<tr><td>743</td><td>HL Mountain Frame - Black, 42</td><td>Black</td><td>1181</td></tr>",
                            "<tr><td>744</td><td>HL Mountain Frame - Black, 44</td><td>Black</td><td>17</td></tr>",
                            "<tr><td>745</td><td>HL Mountain Frame - Black, 48</td><td>Black</td><td>131</td></tr>",
                            "<tr><td>746</td><td>HL Mountain Frame - Black, 46</td><td>Black</td><td>NULL</td></tr>",
                            "<tr><td>747</td><td>HL Mountain Frame - Black, 38</td><td>Black</td><td>659</td></tr>",
                            "<tr><td>748</td><td>HL Mountain Frame - Silver, 38</td><td>Silver</td><td>1206</td></tr>",
                            "<tr><td>749</td><td>Road-150 Red, 62</td><td>Red</td><td>600</td></tr>",
                            "<tr><td>750</td><td>Road-150 Red, 44</td><td>Red</td><td>437</td></tr>",
                            "<tr><td>751</td><td>Road-150 Red, 48</td><td>Red</td><td>493</td></tr>",
                            "<tr><td>752</td><td>Road-150 Red, 52</td><td>Red</td><td>458</td></tr>",
                            "<tr><td>753</td><td>Road-150 Red, 56</td><td>Red</td><td>664</td></tr>",
                            "<tr><td>754</td><td>Road-450 Red, 58</td><td>Red</td><td>582</td></tr>",
                            "<tr><td>755</td><td>Road-450 Red, 60</td><td>Red</td><td>350</td></tr>",
                            "<tr><td>756</td><td>Road-450 Red, 44</td><td>Red</td><td>346</td></tr>",
                            "<tr><td>757</td><td>Road-450 Red, 48</td><td>Red</td><td>156</td></tr>",
                            "<tr><td>758</td><td>Road-450 Red, 52</td><td>Red</td><td>710</td></tr>",
                            "<tr><td>759</td><td>Road-650 Red, 58</td><td>Red</td><td>618</td></tr>",
                            "<tr><td>760</td><td>Road-650 Red, 60</td><td>Red</td><td>2232</td></tr>",
                            "<tr><td>761</td><td>Road-650 Red, 62</td><td>Red</td><td>1896</td></tr>",
                            "<tr><td>762</td><td>Road-650 Red, 44</td><td>Red</td><td>2254</td></tr>",
                            "<tr><td>763</td><td>Road-650 Red, 48</td><td>Red</td><td>1888</td></tr>",
                            "<tr><td>764</td><td>Road-650 Red, 52</td><td>Red</td><td>1112</td></tr>",
                            "<tr><td>765</td><td>Road-650 Black, 58</td><td>Black</td><td>1871</td></tr>",
                            "<tr><td>766</td><td>Road-650 Black, 60</td><td>Black</td><td>1100</td></tr>",
                            "<tr><td>767</td><td>Road-650 Black, 62</td><td>Black</td><td>644</td></tr>",
                            "<tr><td>768</td><td>Road-650 Black, 44</td><td>Black</td><td>1080</td></tr>",
                            "<tr><td>769</td><td>Road-650 Black, 48</td><td>Black</td><td>644</td></tr>",
                            "<tr><td>770</td><td>Road-650 Black, 52</td><td>Black</td><td>2270</td></tr>",
                            "<tr><td>771</td><td>Mountain-100 Silver, 38</td><td>Silver</td><td>642</td></tr>",
                            "<tr><td>772</td><td>Mountain-100 Silver, 42</td><td>Silver</td><td>593</td></tr>",
                            "<tr><td>773</td><td>Mountain-100 Silver, 44</td><td>Silver</td><td>601</td></tr>",
                            "<tr><td>774</td><td>Mountain-100 Silver, 48</td><td>Silver</td><td>505</td></tr>",
                            "<tr><td>775</td><td>Mountain-100 Black, 38</td><td>Black</td><td>682</td></tr>",
                            "<tr><td>776</td><td>Mountain-100 Black, 42</td><td>Black</td><td>634</td></tr>",
                            "<tr><td>777</td><td>Mountain-100 Black, 44</td><td>Black</td><td>678</td></tr>",
                            "<tr><td>778</td><td>Mountain-100 Black, 48</td><td>Black</td><td>616</td></tr>",
                            "<tr><td>779</td><td>Mountain-200 Silver, 38</td><td>Silver</td><td>2394</td></tr>",
                            "<tr><td>780</td><td>Mountain-200 Silver, 42</td><td>Silver</td><td>2234</td></tr>",
                            "<tr><td>781</td><td>Mountain-200 Silver, 46</td><td>Silver</td><td>2216</td></tr>",
                            "<tr><td>782</td><td>Mountain-200 Black, 38</td><td>Black</td><td>2977</td></tr>",
                            "<tr><td>783</td><td>Mountain-200 Black, 42</td><td>Black</td><td>2664</td></tr>",
                            "<tr><td>784</td><td>Mountain-200 Black, 46</td><td>Black</td><td>2111</td></tr>",
                            "<tr><td>785</td><td>Mountain-300 Black, 38</td><td>Black</td><td>684</td></tr>",
                            "<tr><td>786</td><td>Mountain-300 Black, 40</td><td>Black</td><td>776</td></tr>",
                            "<tr><td>787</td><td>Mountain-300 Black, 44</td><td>Black</td><td>747</td></tr>",
                            "<tr><td>788</td><td>Mountain-300 Black, 48</td><td>Black</td><td>740</td></tr>",
                            "<tr><td>789</td><td>Road-250 Red, 44</td><td>Red</td><td>895</td></tr>",
                            "<tr><td>790</td><td>Road-250 Red, 48</td><td>Red</td><td>812</td></tr>",
                            "<tr><td>791</td><td>Road-250 Red, 52</td><td>Red</td><td>639</td></tr>",
                            "<tr><td>792</td><td>Road-250 Red, 58</td><td>Red</td><td>946</td></tr>",
                            "<tr><td>793</td><td>Road-250 Black, 44</td><td>Black</td><td>1642</td></tr>",
                            "<tr><td>794</td><td>Road-250 Black, 48</td><td>Black</td><td>1498</td></tr>",
                            "<tr><td>795</td><td>Road-250 Black, 52</td><td>Black</td><td>1245</td></tr>",
                            "<tr><td>796</td><td>Road-250 Black, 58</td><td>Black</td><td>910</td></tr>",
                            "<tr><td>797</td><td>Road-550-W Yellow, 38</td><td>Yellow</td><td>1744</td></tr>",
                            "<tr><td>798</td><td>Road-550-W Yellow, 40</td><td>Yellow</td><td>1500</td></tr>",
                            "<tr><td>799</td><td>Road-550-W Yellow, 42</td><td>Yellow</td><td>1249</td></tr>",
                            "<tr><td>800</td><td>Road-550-W Yellow, 44</td><td>Yellow</td><td>927</td></tr>",
                            "<tr><td>801</td><td>Road-550-W Yellow, 48</td><td>Yellow</td><td>1763</td></tr>",
                            "<tr><td>802</td><td>LL Fork</td><td>NULL</td><td>190</td></tr>",
                            "<tr><td>803</td><td>ML Fork</td><td>NULL</td><td>NULL</td></tr>",
                            "<tr><td>804</td><td>HL Fork</td><td>NULL</td><td>444</td></tr>",
                            "<tr><td>805</td><td>LL Headset</td><td>NULL</td><td>95</td></tr>",
                            "<tr><td>806</td><td>ML Headset</td><td>NULL</td><td>659</td></tr>",
                            "<tr><td>807</td><td>HL Headset</td><td>NULL</td><td>255</td></tr>",
                            "<tr><td>808</td><td>LL Mountain Handlebars</td><td>NULL</td><td>865</td></tr>",
                            "<tr><td>809</td><td>ML Mountain Handlebars</td><td>NULL</td><td>1465</td></tr>",
                            "<tr><td>810</td><td>HL Mountain Handlebars</td><td>NULL</td><td>500</td></tr>",
                            "<tr><td>811</td><td>LL Road Handlebars</td><td>NULL</td><td>213</td></tr>",
                            "<tr><td>812</td><td>ML Road Handlebars</td><td>NULL</td><td>NULL</td></tr>",
                            "<tr><td>813</td><td>HL Road Handlebars</td><td>NULL</td><td>631</td></tr>",
                            "<tr><td>814</td><td>ML Mountain Frame - Black, 38</td><td>Black</td><td>514</td></tr>",
                            "<tr><td>815</td><td>LL Mountain Front Wheel</td><td>Black</td><td>617</td></tr>",
                            "<tr><td>816</td><td>ML Mountain Front Wheel</td><td>Black</td><td>266</td></tr>",
                            "<tr><td>817</td><td>HL Mountain Front Wheel</td><td>Black</td><td>222</td></tr>",
                            "<tr><td>818</td><td>LL Road Front Wheel</td><td>Black</td><td>NULL</td></tr>",
                            "<tr><td>819</td><td>ML Road Front Wheel</td><td>Black</td><td>532</td></tr>",
                            "<tr><td>820</td><td>HL Road Front Wheel</td><td>Black</td><td>567</td></tr>",
                            "<tr><td>821</td><td>Touring Front Wheel</td><td>Black</td><td>NULL</td></tr>",
                            "<tr><td>822</td><td>ML Road Frame-W - Yellow, 38</td><td>Yellow</td><td>895</td></tr>",
                            "<tr><td>823</td><td>LL Mountain Rear Wheel</td><td>Black</td><td>342</td></tr>",
                            "<tr><td>824</td><td>ML Mountain Rear Wheel</td><td>Black</td><td>851</td></tr>",
                            "<tr><td>825</td><td>HL Mountain Rear Wheel</td><td>Black</td><td>850</td></tr>",
                            "<tr><td>826</td><td>LL Road Rear Wheel</td><td>Black</td><td>868</td></tr>",
                            "<tr><td>827</td><td>ML Road Rear Wheel</td><td>Black</td><td>64</td></tr>",
                            "<tr><td>828</td><td>HL Road Rear Wheel</td><td>Black</td><td>94</td></tr>",
                            "<tr><td>829</td><td>Touring Rear Wheel</td><td>Black</td><td>NULL</td></tr>",
                            "<tr><td>830</td><td>ML Mountain Frame - Black, 40</td><td>Black</td><td>68</td></tr>",
                            "<tr><td>831</td><td>ML Mountain Frame - Black, 44</td><td>Black</td><td>619</td></tr>",
                            "<tr><td>832</td><td>ML Mountain Frame - Black, 48</td><td>Black</td><td>959</td></tr>",
                            "<tr><td>833</td><td>ML Road Frame-W - Yellow, 40</td><td>Yellow</td><td>203</td></tr>",
                            "<tr><td>834</td><td>ML Road Frame-W - Yellow, 42</td><td>Yellow</td><td>NULL</td></tr>",
                            "<tr><td>835</td><td>ML Road Frame-W - Yellow, 44</td><td>Yellow</td><td>1435</td></tr>",
                            "<tr><td>836</td><td>ML Road Frame-W - Yellow, 48</td><td>Yellow</td><td>889</td></tr>",
                            "<tr><td>837</td><td>HL Road Frame - Black, 62</td><td>Black</td><td>NULL</td></tr>",
                            "<tr><td>838</td><td>HL Road Frame - Black, 44</td><td>Black</td><td>459</td></tr>",
                            "<tr><td>839</td><td>HL Road Frame - Black, 48</td><td>Black</td><td>109</td></tr>",
                            "<tr><td>840</td><td>HL Road Frame - Black, 52</td><td>Black</td><td>NULL</td></tr>",
                            "<tr><td>841</td><td>Men's Sports Shorts, S</td><td>Black</td><td>567</td></tr>",
                            "<tr><td>842</td><td>Touring-Panniers, Large</td><td>Grey</td><td>NULL</td></tr>",
                            "<tr><td>843</td><td>Cable Lock</td><td>NULL</td><td>1087</td></tr>",
                            "<tr><td>844</td><td>Minipump</td><td>NULL</td><td>1130</td></tr>",
                            "<tr><td>845</td><td>Mountain Pump</td><td>NULL</td><td>NULL</td></tr>",
                            "<tr><td>846</td><td>Taillights - Battery-Powered</td><td>NULL</td><td>NULL</td></tr>",
                            "<tr><td>847</td><td>Headlights - Dual-Beam</td><td>NULL</td><td>NULL</td></tr>",
                            "<tr><td>848</td><td>Headlights - Weatherproof</td><td>NULL</td><td>NULL</td></tr>",
                            "<tr><td>849</td><td>Men's Sports Shorts, M</td><td>Black</td><td>1276</td></tr>",
                            "<tr><td>850</td><td>Men's Sports Shorts, L</td><td>Black</td><td>445</td></tr>",
                            "<tr><td>851</td><td>Men's Sports Shorts, XL</td><td>Black</td><td>NULL</td></tr>",
                            "<tr><td>852</td><td>Women's Tights, S</td><td>Black</td><td>2072</td></tr>",
                            "<tr><td>853</td><td>Women's Tights, M</td><td>Black</td><td>394</td></tr>",
                            "<tr><td>854</td><td>Women's Tights, L</td><td>Black</td><td>2123</td></tr>",
                            "<tr><td>855</td><td>Men's Bib-Shorts, S</td><td>Multi</td><td>876</td></tr>",
                            "<tr><td>856</td><td>Men's Bib-Shorts, M</td><td>Multi</td><td>1616</td></tr>",
                            "<tr><td>857</td><td>Men's Bib-Shorts, L</td><td>Multi</td><td>633</td></tr>",
                            "<tr><td>858</td><td>Half-Finger Gloves, S</td><td>Black</td><td>2188</td></tr>",
                            "<tr><td>859</td><td>Half-Finger Gloves, M</td><td>Black</td><td>3464</td></tr>",
                            "<tr><td>860</td><td>Half-Finger Gloves, L</td><td>Black</td><td>1276</td></tr>",
                            "<tr><td>861</td><td>Full-Finger Gloves, S</td><td>Black</td><td>500</td></tr>",
                            "<tr><td>862</td><td>Full-Finger Gloves, M</td><td>Black</td><td>2206</td></tr>",
                            "<tr><td>863</td><td>Full-Finger Gloves, L</td><td>Black</td><td>3378</td></tr>",
                            "<tr><td>864</td><td>Classic Vest, S</td><td>Blue</td><td>4247</td></tr>",
                            "<tr><td>865</td><td>Classic Vest, M</td><td>Blue</td><td>2284</td></tr>",
                            "<tr><td>866</td><td>Classic Vest, L</td><td>Blue</td><td>207</td></tr>",
                            "<tr><td>867</td><td>Women's Mountain Shorts, S</td><td>Black</td><td>3296</td></tr>",
                            "<tr><td>868</td><td>Women's Mountain Shorts, M</td><td>Black</td><td>1139</td></tr>",
                            "<tr><td>869</td><td>Women's Mountain Shorts, L</td><td>Black</td><td>3244</td></tr>",
                            "<tr><td>870</td><td>Water Bottle - 30 oz.</td><td>NULL</td><td>6815</td></tr>",
                            "<tr><td>871</td><td>Mountain Bottle Cage</td><td>NULL</td><td>2025</td></tr>",
                            "<tr><td>872</td><td>Road Bottle Cage</td><td>NULL</td><td>1712</td></tr>",
                            "<tr><td>873</td><td>Patch Kit/8 Patches</td><td>NULL</td><td>3865</td></tr>",
                            "<tr><td>874</td><td>Racing Socks, M</td><td>White</td><td>1547</td></tr>",
                            "<tr><td>875</td><td>Racing Socks, L</td><td>White</td><td>2473</td></tr>",
                            "<tr><td>876</td><td>Hitch Rack - 4-Bike</td><td>NULL</td><td>3166</td></tr>",
                            "<tr><td>877</td><td>Bike Wash - Dissolver</td><td>NULL</td><td>3319</td></tr>",
                            "<tr><td>878</td><td>Fender Set - Mountain</td><td>NULL</td><td>2121</td></tr>",
                            "<tr><td>879</td><td>All-Purpose Bike Stand</td><td>NULL</td><td>249</td></tr>",
                            "<tr><td>880</td><td>Hydration Pack - 70 oz.</td><td>Silver</td><td>2761</td></tr>",
                            "<tr><td>881</td><td>Short-Sleeve Classic Jersey, S</td><td>Yellow</td><td>1955</td></tr>",
                            "<tr><td>882</td><td>Short-Sleeve Classic Jersey, M</td><td>Yellow</td><td>407</td></tr>",
                            "<tr><td>883</td><td>Short-Sleeve Classic Jersey, L</td><td>Yellow</td><td>2848</td></tr>",
                            "<tr><td>884</td><td>Short-Sleeve Classic Jersey, XL</td><td>Yellow</td><td>3864</td></tr>",
                            "<tr><td>885</td><td>HL Touring Frame - Yellow, 60</td><td>Yellow</td><td>387</td></tr>",
                            "<tr><td>886</td><td>LL Touring Frame - Yellow, 62</td><td>Yellow</td><td>348</td></tr>",
                            "<tr><td>887</td><td>HL Touring Frame - Yellow, 46</td><td>Yellow</td><td>87</td></tr>",
                            "<tr><td>888</td><td>HL Touring Frame - Yellow, 50</td><td>Yellow</td><td>83</td></tr>",
                            "<tr><td>889</td><td>HL Touring Frame - Yellow, 54</td><td>Yellow</td><td>540</td></tr>",
                            "<tr><td>890</td><td>HL Touring Frame - Blue, 46</td><td>Blue</td><td>114</td></tr>",
                            "<tr><td>891</td><td>HL Touring Frame - Blue, 50</td><td>Blue</td><td>124</td></tr>",
                            "<tr><td>892</td><td>HL Touring Frame - Blue, 54</td><td>Blue</td><td>542</td></tr>",
                            "<tr><td>893</td><td>HL Touring Frame - Blue, 60</td><td>Blue</td><td>371</td></tr>",
                            "<tr><td>894</td><td>Rear Derailleur</td><td>Silver</td><td>353</td></tr>",
                            "<tr><td>895</td><td>LL Touring Frame - Blue, 50</td><td>Blue</td><td>316</td></tr>",
                            "<tr><td>896</td><td>LL Touring Frame - Blue, 54</td><td>Blue</td><td>211</td></tr>",
                            "<tr><td>897</td><td>LL Touring Frame - Blue, 58</td><td>Blue</td><td>4</td></tr>",
                            "<tr><td>898</td><td>LL Touring Frame - Blue, 62</td><td>Blue</td><td>15</td></tr>",
                            "<tr><td>899</td><td>LL Touring Frame - Yellow, 44</td><td>Yellow</td><td>294</td></tr>",
                            "<tr><td>900</td><td>LL Touring Frame - Yellow, 50</td><td>Yellow</td><td>228</td></tr>",
                            "<tr><td>901</td><td>LL Touring Frame - Yellow, 54</td><td>Yellow</td><td>NULL</td></tr>",
                            "<tr><td>902</td><td>LL Touring Frame - Yellow, 58</td><td>Yellow</td><td>36</td></tr>",
                            "<tr><td>903</td><td>LL Touring Frame - Blue, 44</td><td>Blue</td><td>25</td></tr>",
                            "<tr><td>904</td><td>ML Mountain Frame-W - Silver, 40</td><td>Silver</td><td>899</td></tr>",
                            "<tr><td>905</td><td>ML Mountain Frame-W - Silver, 42</td><td>Silver</td><td>627</td></tr>",
                            "<tr><td>906</td><td>ML Mountain Frame-W - Silver, 46</td><td>Silver</td><td>188</td></tr>",
                            "<tr><td>907</td><td>Rear Brakes</td><td>Silver</td><td>246</td></tr>",
                            "<tr><td>908</td><td>LL Mountain Seat/Saddle</td><td>NULL</td><td>347</td></tr>",
                            "<tr><td>909</td><td>ML Mountain Seat/Saddle</td><td>NULL</td><td>534</td></tr>",
                            "<tr><td>910</td><td>HL Mountain Seat/Saddle</td><td>NULL</td><td>519</td></tr>",
                            "<tr><td>911</td><td>LL Road Seat/Saddle</td><td>NULL</td><td>10</td></tr>",
                            "<tr><td>912</td><td>ML Road Seat/Saddle</td><td>NULL</td><td>NULL</td></tr>",
                            "<tr><td>913</td><td>HL Road Seat/Saddle</td><td>NULL</td><td>134</td></tr>",
                            "<tr><td>914</td><td>LL Touring Seat/Saddle</td><td>NULL</td><td>91</td></tr>",
                            "<tr><td>915</td><td>ML Touring Seat/Saddle</td><td>NULL</td><td>84</td></tr>",
                            "<tr><td>916</td><td>HL Touring Seat/Saddle</td><td>NULL</td><td>426</td></tr>",
                            "<tr><td>917</td><td>LL Mountain Frame - Silver, 42</td><td>Silver</td><td>638</td></tr>",
                            "<tr><td>918</td><td>LL Mountain Frame - Silver, 44</td><td>Silver</td><td>371</td></tr>",
                            "<tr><td>919</td><td>LL Mountain Frame - Silver, 48</td><td>Silver</td><td>44</td></tr>",
                            "<tr><td>920</td><td>LL Mountain Frame - Silver, 52</td><td>Silver</td><td>425</td></tr>",
                            "<tr><td>921</td><td>Mountain Tire Tube</td><td>NULL</td><td>3095</td></tr>",
                            "<tr><td>922</td><td>Road Tire Tube</td><td>NULL</td><td>2376</td></tr>",
                            "<tr><td>923</td><td>Touring Tire Tube</td><td>NULL</td><td>1488</td></tr>",
                            "<tr><td>924</td><td>LL Mountain Frame - Black, 42</td><td>Black</td><td>423</td></tr>",
                            "<tr><td>925</td><td>LL Mountain Frame - Black, 44</td><td>Black</td><td>625</td></tr>",
                            "<tr><td>926</td><td>LL Mountain Frame - Black, 48</td><td>Black</td><td>386</td></tr>",
                            "<tr><td>927</td><td>LL Mountain Frame - Black, 52</td><td>Black</td><td>15</td></tr>",
                            "<tr><td>928</td><td>LL Mountain Tire</td><td>NULL</td><td>862</td></tr>",
                            "<tr><td>929</td><td>ML Mountain Tire</td><td>NULL</td><td>1161</td></tr>",
                            "<tr><td>930</td><td>HL Mountain Tire</td><td>NULL</td><td>1396</td></tr>",
                            "<tr><td>931</td><td>LL Road Tire</td><td>NULL</td><td>1044</td></tr>",
                            "<tr><td>932</td><td>ML Road Tire</td><td>NULL</td><td>926</td></tr>",
                            "<tr><td>933</td><td>HL Road Tire</td><td>NULL</td><td>858</td></tr>",
                            "<tr><td>934</td><td>Touring Tire</td><td>NULL</td><td>935</td></tr>",
                            "<tr><td>935</td><td>LL Mountain Pedal</td><td>Silver/Black</td><td>449</td></tr>",
                            "<tr><td>936</td><td>ML Mountain Pedal</td><td>Silver/Black</td><td>345</td></tr>",
                            "<tr><td>937</td><td>HL Mountain Pedal</td><td>Silver/Black</td><td>785</td></tr>",
                            "<tr><td>938</td><td>LL Road Pedal</td><td>Silver/Black</td><td>868</td></tr>",
                            "<tr><td>939</td><td>ML Road Pedal</td><td>Silver/Black</td><td>661</td></tr>",
                            "<tr><td>940</td><td>HL Road Pedal</td><td>Silver/Black</td><td>676</td></tr>",
                            "<tr><td>941</td><td>Touring Pedal</td><td>Silver/Black</td><td>147</td></tr>",
                            "<tr><td>942</td><td>ML Mountain Frame-W - Silver, 38</td><td>Silver</td><td>7</td></tr>",
                            "<tr><td>943</td><td>LL Mountain Frame - Black, 40</td><td>Black</td><td>8</td></tr>",
                            "<tr><td>944</td><td>LL Mountain Frame - Silver, 40</td><td>Silver</td><td>442</td></tr>",
                            "<tr><td>945</td><td>Front Derailleur</td><td>Silver</td><td>813</td></tr>",
                            "<tr><td>946</td><td>LL Touring Handlebars</td><td>NULL</td><td>56</td></tr>",
                            "<tr><td>947</td><td>HL Touring Handlebars</td><td>NULL</td><td>220</td></tr>",
                            "<tr><td>948</td><td>Front Brakes</td><td>Silver</td><td>789</td></tr>",
                            "<tr><td>949</td><td>LL Crankset</td><td>Black</td><td>426</td></tr>",
                            "<tr><td>950</td><td>ML Crankset</td><td>Black</td><td>68</td></tr>",
                            "<tr><td>951</td><td>HL Crankset</td><td>Black</td><td>613</td></tr>",
                            "<tr><td>952</td><td>Chain</td><td>Silver</td><td>774</td></tr>",
                            "<tr><td>953</td><td>Touring-2000 Blue, 60</td><td>Blue</td><td>820</td></tr>",
                            "<tr><td>954</td><td>Touring-1000 Yellow, 46</td><td>Yellow</td><td>1005</td></tr>",
                            "<tr><td>955</td><td>Touring-1000 Yellow, 50</td><td>Yellow</td><td>652</td></tr>",
                            "<tr><td>956</td><td>Touring-1000 Yellow, 54</td><td>Yellow</td><td>397</td></tr>",
                            "<tr><td>957</td><td>Touring-1000 Yellow, 60</td><td>Yellow</td><td>1114</td></tr>",
                            "<tr><td>958</td><td>Touring-3000 Blue, 54</td><td>Blue</td><td>686</td></tr>",
                            "<tr><td>959</td><td>Touring-3000 Blue, 58</td><td>Blue</td><td>482</td></tr>",
                            "<tr><td>960</td><td>Touring-3000 Blue, 62</td><td>Blue</td><td>281</td></tr>",
                            "<tr><td>961</td><td>Touring-3000 Yellow, 44</td><td>Yellow</td><td>851</td></tr>",
                            "<tr><td>962</td><td>Touring-3000 Yellow, 50</td><td>Yellow</td><td>686</td></tr>",
                            "<tr><td>963</td><td>Touring-3000 Yellow, 54</td><td>Yellow</td><td>453</td></tr>",
                            "<tr><td>964</td><td>Touring-3000 Yellow, 58</td><td>Yellow</td><td>293</td></tr>",
                            "<tr><td>965</td><td>Touring-3000 Yellow, 62</td><td>Yellow</td><td>844</td></tr>",
                            "<tr><td>966</td><td>Touring-1000 Blue, 46</td><td>Blue</td><td>1002</td></tr>",
                            "<tr><td>967</td><td>Touring-1000 Blue, 50</td><td>Blue</td><td>649</td></tr>",
                            "<tr><td>968</td><td>Touring-1000 Blue, 54</td><td>Blue</td><td>413</td></tr>",
                            "<tr><td>969</td><td>Touring-1000 Blue, 60</td><td>Blue</td><td>1120</td></tr>",
                            "<tr><td>970</td><td>Touring-2000 Blue, 46</td><td>Blue</td><td>538</td></tr>",
                            "<tr><td>971</td><td>Touring-2000 Blue, 50</td><td>Blue</td><td>322</td></tr>",
                            "<tr><td>972</td><td>Touring-2000 Blue, 54</td><td>Blue</td><td>1010</td></tr>",
                            "<tr><td>973</td><td>Road-350-W Yellow, 40</td><td>Yellow</td><td>1477</td></tr>",
                            "<tr><td>974</td><td>Road-350-W Yellow, 42</td><td>Yellow</td><td>944</td></tr>",
                            "<tr><td>975</td><td>Road-350-W Yellow, 44</td><td>Yellow</td><td>536</td></tr>",
                            "<tr><td>976</td><td>Road-350-W Yellow, 48</td><td>Yellow</td><td>1622</td></tr>",
                            "<tr><td>977</td><td>Road-750 Black, 58</td><td>Black</td><td>892</td></tr>",
                            "<tr><td>978</td><td>Touring-3000 Blue, 44</td><td>Blue</td><td>292</td></tr>",
                            "<tr><td>979</td><td>Touring-3000 Blue, 50</td><td>Blue</td><td>841</td></tr>",
                            "<tr><td>980</td><td>Mountain-400-W Silver, 38</td><td>Silver</td><td>425</td></tr>",
                            "<tr><td>981</td><td>Mountain-400-W Silver, 40</td><td>Silver</td><td>617</td></tr>",
                            "<tr><td>982</td><td>Mountain-400-W Silver, 42</td><td>Silver</td><td>385</td></tr>",
                            "<tr><td>983</td><td>Mountain-400-W Silver, 46</td><td>Silver</td><td>401</td></tr>",
                            "<tr><td>984</td><td>Mountain-500 Silver, 40</td><td>Silver</td><td>450</td></tr>",
                            "<tr><td>985</td><td>Mountain-500 Silver, 42</td><td>Silver</td><td>455</td></tr>",
                            "<tr><td>986</td><td>Mountain-500 Silver, 44</td><td>Silver</td><td>381</td></tr>",
                            "<tr><td>987</td><td>Mountain-500 Silver, 48</td><td>Silver</td><td>457</td></tr>",
                            "<tr><td>988</td><td>Mountain-500 Silver, 52</td><td>Silver</td><td>515</td></tr>",
                            "<tr><td>989</td><td>Mountain-500 Black, 40</td><td>Black</td><td>282</td></tr>",
                            "<tr><td>990</td><td>Mountain-500 Black, 42</td><td>Black</td><td>388</td></tr>",
                            "<tr><td>991</td><td>Mountain-500 Black, 44</td><td>Black</td><td>350</td></tr>",
                            "<tr><td>992</td><td>Mountain-500 Black, 48</td><td>Black</td><td>449</td></tr>",
                            "<tr><td>993</td><td>Mountain-500 Black, 52</td><td>Black</td><td>272</td></tr>",
                            "<tr><td>994</td><td>LL Bottom Bracket</td><td>NULL</td><td>378</td></tr>",
                            "<tr><td>995</td><td>ML Bottom Bracket</td><td>NULL</td><td>NULL</td></tr>",
                            "<tr><td>996</td><td>HL Bottom Bracket</td><td>NULL</td><td>543</td></tr>",
                            "<tr><td>997</td><td>Road-750 Black, 44</td><td>Black</td><td>656</td></tr>",
                            "<tr><td>998</td><td>Road-750 Black, 48</td><td>Black</td><td>1556</td></tr>",
                            "<tr><td>999</td><td>Road-750 Black, 52</td><td>Black</td><td>1338</td></tr>",
                            "</table>"
                        ]
                    }
                }
            ],
            "execution_count": 17
        },
        {
            "cell_type": "markdown",
            "source": [
                "2.\tChange the query you wrote in Lab 2 Question 1 so that the Average of OrderQty for each product is also included. "
            ],
            "metadata": {
                "azdata_cell_guid": "29e07cd4-f4d1-4790-b847-71113bf1a8bf"
            }
        },
        {
            "cell_type": "code",
            "source": [
                "SELECT p.ProductID, p.Name, p.Color,\n",
                "    (SELECT SUM(sod.OrderQty)\n",
                "    FROM Sales.SalesOrderDetail as sod\n",
                "    WHERE sod.ProductID = p.ProductID) AS TotalQty,\n",
                "    (SELECT AVG(sod.OrderQty)\n",
                "    FROM Sales.SalesOrderDetail as sod\n",
                "    WHERE sod.ProductID = p.ProductID) AS AveOrderQty\n",
                "FROM Production.Product AS p\n",
                "WHERE p.FinishedGoodsFlag = '1';"
            ],
            "metadata": {
                "azdata_cell_guid": "419d6d12-3904-44fb-8956-19080773a810"
            },
            "outputs": [
                {
                    "output_type": "display_data",
                    "data": {
                        "text/html": "(295 rows affected)"
                    },
                    "metadata": {}
                },
                {
                    "output_type": "display_data",
                    "data": {
                        "text/html": "Total execution time: 00:00:00.278"
                    },
                    "metadata": {}
                },
                {
                    "output_type": "execute_result",
                    "metadata": {},
                    "execution_count": 20,
                    "data": {
                        "application/vnd.dataresource+json": {
                            "schema": {
                                "fields": [
                                    {
                                        "name": "ProductID"
                                    },
                                    {
                                        "name": "Name"
                                    },
                                    {
                                        "name": "Color"
                                    },
                                    {
                                        "name": "TotalQty"
                                    },
                                    {
                                        "name": "AveOrderQty"
                                    }
                                ]
                            },
                            "data": [
                                {
                                    "0": "680",
                                    "1": "HL Road Frame - Black, 58",
                                    "2": "Black",
                                    "3": "NULL",
                                    "4": "NULL"
                                },
                                {
                                    "0": "706",
                                    "1": "HL Road Frame - Red, 58",
                                    "2": "Red",
                                    "3": "NULL",
                                    "4": "NULL"
                                },
                                {
                                    "0": "707",
                                    "1": "Sport-100 Helmet, Red",
                                    "2": "Red",
                                    "3": "6266",
                                    "4": "2"
                                },
                                {
                                    "0": "708",
                                    "1": "Sport-100 Helmet, Black",
                                    "2": "Black",
                                    "3": "6532",
                                    "4": "2"
                                },
                                {
                                    "0": "709",
                                    "1": "Mountain Bike Socks, M",
                                    "2": "White",
                                    "3": "1107",
                                    "4": "5"
                                },
                                {
                                    "0": "710",
                                    "1": "Mountain Bike Socks, L",
                                    "2": "White",
                                    "3": "90",
                                    "4": "2"
                                },
                                {
                                    "0": "711",
                                    "1": "Sport-100 Helmet, Blue",
                                    "2": "Blue",
                                    "3": "6743",
                                    "4": "2"
                                },
                                {
                                    "0": "712",
                                    "1": "AWC Logo Cap",
                                    "2": "Multi",
                                    "3": "8311",
                                    "4": "2"
                                },
                                {
                                    "0": "713",
                                    "1": "Long-Sleeve Logo Jersey, S",
                                    "2": "Multi",
                                    "3": "429",
                                    "4": "1"
                                },
                                {
                                    "0": "714",
                                    "1": "Long-Sleeve Logo Jersey, M",
                                    "2": "Multi",
                                    "3": "3636",
                                    "4": "2"
                                },
                                {
                                    "0": "715",
                                    "1": "Long-Sleeve Logo Jersey, L",
                                    "2": "Multi",
                                    "3": "6592",
                                    "4": "4"
                                },
                                {
                                    "0": "716",
                                    "1": "Long-Sleeve Logo Jersey, XL",
                                    "2": "Multi",
                                    "3": "2980",
                                    "4": "2"
                                },
                                {
                                    "0": "717",
                                    "1": "HL Road Frame - Red, 62",
                                    "2": "Red",
                                    "3": "485",
                                    "4": "2"
                                },
                                {
                                    "0": "718",
                                    "1": "HL Road Frame - Red, 44",
                                    "2": "Red",
                                    "3": "486",
                                    "4": "2"
                                },
                                {
                                    "0": "719",
                                    "1": "HL Road Frame - Red, 48",
                                    "2": "Red",
                                    "3": "109",
                                    "4": "2"
                                },
                                {
                                    "0": "720",
                                    "1": "HL Road Frame - Red, 52",
                                    "2": "Red",
                                    "3": "NULL",
                                    "4": "NULL"
                                },
                                {
                                    "0": "721",
                                    "1": "HL Road Frame - Red, 56",
                                    "2": "Red",
                                    "3": "NULL",
                                    "4": "NULL"
                                },
                                {
                                    "0": "722",
                                    "1": "LL Road Frame - Black, 58",
                                    "2": "Black",
                                    "3": "940",
                                    "4": "2"
                                },
                                {
                                    "0": "723",
                                    "1": "LL Road Frame - Black, 60",
                                    "2": "Black",
                                    "3": "129",
                                    "4": "2"
                                },
                                {
                                    "0": "724",
                                    "1": "LL Road Frame - Black, 62",
                                    "2": "Black",
                                    "3": "NULL",
                                    "4": "NULL"
                                },
                                {
                                    "0": "725",
                                    "1": "LL Road Frame - Red, 44",
                                    "2": "Red",
                                    "3": "991",
                                    "4": "2"
                                },
                                {
                                    "0": "726",
                                    "1": "LL Road Frame - Red, 48",
                                    "2": "Red",
                                    "3": "671",
                                    "4": "2"
                                },
                                {
                                    "0": "727",
                                    "1": "LL Road Frame - Red, 52",
                                    "2": "Red",
                                    "3": "100",
                                    "4": "2"
                                },
                                {
                                    "0": "728",
                                    "1": "LL Road Frame - Red, 58",
                                    "2": "Red",
                                    "3": "NULL",
                                    "4": "NULL"
                                },
                                {
                                    "0": "729",
                                    "1": "LL Road Frame - Red, 60",
                                    "2": "Red",
                                    "3": "996",
                                    "4": "2"
                                },
                                {
                                    "0": "730",
                                    "1": "LL Road Frame - Red, 62",
                                    "2": "Red",
                                    "3": "697",
                                    "4": "2"
                                },
                                {
                                    "0": "731",
                                    "1": "ML Road Frame - Red, 44",
                                    "2": "Red",
                                    "3": "NULL",
                                    "4": "NULL"
                                },
                                {
                                    "0": "732",
                                    "1": "ML Road Frame - Red, 48",
                                    "2": "Red",
                                    "3": "250",
                                    "4": "1"
                                },
                                {
                                    "0": "733",
                                    "1": "ML Road Frame - Red, 52",
                                    "2": "Red",
                                    "3": "90",
                                    "4": "2"
                                },
                                {
                                    "0": "734",
                                    "1": "ML Road Frame - Red, 58",
                                    "2": "Red",
                                    "3": "NULL",
                                    "4": "NULL"
                                },
                                {
                                    "0": "735",
                                    "1": "ML Road Frame - Red, 60",
                                    "2": "Red",
                                    "3": "NULL",
                                    "4": "NULL"
                                },
                                {
                                    "0": "736",
                                    "1": "LL Road Frame - Black, 44",
                                    "2": "Black",
                                    "3": "238",
                                    "4": "2"
                                },
                                {
                                    "0": "737",
                                    "1": "LL Road Frame - Black, 48",
                                    "2": "Black",
                                    "3": "NULL",
                                    "4": "NULL"
                                },
                                {
                                    "0": "738",
                                    "1": "LL Road Frame - Black, 52",
                                    "2": "Black",
                                    "3": "1581",
                                    "4": "2"
                                },
                                {
                                    "0": "739",
                                    "1": "HL Mountain Frame - Silver, 42",
                                    "2": "Silver",
                                    "3": "347",
                                    "4": "2"
                                },
                                {
                                    "0": "740",
                                    "1": "HL Mountain Frame - Silver, 44",
                                    "2": "Silver",
                                    "3": "NULL",
                                    "4": "NULL"
                                },
                                {
                                    "0": "741",
                                    "1": "HL Mountain Frame - Silver, 48",
                                    "2": "Silver",
                                    "3": "173",
                                    "4": "1"
                                },
                                {
                                    "0": "742",
                                    "1": "HL Mountain Frame - Silver, 46",
                                    "2": "Silver",
                                    "3": "649",
                                    "4": "2"
                                },
                                {
                                    "0": "743",
                                    "1": "HL Mountain Frame - Black, 42",
                                    "2": "Black",
                                    "3": "1181",
                                    "4": "2"
                                },
                                {
                                    "0": "744",
                                    "1": "HL Mountain Frame - Black, 44",
                                    "2": "Black",
                                    "3": "17",
                                    "4": "1"
                                },
                                {
                                    "0": "745",
                                    "1": "HL Mountain Frame - Black, 48",
                                    "2": "Black",
                                    "3": "131",
                                    "4": "1"
                                },
                                {
                                    "0": "746",
                                    "1": "HL Mountain Frame - Black, 46",
                                    "2": "Black",
                                    "3": "NULL",
                                    "4": "NULL"
                                },
                                {
                                    "0": "747",
                                    "1": "HL Mountain Frame - Black, 38",
                                    "2": "Black",
                                    "3": "659",
                                    "4": "2"
                                },
                                {
                                    "0": "748",
                                    "1": "HL Mountain Frame - Silver, 38",
                                    "2": "Silver",
                                    "3": "1206",
                                    "4": "2"
                                },
                                {
                                    "0": "749",
                                    "1": "Road-150 Red, 62",
                                    "2": "Red",
                                    "3": "600",
                                    "4": "1"
                                },
                                {
                                    "0": "750",
                                    "1": "Road-150 Red, 44",
                                    "2": "Red",
                                    "3": "437",
                                    "4": "1"
                                },
                                {
                                    "0": "751",
                                    "1": "Road-150 Red, 48",
                                    "2": "Red",
                                    "3": "493",
                                    "4": "1"
                                },
                                {
                                    "0": "752",
                                    "1": "Road-150 Red, 52",
                                    "2": "Red",
                                    "3": "458",
                                    "4": "1"
                                },
                                {
                                    "0": "753",
                                    "1": "Road-150 Red, 56",
                                    "2": "Red",
                                    "3": "664",
                                    "4": "1"
                                },
                                {
                                    "0": "754",
                                    "1": "Road-450 Red, 58",
                                    "2": "Red",
                                    "3": "582",
                                    "4": "2"
                                },
                                {
                                    "0": "755",
                                    "1": "Road-450 Red, 60",
                                    "2": "Red",
                                    "3": "350",
                                    "4": "2"
                                },
                                {
                                    "0": "756",
                                    "1": "Road-450 Red, 44",
                                    "2": "Red",
                                    "3": "346",
                                    "4": "2"
                                },
                                {
                                    "0": "757",
                                    "1": "Road-450 Red, 48",
                                    "2": "Red",
                                    "3": "156",
                                    "4": "2"
                                },
                                {
                                    "0": "758",
                                    "1": "Road-450 Red, 52",
                                    "2": "Red",
                                    "3": "710",
                                    "4": "2"
                                },
                                {
                                    "0": "759",
                                    "1": "Road-650 Red, 58",
                                    "2": "Red",
                                    "3": "618",
                                    "4": "2"
                                },
                                {
                                    "0": "760",
                                    "1": "Road-650 Red, 60",
                                    "2": "Red",
                                    "3": "2232",
                                    "4": "3"
                                },
                                {
                                    "0": "761",
                                    "1": "Road-650 Red, 62",
                                    "2": "Red",
                                    "3": "1896",
                                    "4": "2"
                                },
                                {
                                    "0": "762",
                                    "1": "Road-650 Red, 44",
                                    "2": "Red",
                                    "3": "2254",
                                    "4": "3"
                                },
                                {
                                    "0": "763",
                                    "1": "Road-650 Red, 48",
                                    "2": "Red",
                                    "3": "1888",
                                    "4": "2"
                                },
                                {
                                    "0": "764",
                                    "1": "Road-650 Red, 52",
                                    "2": "Red",
                                    "3": "1112",
                                    "4": "2"
                                },
                                {
                                    "0": "765",
                                    "1": "Road-650 Black, 58",
                                    "2": "Black",
                                    "3": "1871",
                                    "4": "2"
                                },
                                {
                                    "0": "766",
                                    "1": "Road-650 Black, 60",
                                    "2": "Black",
                                    "3": "1100",
                                    "4": "2"
                                },
                                {
                                    "0": "767",
                                    "1": "Road-650 Black, 62",
                                    "2": "Black",
                                    "3": "644",
                                    "4": "2"
                                },
                                {
                                    "0": "768",
                                    "1": "Road-650 Black, 44",
                                    "2": "Black",
                                    "3": "1080",
                                    "4": "2"
                                },
                                {
                                    "0": "769",
                                    "1": "Road-650 Black, 48",
                                    "2": "Black",
                                    "3": "644",
                                    "4": "2"
                                },
                                {
                                    "0": "770",
                                    "1": "Road-650 Black, 52",
                                    "2": "Black",
                                    "3": "2270",
                                    "4": "3"
                                },
                                {
                                    "0": "771",
                                    "1": "Mountain-100 Silver, 38",
                                    "2": "Silver",
                                    "3": "642",
                                    "4": "2"
                                },
                                {
                                    "0": "772",
                                    "1": "Mountain-100 Silver, 42",
                                    "2": "Silver",
                                    "3": "593",
                                    "4": "2"
                                },
                                {
                                    "0": "773",
                                    "1": "Mountain-100 Silver, 44",
                                    "2": "Silver",
                                    "3": "601",
                                    "4": "2"
                                },
                                {
                                    "0": "774",
                                    "1": "Mountain-100 Silver, 48",
                                    "2": "Silver",
                                    "3": "505",
                                    "4": "2"
                                },
                                {
                                    "0": "775",
                                    "1": "Mountain-100 Black, 38",
                                    "2": "Black",
                                    "3": "682",
                                    "4": "2"
                                },
                                {
                                    "0": "776",
                                    "1": "Mountain-100 Black, 42",
                                    "2": "Black",
                                    "3": "634",
                                    "4": "2"
                                },
                                {
                                    "0": "777",
                                    "1": "Mountain-100 Black, 44",
                                    "2": "Black",
                                    "3": "678",
                                    "4": "2"
                                },
                                {
                                    "0": "778",
                                    "1": "Mountain-100 Black, 48",
                                    "2": "Black",
                                    "3": "616",
                                    "4": "2"
                                },
                                {
                                    "0": "779",
                                    "1": "Mountain-200 Silver, 38",
                                    "2": "Silver",
                                    "3": "2394",
                                    "4": "2"
                                },
                                {
                                    "0": "780",
                                    "1": "Mountain-200 Silver, 42",
                                    "2": "Silver",
                                    "3": "2234",
                                    "4": "2"
                                },
                                {
                                    "0": "781",
                                    "1": "Mountain-200 Silver, 46",
                                    "2": "Silver",
                                    "3": "2216",
                                    "4": "2"
                                },
                                {
                                    "0": "782",
                                    "1": "Mountain-200 Black, 38",
                                    "2": "Black",
                                    "3": "2977",
                                    "4": "2"
                                },
                                {
                                    "0": "783",
                                    "1": "Mountain-200 Black, 42",
                                    "2": "Black",
                                    "3": "2664",
                                    "4": "2"
                                },
                                {
                                    "0": "784",
                                    "1": "Mountain-200 Black, 46",
                                    "2": "Black",
                                    "3": "2111",
                                    "4": "1"
                                },
                                {
                                    "0": "785",
                                    "1": "Mountain-300 Black, 38",
                                    "2": "Black",
                                    "3": "684",
                                    "4": "3"
                                },
                                {
                                    "0": "786",
                                    "1": "Mountain-300 Black, 40",
                                    "2": "Black",
                                    "3": "776",
                                    "4": "3"
                                },
                                {
                                    "0": "787",
                                    "1": "Mountain-300 Black, 44",
                                    "2": "Black",
                                    "3": "747",
                                    "4": "3"
                                },
                                {
                                    "0": "788",
                                    "1": "Mountain-300 Black, 48",
                                    "2": "Black",
                                    "3": "740",
                                    "4": "3"
                                },
                                {
                                    "0": "789",
                                    "1": "Road-250 Red, 44",
                                    "2": "Red",
                                    "3": "895",
                                    "4": "2"
                                },
                                {
                                    "0": "790",
                                    "1": "Road-250 Red, 48",
                                    "2": "Red",
                                    "3": "812",
                                    "4": "2"
                                },
                                {
                                    "0": "791",
                                    "1": "Road-250 Red, 52",
                                    "2": "Red",
                                    "3": "639",
                                    "4": "2"
                                },
                                {
                                    "0": "792",
                                    "1": "Road-250 Red, 58",
                                    "2": "Red",
                                    "3": "946",
                                    "4": "1"
                                },
                                {
                                    "0": "793",
                                    "1": "Road-250 Black, 44",
                                    "2": "Black",
                                    "3": "1642",
                                    "4": "2"
                                },
                                {
                                    "0": "794",
                                    "1": "Road-250 Black, 48",
                                    "2": "Black",
                                    "3": "1498",
                                    "4": "2"
                                },
                                {
                                    "0": "795",
                                    "1": "Road-250 Black, 52",
                                    "2": "Black",
                                    "3": "1245",
                                    "4": "1"
                                },
                                {
                                    "0": "796",
                                    "1": "Road-250 Black, 58",
                                    "2": "Black",
                                    "3": "910",
                                    "4": "1"
                                },
                                {
                                    "0": "797",
                                    "1": "Road-550-W Yellow, 38",
                                    "2": "Yellow",
                                    "3": "1744",
                                    "4": "2"
                                },
                                {
                                    "0": "798",
                                    "1": "Road-550-W Yellow, 40",
                                    "2": "Yellow",
                                    "3": "1500",
                                    "4": "2"
                                },
                                {
                                    "0": "799",
                                    "1": "Road-550-W Yellow, 42",
                                    "2": "Yellow",
                                    "3": "1249",
                                    "4": "1"
                                },
                                {
                                    "0": "800",
                                    "1": "Road-550-W Yellow, 44",
                                    "2": "Yellow",
                                    "3": "927",
                                    "4": "1"
                                },
                                {
                                    "0": "801",
                                    "1": "Road-550-W Yellow, 48",
                                    "2": "Yellow",
                                    "3": "1763",
                                    "4": "2"
                                },
                                {
                                    "0": "802",
                                    "1": "LL Fork",
                                    "2": "NULL",
                                    "3": "190",
                                    "4": "2"
                                },
                                {
                                    "0": "803",
                                    "1": "ML Fork",
                                    "2": "NULL",
                                    "3": "NULL",
                                    "4": "NULL"
                                },
                                {
                                    "0": "804",
                                    "1": "HL Fork",
                                    "2": "NULL",
                                    "3": "444",
                                    "4": "3"
                                },
                                {
                                    "0": "805",
                                    "1": "LL Headset",
                                    "2": "NULL",
                                    "3": "95",
                                    "4": "2"
                                },
                                {
                                    "0": "806",
                                    "1": "ML Headset",
                                    "2": "NULL",
                                    "3": "659",
                                    "4": "5"
                                },
                                {
                                    "0": "807",
                                    "1": "HL Headset",
                                    "2": "NULL",
                                    "3": "255",
                                    "4": "2"
                                },
                                {
                                    "0": "808",
                                    "1": "LL Mountain Handlebars",
                                    "2": "NULL",
                                    "3": "865",
                                    "4": "2"
                                },
                                {
                                    "0": "809",
                                    "1": "ML Mountain Handlebars",
                                    "2": "NULL",
                                    "3": "1465",
                                    "4": "2"
                                },
                                {
                                    "0": "810",
                                    "1": "HL Mountain Handlebars",
                                    "2": "NULL",
                                    "3": "500",
                                    "4": "2"
                                },
                                {
                                    "0": "811",
                                    "1": "LL Road Handlebars",
                                    "2": "NULL",
                                    "3": "213",
                                    "4": "2"
                                },
                                {
                                    "0": "812",
                                    "1": "ML Road Handlebars",
                                    "2": "NULL",
                                    "3": "NULL",
                                    "4": "NULL"
                                },
                                {
                                    "0": "813",
                                    "1": "HL Road Handlebars",
                                    "2": "NULL",
                                    "3": "631",
                                    "4": "2"
                                },
                                {
                                    "0": "814",
                                    "1": "ML Mountain Frame - Black, 38",
                                    "2": "Black",
                                    "3": "514",
                                    "4": "2"
                                },
                                {
                                    "0": "815",
                                    "1": "LL Mountain Front Wheel",
                                    "2": "Black",
                                    "3": "617",
                                    "4": "2"
                                },
                                {
                                    "0": "816",
                                    "1": "ML Mountain Front Wheel",
                                    "2": "Black",
                                    "3": "266",
                                    "4": "2"
                                },
                                {
                                    "0": "817",
                                    "1": "HL Mountain Front Wheel",
                                    "2": "Black",
                                    "3": "222",
                                    "4": "2"
                                },
                                {
                                    "0": "818",
                                    "1": "LL Road Front Wheel",
                                    "2": "Black",
                                    "3": "NULL",
                                    "4": "NULL"
                                },
                                {
                                    "0": "819",
                                    "1": "ML Road Front Wheel",
                                    "2": "Black",
                                    "3": "532",
                                    "4": "2"
                                },
                                {
                                    "0": "820",
                                    "1": "HL Road Front Wheel",
                                    "2": "Black",
                                    "3": "567",
                                    "4": "2"
                                },
                                {
                                    "0": "821",
                                    "1": "Touring Front Wheel",
                                    "2": "Black",
                                    "3": "NULL",
                                    "4": "NULL"
                                },
                                {
                                    "0": "822",
                                    "1": "ML Road Frame-W - Yellow, 38",
                                    "2": "Yellow",
                                    "3": "895",
                                    "4": "2"
                                },
                                {
                                    "0": "823",
                                    "1": "LL Mountain Rear Wheel",
                                    "2": "Black",
                                    "3": "342",
                                    "4": "2"
                                },
                                {
                                    "0": "824",
                                    "1": "ML Mountain Rear Wheel",
                                    "2": "Black",
                                    "3": "851",
                                    "4": "3"
                                },
                                {
                                    "0": "825",
                                    "1": "HL Mountain Rear Wheel",
                                    "2": "Black",
                                    "3": "850",
                                    "4": "3"
                                },
                                {
                                    "0": "826",
                                    "1": "LL Road Rear Wheel",
                                    "2": "Black",
                                    "3": "868",
                                    "4": "2"
                                },
                                {
                                    "0": "827",
                                    "1": "ML Road Rear Wheel",
                                    "2": "Black",
                                    "3": "64",
                                    "4": "2"
                                },
                                {
                                    "0": "828",
                                    "1": "HL Road Rear Wheel",
                                    "2": "Black",
                                    "3": "94",
                                    "4": "2"
                                },
                                {
                                    "0": "829",
                                    "1": "Touring Rear Wheel",
                                    "2": "Black",
                                    "3": "NULL",
                                    "4": "NULL"
                                },
                                {
                                    "0": "830",
                                    "1": "ML Mountain Frame - Black, 40",
                                    "2": "Black",
                                    "3": "68",
                                    "4": "2"
                                },
                                {
                                    "0": "831",
                                    "1": "ML Mountain Frame - Black, 44",
                                    "2": "Black",
                                    "3": "619",
                                    "4": "3"
                                },
                                {
                                    "0": "832",
                                    "1": "ML Mountain Frame - Black, 48",
                                    "2": "Black",
                                    "3": "959",
                                    "4": "3"
                                },
                                {
                                    "0": "833",
                                    "1": "ML Road Frame-W - Yellow, 40",
                                    "2": "Yellow",
                                    "3": "203",
                                    "4": "2"
                                },
                                {
                                    "0": "834",
                                    "1": "ML Road Frame-W - Yellow, 42",
                                    "2": "Yellow",
                                    "3": "NULL",
                                    "4": "NULL"
                                },
                                {
                                    "0": "835",
                                    "1": "ML Road Frame-W - Yellow, 44",
                                    "2": "Yellow",
                                    "3": "1435",
                                    "4": "2"
                                },
                                {
                                    "0": "836",
                                    "1": "ML Road Frame-W - Yellow, 48",
                                    "2": "Yellow",
                                    "3": "889",
                                    "4": "2"
                                },
                                {
                                    "0": "837",
                                    "1": "HL Road Frame - Black, 62",
                                    "2": "Black",
                                    "3": "NULL",
                                    "4": "NULL"
                                },
                                {
                                    "0": "838",
                                    "1": "HL Road Frame - Black, 44",
                                    "2": "Black",
                                    "3": "459",
                                    "4": "2"
                                },
                                {
                                    "0": "839",
                                    "1": "HL Road Frame - Black, 48",
                                    "2": "Black",
                                    "3": "109",
                                    "4": "2"
                                },
                                {
                                    "0": "840",
                                    "1": "HL Road Frame - Black, 52",
                                    "2": "Black",
                                    "3": "NULL",
                                    "4": "NULL"
                                },
                                {
                                    "0": "841",
                                    "1": "Men's Sports Shorts, S",
                                    "2": "Black",
                                    "3": "567",
                                    "4": "3"
                                },
                                {
                                    "0": "842",
                                    "1": "Touring-Panniers, Large",
                                    "2": "Grey",
                                    "3": "NULL",
                                    "4": "NULL"
                                },
                                {
                                    "0": "843",
                                    "1": "Cable Lock",
                                    "2": "NULL",
                                    "3": "1087",
                                    "4": "4"
                                },
                                {
                                    "0": "844",
                                    "1": "Minipump",
                                    "2": "NULL",
                                    "3": "1130",
                                    "4": "4"
                                },
                                {
                                    "0": "845",
                                    "1": "Mountain Pump",
                                    "2": "NULL",
                                    "3": "NULL",
                                    "4": "NULL"
                                },
                                {
                                    "0": "846",
                                    "1": "Taillights - Battery-Powered",
                                    "2": "NULL",
                                    "3": "NULL",
                                    "4": "NULL"
                                },
                                {
                                    "0": "847",
                                    "1": "Headlights - Dual-Beam",
                                    "2": "NULL",
                                    "3": "NULL",
                                    "4": "NULL"
                                },
                                {
                                    "0": "848",
                                    "1": "Headlights - Weatherproof",
                                    "2": "NULL",
                                    "3": "NULL",
                                    "4": "NULL"
                                },
                                {
                                    "0": "849",
                                    "1": "Men's Sports Shorts, M",
                                    "2": "Black",
                                    "3": "1276",
                                    "4": "4"
                                },
                                {
                                    "0": "850",
                                    "1": "Men's Sports Shorts, L",
                                    "2": "Black",
                                    "3": "445",
                                    "4": "3"
                                },
                                {
                                    "0": "851",
                                    "1": "Men's Sports Shorts, XL",
                                    "2": "Black",
                                    "3": "NULL",
                                    "4": "NULL"
                                },
                                {
                                    "0": "852",
                                    "1": "Women's Tights, S",
                                    "2": "Black",
                                    "3": "2072",
                                    "4": "4"
                                },
                                {
                                    "0": "853",
                                    "1": "Women's Tights, M",
                                    "2": "Black",
                                    "3": "394",
                                    "4": "3"
                                },
                                {
                                    "0": "854",
                                    "1": "Women's Tights, L",
                                    "2": "Black",
                                    "3": "2123",
                                    "4": "4"
                                },
                                {
                                    "0": "855",
                                    "1": "Men's Bib-Shorts, S",
                                    "2": "Multi",
                                    "3": "876",
                                    "4": "3"
                                },
                                {
                                    "0": "856",
                                    "1": "Men's Bib-Shorts, M",
                                    "2": "Multi",
                                    "3": "1616",
                                    "4": "4"
                                },
                                {
                                    "0": "857",
                                    "1": "Men's Bib-Shorts, L",
                                    "2": "Multi",
                                    "3": "633",
                                    "4": "3"
                                },
                                {
                                    "0": "858",
                                    "1": "Half-Finger Gloves, S",
                                    "2": "Black",
                                    "3": "2188",
                                    "4": "2"
                                },
                                {
                                    "0": "859",
                                    "1": "Half-Finger Gloves, M",
                                    "2": "Black",
                                    "3": "3464",
                                    "4": "3"
                                },
                                {
                                    "0": "860",
                                    "1": "Half-Finger Gloves, L",
                                    "2": "Black",
                                    "3": "1276",
                                    "4": "1"
                                },
                                {
                                    "0": "861",
                                    "1": "Full-Finger Gloves, S",
                                    "2": "Black",
                                    "3": "500",
                                    "4": "2"
                                },
                                {
                                    "0": "862",
                                    "1": "Full-Finger Gloves, M",
                                    "2": "Black",
                                    "3": "2206",
                                    "4": "6"
                                },
                                {
                                    "0": "863",
                                    "1": "Full-Finger Gloves, L",
                                    "2": "Black",
                                    "3": "3378",
                                    "4": "9"
                                },
                                {
                                    "0": "864",
                                    "1": "Classic Vest, S",
                                    "2": "Blue",
                                    "3": "4247",
                                    "4": "6"
                                },
                                {
                                    "0": "865",
                                    "1": "Classic Vest, M",
                                    "2": "Blue",
                                    "3": "2284",
                                    "4": "4"
                                },
                                {
                                    "0": "866",
                                    "1": "Classic Vest, L",
                                    "2": "Blue",
                                    "3": "207",
                                    "4": "1"
                                },
                                {
                                    "0": "867",
                                    "1": "Women's Mountain Shorts, S",
                                    "2": "Black",
                                    "3": "3296",
                                    "4": "5"
                                },
                                {
                                    "0": "868",
                                    "1": "Women's Mountain Shorts, M",
                                    "2": "Black",
                                    "3": "1139",
                                    "4": "1"
                                },
                                {
                                    "0": "869",
                                    "1": "Women's Mountain Shorts, L",
                                    "2": "Black",
                                    "3": "3244",
                                    "4": "4"
                                },
                                {
                                    "0": "870",
                                    "1": "Water Bottle - 30 oz.",
                                    "2": "NULL",
                                    "3": "6815",
                                    "4": "1"
                                },
                                {
                                    "0": "871",
                                    "1": "Mountain Bottle Cage",
                                    "2": "NULL",
                                    "3": "2025",
                                    "4": "1"
                                },
                                {
                                    "0": "872",
                                    "1": "Road Bottle Cage",
                                    "2": "NULL",
                                    "3": "1712",
                                    "4": "1"
                                },
                                {
                                    "0": "873",
                                    "1": "Patch Kit/8 Patches",
                                    "2": "NULL",
                                    "3": "3865",
                                    "4": "1"
                                },
                                {
                                    "0": "874",
                                    "1": "Racing Socks, M",
                                    "2": "White",
                                    "3": "1547",
                                    "4": "2"
                                },
                                {
                                    "0": "875",
                                    "1": "Racing Socks, L",
                                    "2": "White",
                                    "3": "2473",
                                    "4": "4"
                                },
                                {
                                    "0": "876",
                                    "1": "Hitch Rack - 4-Bike",
                                    "2": "NULL",
                                    "3": "3166",
                                    "4": "3"
                                },
                                {
                                    "0": "877",
                                    "1": "Bike Wash - Dissolver",
                                    "2": "NULL",
                                    "3": "3319",
                                    "4": "2"
                                },
                                {
                                    "0": "878",
                                    "1": "Fender Set - Mountain",
                                    "2": "NULL",
                                    "3": "2121",
                                    "4": "1"
                                },
                                {
                                    "0": "879",
                                    "1": "All-Purpose Bike Stand",
                                    "2": "NULL",
                                    "3": "249",
                                    "4": "1"
                                },
                                {
                                    "0": "880",
                                    "1": "Hydration Pack - 70 oz.",
                                    "2": "Silver",
                                    "3": "2761",
                                    "4": "2"
                                },
                                {
                                    "0": "881",
                                    "1": "Short-Sleeve Classic Jersey, S",
                                    "2": "Yellow",
                                    "3": "1955",
                                    "4": "2"
                                },
                                {
                                    "0": "882",
                                    "1": "Short-Sleeve Classic Jersey, M",
                                    "2": "Yellow",
                                    "3": "407",
                                    "4": "1"
                                },
                                {
                                    "0": "883",
                                    "1": "Short-Sleeve Classic Jersey, L",
                                    "2": "Yellow",
                                    "3": "2848",
                                    "4": "3"
                                },
                                {
                                    "0": "884",
                                    "1": "Short-Sleeve Classic Jersey, XL",
                                    "2": "Yellow",
                                    "3": "3864",
                                    "4": "4"
                                },
                                {
                                    "0": "885",
                                    "1": "HL Touring Frame - Yellow, 60",
                                    "2": "Yellow",
                                    "3": "387",
                                    "4": "2"
                                },
                                {
                                    "0": "886",
                                    "1": "LL Touring Frame - Yellow, 62",
                                    "2": "Yellow",
                                    "3": "348",
                                    "4": "2"
                                },
                                {
                                    "0": "887",
                                    "1": "HL Touring Frame - Yellow, 46",
                                    "2": "Yellow",
                                    "3": "87",
                                    "4": "2"
                                },
                                {
                                    "0": "888",
                                    "1": "HL Touring Frame - Yellow, 50",
                                    "2": "Yellow",
                                    "3": "83",
                                    "4": "2"
                                },
                                {
                                    "0": "889",
                                    "1": "HL Touring Frame - Yellow, 54",
                                    "2": "Yellow",
                                    "3": "540",
                                    "4": "3"
                                },
                                {
                                    "0": "890",
                                    "1": "HL Touring Frame - Blue, 46",
                                    "2": "Blue",
                                    "3": "114",
                                    "4": "1"
                                },
                                {
                                    "0": "891",
                                    "1": "HL Touring Frame - Blue, 50",
                                    "2": "Blue",
                                    "3": "124",
                                    "4": "2"
                                },
                                {
                                    "0": "892",
                                    "1": "HL Touring Frame - Blue, 54",
                                    "2": "Blue",
                                    "3": "542",
                                    "4": "3"
                                },
                                {
                                    "0": "893",
                                    "1": "HL Touring Frame - Blue, 60",
                                    "2": "Blue",
                                    "3": "371",
                                    "4": "2"
                                },
                                {
                                    "0": "894",
                                    "1": "Rear Derailleur",
                                    "2": "Silver",
                                    "3": "353",
                                    "4": "2"
                                },
                                {
                                    "0": "895",
                                    "1": "LL Touring Frame - Blue, 50",
                                    "2": "Blue",
                                    "3": "316",
                                    "4": "2"
                                },
                                {
                                    "0": "896",
                                    "1": "LL Touring Frame - Blue, 54",
                                    "2": "Blue",
                                    "3": "211",
                                    "4": "2"
                                },
                                {
                                    "0": "897",
                                    "1": "LL Touring Frame - Blue, 58",
                                    "2": "Blue",
                                    "3": "4",
                                    "4": "2"
                                },
                                {
                                    "0": "898",
                                    "1": "LL Touring Frame - Blue, 62",
                                    "2": "Blue",
                                    "3": "15",
                                    "4": "1"
                                },
                                {
                                    "0": "899",
                                    "1": "LL Touring Frame - Yellow, 44",
                                    "2": "Yellow",
                                    "3": "294",
                                    "4": "2"
                                },
                                {
                                    "0": "900",
                                    "1": "LL Touring Frame - Yellow, 50",
                                    "2": "Yellow",
                                    "3": "228",
                                    "4": "2"
                                },
                                {
                                    "0": "901",
                                    "1": "LL Touring Frame - Yellow, 54",
                                    "2": "Yellow",
                                    "3": "NULL",
                                    "4": "NULL"
                                },
                                {
                                    "0": "902",
                                    "1": "LL Touring Frame - Yellow, 58",
                                    "2": "Yellow",
                                    "3": "36",
                                    "4": "1"
                                },
                                {
                                    "0": "903",
                                    "1": "LL Touring Frame - Blue, 44",
                                    "2": "Blue",
                                    "3": "25",
                                    "4": "1"
                                },
                                {
                                    "0": "904",
                                    "1": "ML Mountain Frame-W - Silver, 40",
                                    "2": "Silver",
                                    "3": "899",
                                    "4": "3"
                                },
                                {
                                    "0": "905",
                                    "1": "ML Mountain Frame-W - Silver, 42",
                                    "2": "Silver",
                                    "3": "627",
                                    "4": "2"
                                },
                                {
                                    "0": "906",
                                    "1": "ML Mountain Frame-W - Silver, 46",
                                    "2": "Silver",
                                    "3": "188",
                                    "4": "2"
                                },
                                {
                                    "0": "907",
                                    "1": "Rear Brakes",
                                    "2": "Silver",
                                    "3": "246",
                                    "4": "2"
                                },
                                {
                                    "0": "908",
                                    "1": "LL Mountain Seat/Saddle",
                                    "2": "NULL",
                                    "3": "347",
                                    "4": "2"
                                },
                                {
                                    "0": "909",
                                    "1": "ML Mountain Seat/Saddle",
                                    "2": "NULL",
                                    "3": "534",
                                    "4": "3"
                                },
                                {
                                    "0": "910",
                                    "1": "HL Mountain Seat/Saddle",
                                    "2": "NULL",
                                    "3": "519",
                                    "4": "2"
                                },
                                {
                                    "0": "911",
                                    "1": "LL Road Seat/Saddle",
                                    "2": "NULL",
                                    "3": "10",
                                    "4": "1"
                                },
                                {
                                    "0": "912",
                                    "1": "ML Road Seat/Saddle",
                                    "2": "NULL",
                                    "3": "NULL",
                                    "4": "NULL"
                                },
                                {
                                    "0": "913",
                                    "1": "HL Road Seat/Saddle",
                                    "2": "NULL",
                                    "3": "134",
                                    "4": "2"
                                },
                                {
                                    "0": "914",
                                    "1": "LL Touring Seat/Saddle",
                                    "2": "NULL",
                                    "3": "91",
                                    "4": "2"
                                },
                                {
                                    "0": "915",
                                    "1": "ML Touring Seat/Saddle",
                                    "2": "NULL",
                                    "3": "84",
                                    "4": "2"
                                },
                                {
                                    "0": "916",
                                    "1": "HL Touring Seat/Saddle",
                                    "2": "NULL",
                                    "3": "426",
                                    "4": "2"
                                },
                                {
                                    "0": "917",
                                    "1": "LL Mountain Frame - Silver, 42",
                                    "2": "Silver",
                                    "3": "638",
                                    "4": "2"
                                },
                                {
                                    "0": "918",
                                    "1": "LL Mountain Frame - Silver, 44",
                                    "2": "Silver",
                                    "3": "371",
                                    "4": "2"
                                },
                                {
                                    "0": "919",
                                    "1": "LL Mountain Frame - Silver, 48",
                                    "2": "Silver",
                                    "3": "44",
                                    "4": "2"
                                },
                                {
                                    "0": "920",
                                    "1": "LL Mountain Frame - Silver, 52",
                                    "2": "Silver",
                                    "3": "425",
                                    "4": "2"
                                },
                                {
                                    "0": "921",
                                    "1": "Mountain Tire Tube",
                                    "2": "NULL",
                                    "3": "3095",
                                    "4": "1"
                                },
                                {
                                    "0": "922",
                                    "1": "Road Tire Tube",
                                    "2": "NULL",
                                    "3": "2376",
                                    "4": "1"
                                },
                                {
                                    "0": "923",
                                    "1": "Touring Tire Tube",
                                    "2": "NULL",
                                    "3": "1488",
                                    "4": "1"
                                },
                                {
                                    "0": "924",
                                    "1": "LL Mountain Frame - Black, 42",
                                    "2": "Black",
                                    "3": "423",
                                    "4": "2"
                                },
                                {
                                    "0": "925",
                                    "1": "LL Mountain Frame - Black, 44",
                                    "2": "Black",
                                    "3": "625",
                                    "4": "2"
                                },
                                {
                                    "0": "926",
                                    "1": "LL Mountain Frame - Black, 48",
                                    "2": "Black",
                                    "3": "386",
                                    "4": "2"
                                },
                                {
                                    "0": "927",
                                    "1": "LL Mountain Frame - Black, 52",
                                    "2": "Black",
                                    "3": "15",
                                    "4": "1"
                                },
                                {
                                    "0": "928",
                                    "1": "LL Mountain Tire",
                                    "2": "NULL",
                                    "3": "862",
                                    "4": "1"
                                },
                                {
                                    "0": "929",
                                    "1": "ML Mountain Tire",
                                    "2": "NULL",
                                    "3": "1161",
                                    "4": "1"
                                },
                                {
                                    "0": "930",
                                    "1": "HL Mountain Tire",
                                    "2": "NULL",
                                    "3": "1396",
                                    "4": "1"
                                },
                                {
                                    "0": "931",
                                    "1": "LL Road Tire",
                                    "2": "NULL",
                                    "3": "1044",
                                    "4": "1"
                                },
                                {
                                    "0": "932",
                                    "1": "ML Road Tire",
                                    "2": "NULL",
                                    "3": "926",
                                    "4": "1"
                                },
                                {
                                    "0": "933",
                                    "1": "HL Road Tire",
                                    "2": "NULL",
                                    "3": "858",
                                    "4": "1"
                                },
                                {
                                    "0": "934",
                                    "1": "Touring Tire",
                                    "2": "NULL",
                                    "3": "935",
                                    "4": "1"
                                },
                                {
                                    "0": "935",
                                    "1": "LL Mountain Pedal",
                                    "2": "Silver/Black",
                                    "3": "449",
                                    "4": "2"
                                },
                                {
                                    "0": "936",
                                    "1": "ML Mountain Pedal",
                                    "2": "Silver/Black",
                                    "3": "345",
                                    "4": "2"
                                },
                                {
                                    "0": "937",
                                    "1": "HL Mountain Pedal",
                                    "2": "Silver/Black",
                                    "3": "785",
                                    "4": "3"
                                },
                                {
                                    "0": "938",
                                    "1": "LL Road Pedal",
                                    "2": "Silver/Black",
                                    "3": "868",
                                    "4": "2"
                                },
                                {
                                    "0": "939",
                                    "1": "ML Road Pedal",
                                    "2": "Silver/Black",
                                    "3": "661",
                                    "4": "2"
                                },
                                {
                                    "0": "940",
                                    "1": "HL Road Pedal",
                                    "2": "Silver/Black",
                                    "3": "676",
                                    "4": "2"
                                },
                                {
                                    "0": "941",
                                    "1": "Touring Pedal",
                                    "2": "Silver/Black",
                                    "3": "147",
                                    "4": "2"
                                },
                                {
                                    "0": "942",
                                    "1": "ML Mountain Frame-W - Silver, 38",
                                    "2": "Silver",
                                    "3": "7",
                                    "4": "1"
                                },
                                {
                                    "0": "943",
                                    "1": "LL Mountain Frame - Black, 40",
                                    "2": "Black",
                                    "3": "8",
                                    "4": "1"
                                },
                                {
                                    "0": "944",
                                    "1": "LL Mountain Frame - Silver, 40",
                                    "2": "Silver",
                                    "3": "442",
                                    "4": "2"
                                },
                                {
                                    "0": "945",
                                    "1": "Front Derailleur",
                                    "2": "Silver",
                                    "3": "813",
                                    "4": "3"
                                },
                                {
                                    "0": "946",
                                    "1": "LL Touring Handlebars",
                                    "2": "NULL",
                                    "3": "56",
                                    "4": "1"
                                },
                                {
                                    "0": "947",
                                    "1": "HL Touring Handlebars",
                                    "2": "NULL",
                                    "3": "220",
                                    "4": "2"
                                },
                                {
                                    "0": "948",
                                    "1": "Front Brakes",
                                    "2": "Silver",
                                    "3": "789",
                                    "4": "2"
                                },
                                {
                                    "0": "949",
                                    "1": "LL Crankset",
                                    "2": "Black",
                                    "3": "426",
                                    "4": "2"
                                },
                                {
                                    "0": "950",
                                    "1": "ML Crankset",
                                    "2": "Black",
                                    "3": "68",
                                    "4": "2"
                                },
                                {
                                    "0": "951",
                                    "1": "HL Crankset",
                                    "2": "Black",
                                    "3": "613",
                                    "4": "2"
                                },
                                {
                                    "0": "952",
                                    "1": "Chain",
                                    "2": "Silver",
                                    "3": "774",
                                    "4": "3"
                                },
                                {
                                    "0": "953",
                                    "1": "Touring-2000 Blue, 60",
                                    "2": "Blue",
                                    "3": "820",
                                    "4": "2"
                                },
                                {
                                    "0": "954",
                                    "1": "Touring-1000 Yellow, 46",
                                    "2": "Yellow",
                                    "3": "1005",
                                    "4": "2"
                                },
                                {
                                    "0": "955",
                                    "1": "Touring-1000 Yellow, 50",
                                    "2": "Yellow",
                                    "3": "652",
                                    "4": "1"
                                },
                                {
                                    "0": "956",
                                    "1": "Touring-1000 Yellow, 54",
                                    "2": "Yellow",
                                    "3": "397",
                                    "4": "1"
                                },
                                {
                                    "0": "957",
                                    "1": "Touring-1000 Yellow, 60",
                                    "2": "Yellow",
                                    "3": "1114",
                                    "4": "2"
                                },
                                {
                                    "0": "958",
                                    "1": "Touring-3000 Blue, 54",
                                    "2": "Blue",
                                    "3": "686",
                                    "4": "2"
                                },
                                {
                                    "0": "959",
                                    "1": "Touring-3000 Blue, 58",
                                    "2": "Blue",
                                    "3": "482",
                                    "4": "2"
                                },
                                {
                                    "0": "960",
                                    "1": "Touring-3000 Blue, 62",
                                    "2": "Blue",
                                    "3": "281",
                                    "4": "1"
                                },
                                {
                                    "0": "961",
                                    "1": "Touring-3000 Yellow, 44",
                                    "2": "Yellow",
                                    "3": "851",
                                    "4": "2"
                                },
                                {
                                    "0": "962",
                                    "1": "Touring-3000 Yellow, 50",
                                    "2": "Yellow",
                                    "3": "686",
                                    "4": "2"
                                },
                                {
                                    "0": "963",
                                    "1": "Touring-3000 Yellow, 54",
                                    "2": "Yellow",
                                    "3": "453",
                                    "4": "1"
                                },
                                {
                                    "0": "964",
                                    "1": "Touring-3000 Yellow, 58",
                                    "2": "Yellow",
                                    "3": "293",
                                    "4": "1"
                                },
                                {
                                    "0": "965",
                                    "1": "Touring-3000 Yellow, 62",
                                    "2": "Yellow",
                                    "3": "844",
                                    "4": "2"
                                },
                                {
                                    "0": "966",
                                    "1": "Touring-1000 Blue, 46",
                                    "2": "Blue",
                                    "3": "1002",
                                    "4": "2"
                                },
                                {
                                    "0": "967",
                                    "1": "Touring-1000 Blue, 50",
                                    "2": "Blue",
                                    "3": "649",
                                    "4": "1"
                                },
                                {
                                    "0": "968",
                                    "1": "Touring-1000 Blue, 54",
                                    "2": "Blue",
                                    "3": "413",
                                    "4": "1"
                                },
                                {
                                    "0": "969",
                                    "1": "Touring-1000 Blue, 60",
                                    "2": "Blue",
                                    "3": "1120",
                                    "4": "2"
                                },
                                {
                                    "0": "970",
                                    "1": "Touring-2000 Blue, 46",
                                    "2": "Blue",
                                    "3": "538",
                                    "4": "1"
                                },
                                {
                                    "0": "971",
                                    "1": "Touring-2000 Blue, 50",
                                    "2": "Blue",
                                    "3": "322",
                                    "4": "1"
                                },
                                {
                                    "0": "972",
                                    "1": "Touring-2000 Blue, 54",
                                    "2": "Blue",
                                    "3": "1010",
                                    "4": "2"
                                },
                                {
                                    "0": "973",
                                    "1": "Road-350-W Yellow, 40",
                                    "2": "Yellow",
                                    "3": "1477",
                                    "4": "2"
                                },
                                {
                                    "0": "974",
                                    "1": "Road-350-W Yellow, 42",
                                    "2": "Yellow",
                                    "3": "944",
                                    "4": "2"
                                },
                                {
                                    "0": "975",
                                    "1": "Road-350-W Yellow, 44",
                                    "2": "Yellow",
                                    "3": "536",
                                    "4": "1"
                                },
                                {
                                    "0": "976",
                                    "1": "Road-350-W Yellow, 48",
                                    "2": "Yellow",
                                    "3": "1622",
                                    "4": "2"
                                },
                                {
                                    "0": "977",
                                    "1": "Road-750 Black, 58",
                                    "2": "Black",
                                    "3": "892",
                                    "4": "1"
                                },
                                {
                                    "0": "978",
                                    "1": "Touring-3000 Blue, 44",
                                    "2": "Blue",
                                    "3": "292",
                                    "4": "1"
                                },
                                {
                                    "0": "979",
                                    "1": "Touring-3000 Blue, 50",
                                    "2": "Blue",
                                    "3": "841",
                                    "4": "2"
                                },
                                {
                                    "0": "980",
                                    "1": "Mountain-400-W Silver, 38",
                                    "2": "Silver",
                                    "3": "425",
                                    "4": "1"
                                },
                                {
                                    "0": "981",
                                    "1": "Mountain-400-W Silver, 40",
                                    "2": "Silver",
                                    "3": "617",
                                    "4": "2"
                                },
                                {
                                    "0": "982",
                                    "1": "Mountain-400-W Silver, 42",
                                    "2": "Silver",
                                    "3": "385",
                                    "4": "1"
                                },
                                {
                                    "0": "983",
                                    "1": "Mountain-400-W Silver, 46",
                                    "2": "Silver",
                                    "3": "401",
                                    "4": "1"
                                },
                                {
                                    "0": "984",
                                    "1": "Mountain-500 Silver, 40",
                                    "2": "Silver",
                                    "3": "450",
                                    "4": "2"
                                },
                                {
                                    "0": "985",
                                    "1": "Mountain-500 Silver, 42",
                                    "2": "Silver",
                                    "3": "455",
                                    "4": "2"
                                },
                                {
                                    "0": "986",
                                    "1": "Mountain-500 Silver, 44",
                                    "2": "Silver",
                                    "3": "381",
                                    "4": "1"
                                },
                                {
                                    "0": "987",
                                    "1": "Mountain-500 Silver, 48",
                                    "2": "Silver",
                                    "3": "457",
                                    "4": "2"
                                },
                                {
                                    "0": "988",
                                    "1": "Mountain-500 Silver, 52",
                                    "2": "Silver",
                                    "3": "515",
                                    "4": "2"
                                },
                                {
                                    "0": "989",
                                    "1": "Mountain-500 Black, 40",
                                    "2": "Black",
                                    "3": "282",
                                    "4": "1"
                                },
                                {
                                    "0": "990",
                                    "1": "Mountain-500 Black, 42",
                                    "2": "Black",
                                    "3": "388",
                                    "4": "1"
                                },
                                {
                                    "0": "991",
                                    "1": "Mountain-500 Black, 44",
                                    "2": "Black",
                                    "3": "350",
                                    "4": "1"
                                },
                                {
                                    "0": "992",
                                    "1": "Mountain-500 Black, 48",
                                    "2": "Black",
                                    "3": "449",
                                    "4": "1"
                                },
                                {
                                    "0": "993",
                                    "1": "Mountain-500 Black, 52",
                                    "2": "Black",
                                    "3": "272",
                                    "4": "1"
                                },
                                {
                                    "0": "994",
                                    "1": "LL Bottom Bracket",
                                    "2": "NULL",
                                    "3": "378",
                                    "4": "2"
                                },
                                {
                                    "0": "995",
                                    "1": "ML Bottom Bracket",
                                    "2": "NULL",
                                    "3": "NULL",
                                    "4": "NULL"
                                },
                                {
                                    "0": "996",
                                    "1": "HL Bottom Bracket",
                                    "2": "NULL",
                                    "3": "543",
                                    "4": "2"
                                },
                                {
                                    "0": "997",
                                    "1": "Road-750 Black, 44",
                                    "2": "Black",
                                    "3": "656",
                                    "4": "1"
                                },
                                {
                                    "0": "998",
                                    "1": "Road-750 Black, 48",
                                    "2": "Black",
                                    "3": "1556",
                                    "4": "2"
                                },
                                {
                                    "0": "999",
                                    "1": "Road-750 Black, 52",
                                    "2": "Black",
                                    "3": "1338",
                                    "4": "1"
                                }
                            ]
                        },
                        "text/html": [
                            "<table>",
                            "<tr><th>ProductID</th><th>Name</th><th>Color</th><th>TotalQty</th><th>AveOrderQty</th></tr>",
                            "<tr><td>680</td><td>HL Road Frame - Black, 58</td><td>Black</td><td>NULL</td><td>NULL</td></tr>",
                            "<tr><td>706</td><td>HL Road Frame - Red, 58</td><td>Red</td><td>NULL</td><td>NULL</td></tr>",
                            "<tr><td>707</td><td>Sport-100 Helmet, Red</td><td>Red</td><td>6266</td><td>2</td></tr>",
                            "<tr><td>708</td><td>Sport-100 Helmet, Black</td><td>Black</td><td>6532</td><td>2</td></tr>",
                            "<tr><td>709</td><td>Mountain Bike Socks, M</td><td>White</td><td>1107</td><td>5</td></tr>",
                            "<tr><td>710</td><td>Mountain Bike Socks, L</td><td>White</td><td>90</td><td>2</td></tr>",
                            "<tr><td>711</td><td>Sport-100 Helmet, Blue</td><td>Blue</td><td>6743</td><td>2</td></tr>",
                            "<tr><td>712</td><td>AWC Logo Cap</td><td>Multi</td><td>8311</td><td>2</td></tr>",
                            "<tr><td>713</td><td>Long-Sleeve Logo Jersey, S</td><td>Multi</td><td>429</td><td>1</td></tr>",
                            "<tr><td>714</td><td>Long-Sleeve Logo Jersey, M</td><td>Multi</td><td>3636</td><td>2</td></tr>",
                            "<tr><td>715</td><td>Long-Sleeve Logo Jersey, L</td><td>Multi</td><td>6592</td><td>4</td></tr>",
                            "<tr><td>716</td><td>Long-Sleeve Logo Jersey, XL</td><td>Multi</td><td>2980</td><td>2</td></tr>",
                            "<tr><td>717</td><td>HL Road Frame - Red, 62</td><td>Red</td><td>485</td><td>2</td></tr>",
                            "<tr><td>718</td><td>HL Road Frame - Red, 44</td><td>Red</td><td>486</td><td>2</td></tr>",
                            "<tr><td>719</td><td>HL Road Frame - Red, 48</td><td>Red</td><td>109</td><td>2</td></tr>",
                            "<tr><td>720</td><td>HL Road Frame - Red, 52</td><td>Red</td><td>NULL</td><td>NULL</td></tr>",
                            "<tr><td>721</td><td>HL Road Frame - Red, 56</td><td>Red</td><td>NULL</td><td>NULL</td></tr>",
                            "<tr><td>722</td><td>LL Road Frame - Black, 58</td><td>Black</td><td>940</td><td>2</td></tr>",
                            "<tr><td>723</td><td>LL Road Frame - Black, 60</td><td>Black</td><td>129</td><td>2</td></tr>",
                            "<tr><td>724</td><td>LL Road Frame - Black, 62</td><td>Black</td><td>NULL</td><td>NULL</td></tr>",
                            "<tr><td>725</td><td>LL Road Frame - Red, 44</td><td>Red</td><td>991</td><td>2</td></tr>",
                            "<tr><td>726</td><td>LL Road Frame - Red, 48</td><td>Red</td><td>671</td><td>2</td></tr>",
                            "<tr><td>727</td><td>LL Road Frame - Red, 52</td><td>Red</td><td>100</td><td>2</td></tr>",
                            "<tr><td>728</td><td>LL Road Frame - Red, 58</td><td>Red</td><td>NULL</td><td>NULL</td></tr>",
                            "<tr><td>729</td><td>LL Road Frame - Red, 60</td><td>Red</td><td>996</td><td>2</td></tr>",
                            "<tr><td>730</td><td>LL Road Frame - Red, 62</td><td>Red</td><td>697</td><td>2</td></tr>",
                            "<tr><td>731</td><td>ML Road Frame - Red, 44</td><td>Red</td><td>NULL</td><td>NULL</td></tr>",
                            "<tr><td>732</td><td>ML Road Frame - Red, 48</td><td>Red</td><td>250</td><td>1</td></tr>",
                            "<tr><td>733</td><td>ML Road Frame - Red, 52</td><td>Red</td><td>90</td><td>2</td></tr>",
                            "<tr><td>734</td><td>ML Road Frame - Red, 58</td><td>Red</td><td>NULL</td><td>NULL</td></tr>",
                            "<tr><td>735</td><td>ML Road Frame - Red, 60</td><td>Red</td><td>NULL</td><td>NULL</td></tr>",
                            "<tr><td>736</td><td>LL Road Frame - Black, 44</td><td>Black</td><td>238</td><td>2</td></tr>",
                            "<tr><td>737</td><td>LL Road Frame - Black, 48</td><td>Black</td><td>NULL</td><td>NULL</td></tr>",
                            "<tr><td>738</td><td>LL Road Frame - Black, 52</td><td>Black</td><td>1581</td><td>2</td></tr>",
                            "<tr><td>739</td><td>HL Mountain Frame - Silver, 42</td><td>Silver</td><td>347</td><td>2</td></tr>",
                            "<tr><td>740</td><td>HL Mountain Frame - Silver, 44</td><td>Silver</td><td>NULL</td><td>NULL</td></tr>",
                            "<tr><td>741</td><td>HL Mountain Frame - Silver, 48</td><td>Silver</td><td>173</td><td>1</td></tr>",
                            "<tr><td>742</td><td>HL Mountain Frame - Silver, 46</td><td>Silver</td><td>649</td><td>2</td></tr>",
                            "<tr><td>743</td><td>HL Mountain Frame - Black, 42</td><td>Black</td><td>1181</td><td>2</td></tr>",
                            "<tr><td>744</td><td>HL Mountain Frame - Black, 44</td><td>Black</td><td>17</td><td>1</td></tr>",
                            "<tr><td>745</td><td>HL Mountain Frame - Black, 48</td><td>Black</td><td>131</td><td>1</td></tr>",
                            "<tr><td>746</td><td>HL Mountain Frame - Black, 46</td><td>Black</td><td>NULL</td><td>NULL</td></tr>",
                            "<tr><td>747</td><td>HL Mountain Frame - Black, 38</td><td>Black</td><td>659</td><td>2</td></tr>",
                            "<tr><td>748</td><td>HL Mountain Frame - Silver, 38</td><td>Silver</td><td>1206</td><td>2</td></tr>",
                            "<tr><td>749</td><td>Road-150 Red, 62</td><td>Red</td><td>600</td><td>1</td></tr>",
                            "<tr><td>750</td><td>Road-150 Red, 44</td><td>Red</td><td>437</td><td>1</td></tr>",
                            "<tr><td>751</td><td>Road-150 Red, 48</td><td>Red</td><td>493</td><td>1</td></tr>",
                            "<tr><td>752</td><td>Road-150 Red, 52</td><td>Red</td><td>458</td><td>1</td></tr>",
                            "<tr><td>753</td><td>Road-150 Red, 56</td><td>Red</td><td>664</td><td>1</td></tr>",
                            "<tr><td>754</td><td>Road-450 Red, 58</td><td>Red</td><td>582</td><td>2</td></tr>",
                            "<tr><td>755</td><td>Road-450 Red, 60</td><td>Red</td><td>350</td><td>2</td></tr>",
                            "<tr><td>756</td><td>Road-450 Red, 44</td><td>Red</td><td>346</td><td>2</td></tr>",
                            "<tr><td>757</td><td>Road-450 Red, 48</td><td>Red</td><td>156</td><td>2</td></tr>",
                            "<tr><td>758</td><td>Road-450 Red, 52</td><td>Red</td><td>710</td><td>2</td></tr>",
                            "<tr><td>759</td><td>Road-650 Red, 58</td><td>Red</td><td>618</td><td>2</td></tr>",
                            "<tr><td>760</td><td>Road-650 Red, 60</td><td>Red</td><td>2232</td><td>3</td></tr>",
                            "<tr><td>761</td><td>Road-650 Red, 62</td><td>Red</td><td>1896</td><td>2</td></tr>",
                            "<tr><td>762</td><td>Road-650 Red, 44</td><td>Red</td><td>2254</td><td>3</td></tr>",
                            "<tr><td>763</td><td>Road-650 Red, 48</td><td>Red</td><td>1888</td><td>2</td></tr>",
                            "<tr><td>764</td><td>Road-650 Red, 52</td><td>Red</td><td>1112</td><td>2</td></tr>",
                            "<tr><td>765</td><td>Road-650 Black, 58</td><td>Black</td><td>1871</td><td>2</td></tr>",
                            "<tr><td>766</td><td>Road-650 Black, 60</td><td>Black</td><td>1100</td><td>2</td></tr>",
                            "<tr><td>767</td><td>Road-650 Black, 62</td><td>Black</td><td>644</td><td>2</td></tr>",
                            "<tr><td>768</td><td>Road-650 Black, 44</td><td>Black</td><td>1080</td><td>2</td></tr>",
                            "<tr><td>769</td><td>Road-650 Black, 48</td><td>Black</td><td>644</td><td>2</td></tr>",
                            "<tr><td>770</td><td>Road-650 Black, 52</td><td>Black</td><td>2270</td><td>3</td></tr>",
                            "<tr><td>771</td><td>Mountain-100 Silver, 38</td><td>Silver</td><td>642</td><td>2</td></tr>",
                            "<tr><td>772</td><td>Mountain-100 Silver, 42</td><td>Silver</td><td>593</td><td>2</td></tr>",
                            "<tr><td>773</td><td>Mountain-100 Silver, 44</td><td>Silver</td><td>601</td><td>2</td></tr>",
                            "<tr><td>774</td><td>Mountain-100 Silver, 48</td><td>Silver</td><td>505</td><td>2</td></tr>",
                            "<tr><td>775</td><td>Mountain-100 Black, 38</td><td>Black</td><td>682</td><td>2</td></tr>",
                            "<tr><td>776</td><td>Mountain-100 Black, 42</td><td>Black</td><td>634</td><td>2</td></tr>",
                            "<tr><td>777</td><td>Mountain-100 Black, 44</td><td>Black</td><td>678</td><td>2</td></tr>",
                            "<tr><td>778</td><td>Mountain-100 Black, 48</td><td>Black</td><td>616</td><td>2</td></tr>",
                            "<tr><td>779</td><td>Mountain-200 Silver, 38</td><td>Silver</td><td>2394</td><td>2</td></tr>",
                            "<tr><td>780</td><td>Mountain-200 Silver, 42</td><td>Silver</td><td>2234</td><td>2</td></tr>",
                            "<tr><td>781</td><td>Mountain-200 Silver, 46</td><td>Silver</td><td>2216</td><td>2</td></tr>",
                            "<tr><td>782</td><td>Mountain-200 Black, 38</td><td>Black</td><td>2977</td><td>2</td></tr>",
                            "<tr><td>783</td><td>Mountain-200 Black, 42</td><td>Black</td><td>2664</td><td>2</td></tr>",
                            "<tr><td>784</td><td>Mountain-200 Black, 46</td><td>Black</td><td>2111</td><td>1</td></tr>",
                            "<tr><td>785</td><td>Mountain-300 Black, 38</td><td>Black</td><td>684</td><td>3</td></tr>",
                            "<tr><td>786</td><td>Mountain-300 Black, 40</td><td>Black</td><td>776</td><td>3</td></tr>",
                            "<tr><td>787</td><td>Mountain-300 Black, 44</td><td>Black</td><td>747</td><td>3</td></tr>",
                            "<tr><td>788</td><td>Mountain-300 Black, 48</td><td>Black</td><td>740</td><td>3</td></tr>",
                            "<tr><td>789</td><td>Road-250 Red, 44</td><td>Red</td><td>895</td><td>2</td></tr>",
                            "<tr><td>790</td><td>Road-250 Red, 48</td><td>Red</td><td>812</td><td>2</td></tr>",
                            "<tr><td>791</td><td>Road-250 Red, 52</td><td>Red</td><td>639</td><td>2</td></tr>",
                            "<tr><td>792</td><td>Road-250 Red, 58</td><td>Red</td><td>946</td><td>1</td></tr>",
                            "<tr><td>793</td><td>Road-250 Black, 44</td><td>Black</td><td>1642</td><td>2</td></tr>",
                            "<tr><td>794</td><td>Road-250 Black, 48</td><td>Black</td><td>1498</td><td>2</td></tr>",
                            "<tr><td>795</td><td>Road-250 Black, 52</td><td>Black</td><td>1245</td><td>1</td></tr>",
                            "<tr><td>796</td><td>Road-250 Black, 58</td><td>Black</td><td>910</td><td>1</td></tr>",
                            "<tr><td>797</td><td>Road-550-W Yellow, 38</td><td>Yellow</td><td>1744</td><td>2</td></tr>",
                            "<tr><td>798</td><td>Road-550-W Yellow, 40</td><td>Yellow</td><td>1500</td><td>2</td></tr>",
                            "<tr><td>799</td><td>Road-550-W Yellow, 42</td><td>Yellow</td><td>1249</td><td>1</td></tr>",
                            "<tr><td>800</td><td>Road-550-W Yellow, 44</td><td>Yellow</td><td>927</td><td>1</td></tr>",
                            "<tr><td>801</td><td>Road-550-W Yellow, 48</td><td>Yellow</td><td>1763</td><td>2</td></tr>",
                            "<tr><td>802</td><td>LL Fork</td><td>NULL</td><td>190</td><td>2</td></tr>",
                            "<tr><td>803</td><td>ML Fork</td><td>NULL</td><td>NULL</td><td>NULL</td></tr>",
                            "<tr><td>804</td><td>HL Fork</td><td>NULL</td><td>444</td><td>3</td></tr>",
                            "<tr><td>805</td><td>LL Headset</td><td>NULL</td><td>95</td><td>2</td></tr>",
                            "<tr><td>806</td><td>ML Headset</td><td>NULL</td><td>659</td><td>5</td></tr>",
                            "<tr><td>807</td><td>HL Headset</td><td>NULL</td><td>255</td><td>2</td></tr>",
                            "<tr><td>808</td><td>LL Mountain Handlebars</td><td>NULL</td><td>865</td><td>2</td></tr>",
                            "<tr><td>809</td><td>ML Mountain Handlebars</td><td>NULL</td><td>1465</td><td>2</td></tr>",
                            "<tr><td>810</td><td>HL Mountain Handlebars</td><td>NULL</td><td>500</td><td>2</td></tr>",
                            "<tr><td>811</td><td>LL Road Handlebars</td><td>NULL</td><td>213</td><td>2</td></tr>",
                            "<tr><td>812</td><td>ML Road Handlebars</td><td>NULL</td><td>NULL</td><td>NULL</td></tr>",
                            "<tr><td>813</td><td>HL Road Handlebars</td><td>NULL</td><td>631</td><td>2</td></tr>",
                            "<tr><td>814</td><td>ML Mountain Frame - Black, 38</td><td>Black</td><td>514</td><td>2</td></tr>",
                            "<tr><td>815</td><td>LL Mountain Front Wheel</td><td>Black</td><td>617</td><td>2</td></tr>",
                            "<tr><td>816</td><td>ML Mountain Front Wheel</td><td>Black</td><td>266</td><td>2</td></tr>",
                            "<tr><td>817</td><td>HL Mountain Front Wheel</td><td>Black</td><td>222</td><td>2</td></tr>",
                            "<tr><td>818</td><td>LL Road Front Wheel</td><td>Black</td><td>NULL</td><td>NULL</td></tr>",
                            "<tr><td>819</td><td>ML Road Front Wheel</td><td>Black</td><td>532</td><td>2</td></tr>",
                            "<tr><td>820</td><td>HL Road Front Wheel</td><td>Black</td><td>567</td><td>2</td></tr>",
                            "<tr><td>821</td><td>Touring Front Wheel</td><td>Black</td><td>NULL</td><td>NULL</td></tr>",
                            "<tr><td>822</td><td>ML Road Frame-W - Yellow, 38</td><td>Yellow</td><td>895</td><td>2</td></tr>",
                            "<tr><td>823</td><td>LL Mountain Rear Wheel</td><td>Black</td><td>342</td><td>2</td></tr>",
                            "<tr><td>824</td><td>ML Mountain Rear Wheel</td><td>Black</td><td>851</td><td>3</td></tr>",
                            "<tr><td>825</td><td>HL Mountain Rear Wheel</td><td>Black</td><td>850</td><td>3</td></tr>",
                            "<tr><td>826</td><td>LL Road Rear Wheel</td><td>Black</td><td>868</td><td>2</td></tr>",
                            "<tr><td>827</td><td>ML Road Rear Wheel</td><td>Black</td><td>64</td><td>2</td></tr>",
                            "<tr><td>828</td><td>HL Road Rear Wheel</td><td>Black</td><td>94</td><td>2</td></tr>",
                            "<tr><td>829</td><td>Touring Rear Wheel</td><td>Black</td><td>NULL</td><td>NULL</td></tr>",
                            "<tr><td>830</td><td>ML Mountain Frame - Black, 40</td><td>Black</td><td>68</td><td>2</td></tr>",
                            "<tr><td>831</td><td>ML Mountain Frame - Black, 44</td><td>Black</td><td>619</td><td>3</td></tr>",
                            "<tr><td>832</td><td>ML Mountain Frame - Black, 48</td><td>Black</td><td>959</td><td>3</td></tr>",
                            "<tr><td>833</td><td>ML Road Frame-W - Yellow, 40</td><td>Yellow</td><td>203</td><td>2</td></tr>",
                            "<tr><td>834</td><td>ML Road Frame-W - Yellow, 42</td><td>Yellow</td><td>NULL</td><td>NULL</td></tr>",
                            "<tr><td>835</td><td>ML Road Frame-W - Yellow, 44</td><td>Yellow</td><td>1435</td><td>2</td></tr>",
                            "<tr><td>836</td><td>ML Road Frame-W - Yellow, 48</td><td>Yellow</td><td>889</td><td>2</td></tr>",
                            "<tr><td>837</td><td>HL Road Frame - Black, 62</td><td>Black</td><td>NULL</td><td>NULL</td></tr>",
                            "<tr><td>838</td><td>HL Road Frame - Black, 44</td><td>Black</td><td>459</td><td>2</td></tr>",
                            "<tr><td>839</td><td>HL Road Frame - Black, 48</td><td>Black</td><td>109</td><td>2</td></tr>",
                            "<tr><td>840</td><td>HL Road Frame - Black, 52</td><td>Black</td><td>NULL</td><td>NULL</td></tr>",
                            "<tr><td>841</td><td>Men's Sports Shorts, S</td><td>Black</td><td>567</td><td>3</td></tr>",
                            "<tr><td>842</td><td>Touring-Panniers, Large</td><td>Grey</td><td>NULL</td><td>NULL</td></tr>",
                            "<tr><td>843</td><td>Cable Lock</td><td>NULL</td><td>1087</td><td>4</td></tr>",
                            "<tr><td>844</td><td>Minipump</td><td>NULL</td><td>1130</td><td>4</td></tr>",
                            "<tr><td>845</td><td>Mountain Pump</td><td>NULL</td><td>NULL</td><td>NULL</td></tr>",
                            "<tr><td>846</td><td>Taillights - Battery-Powered</td><td>NULL</td><td>NULL</td><td>NULL</td></tr>",
                            "<tr><td>847</td><td>Headlights - Dual-Beam</td><td>NULL</td><td>NULL</td><td>NULL</td></tr>",
                            "<tr><td>848</td><td>Headlights - Weatherproof</td><td>NULL</td><td>NULL</td><td>NULL</td></tr>",
                            "<tr><td>849</td><td>Men's Sports Shorts, M</td><td>Black</td><td>1276</td><td>4</td></tr>",
                            "<tr><td>850</td><td>Men's Sports Shorts, L</td><td>Black</td><td>445</td><td>3</td></tr>",
                            "<tr><td>851</td><td>Men's Sports Shorts, XL</td><td>Black</td><td>NULL</td><td>NULL</td></tr>",
                            "<tr><td>852</td><td>Women's Tights, S</td><td>Black</td><td>2072</td><td>4</td></tr>",
                            "<tr><td>853</td><td>Women's Tights, M</td><td>Black</td><td>394</td><td>3</td></tr>",
                            "<tr><td>854</td><td>Women's Tights, L</td><td>Black</td><td>2123</td><td>4</td></tr>",
                            "<tr><td>855</td><td>Men's Bib-Shorts, S</td><td>Multi</td><td>876</td><td>3</td></tr>",
                            "<tr><td>856</td><td>Men's Bib-Shorts, M</td><td>Multi</td><td>1616</td><td>4</td></tr>",
                            "<tr><td>857</td><td>Men's Bib-Shorts, L</td><td>Multi</td><td>633</td><td>3</td></tr>",
                            "<tr><td>858</td><td>Half-Finger Gloves, S</td><td>Black</td><td>2188</td><td>2</td></tr>",
                            "<tr><td>859</td><td>Half-Finger Gloves, M</td><td>Black</td><td>3464</td><td>3</td></tr>",
                            "<tr><td>860</td><td>Half-Finger Gloves, L</td><td>Black</td><td>1276</td><td>1</td></tr>",
                            "<tr><td>861</td><td>Full-Finger Gloves, S</td><td>Black</td><td>500</td><td>2</td></tr>",
                            "<tr><td>862</td><td>Full-Finger Gloves, M</td><td>Black</td><td>2206</td><td>6</td></tr>",
                            "<tr><td>863</td><td>Full-Finger Gloves, L</td><td>Black</td><td>3378</td><td>9</td></tr>",
                            "<tr><td>864</td><td>Classic Vest, S</td><td>Blue</td><td>4247</td><td>6</td></tr>",
                            "<tr><td>865</td><td>Classic Vest, M</td><td>Blue</td><td>2284</td><td>4</td></tr>",
                            "<tr><td>866</td><td>Classic Vest, L</td><td>Blue</td><td>207</td><td>1</td></tr>",
                            "<tr><td>867</td><td>Women's Mountain Shorts, S</td><td>Black</td><td>3296</td><td>5</td></tr>",
                            "<tr><td>868</td><td>Women's Mountain Shorts, M</td><td>Black</td><td>1139</td><td>1</td></tr>",
                            "<tr><td>869</td><td>Women's Mountain Shorts, L</td><td>Black</td><td>3244</td><td>4</td></tr>",
                            "<tr><td>870</td><td>Water Bottle - 30 oz.</td><td>NULL</td><td>6815</td><td>1</td></tr>",
                            "<tr><td>871</td><td>Mountain Bottle Cage</td><td>NULL</td><td>2025</td><td>1</td></tr>",
                            "<tr><td>872</td><td>Road Bottle Cage</td><td>NULL</td><td>1712</td><td>1</td></tr>",
                            "<tr><td>873</td><td>Patch Kit/8 Patches</td><td>NULL</td><td>3865</td><td>1</td></tr>",
                            "<tr><td>874</td><td>Racing Socks, M</td><td>White</td><td>1547</td><td>2</td></tr>",
                            "<tr><td>875</td><td>Racing Socks, L</td><td>White</td><td>2473</td><td>4</td></tr>",
                            "<tr><td>876</td><td>Hitch Rack - 4-Bike</td><td>NULL</td><td>3166</td><td>3</td></tr>",
                            "<tr><td>877</td><td>Bike Wash - Dissolver</td><td>NULL</td><td>3319</td><td>2</td></tr>",
                            "<tr><td>878</td><td>Fender Set - Mountain</td><td>NULL</td><td>2121</td><td>1</td></tr>",
                            "<tr><td>879</td><td>All-Purpose Bike Stand</td><td>NULL</td><td>249</td><td>1</td></tr>",
                            "<tr><td>880</td><td>Hydration Pack - 70 oz.</td><td>Silver</td><td>2761</td><td>2</td></tr>",
                            "<tr><td>881</td><td>Short-Sleeve Classic Jersey, S</td><td>Yellow</td><td>1955</td><td>2</td></tr>",
                            "<tr><td>882</td><td>Short-Sleeve Classic Jersey, M</td><td>Yellow</td><td>407</td><td>1</td></tr>",
                            "<tr><td>883</td><td>Short-Sleeve Classic Jersey, L</td><td>Yellow</td><td>2848</td><td>3</td></tr>",
                            "<tr><td>884</td><td>Short-Sleeve Classic Jersey, XL</td><td>Yellow</td><td>3864</td><td>4</td></tr>",
                            "<tr><td>885</td><td>HL Touring Frame - Yellow, 60</td><td>Yellow</td><td>387</td><td>2</td></tr>",
                            "<tr><td>886</td><td>LL Touring Frame - Yellow, 62</td><td>Yellow</td><td>348</td><td>2</td></tr>",
                            "<tr><td>887</td><td>HL Touring Frame - Yellow, 46</td><td>Yellow</td><td>87</td><td>2</td></tr>",
                            "<tr><td>888</td><td>HL Touring Frame - Yellow, 50</td><td>Yellow</td><td>83</td><td>2</td></tr>",
                            "<tr><td>889</td><td>HL Touring Frame - Yellow, 54</td><td>Yellow</td><td>540</td><td>3</td></tr>",
                            "<tr><td>890</td><td>HL Touring Frame - Blue, 46</td><td>Blue</td><td>114</td><td>1</td></tr>",
                            "<tr><td>891</td><td>HL Touring Frame - Blue, 50</td><td>Blue</td><td>124</td><td>2</td></tr>",
                            "<tr><td>892</td><td>HL Touring Frame - Blue, 54</td><td>Blue</td><td>542</td><td>3</td></tr>",
                            "<tr><td>893</td><td>HL Touring Frame - Blue, 60</td><td>Blue</td><td>371</td><td>2</td></tr>",
                            "<tr><td>894</td><td>Rear Derailleur</td><td>Silver</td><td>353</td><td>2</td></tr>",
                            "<tr><td>895</td><td>LL Touring Frame - Blue, 50</td><td>Blue</td><td>316</td><td>2</td></tr>",
                            "<tr><td>896</td><td>LL Touring Frame - Blue, 54</td><td>Blue</td><td>211</td><td>2</td></tr>",
                            "<tr><td>897</td><td>LL Touring Frame - Blue, 58</td><td>Blue</td><td>4</td><td>2</td></tr>",
                            "<tr><td>898</td><td>LL Touring Frame - Blue, 62</td><td>Blue</td><td>15</td><td>1</td></tr>",
                            "<tr><td>899</td><td>LL Touring Frame - Yellow, 44</td><td>Yellow</td><td>294</td><td>2</td></tr>",
                            "<tr><td>900</td><td>LL Touring Frame - Yellow, 50</td><td>Yellow</td><td>228</td><td>2</td></tr>",
                            "<tr><td>901</td><td>LL Touring Frame - Yellow, 54</td><td>Yellow</td><td>NULL</td><td>NULL</td></tr>",
                            "<tr><td>902</td><td>LL Touring Frame - Yellow, 58</td><td>Yellow</td><td>36</td><td>1</td></tr>",
                            "<tr><td>903</td><td>LL Touring Frame - Blue, 44</td><td>Blue</td><td>25</td><td>1</td></tr>",
                            "<tr><td>904</td><td>ML Mountain Frame-W - Silver, 40</td><td>Silver</td><td>899</td><td>3</td></tr>",
                            "<tr><td>905</td><td>ML Mountain Frame-W - Silver, 42</td><td>Silver</td><td>627</td><td>2</td></tr>",
                            "<tr><td>906</td><td>ML Mountain Frame-W - Silver, 46</td><td>Silver</td><td>188</td><td>2</td></tr>",
                            "<tr><td>907</td><td>Rear Brakes</td><td>Silver</td><td>246</td><td>2</td></tr>",
                            "<tr><td>908</td><td>LL Mountain Seat/Saddle</td><td>NULL</td><td>347</td><td>2</td></tr>",
                            "<tr><td>909</td><td>ML Mountain Seat/Saddle</td><td>NULL</td><td>534</td><td>3</td></tr>",
                            "<tr><td>910</td><td>HL Mountain Seat/Saddle</td><td>NULL</td><td>519</td><td>2</td></tr>",
                            "<tr><td>911</td><td>LL Road Seat/Saddle</td><td>NULL</td><td>10</td><td>1</td></tr>",
                            "<tr><td>912</td><td>ML Road Seat/Saddle</td><td>NULL</td><td>NULL</td><td>NULL</td></tr>",
                            "<tr><td>913</td><td>HL Road Seat/Saddle</td><td>NULL</td><td>134</td><td>2</td></tr>",
                            "<tr><td>914</td><td>LL Touring Seat/Saddle</td><td>NULL</td><td>91</td><td>2</td></tr>",
                            "<tr><td>915</td><td>ML Touring Seat/Saddle</td><td>NULL</td><td>84</td><td>2</td></tr>",
                            "<tr><td>916</td><td>HL Touring Seat/Saddle</td><td>NULL</td><td>426</td><td>2</td></tr>",
                            "<tr><td>917</td><td>LL Mountain Frame - Silver, 42</td><td>Silver</td><td>638</td><td>2</td></tr>",
                            "<tr><td>918</td><td>LL Mountain Frame - Silver, 44</td><td>Silver</td><td>371</td><td>2</td></tr>",
                            "<tr><td>919</td><td>LL Mountain Frame - Silver, 48</td><td>Silver</td><td>44</td><td>2</td></tr>",
                            "<tr><td>920</td><td>LL Mountain Frame - Silver, 52</td><td>Silver</td><td>425</td><td>2</td></tr>",
                            "<tr><td>921</td><td>Mountain Tire Tube</td><td>NULL</td><td>3095</td><td>1</td></tr>",
                            "<tr><td>922</td><td>Road Tire Tube</td><td>NULL</td><td>2376</td><td>1</td></tr>",
                            "<tr><td>923</td><td>Touring Tire Tube</td><td>NULL</td><td>1488</td><td>1</td></tr>",
                            "<tr><td>924</td><td>LL Mountain Frame - Black, 42</td><td>Black</td><td>423</td><td>2</td></tr>",
                            "<tr><td>925</td><td>LL Mountain Frame - Black, 44</td><td>Black</td><td>625</td><td>2</td></tr>",
                            "<tr><td>926</td><td>LL Mountain Frame - Black, 48</td><td>Black</td><td>386</td><td>2</td></tr>",
                            "<tr><td>927</td><td>LL Mountain Frame - Black, 52</td><td>Black</td><td>15</td><td>1</td></tr>",
                            "<tr><td>928</td><td>LL Mountain Tire</td><td>NULL</td><td>862</td><td>1</td></tr>",
                            "<tr><td>929</td><td>ML Mountain Tire</td><td>NULL</td><td>1161</td><td>1</td></tr>",
                            "<tr><td>930</td><td>HL Mountain Tire</td><td>NULL</td><td>1396</td><td>1</td></tr>",
                            "<tr><td>931</td><td>LL Road Tire</td><td>NULL</td><td>1044</td><td>1</td></tr>",
                            "<tr><td>932</td><td>ML Road Tire</td><td>NULL</td><td>926</td><td>1</td></tr>",
                            "<tr><td>933</td><td>HL Road Tire</td><td>NULL</td><td>858</td><td>1</td></tr>",
                            "<tr><td>934</td><td>Touring Tire</td><td>NULL</td><td>935</td><td>1</td></tr>",
                            "<tr><td>935</td><td>LL Mountain Pedal</td><td>Silver/Black</td><td>449</td><td>2</td></tr>",
                            "<tr><td>936</td><td>ML Mountain Pedal</td><td>Silver/Black</td><td>345</td><td>2</td></tr>",
                            "<tr><td>937</td><td>HL Mountain Pedal</td><td>Silver/Black</td><td>785</td><td>3</td></tr>",
                            "<tr><td>938</td><td>LL Road Pedal</td><td>Silver/Black</td><td>868</td><td>2</td></tr>",
                            "<tr><td>939</td><td>ML Road Pedal</td><td>Silver/Black</td><td>661</td><td>2</td></tr>",
                            "<tr><td>940</td><td>HL Road Pedal</td><td>Silver/Black</td><td>676</td><td>2</td></tr>",
                            "<tr><td>941</td><td>Touring Pedal</td><td>Silver/Black</td><td>147</td><td>2</td></tr>",
                            "<tr><td>942</td><td>ML Mountain Frame-W - Silver, 38</td><td>Silver</td><td>7</td><td>1</td></tr>",
                            "<tr><td>943</td><td>LL Mountain Frame - Black, 40</td><td>Black</td><td>8</td><td>1</td></tr>",
                            "<tr><td>944</td><td>LL Mountain Frame - Silver, 40</td><td>Silver</td><td>442</td><td>2</td></tr>",
                            "<tr><td>945</td><td>Front Derailleur</td><td>Silver</td><td>813</td><td>3</td></tr>",
                            "<tr><td>946</td><td>LL Touring Handlebars</td><td>NULL</td><td>56</td><td>1</td></tr>",
                            "<tr><td>947</td><td>HL Touring Handlebars</td><td>NULL</td><td>220</td><td>2</td></tr>",
                            "<tr><td>948</td><td>Front Brakes</td><td>Silver</td><td>789</td><td>2</td></tr>",
                            "<tr><td>949</td><td>LL Crankset</td><td>Black</td><td>426</td><td>2</td></tr>",
                            "<tr><td>950</td><td>ML Crankset</td><td>Black</td><td>68</td><td>2</td></tr>",
                            "<tr><td>951</td><td>HL Crankset</td><td>Black</td><td>613</td><td>2</td></tr>",
                            "<tr><td>952</td><td>Chain</td><td>Silver</td><td>774</td><td>3</td></tr>",
                            "<tr><td>953</td><td>Touring-2000 Blue, 60</td><td>Blue</td><td>820</td><td>2</td></tr>",
                            "<tr><td>954</td><td>Touring-1000 Yellow, 46</td><td>Yellow</td><td>1005</td><td>2</td></tr>",
                            "<tr><td>955</td><td>Touring-1000 Yellow, 50</td><td>Yellow</td><td>652</td><td>1</td></tr>",
                            "<tr><td>956</td><td>Touring-1000 Yellow, 54</td><td>Yellow</td><td>397</td><td>1</td></tr>",
                            "<tr><td>957</td><td>Touring-1000 Yellow, 60</td><td>Yellow</td><td>1114</td><td>2</td></tr>",
                            "<tr><td>958</td><td>Touring-3000 Blue, 54</td><td>Blue</td><td>686</td><td>2</td></tr>",
                            "<tr><td>959</td><td>Touring-3000 Blue, 58</td><td>Blue</td><td>482</td><td>2</td></tr>",
                            "<tr><td>960</td><td>Touring-3000 Blue, 62</td><td>Blue</td><td>281</td><td>1</td></tr>",
                            "<tr><td>961</td><td>Touring-3000 Yellow, 44</td><td>Yellow</td><td>851</td><td>2</td></tr>",
                            "<tr><td>962</td><td>Touring-3000 Yellow, 50</td><td>Yellow</td><td>686</td><td>2</td></tr>",
                            "<tr><td>963</td><td>Touring-3000 Yellow, 54</td><td>Yellow</td><td>453</td><td>1</td></tr>",
                            "<tr><td>964</td><td>Touring-3000 Yellow, 58</td><td>Yellow</td><td>293</td><td>1</td></tr>",
                            "<tr><td>965</td><td>Touring-3000 Yellow, 62</td><td>Yellow</td><td>844</td><td>2</td></tr>",
                            "<tr><td>966</td><td>Touring-1000 Blue, 46</td><td>Blue</td><td>1002</td><td>2</td></tr>",
                            "<tr><td>967</td><td>Touring-1000 Blue, 50</td><td>Blue</td><td>649</td><td>1</td></tr>",
                            "<tr><td>968</td><td>Touring-1000 Blue, 54</td><td>Blue</td><td>413</td><td>1</td></tr>",
                            "<tr><td>969</td><td>Touring-1000 Blue, 60</td><td>Blue</td><td>1120</td><td>2</td></tr>",
                            "<tr><td>970</td><td>Touring-2000 Blue, 46</td><td>Blue</td><td>538</td><td>1</td></tr>",
                            "<tr><td>971</td><td>Touring-2000 Blue, 50</td><td>Blue</td><td>322</td><td>1</td></tr>",
                            "<tr><td>972</td><td>Touring-2000 Blue, 54</td><td>Blue</td><td>1010</td><td>2</td></tr>",
                            "<tr><td>973</td><td>Road-350-W Yellow, 40</td><td>Yellow</td><td>1477</td><td>2</td></tr>",
                            "<tr><td>974</td><td>Road-350-W Yellow, 42</td><td>Yellow</td><td>944</td><td>2</td></tr>",
                            "<tr><td>975</td><td>Road-350-W Yellow, 44</td><td>Yellow</td><td>536</td><td>1</td></tr>",
                            "<tr><td>976</td><td>Road-350-W Yellow, 48</td><td>Yellow</td><td>1622</td><td>2</td></tr>",
                            "<tr><td>977</td><td>Road-750 Black, 58</td><td>Black</td><td>892</td><td>1</td></tr>",
                            "<tr><td>978</td><td>Touring-3000 Blue, 44</td><td>Blue</td><td>292</td><td>1</td></tr>",
                            "<tr><td>979</td><td>Touring-3000 Blue, 50</td><td>Blue</td><td>841</td><td>2</td></tr>",
                            "<tr><td>980</td><td>Mountain-400-W Silver, 38</td><td>Silver</td><td>425</td><td>1</td></tr>",
                            "<tr><td>981</td><td>Mountain-400-W Silver, 40</td><td>Silver</td><td>617</td><td>2</td></tr>",
                            "<tr><td>982</td><td>Mountain-400-W Silver, 42</td><td>Silver</td><td>385</td><td>1</td></tr>",
                            "<tr><td>983</td><td>Mountain-400-W Silver, 46</td><td>Silver</td><td>401</td><td>1</td></tr>",
                            "<tr><td>984</td><td>Mountain-500 Silver, 40</td><td>Silver</td><td>450</td><td>2</td></tr>",
                            "<tr><td>985</td><td>Mountain-500 Silver, 42</td><td>Silver</td><td>455</td><td>2</td></tr>",
                            "<tr><td>986</td><td>Mountain-500 Silver, 44</td><td>Silver</td><td>381</td><td>1</td></tr>",
                            "<tr><td>987</td><td>Mountain-500 Silver, 48</td><td>Silver</td><td>457</td><td>2</td></tr>",
                            "<tr><td>988</td><td>Mountain-500 Silver, 52</td><td>Silver</td><td>515</td><td>2</td></tr>",
                            "<tr><td>989</td><td>Mountain-500 Black, 40</td><td>Black</td><td>282</td><td>1</td></tr>",
                            "<tr><td>990</td><td>Mountain-500 Black, 42</td><td>Black</td><td>388</td><td>1</td></tr>",
                            "<tr><td>991</td><td>Mountain-500 Black, 44</td><td>Black</td><td>350</td><td>1</td></tr>",
                            "<tr><td>992</td><td>Mountain-500 Black, 48</td><td>Black</td><td>449</td><td>1</td></tr>",
                            "<tr><td>993</td><td>Mountain-500 Black, 52</td><td>Black</td><td>272</td><td>1</td></tr>",
                            "<tr><td>994</td><td>LL Bottom Bracket</td><td>NULL</td><td>378</td><td>2</td></tr>",
                            "<tr><td>995</td><td>ML Bottom Bracket</td><td>NULL</td><td>NULL</td><td>NULL</td></tr>",
                            "<tr><td>996</td><td>HL Bottom Bracket</td><td>NULL</td><td>543</td><td>2</td></tr>",
                            "<tr><td>997</td><td>Road-750 Black, 44</td><td>Black</td><td>656</td><td>1</td></tr>",
                            "<tr><td>998</td><td>Road-750 Black, 48</td><td>Black</td><td>1556</td><td>2</td></tr>",
                            "<tr><td>999</td><td>Road-750 Black, 52</td><td>Black</td><td>1338</td><td>1</td></tr>",
                            "</table>"
                        ]
                    }
                }
            ],
            "execution_count": 20
        },
        {
            "cell_type": "markdown",
            "source": [
                "### <u><mark>INFO for Lab 3</mark></u>\n",
                "\n",
                "### Derived table (reference, not needed for lab)\n",
                "\n",
                "A subquery used in place of a table in FROM. It can’t see the main query. These are often nested.\n",
                "\n",
                "<span style=\"font-size:9.5pt;font-family:Consolas;\n",
                "mso-bidi-font-family:Consolas;color:blue;mso-ansi-language:EN-US\">SELECT</span> <span style=\"font-size:9.5pt;font-family:Consolas;mso-bidi-font-family:Consolas;\n",
                "color:black;mso-ansi-language:EN-US\"> SOH</span><span style=\"font-size:9.5pt;\n",
                "font-family:Consolas;mso-bidi-font-family:Consolas;color:gray;mso-ansi-language:\n",
                "EN-US\">.</span><span style=\"font-size:9.5pt;font-family:Consolas;mso-bidi-font-family:\n",
                "Consolas;color:black;mso-ansi-language:EN-US\">CustomerID</span><span style=\"font-size:9.5pt;font-family:Consolas;mso-bidi-font-family:Consolas;\n",
                "color:gray;mso-ansi-language:EN-US\">,</span> <span style=\"font-size:9.5pt;\n",
                "font-family:Consolas;mso-bidi-font-family:Consolas;color:black;mso-ansi-language:\n",
                "EN-US\"> SOH</span><span style=\"font-size:9.5pt;font-family:Consolas;mso-bidi-font-family:\n",
                "Consolas;color:gray;mso-ansi-language:EN-US\">.</span><span style=\"font-size:\n",
                "9.5pt;font-family:Consolas;mso-bidi-font-family:Consolas;color:black;\n",
                "mso-ansi-language:EN-US\">SalesOrderID</span><span style=\"font-size:9.5pt;\n",
                "font-family:Consolas;mso-bidi-font-family:Consolas;color:gray;mso-ansi-language:\n",
                "EN-US\">,</span> <span style=\"font-size:9.5pt;font-family:Consolas;mso-bidi-font-family:\n",
                "Consolas;color:black;mso-ansi-language:EN-US\"> SOH</span><span style=\"font-size:9.5pt;font-family:Consolas;mso-bidi-font-family:Consolas;\n",
                "color:gray;mso-ansi-language:EN-US\">.</span><span style=\"font-size:9.5pt;\n",
                "font-family:Consolas;mso-bidi-font-family:Consolas;color:black;mso-ansi-language:\n",
                "EN-US\">OrderDate</span><span style=\"font-size:9.5pt;font-family:Consolas;\n",
                "mso-bidi-font-family:Consolas;color:gray;mso-ansi-language:EN-US\">,</span> <span style=\"font-size:9.5pt;font-family:Consolas;mso-bidi-font-family:Consolas;\n",
                "color:black;mso-ansi-language:EN-US\"> SOH</span><span style=\"font-size:9.5pt;\n",
                "font-family:Consolas;mso-bidi-font-family:Consolas;color:gray;mso-ansi-language:\n",
                "EN-US\">.</span><span style=\"font-size:9.5pt;font-family:Consolas;mso-bidi-font-family:\n",
                "Consolas;color:black;mso-ansi-language:EN-US\">TotalDue</span><span style=\"font-size:9.5pt;font-family:Consolas;mso-bidi-font-family:Consolas;\n",
                "color:gray;mso-ansi-language:EN-US\">,</span> <span style=\"font-size:9.5pt;\n",
                "font-family:Consolas;mso-bidi-font-family:Consolas;color:black;mso-ansi-language:\n",
                "EN-US\"> TS</span><span style=\"font-size:9.5pt;font-family:Consolas;mso-bidi-font-family:\n",
                "Consolas;color:gray;mso-ansi-language:EN-US\">.</span><span style=\"font-size:\n",
                "9.5pt;font-family:Consolas;mso-bidi-font-family:Consolas;color:black;\n",
                "mso-ansi-language:EN-US\">TotalSales<o:p></o:p></span>\n",
                "\n",
                "<span style=\"font-size:9.5pt;font-family:Consolas;\n",
                "mso-bidi-font-family:Consolas;color:blue;mso-ansi-language:EN-US\">FROM</span> <span style=\"font-size:9.5pt;font-family:Consolas;mso-bidi-font-family:Consolas;\n",
                "color:black;mso-ansi-language:EN-US\"> Sales</span><span style=\"font-size:9.5pt;\n",
                "font-family:Consolas;mso-bidi-font-family:Consolas;color:gray;mso-ansi-language:\n",
                "EN-US\">.</span><span style=\"font-size:9.5pt;font-family:Consolas;mso-bidi-font-family:\n",
                "Consolas;color:black;mso-ansi-language:EN-US\">SalesOrderHeader </span> <span style=\"font-size:9.5pt;font-family:Consolas;mso-bidi-font-family:Consolas;\n",
                "color:blue;mso-ansi-language:EN-US\">AS</span> <span style=\"font-size:9.5pt;\n",
                "font-family:Consolas;mso-bidi-font-family:Consolas;color:black;mso-ansi-language:\n",
                "EN-US\"> SOH<o:p></o:p></span>\n",
                "\n",
                "<span style=\"font-size:9.5pt;font-family:Consolas;\n",
                "mso-bidi-font-family:Consolas;color:gray;mso-ansi-language:EN-US\">INNER</span> <span style=\"font-size:9.5pt;\n",
                "font-family:Consolas;mso-bidi-font-family:Consolas;color:gray;mso-ansi-language:\n",
                "EN-US\">JOIN</span> <span style=\"font-size:\n",
                "9.5pt;font-family:Consolas;mso-bidi-font-family:Consolas;color:gray;mso-ansi-language:\n",
                "EN-US\">(</span><span style=\"font-size:9.5pt;font-family:Consolas;mso-bidi-font-family:\n",
                "Consolas;color:blue;mso-ansi-language:EN-US\">SELECT</span> <span style=\"font-size:9.5pt;\n",
                "font-family:Consolas;mso-bidi-font-family:Consolas;color:fuchsia;mso-ansi-language:\n",
                "EN-US\">SUM</span><span style=\"font-size:9.5pt;font-family:Consolas;mso-bidi-font-family:\n",
                "Consolas;color:gray;mso-ansi-language:EN-US\">(</span><span style=\"font-size:\n",
                "9.5pt;font-family:Consolas;mso-bidi-font-family:Consolas;color:black;\n",
                "mso-ansi-language:EN-US\">TotalDue</span><span style=\"font-size:9.5pt;\n",
                "font-family:Consolas;mso-bidi-font-family:Consolas;color:gray;mso-ansi-language:\n",
                "EN-US\">)</span> <span style=\"font-size:\n",
                "9.5pt;font-family:Consolas;mso-bidi-font-family:Consolas;color:blue;mso-ansi-language:\n",
                "EN-US\">AS</span> <span style=\"font-size:9.5pt;font-family:Consolas;mso-bidi-font-family:\n",
                "Consolas;color:black;mso-ansi-language:EN-US\"> TotalSales</span><span style=\"font-size:9.5pt;font-family:Consolas;mso-bidi-font-family:Consolas;\n",
                "color:gray;mso-ansi-language:EN-US\">,</span> <span style=\"font-size:9.5pt;\n",
                "font-family:Consolas;mso-bidi-font-family:Consolas;color:black;mso-ansi-language:\n",
                "EN-US\"> CustomerID<o:p></o:p></span>\n",
                "\n",
                " <span style=\"font-size:9.5pt;\n",
                "font-family:Consolas;mso-bidi-font-family:Consolas;color:blue;mso-ansi-language:\n",
                "EN-US\">FROM</span> <span style=\"font-size:9.5pt;font-family:Consolas;mso-bidi-font-family:\n",
                "Consolas;color:black;mso-ansi-language:EN-US\"> Sales</span><span style=\"font-size:9.5pt;font-family:Consolas;mso-bidi-font-family:Consolas;\n",
                "color:gray;mso-ansi-language:EN-US\">.</span><span style=\"font-size:9.5pt;\n",
                "font-family:Consolas;mso-bidi-font-family:Consolas;color:black;mso-ansi-language:\n",
                "EN-US\">SalesOrderHeader<o:p></o:p></span>\n",
                "\n",
                " <span style=\"font-size:9.5pt;font-family:Consolas;mso-bidi-font-family:Consolas;\n",
                "color:blue;mso-ansi-language:EN-US\">GROUP</span> <span style=\"font-size:9.5pt;font-family:Consolas;mso-bidi-font-family:\n",
                "Consolas;color:blue;mso-ansi-language:EN-US\">BY</span> <span style=\"font-size:\n",
                "9.5pt;font-family:Consolas;mso-bidi-font-family:Consolas;color:black;\n",
                "mso-ansi-language:EN-US\"> CustomerID</span><span style=\"font-size:9.5pt;\n",
                "font-family:Consolas;mso-bidi-font-family:Consolas;color:gray;mso-ansi-language:\n",
                "EN-US\">)</span> <span style=\"font-size:\n",
                "9.5pt;font-family:Consolas;mso-bidi-font-family:Consolas;color:blue;mso-ansi-language:\n",
                "EN-US\">AS</span> <span style=\"font-size:9.5pt;font-family:Consolas;mso-bidi-font-family:\n",
                "Consolas;color:black;mso-ansi-language:EN-US\"> TS </span> <span style=\"font-size:9.5pt;font-family:Consolas;mso-bidi-font-family:Consolas;\n",
                "color:blue;mso-ansi-language:EN-US\">ON</span> <span style=\"font-size:9.5pt;\n",
                "font-family:Consolas;mso-bidi-font-family:Consolas;color:black;mso-ansi-language:\n",
                "EN-US\"> SOH</span><span style=\"font-size:9.5pt;font-family:Consolas;mso-bidi-font-family:\n",
                "Consolas;color:gray;mso-ansi-language:EN-US\">.</span><span style=\"font-size:\n",
                "9.5pt;font-family:Consolas;mso-bidi-font-family:Consolas;color:black;\n",
                "mso-ansi-language:EN-US\">CustomerID </span> <span style=\"font-size:9.5pt;\n",
                "font-family:Consolas;mso-bidi-font-family:Consolas;color:gray;mso-ansi-language:\n",
                "EN-US\">=</span> <span style=\"font-size:9.5pt;font-family:Consolas;mso-bidi-font-family:\n",
                "Consolas;color:black;mso-ansi-language:EN-US\"> TS</span><span style=\"font-size:\n",
                "9.5pt;font-family:Consolas;mso-bidi-font-family:Consolas;color:gray;mso-ansi-language:\n",
                "EN-US\">.</span><span style=\"font-size:9.5pt;font-family:Consolas;mso-bidi-font-family:\n",
                "Consolas;color:black;mso-ansi-language:EN-US\">CustomerID<o:p></o:p></span>\n",
                "\n",
                "<span style=\"font-size:9.5pt;line-height:107%;font-family:\n",
                "Consolas;mso-bidi-font-family:Consolas;color:blue;mso-ansi-language:EN-US\">ORDER</span> <span style=\"font-size:\n",
                "9.5pt;line-height:107%;font-family:Consolas;mso-bidi-font-family:Consolas;\n",
                "color:blue;mso-ansi-language:EN-US\">BY</span> <span style=\"font-size:9.5pt;\n",
                "line-height:107%;font-family:Consolas;mso-bidi-font-family:Consolas;color:black;\n",
                "mso-ansi-language:EN-US\"> SOH</span><span style=\"font-size:9.5pt;line-height:\n",
                "107%;font-family:Consolas;mso-bidi-font-family:Consolas;color:gray;mso-ansi-language:\n",
                "EN-US\">.</span><span style=\"font-size:9.5pt;line-height:107%;font-family:Consolas;\n",
                "mso-bidi-font-family:Consolas;color:black;mso-ansi-language:EN-US\">CustomerID</span><span style=\"font-size:9.5pt;line-height:107%;font-family:Consolas;mso-bidi-font-family:\n",
                "Consolas;color:gray;mso-ansi-language:EN-US\">;<o:p></o:p></span>\n",
                "\n",
                "### Common Table Expressions\n",
                "\n",
                "Like a derived table, but is defined at the top of the query. Nesting not allowed, but you can base one CTE on a previous one.\n",
                "\n",
                "<span style=\"font-size:9.5pt;font-family:Consolas;\n",
                "mso-bidi-font-family:Consolas;color:blue;mso-ansi-language:EN-US\">WITH</span> <span style=\"font-size:9.5pt;font-family:Consolas;mso-bidi-font-family:Consolas;\n",
                "color:black;mso-ansi-language:EN-US\"> TS </span> <span style=\"font-size:9.5pt;\n",
                "font-family:Consolas;mso-bidi-font-family:Consolas;color:blue;mso-ansi-language:\n",
                "EN-US\">AS</span>\n",
                "\n",
                " <span style=\"font-size:9.5pt;font-family:Consolas;\n",
                "mso-bidi-font-family:Consolas;color:gray;mso-ansi-language:EN-US\">&nbsp;&nbsp;&nbsp;&nbsp;&nbsp; (</span><span style=\"font-size:9.5pt;\n",
                "font-family:Consolas;mso-bidi-font-family:Consolas;color:blue;mso-ansi-language:\n",
                "EN-US\">SELECT</span> <span style=\"font-size:9.5pt;font-family:Consolas;mso-bidi-font-family:Consolas;\n",
                "color:fuchsia;mso-ansi-language:EN-US\">SUM</span><span style=\"font-size:9.5pt;\n",
                "font-family:Consolas;mso-bidi-font-family:Consolas;color:gray;mso-ansi-language:\n",
                "EN-US\">(</span><span style=\"font-size:9.5pt;font-family:Consolas;mso-bidi-font-family:\n",
                "Consolas;color:black;mso-ansi-language:EN-US\">TotalDue</span><span style=\"font-size:9.5pt;font-family:Consolas;mso-bidi-font-family:Consolas;\n",
                "color:gray;mso-ansi-language:EN-US\">)</span> <span style=\"font-size:9.5pt;font-family:Consolas;mso-bidi-font-family:\n",
                "Consolas;color:blue;mso-ansi-language:EN-US\">AS</span> <span style=\"font-size:\n",
                "9.5pt;font-family:Consolas;mso-bidi-font-family:Consolas;color:black;\n",
                "mso-ansi-language:EN-US\"> TotalSales</span><span style=\"font-size:9.5pt;\n",
                "font-family:Consolas;mso-bidi-font-family:Consolas;color:gray;mso-ansi-language:\n",
                "EN-US\">,</span> <span style=\"font-size:9.5pt;font-family:Consolas;mso-bidi-font-family:\n",
                "Consolas;color:black;mso-ansi-language:EN-US\"> CustomerID<o:p></o:p></span>\n",
                "\n",
                " <span style=\"font-size:9.5pt;\n",
                "font-family:Consolas;mso-bidi-font-family:Consolas;color:blue;mso-ansi-language:\n",
                "EN-US\">FROM</span> <span style=\"font-size:9.5pt;font-family:Consolas;mso-bidi-font-family:\n",
                "Consolas;color:black;mso-ansi-language:EN-US\"> Sales</span><span style=\"font-size:9.5pt;font-family:Consolas;mso-bidi-font-family:Consolas;\n",
                "color:gray;mso-ansi-language:EN-US\">.</span><span style=\"font-size:9.5pt;\n",
                "font-family:Consolas;mso-bidi-font-family:Consolas;color:black;mso-ansi-language:\n",
                "EN-US\">SalesOrderHeader<o:p></o:p></span>\n",
                "\n",
                " <span style=\"font-size:9.5pt;\n",
                "font-family:Consolas;mso-bidi-font-family:Consolas;color:blue;mso-ansi-language:\n",
                "EN-US\">GROUP</span> <span style=\"font-size:9.5pt;font-family:Consolas;mso-bidi-font-family:Consolas;\n",
                "color:blue;mso-ansi-language:EN-US\">BY</span> <span style=\"font-size:9.5pt;\n",
                "font-family:Consolas;mso-bidi-font-family:Consolas;color:black;mso-ansi-language:\n",
                "EN-US\"> CustomerID</span><span style=\"font-size:9.5pt;font-family:Consolas;\n",
                "mso-bidi-font-family:Consolas;color:gray;mso-ansi-language:EN-US\">)</span>\n",
                "\n",
                "<span style=\"font-size:9.5pt;font-family:Consolas;\n",
                "mso-bidi-font-family:Consolas;color:blue;mso-ansi-language:EN-US\">SELECT</span> <span style=\"font-size:9.5pt;font-family:Consolas;mso-bidi-font-family:Consolas;\n",
                "color:black;mso-ansi-language:EN-US\"> SOH</span><span style=\"font-size:9.5pt;\n",
                "font-family:Consolas;mso-bidi-font-family:Consolas;color:gray;mso-ansi-language:\n",
                "EN-US\">.</span><span style=\"font-size:9.5pt;font-family:Consolas;mso-bidi-font-family:\n",
                "Consolas;color:black;mso-ansi-language:EN-US\">CustomerID</span><span style=\"font-size:9.5pt;font-family:Consolas;mso-bidi-font-family:Consolas;\n",
                "color:gray;mso-ansi-language:EN-US\">,</span> <span style=\"font-size:9.5pt;\n",
                "font-family:Consolas;mso-bidi-font-family:Consolas;color:black;mso-ansi-language:\n",
                "EN-US\"> SOH</span><span style=\"font-size:9.5pt;font-family:Consolas;mso-bidi-font-family:\n",
                "Consolas;color:gray;mso-ansi-language:EN-US\">.</span><span style=\"font-size:\n",
                "9.5pt;font-family:Consolas;mso-bidi-font-family:Consolas;color:black;\n",
                "mso-ansi-language:EN-US\">SalesOrderID</span><span style=\"font-size:9.5pt;\n",
                "font-family:Consolas;mso-bidi-font-family:Consolas;color:gray;mso-ansi-language:\n",
                "EN-US\">,</span> <span style=\"font-size:9.5pt;font-family:Consolas;mso-bidi-font-family:\n",
                "Consolas;color:black;mso-ansi-language:EN-US\"> SOH</span><span style=\"font-size:9.5pt;font-family:Consolas;mso-bidi-font-family:Consolas;\n",
                "color:gray;mso-ansi-language:EN-US\">.</span><span style=\"font-size:9.5pt;\n",
                "font-family:Consolas;mso-bidi-font-family:Consolas;color:black;mso-ansi-language:\n",
                "EN-US\">OrderDate</span><span style=\"font-size:9.5pt;font-family:Consolas;\n",
                "mso-bidi-font-family:Consolas;color:gray;mso-ansi-language:EN-US\">,</span> <span style=\"font-size:9.5pt;font-family:Consolas;mso-bidi-font-family:Consolas;\n",
                "color:black;mso-ansi-language:EN-US\"> SOH</span><span style=\"font-size:9.5pt;\n",
                "font-family:Consolas;mso-bidi-font-family:Consolas;color:gray;mso-ansi-language:\n",
                "EN-US\">.</span><span style=\"font-size:9.5pt;font-family:Consolas;mso-bidi-font-family:\n",
                "Consolas;color:black;mso-ansi-language:EN-US\">TotalDue</span><span style=\"font-size:9.5pt;font-family:Consolas;mso-bidi-font-family:Consolas;\n",
                "color:gray;mso-ansi-language:EN-US\">,</span> <span style=\"font-size:9.5pt;\n",
                "font-family:Consolas;mso-bidi-font-family:Consolas;color:black;mso-ansi-language:\n",
                "EN-US\"> TS</span><span style=\"font-size:9.5pt;font-family:Consolas;mso-bidi-font-family:\n",
                "Consolas;color:gray;mso-ansi-language:EN-US\">.</span><span style=\"font-size:\n",
                "9.5pt;font-family:Consolas;mso-bidi-font-family:Consolas;color:black;\n",
                "mso-ansi-language:EN-US\">TotalSales<o:p></o:p></span>\n",
                "\n",
                "<span style=\"font-size:9.5pt;font-family:Consolas;\n",
                "mso-bidi-font-family:Consolas;color:blue;mso-ansi-language:EN-US\">FROM</span> <span style=\"font-size:9.5pt;font-family:Consolas;mso-bidi-font-family:Consolas;\n",
                "color:black;mso-ansi-language:EN-US\"> Sales</span><span style=\"font-size:9.5pt;\n",
                "font-family:Consolas;mso-bidi-font-family:Consolas;color:gray;mso-ansi-language:\n",
                "EN-US\">.</span><span style=\"font-size:9.5pt;font-family:Consolas;mso-bidi-font-family:\n",
                "Consolas;color:black;mso-ansi-language:EN-US\">SalesOrderHeader </span> <span style=\"font-size:9.5pt;font-family:Consolas;mso-bidi-font-family:Consolas;\n",
                "color:blue;mso-ansi-language:EN-US\">AS</span> <span style=\"font-size:9.5pt;\n",
                "font-family:Consolas;mso-bidi-font-family:Consolas;color:black;mso-ansi-language:\n",
                "EN-US\"> SOH<o:p></o:p></span>\n",
                "\n",
                "<span style=\"font-size:9.5pt;font-family:Consolas;\n",
                "mso-bidi-font-family:Consolas;color:gray;mso-ansi-language:EN-US\">INNER</span> <span style=\"font-size:9.5pt;\n",
                "font-family:Consolas;mso-bidi-font-family:Consolas;color:gray;mso-ansi-language:\n",
                "EN-US\">JOIN</span> <span style=\"font-size:9.5pt;font-family:Consolas;mso-bidi-font-family:\n",
                "Consolas;color:black;mso-ansi-language:EN-US\"> TS </span> <span style=\"font-size:9.5pt;font-family:Consolas;mso-bidi-font-family:Consolas;\n",
                "color:blue;mso-ansi-language:EN-US\">ON</span> <span style=\"font-size:9.5pt;\n",
                "font-family:Consolas;mso-bidi-font-family:Consolas;color:black;mso-ansi-language:\n",
                "EN-US\"> SOH</span><span style=\"font-size:9.5pt;font-family:Consolas;mso-bidi-font-family:\n",
                "Consolas;color:gray;mso-ansi-language:EN-US\">.</span><span style=\"font-size:\n",
                "9.5pt;font-family:Consolas;mso-bidi-font-family:Consolas;color:black;\n",
                "mso-ansi-language:EN-US\">CustomerID </span> <span style=\"font-size:9.5pt;\n",
                "font-family:Consolas;mso-bidi-font-family:Consolas;color:gray;mso-ansi-language:\n",
                "EN-US\">=</span> <span style=\"font-size:9.5pt;font-family:Consolas;mso-bidi-font-family:\n",
                "Consolas;color:black;mso-ansi-language:EN-US\"> TS</span><span style=\"font-size:\n",
                "9.5pt;font-family:Consolas;mso-bidi-font-family:Consolas;color:gray;mso-ansi-language:\n",
                "EN-US\">.</span><span style=\"font-size:9.5pt;font-family:Consolas;mso-bidi-font-family:\n",
                "Consolas;color:black;mso-ansi-language:EN-US\">CustomerID<o:p></o:p></span>\n",
                "\n",
                "<span style=\"font-size:9.5pt;line-height:107%;font-family:\n",
                "Consolas;mso-bidi-font-family:Consolas;color:blue;mso-ansi-language:EN-US\">ORDER</span> <span style=\"font-size:\n",
                "9.5pt;line-height:107%;font-family:Consolas;mso-bidi-font-family:Consolas;\n",
                "color:blue;mso-ansi-language:EN-US\">BY</span> <span style=\"font-size:9.5pt;\n",
                "line-height:107%;font-family:Consolas;mso-bidi-font-family:Consolas;color:black;\n",
                "mso-ansi-language:EN-US\"> SOH</span><span style=\"font-size:9.5pt;line-height:\n",
                "107%;font-family:Consolas;mso-bidi-font-family:Consolas;color:gray;mso-ansi-language:\n",
                "EN-US\">.</span><span style=\"font-size:9.5pt;line-height:107%;font-family:Consolas;\n",
                "mso-bidi-font-family:Consolas;color:black;mso-ansi-language:EN-US\">CustomerID</span><span style=\"font-size:9.5pt;line-height:107%;font-family:Consolas;mso-bidi-font-family:\n",
                "Consolas;color:gray;mso-ansi-language:EN-US\">;<o:p></o:p></span>\n",
                "\n",
                "<span style=\"font-size:9.5pt;font-family:Consolas;\n",
                "mso-bidi-font-family:Consolas;color:blue;mso-ansi-language:EN-US\">WITH</span> <span style=\"font-size:9.5pt;font-family:Consolas;mso-bidi-font-family:Consolas;\n",
                "color:black;mso-ansi-language:EN-US\"> MonthTotal </span> <span style=\"font-size:\n",
                "9.5pt;font-family:Consolas;mso-bidi-font-family:Consolas;color:blue;mso-ansi-language:\n",
                "EN-US\">AS </span> <span style=\"font-size:9.5pt;font-family:Consolas;mso-bidi-font-family:\n",
                "Consolas;color:gray;mso-ansi-language:EN-US\">(</span>\n",
                "\n",
                " <span style=\"font-size:9.5pt;\n",
                "font-family:Consolas;mso-bidi-font-family:Consolas;color:blue;mso-ansi-language:\n",
                "EN-US\">SELECT</span> <span style=\"font-size:9.5pt;font-family:Consolas;mso-bidi-font-family:Consolas;\n",
                "color:fuchsia;mso-ansi-language:EN-US\">SUM</span><span style=\"font-size:9.5pt;\n",
                "font-family:Consolas;mso-bidi-font-family:Consolas;color:gray;mso-ansi-language:\n",
                "EN-US\">(</span><span style=\"font-size:9.5pt;font-family:Consolas;mso-bidi-font-family:\n",
                "Consolas;color:black;mso-ansi-language:EN-US\">TotalDue</span><span style=\"font-size:9.5pt;font-family:Consolas;mso-bidi-font-family:Consolas;\n",
                "color:gray;mso-ansi-language:EN-US\">)</span> <span style=\"font-size:9.5pt;font-family:Consolas;mso-bidi-font-family:\n",
                "Consolas;color:blue;mso-ansi-language:EN-US\">AS</span> <span style=\"font-size:\n",
                "9.5pt;font-family:Consolas;mso-bidi-font-family:Consolas;color:black;\n",
                "mso-ansi-language:EN-US\"> MonthTotal</span><span style=\"font-size:9.5pt;\n",
                "font-family:Consolas;mso-bidi-font-family:Consolas;color:gray;mso-ansi-language:\n",
                "EN-US\">,</span> <span style=\"font-size:\n",
                "9.5pt;font-family:Consolas;mso-bidi-font-family:Consolas;color:fuchsia;\n",
                "mso-ansi-language:EN-US\">YEAR</span><span style=\"font-size:9.5pt;font-family:\n",
                "Consolas;mso-bidi-font-family:Consolas;color:gray;mso-ansi-language:EN-US\">(</span><span style=\"font-size:9.5pt;font-family:Consolas;mso-bidi-font-family:Consolas;\n",
                "color:black;mso-ansi-language:EN-US\">OrderDate</span><span style=\"font-size:\n",
                "9.5pt;font-family:Consolas;mso-bidi-font-family:Consolas;color:gray;mso-ansi-language:\n",
                "EN-US\">)</span> <span style=\"font-size:\n",
                "9.5pt;font-family:Consolas;mso-bidi-font-family:Consolas;color:blue;mso-ansi-language:\n",
                "EN-US\">AS</span> <span style=\"font-size:9.5pt;font-family:Consolas;mso-bidi-font-family:\n",
                "Consolas;color:black;mso-ansi-language:EN-US\"> OrderYear</span><span style=\"font-size:9.5pt;font-family:Consolas;mso-bidi-font-family:Consolas;\n",
                "color:gray;mso-ansi-language:EN-US\">,</span>\n",
                "\n",
                " <span style=\"font-size:\n",
                "9.5pt;font-family:Consolas;mso-bidi-font-family:Consolas;color:fuchsia;\n",
                "mso-ansi-language:EN-US\">MONTH</span><span style=\"font-size:9.5pt;font-family:\n",
                "Consolas;mso-bidi-font-family:Consolas;color:gray;mso-ansi-language:EN-US\">(</span><span style=\"font-size:9.5pt;font-family:Consolas;mso-bidi-font-family:Consolas;\n",
                "color:black;mso-ansi-language:EN-US\">OrderDate</span><span style=\"font-size:\n",
                "9.5pt;font-family:Consolas;mso-bidi-font-family:Consolas;color:gray;mso-ansi-language:\n",
                "EN-US\">)</span> <span style=\"font-size:\n",
                "9.5pt;font-family:Consolas;mso-bidi-font-family:Consolas;color:blue;mso-ansi-language:\n",
                "EN-US\">AS</span> <span style=\"font-size:9.5pt;font-family:Consolas;mso-bidi-font-family:\n",
                "Consolas;color:black;mso-ansi-language:EN-US\"> OrderMonth<o:p></o:p></span>\n",
                "\n",
                " <span style=\"font-size:9.5pt;\n",
                "font-family:Consolas;mso-bidi-font-family:Consolas;color:blue;mso-ansi-language:\n",
                "EN-US\">FROM</span> <span style=\"font-size:9.5pt;font-family:Consolas;mso-bidi-font-family:\n",
                "Consolas;color:black;mso-ansi-language:EN-US\"> Sales</span><span style=\"font-size:9.5pt;font-family:Consolas;mso-bidi-font-family:Consolas;\n",
                "color:gray;mso-ansi-language:EN-US\">.</span><span style=\"font-size:9.5pt;\n",
                "font-family:Consolas;mso-bidi-font-family:Consolas;color:black;mso-ansi-language:\n",
                "EN-US\">SalesOrderHeader<o:p></o:p></span>\n",
                "\n",
                " <span style=\"font-size:9.5pt;\n",
                "font-family:Consolas;mso-bidi-font-family:Consolas;color:blue;mso-ansi-language:\n",
                "EN-US\">GROUP</span> <span style=\"font-size:9.5pt;font-family:Consolas;mso-bidi-font-family:Consolas;\n",
                "color:blue;mso-ansi-language:EN-US\">BY</span> <span style=\"font-size:9.5pt;font-family:Consolas;mso-bidi-font-family:\n",
                "Consolas;color:fuchsia;mso-ansi-language:EN-US\">YEAR</span><span style=\"font-size:9.5pt;font-family:Consolas;mso-bidi-font-family:Consolas;\n",
                "color:gray;mso-ansi-language:EN-US\">(</span><span style=\"font-size:9.5pt;\n",
                "font-family:Consolas;mso-bidi-font-family:Consolas;color:black;mso-ansi-language:\n",
                "EN-US\">OrderDate</span><span style=\"font-size:9.5pt;font-family:Consolas;\n",
                "mso-bidi-font-family:Consolas;color:gray;mso-ansi-language:EN-US\">),</span> <span style=\"font-size:9.5pt;\n",
                "font-family:Consolas;mso-bidi-font-family:Consolas;color:fuchsia;mso-ansi-language:\n",
                "EN-US\">MONTH</span><span style=\"font-size:9.5pt;font-family:Consolas;\n",
                "mso-bidi-font-family:Consolas;color:gray;mso-ansi-language:EN-US\">(</span><span style=\"font-size:9.5pt;font-family:Consolas;mso-bidi-font-family:Consolas;\n",
                "color:black;mso-ansi-language:EN-US\">OrderDate</span><span style=\"font-size:\n",
                "9.5pt;font-family:Consolas;mso-bidi-font-family:Consolas;color:gray;mso-ansi-language:\n",
                "EN-US\">)</span>\n",
                "\n",
                " <span style=\"font-size:9.5pt;\n",
                "font-family:Consolas;mso-bidi-font-family:Consolas;color:gray;mso-ansi-language:\n",
                "EN-US\">),</span>\n",
                "\n",
                "<span style=\"font-size:9.5pt;font-family:Consolas;\n",
                "mso-bidi-font-family:Consolas;color:black;mso-ansi-language:EN-US\">YearTotal </span> <span style=\"font-size:9.5pt;font-family:Consolas;mso-bidi-font-family:Consolas;\n",
                "color:blue;mso-ansi-language:EN-US\">AS </span> <span style=\"font-size:9.5pt;\n",
                "font-family:Consolas;mso-bidi-font-family:Consolas;color:gray;mso-ansi-language:\n",
                "EN-US\">(</span>\n",
                "\n",
                " <span style=\"font-size:9.5pt;\n",
                "font-family:Consolas;mso-bidi-font-family:Consolas;color:blue;mso-ansi-language:\n",
                "EN-US\">SELECT</span> <span style=\"font-size:9.5pt;font-family:Consolas;mso-bidi-font-family:Consolas;\n",
                "color:fuchsia;mso-ansi-language:EN-US\">SUM</span><span style=\"font-size:9.5pt;\n",
                "font-family:Consolas;mso-bidi-font-family:Consolas;color:gray;mso-ansi-language:\n",
                "EN-US\">(</span><span style=\"font-size:9.5pt;font-family:Consolas;mso-bidi-font-family:\n",
                "Consolas;color:black;mso-ansi-language:EN-US\">MonthTotal</span><span style=\"font-size:9.5pt;font-family:Consolas;mso-bidi-font-family:Consolas;\n",
                "color:gray;mso-ansi-language:EN-US\">)</span> <span style=\"font-size:9.5pt;font-family:Consolas;mso-bidi-font-family:\n",
                "Consolas;color:blue;mso-ansi-language:EN-US\">AS</span> <span style=\"font-size:\n",
                "9.5pt;font-family:Consolas;mso-bidi-font-family:Consolas;color:black;\n",
                "mso-ansi-language:EN-US\"> YearTotal</span><span style=\"font-size:9.5pt;\n",
                "font-family:Consolas;mso-bidi-font-family:Consolas;color:gray;mso-ansi-language:\n",
                "EN-US\">,</span> <span style=\"font-size:9.5pt;font-family:Consolas;mso-bidi-font-family:\n",
                "Consolas;color:black;mso-ansi-language:EN-US\"> OrderYear<o:p></o:p></span>\n",
                "\n",
                " <span style=\"font-size:9.5pt;\n",
                "font-family:Consolas;mso-bidi-font-family:Consolas;color:blue;mso-ansi-language:\n",
                "EN-US\">FROM</span> <span style=\"font-size:9.5pt;font-family:Consolas;mso-bidi-font-family:\n",
                "Consolas;color:black;mso-ansi-language:EN-US\"> MonthTotal<o:p></o:p></span>\n",
                "\n",
                " <span style=\"font-size:9.5pt;\n",
                "font-family:Consolas;mso-bidi-font-family:Consolas;color:blue;mso-ansi-language:\n",
                "EN-US\">GROUP</span> <span style=\"font-size:9.5pt;font-family:Consolas;mso-bidi-font-family:Consolas;\n",
                "color:blue;mso-ansi-language:EN-US\">BY</span> <span style=\"font-size:9.5pt;\n",
                "font-family:Consolas;mso-bidi-font-family:Consolas;color:black;mso-ansi-language:\n",
                "EN-US\"> OrderYear<o:p></o:p></span>\n",
                "\n",
                " <span style=\"font-size:9.5pt;\n",
                "font-family:Consolas;mso-bidi-font-family:Consolas;color:gray;mso-ansi-language:\n",
                "EN-US\">),</span>\n",
                "\n",
                "<span style=\"font-size:9.5pt;font-family:Consolas;\n",
                "mso-bidi-font-family:Consolas;color:black;mso-ansi-language:EN-US\">Sales </span> <span style=\"font-size:9.5pt;font-family:Consolas;mso-bidi-font-family:Consolas;\n",
                "color:blue;mso-ansi-language:EN-US\">AS </span> <span style=\"font-size:9.5pt;\n",
                "font-family:Consolas;mso-bidi-font-family:Consolas;color:gray;mso-ansi-language:\n",
                "EN-US\">(</span>\n",
                "\n",
                " <span style=\"font-size:9.5pt;\n",
                "font-family:Consolas;mso-bidi-font-family:Consolas;color:blue;mso-ansi-language:\n",
                "EN-US\">SELECT</span> <span style=\"font-size:9.5pt;font-family:Consolas;\n",
                "mso-bidi-font-family:Consolas;color:black;mso-ansi-language:EN-US\"> SalesOrderID</span><span style=\"font-size:9.5pt;font-family:Consolas;\n",
                "mso-bidi-font-family:Consolas;color:gray;mso-ansi-language:EN-US\">,</span> <span style=\"font-size:9.5pt;font-family:Consolas;mso-bidi-font-family:Consolas;\n",
                "color:black;mso-ansi-language:EN-US\"> OrderDate</span><span style=\"font-size:\n",
                "9.5pt;font-family:Consolas;mso-bidi-font-family:Consolas;color:gray;mso-ansi-language:\n",
                "EN-US\">,</span> <span style=\"font-size:9.5pt;font-family:Consolas;mso-bidi-font-family:\n",
                "Consolas;color:black;mso-ansi-language:EN-US\"> TotalDue</span><span style=\"font-size:9.5pt;font-family:Consolas;mso-bidi-font-family:Consolas;\n",
                "color:gray;mso-ansi-language:EN-US\">,</span>\n",
                "\n",
                " <span style=\"font-size:\n",
                "9.5pt;font-family:Consolas;mso-bidi-font-family:Consolas;color:fuchsia;\n",
                "mso-ansi-language:EN-US\">YEAR</span><span style=\"font-size:9.5pt;font-family:\n",
                "Consolas;mso-bidi-font-family:Consolas;color:gray;mso-ansi-language:EN-US\">(</span><span style=\"font-size:9.5pt;font-family:Consolas;mso-bidi-font-family:Consolas;\n",
                "color:black;mso-ansi-language:EN-US\">OrderDate</span><span style=\"font-size:\n",
                "9.5pt;font-family:Consolas;mso-bidi-font-family:Consolas;color:gray;mso-ansi-language:\n",
                "EN-US\">)</span> <span style=\"font-size:\n",
                "9.5pt;font-family:Consolas;mso-bidi-font-family:Consolas;color:blue;mso-ansi-language:\n",
                "EN-US\">AS</span> <span style=\"font-size:9.5pt;font-family:Consolas;mso-bidi-font-family:\n",
                "Consolas;color:black;mso-ansi-language:EN-US\"> OrderYear</span><span style=\"font-size:9.5pt;font-family:Consolas;mso-bidi-font-family:Consolas;\n",
                "color:gray;mso-ansi-language:EN-US\">,</span> <span style=\"font-size:9.5pt;font-family:Consolas;mso-bidi-font-family:\n",
                "Consolas;color:fuchsia;mso-ansi-language:EN-US\">MONTH</span><span style=\"font-size:9.5pt;font-family:Consolas;mso-bidi-font-family:Consolas;\n",
                "color:gray;mso-ansi-language:EN-US\">(</span><span style=\"font-size:9.5pt;\n",
                "font-family:Consolas;mso-bidi-font-family:Consolas;color:black;mso-ansi-language:\n",
                "EN-US\">OrderDate</span><span style=\"font-size:9.5pt;font-family:Consolas;\n",
                "mso-bidi-font-family:Consolas;color:gray;mso-ansi-language:EN-US\">)</span> <span style=\"font-size:9.5pt;\n",
                "font-family:Consolas;mso-bidi-font-family:Consolas;color:blue;mso-ansi-language:\n",
                "EN-US\">AS</span> <span style=\"font-size:9.5pt;font-family:Consolas;mso-bidi-font-family:\n",
                "Consolas;color:black;mso-ansi-language:EN-US\"> OrderMonth<o:p></o:p></span>\n",
                "\n",
                " <span style=\"font-size:9.5pt;\n",
                "font-family:Consolas;mso-bidi-font-family:Consolas;color:blue;mso-ansi-language:\n",
                "EN-US\">FROM</span> <span style=\"font-size:9.5pt;font-family:Consolas;mso-bidi-font-family:\n",
                "Consolas;color:black;mso-ansi-language:EN-US\"> Sales</span><span style=\"font-size:9.5pt;font-family:Consolas;mso-bidi-font-family:Consolas;\n",
                "color:gray;mso-ansi-language:EN-US\">.</span><span style=\"font-size:9.5pt;\n",
                "font-family:Consolas;mso-bidi-font-family:Consolas;color:black;mso-ansi-language:\n",
                "EN-US\">SalesOrderHeader</span><span style=\"font-size:9.5pt;font-family:Consolas;\n",
                "mso-bidi-font-family:Consolas;color:gray;mso-ansi-language:EN-US\">)</span>\n",
                "\n",
                "<span style=\"font-size:9.5pt;font-family:Consolas;\n",
                "mso-bidi-font-family:Consolas;color:blue;mso-ansi-language:EN-US\">SELECT</span> <span style=\"font-size:9.5pt;font-family:Consolas;mso-bidi-font-family:Consolas;\n",
                "color:black;mso-ansi-language:EN-US\"> Sales</span><span style=\"font-size:9.5pt;\n",
                "font-family:Consolas;mso-bidi-font-family:Consolas;color:gray;mso-ansi-language:\n",
                "EN-US\">.</span><span style=\"font-size:9.5pt;font-family:Consolas;mso-bidi-font-family:\n",
                "Consolas;color:black;mso-ansi-language:EN-US\">SalesOrderID</span><span style=\"font-size:9.5pt;font-family:Consolas;mso-bidi-font-family:Consolas;\n",
                "color:gray;mso-ansi-language:EN-US\">,</span> <span style=\"font-size:9.5pt;\n",
                "font-family:Consolas;mso-bidi-font-family:Consolas;color:black;mso-ansi-language:\n",
                "EN-US\"> Sales</span><span style=\"font-size:9.5pt;font-family:Consolas;\n",
                "mso-bidi-font-family:Consolas;color:gray;mso-ansi-language:EN-US\">.</span><span style=\"font-size:9.5pt;font-family:Consolas;mso-bidi-font-family:Consolas;\n",
                "color:black;mso-ansi-language:EN-US\">OrderDate</span><span style=\"font-size:\n",
                "9.5pt;font-family:Consolas;mso-bidi-font-family:Consolas;color:gray;mso-ansi-language:\n",
                "EN-US\">,</span> <span style=\"font-size:9.5pt;font-family:Consolas;mso-bidi-font-family:\n",
                "Consolas;color:black;mso-ansi-language:EN-US\"> Sales</span><span style=\"font-size:9.5pt;font-family:Consolas;mso-bidi-font-family:Consolas;\n",
                "color:gray;mso-ansi-language:EN-US\">.</span><span style=\"font-size:9.5pt;\n",
                "font-family:Consolas;mso-bidi-font-family:Consolas;color:black;mso-ansi-language:\n",
                "EN-US\">TotalDue</span><span style=\"font-size:9.5pt;font-family:Consolas;\n",
                "mso-bidi-font-family:Consolas;color:gray;mso-ansi-language:EN-US\">,</span>\n",
                "\n",
                " <span style=\"font-size:9.5pt;font-family:Consolas;\n",
                "mso-bidi-font-family:Consolas;color:black;mso-ansi-language:EN-US\">&nbsp;&nbsp;&nbsp;&nbsp;&nbsp;&nbsp; YearTotal</span><span style=\"font-size:\n",
                "9.5pt;font-family:Consolas;mso-bidi-font-family:Consolas;color:gray;mso-ansi-language:\n",
                "EN-US\">.</span><span style=\"font-size:9.5pt;font-family:Consolas;mso-bidi-font-family:\n",
                "Consolas;color:black;mso-ansi-language:EN-US\">YearTotal</span><span style=\"font-size:9.5pt;font-family:Consolas;mso-bidi-font-family:Consolas;\n",
                "color:gray;mso-ansi-language:EN-US\">,</span> <span style=\"font-size:9.5pt;\n",
                "font-family:Consolas;mso-bidi-font-family:Consolas;color:black;mso-ansi-language:\n",
                "EN-US\"> MonthTotal</span><span style=\"font-size:9.5pt;font-family:Consolas;\n",
                "mso-bidi-font-family:Consolas;color:gray;mso-ansi-language:EN-US\">.</span><span style=\"font-size:9.5pt;font-family:Consolas;mso-bidi-font-family:Consolas;\n",
                "color:black;mso-ansi-language:EN-US\">MonthTotal<o:p></o:p></span>\n",
                "\n",
                "<span style=\"font-size:9.5pt;font-family:Consolas;\n",
                "mso-bidi-font-family:Consolas;color:blue;mso-ansi-language:EN-US\">FROM</span> <span style=\"font-size:9.5pt;font-family:Consolas;mso-bidi-font-family:Consolas;\n",
                "color:black;mso-ansi-language:EN-US\"> Sales<o:p></o:p></span>\n",
                "\n",
                "<span style=\"font-size:9.5pt;font-family:Consolas;\n",
                "mso-bidi-font-family:Consolas;color:gray;mso-ansi-language:EN-US\">INNER</span> <span style=\"font-size:9.5pt;\n",
                "font-family:Consolas;mso-bidi-font-family:Consolas;color:gray;mso-ansi-language:\n",
                "EN-US\">JOIN</span> <span style=\"font-size:9.5pt;font-family:Consolas;mso-bidi-font-family:\n",
                "Consolas;color:black;mso-ansi-language:EN-US\"> YearTotal </span> <span style=\"font-size:9.5pt;font-family:Consolas;mso-bidi-font-family:Consolas;\n",
                "color:blue;mso-ansi-language:EN-US\">ON</span> <span style=\"font-size:9.5pt;\n",
                "font-family:Consolas;mso-bidi-font-family:Consolas;color:black;mso-ansi-language:\n",
                "EN-US\"> YearTotal</span><span style=\"font-size:9.5pt;font-family:Consolas;\n",
                "mso-bidi-font-family:Consolas;color:gray;mso-ansi-language:EN-US\">.</span><span style=\"font-size:9.5pt;font-family:Consolas;mso-bidi-font-family:Consolas;\n",
                "color:black;mso-ansi-language:EN-US\">OrderYear </span> <span style=\"font-size:\n",
                "9.5pt;font-family:Consolas;mso-bidi-font-family:Consolas;color:gray;mso-ansi-language:\n",
                "EN-US\">=</span> <span style=\"font-size:9.5pt;font-family:Consolas;mso-bidi-font-family:\n",
                "Consolas;color:black;mso-ansi-language:EN-US\"> Sales</span><span style=\"font-size:9.5pt;font-family:Consolas;mso-bidi-font-family:Consolas;\n",
                "color:gray;mso-ansi-language:EN-US\">.</span><span style=\"font-size:9.5pt;\n",
                "font-family:Consolas;mso-bidi-font-family:Consolas;color:black;mso-ansi-language:\n",
                "EN-US\">OrderYear<o:p></o:p></span>\n",
                "\n",
                "<span style=\"font-size:9.5pt;font-family:Consolas;\n",
                "mso-bidi-font-family:Consolas;color:gray;mso-ansi-language:EN-US\">INNER</span> <span style=\"font-size:9.5pt;\n",
                "font-family:Consolas;mso-bidi-font-family:Consolas;color:gray;mso-ansi-language:\n",
                "EN-US\">JOIN</span> <span style=\"font-size:9.5pt;font-family:Consolas;mso-bidi-font-family:\n",
                "Consolas;color:black;mso-ansi-language:EN-US\"> MonthTotal </span> <span style=\"font-size:9.5pt;font-family:Consolas;mso-bidi-font-family:Consolas;\n",
                "color:blue;mso-ansi-language:EN-US\">ON</span> <span style=\"font-size:9.5pt;\n",
                "font-family:Consolas;mso-bidi-font-family:Consolas;color:black;mso-ansi-language:\n",
                "EN-US\"> MonthTotal</span><span style=\"font-size:9.5pt;font-family:Consolas;\n",
                "mso-bidi-font-family:Consolas;color:gray;mso-ansi-language:EN-US\">.</span><span style=\"font-size:9.5pt;font-family:Consolas;mso-bidi-font-family:Consolas;\n",
                "color:black;mso-ansi-language:EN-US\">OrderMonth </span> <span style=\"font-size:\n",
                "9.5pt;font-family:Consolas;mso-bidi-font-family:Consolas;color:gray;mso-ansi-language:\n",
                "EN-US\">=</span> <span style=\"font-size:9.5pt;font-family:Consolas;mso-bidi-font-family:\n",
                "Consolas;color:black;mso-ansi-language:EN-US\"> Sales</span><span style=\"font-size:9.5pt;font-family:Consolas;mso-bidi-font-family:Consolas;\n",
                "color:gray;mso-ansi-language:EN-US\">.</span><span style=\"font-size:9.5pt;\n",
                "font-family:Consolas;mso-bidi-font-family:Consolas;color:black;mso-ansi-language:\n",
                "EN-US\">OrderMonth<o:p></o:p></span>\n",
                "\n",
                " <span style=\"font-size:9.5pt;\n",
                "font-family:Consolas;mso-bidi-font-family:Consolas;color:gray;mso-ansi-language:\n",
                "EN-US\">AND</span> <span style=\"font-size:9.5pt;font-family:Consolas;mso-bidi-font-family:\n",
                "Consolas;color:black;mso-ansi-language:EN-US\"> MonthTotal</span><span style=\"font-size:9.5pt;font-family:Consolas;mso-bidi-font-family:Consolas;\n",
                "color:gray;mso-ansi-language:EN-US\">.</span><span style=\"font-size:9.5pt;\n",
                "font-family:Consolas;mso-bidi-font-family:Consolas;color:black;mso-ansi-language:\n",
                "EN-US\">OrderMonth </span> <span style=\"font-size:9.5pt;font-family:Consolas;\n",
                "mso-bidi-font-family:Consolas;color:gray;mso-ansi-language:EN-US\">=</span> <span style=\"font-size:9.5pt;font-family:Consolas;mso-bidi-font-family:Consolas;\n",
                "color:black;mso-ansi-language:EN-US\"> Sales</span><span style=\"font-size:9.5pt;\n",
                "font-family:Consolas;mso-bidi-font-family:Consolas;color:gray;mso-ansi-language:\n",
                "EN-US\">.</span><span style=\"font-size:9.5pt;font-family:Consolas;mso-bidi-font-family:\n",
                "Consolas;color:black;mso-ansi-language:EN-US\">OrderMonth<o:p></o:p></span>\n",
                "\n",
                "<span style=\"font-size:9.5pt;line-height:107%;font-family:\n",
                "Consolas;mso-bidi-font-family:Consolas;color:blue;mso-ansi-language:EN-US\">ORDER</span> <span style=\"font-size:\n",
                "9.5pt;line-height:107%;font-family:Consolas;mso-bidi-font-family:Consolas;\n",
                "color:blue;mso-ansi-language:EN-US\">BY</span> <span style=\"font-size:9.5pt;\n",
                "line-height:107%;font-family:Consolas;mso-bidi-font-family:Consolas;color:black;\n",
                "mso-ansi-language:EN-US\"> MonthTotal</span><span style=\"font-size:9.5pt;\n",
                "line-height:107%;font-family:Consolas;mso-bidi-font-family:Consolas;color:gray;\n",
                "mso-ansi-language:EN-US\">.</span><span style=\"font-size:9.5pt;line-height:107%;\n",
                "font-family:Consolas;mso-bidi-font-family:Consolas;color:black;mso-ansi-language:\n",
                "EN-US\">OrderYear</span><span style=\"font-size:9.5pt;line-height:107%;\n",
                "font-family:Consolas;mso-bidi-font-family:Consolas;color:gray;mso-ansi-language:\n",
                "EN-US\">,</span> <span style=\"font-size:9.5pt;line-height:107%;font-family:Consolas;\n",
                "mso-bidi-font-family:Consolas;color:black;mso-ansi-language:EN-US\"> MonthTotal</span><span style=\"font-size:9.5pt;line-height:107%;font-family:Consolas;mso-bidi-font-family:\n",
                "Consolas;color:gray;mso-ansi-language:EN-US\">.</span><span style=\"font-size:\n",
                "9.5pt;line-height:107%;font-family:Consolas;mso-bidi-font-family:Consolas;\n",
                "color:black;mso-ansi-language:EN-US\">OrderMonth</span><span style=\"font-size:\n",
                "9.5pt;line-height:107%;font-family:Consolas;mso-bidi-font-family:Consolas;\n",
                "color:gray;mso-ansi-language:EN-US\">;<o:p></o:p></span>"
            ],
            "metadata": {
                "azdata_cell_guid": "ae72e71c-1d2b-45bb-8932-4edecc9c489d"
            },
            "attachments": {}
        },
        {
            "cell_type": "markdown",
            "source": [
                "1. Change the query you wrote in Lab 2 Question 1 to use a Common Table Expression (CTE) instead of the correlated subquery."
            ],
            "metadata": {
                "azdata_cell_guid": "9d98bd19-4113-4a5b-b7c1-8e1f1ceba19e"
            },
            "attachments": {}
        },
        {
            "cell_type": "code",
            "source": [
                "--I DON'T THINK I DID THIS ONE RIGHT AS IT DOESN'T EXACTLY MATCH UP WITH THE ORIGINAL LAB 2 Q1\n",
                "\n",
                "WITH Sales AS (\n",
                "       SELECT ProductID, SUM(OrderQty) AS TotalQty\n",
                "       FROM Sales.SalesOrderDetail\n",
                "       GROUP BY ProductID)\n",
                "SELECT Prod.ProductID, Name, Color, TotalQty\n",
                "FROM Production.Product AS Prod\n",
                "INNER JOIN Sales ON Sales.ProductID = Prod.ProductID\n",
                "WHERE Prod.FinishedGoodsFlag =1;\n",
                "\n",
                "--SELECT p.ProductID, p.Name, p.Color,\n",
                "--    (SELECT SUM(sod.OrderQty)\n",
                "--    FROM Sales.SalesOrderDetail as sod\n",
                "--    WHERE sod.ProductID = p.ProductID) AS TotalQty\n",
                "--FROM Production.Product AS p\n",
                "--WHERE p.FinishedGoodsFlag = '1';"
            ],
            "metadata": {
                "azdata_cell_guid": "e58488e6-0dfc-4b5c-a131-4ae5a1c0f277"
            },
            "outputs": [
                {
                    "output_type": "display_data",
                    "data": {
                        "text/html": "(266 rows affected)"
                    },
                    "metadata": {}
                },
                {
                    "output_type": "display_data",
                    "data": {
                        "text/html": "Total execution time: 00:00:00.153"
                    },
                    "metadata": {}
                },
                {
                    "output_type": "execute_result",
                    "metadata": {},
                    "execution_count": 28,
                    "data": {
                        "application/vnd.dataresource+json": {
                            "schema": {
                                "fields": [
                                    {
                                        "name": "ProductID"
                                    },
                                    {
                                        "name": "Name"
                                    },
                                    {
                                        "name": "Color"
                                    },
                                    {
                                        "name": "TotalQty"
                                    }
                                ]
                            },
                            "data": [
                                {
                                    "0": "707",
                                    "1": "Sport-100 Helmet, Red",
                                    "2": "Red",
                                    "3": "6266"
                                },
                                {
                                    "0": "708",
                                    "1": "Sport-100 Helmet, Black",
                                    "2": "Black",
                                    "3": "6532"
                                },
                                {
                                    "0": "709",
                                    "1": "Mountain Bike Socks, M",
                                    "2": "White",
                                    "3": "1107"
                                },
                                {
                                    "0": "710",
                                    "1": "Mountain Bike Socks, L",
                                    "2": "White",
                                    "3": "90"
                                },
                                {
                                    "0": "711",
                                    "1": "Sport-100 Helmet, Blue",
                                    "2": "Blue",
                                    "3": "6743"
                                },
                                {
                                    "0": "712",
                                    "1": "AWC Logo Cap",
                                    "2": "Multi",
                                    "3": "8311"
                                },
                                {
                                    "0": "713",
                                    "1": "Long-Sleeve Logo Jersey, S",
                                    "2": "Multi",
                                    "3": "429"
                                },
                                {
                                    "0": "714",
                                    "1": "Long-Sleeve Logo Jersey, M",
                                    "2": "Multi",
                                    "3": "3636"
                                },
                                {
                                    "0": "715",
                                    "1": "Long-Sleeve Logo Jersey, L",
                                    "2": "Multi",
                                    "3": "6592"
                                },
                                {
                                    "0": "716",
                                    "1": "Long-Sleeve Logo Jersey, XL",
                                    "2": "Multi",
                                    "3": "2980"
                                },
                                {
                                    "0": "717",
                                    "1": "HL Road Frame - Red, 62",
                                    "2": "Red",
                                    "3": "485"
                                },
                                {
                                    "0": "718",
                                    "1": "HL Road Frame - Red, 44",
                                    "2": "Red",
                                    "3": "486"
                                },
                                {
                                    "0": "719",
                                    "1": "HL Road Frame - Red, 48",
                                    "2": "Red",
                                    "3": "109"
                                },
                                {
                                    "0": "722",
                                    "1": "LL Road Frame - Black, 58",
                                    "2": "Black",
                                    "3": "940"
                                },
                                {
                                    "0": "723",
                                    "1": "LL Road Frame - Black, 60",
                                    "2": "Black",
                                    "3": "129"
                                },
                                {
                                    "0": "725",
                                    "1": "LL Road Frame - Red, 44",
                                    "2": "Red",
                                    "3": "991"
                                },
                                {
                                    "0": "726",
                                    "1": "LL Road Frame - Red, 48",
                                    "2": "Red",
                                    "3": "671"
                                },
                                {
                                    "0": "727",
                                    "1": "LL Road Frame - Red, 52",
                                    "2": "Red",
                                    "3": "100"
                                },
                                {
                                    "0": "729",
                                    "1": "LL Road Frame - Red, 60",
                                    "2": "Red",
                                    "3": "996"
                                },
                                {
                                    "0": "730",
                                    "1": "LL Road Frame - Red, 62",
                                    "2": "Red",
                                    "3": "697"
                                },
                                {
                                    "0": "732",
                                    "1": "ML Road Frame - Red, 48",
                                    "2": "Red",
                                    "3": "250"
                                },
                                {
                                    "0": "733",
                                    "1": "ML Road Frame - Red, 52",
                                    "2": "Red",
                                    "3": "90"
                                },
                                {
                                    "0": "736",
                                    "1": "LL Road Frame - Black, 44",
                                    "2": "Black",
                                    "3": "238"
                                },
                                {
                                    "0": "738",
                                    "1": "LL Road Frame - Black, 52",
                                    "2": "Black",
                                    "3": "1581"
                                },
                                {
                                    "0": "739",
                                    "1": "HL Mountain Frame - Silver, 42",
                                    "2": "Silver",
                                    "3": "347"
                                },
                                {
                                    "0": "741",
                                    "1": "HL Mountain Frame - Silver, 48",
                                    "2": "Silver",
                                    "3": "173"
                                },
                                {
                                    "0": "742",
                                    "1": "HL Mountain Frame - Silver, 46",
                                    "2": "Silver",
                                    "3": "649"
                                },
                                {
                                    "0": "743",
                                    "1": "HL Mountain Frame - Black, 42",
                                    "2": "Black",
                                    "3": "1181"
                                },
                                {
                                    "0": "744",
                                    "1": "HL Mountain Frame - Black, 44",
                                    "2": "Black",
                                    "3": "17"
                                },
                                {
                                    "0": "745",
                                    "1": "HL Mountain Frame - Black, 48",
                                    "2": "Black",
                                    "3": "131"
                                },
                                {
                                    "0": "747",
                                    "1": "HL Mountain Frame - Black, 38",
                                    "2": "Black",
                                    "3": "659"
                                },
                                {
                                    "0": "748",
                                    "1": "HL Mountain Frame - Silver, 38",
                                    "2": "Silver",
                                    "3": "1206"
                                },
                                {
                                    "0": "749",
                                    "1": "Road-150 Red, 62",
                                    "2": "Red",
                                    "3": "600"
                                },
                                {
                                    "0": "750",
                                    "1": "Road-150 Red, 44",
                                    "2": "Red",
                                    "3": "437"
                                },
                                {
                                    "0": "751",
                                    "1": "Road-150 Red, 48",
                                    "2": "Red",
                                    "3": "493"
                                },
                                {
                                    "0": "752",
                                    "1": "Road-150 Red, 52",
                                    "2": "Red",
                                    "3": "458"
                                },
                                {
                                    "0": "753",
                                    "1": "Road-150 Red, 56",
                                    "2": "Red",
                                    "3": "664"
                                },
                                {
                                    "0": "754",
                                    "1": "Road-450 Red, 58",
                                    "2": "Red",
                                    "3": "582"
                                },
                                {
                                    "0": "755",
                                    "1": "Road-450 Red, 60",
                                    "2": "Red",
                                    "3": "350"
                                },
                                {
                                    "0": "756",
                                    "1": "Road-450 Red, 44",
                                    "2": "Red",
                                    "3": "346"
                                },
                                {
                                    "0": "757",
                                    "1": "Road-450 Red, 48",
                                    "2": "Red",
                                    "3": "156"
                                },
                                {
                                    "0": "758",
                                    "1": "Road-450 Red, 52",
                                    "2": "Red",
                                    "3": "710"
                                },
                                {
                                    "0": "759",
                                    "1": "Road-650 Red, 58",
                                    "2": "Red",
                                    "3": "618"
                                },
                                {
                                    "0": "760",
                                    "1": "Road-650 Red, 60",
                                    "2": "Red",
                                    "3": "2232"
                                },
                                {
                                    "0": "761",
                                    "1": "Road-650 Red, 62",
                                    "2": "Red",
                                    "3": "1896"
                                },
                                {
                                    "0": "762",
                                    "1": "Road-650 Red, 44",
                                    "2": "Red",
                                    "3": "2254"
                                },
                                {
                                    "0": "763",
                                    "1": "Road-650 Red, 48",
                                    "2": "Red",
                                    "3": "1888"
                                },
                                {
                                    "0": "764",
                                    "1": "Road-650 Red, 52",
                                    "2": "Red",
                                    "3": "1112"
                                },
                                {
                                    "0": "765",
                                    "1": "Road-650 Black, 58",
                                    "2": "Black",
                                    "3": "1871"
                                },
                                {
                                    "0": "766",
                                    "1": "Road-650 Black, 60",
                                    "2": "Black",
                                    "3": "1100"
                                },
                                {
                                    "0": "767",
                                    "1": "Road-650 Black, 62",
                                    "2": "Black",
                                    "3": "644"
                                },
                                {
                                    "0": "768",
                                    "1": "Road-650 Black, 44",
                                    "2": "Black",
                                    "3": "1080"
                                },
                                {
                                    "0": "769",
                                    "1": "Road-650 Black, 48",
                                    "2": "Black",
                                    "3": "644"
                                },
                                {
                                    "0": "770",
                                    "1": "Road-650 Black, 52",
                                    "2": "Black",
                                    "3": "2270"
                                },
                                {
                                    "0": "771",
                                    "1": "Mountain-100 Silver, 38",
                                    "2": "Silver",
                                    "3": "642"
                                },
                                {
                                    "0": "772",
                                    "1": "Mountain-100 Silver, 42",
                                    "2": "Silver",
                                    "3": "593"
                                },
                                {
                                    "0": "773",
                                    "1": "Mountain-100 Silver, 44",
                                    "2": "Silver",
                                    "3": "601"
                                },
                                {
                                    "0": "774",
                                    "1": "Mountain-100 Silver, 48",
                                    "2": "Silver",
                                    "3": "505"
                                },
                                {
                                    "0": "775",
                                    "1": "Mountain-100 Black, 38",
                                    "2": "Black",
                                    "3": "682"
                                },
                                {
                                    "0": "776",
                                    "1": "Mountain-100 Black, 42",
                                    "2": "Black",
                                    "3": "634"
                                },
                                {
                                    "0": "777",
                                    "1": "Mountain-100 Black, 44",
                                    "2": "Black",
                                    "3": "678"
                                },
                                {
                                    "0": "778",
                                    "1": "Mountain-100 Black, 48",
                                    "2": "Black",
                                    "3": "616"
                                },
                                {
                                    "0": "779",
                                    "1": "Mountain-200 Silver, 38",
                                    "2": "Silver",
                                    "3": "2394"
                                },
                                {
                                    "0": "780",
                                    "1": "Mountain-200 Silver, 42",
                                    "2": "Silver",
                                    "3": "2234"
                                },
                                {
                                    "0": "781",
                                    "1": "Mountain-200 Silver, 46",
                                    "2": "Silver",
                                    "3": "2216"
                                },
                                {
                                    "0": "782",
                                    "1": "Mountain-200 Black, 38",
                                    "2": "Black",
                                    "3": "2977"
                                },
                                {
                                    "0": "783",
                                    "1": "Mountain-200 Black, 42",
                                    "2": "Black",
                                    "3": "2664"
                                },
                                {
                                    "0": "784",
                                    "1": "Mountain-200 Black, 46",
                                    "2": "Black",
                                    "3": "2111"
                                },
                                {
                                    "0": "785",
                                    "1": "Mountain-300 Black, 38",
                                    "2": "Black",
                                    "3": "684"
                                },
                                {
                                    "0": "786",
                                    "1": "Mountain-300 Black, 40",
                                    "2": "Black",
                                    "3": "776"
                                },
                                {
                                    "0": "787",
                                    "1": "Mountain-300 Black, 44",
                                    "2": "Black",
                                    "3": "747"
                                },
                                {
                                    "0": "788",
                                    "1": "Mountain-300 Black, 48",
                                    "2": "Black",
                                    "3": "740"
                                },
                                {
                                    "0": "789",
                                    "1": "Road-250 Red, 44",
                                    "2": "Red",
                                    "3": "895"
                                },
                                {
                                    "0": "790",
                                    "1": "Road-250 Red, 48",
                                    "2": "Red",
                                    "3": "812"
                                },
                                {
                                    "0": "791",
                                    "1": "Road-250 Red, 52",
                                    "2": "Red",
                                    "3": "639"
                                },
                                {
                                    "0": "792",
                                    "1": "Road-250 Red, 58",
                                    "2": "Red",
                                    "3": "946"
                                },
                                {
                                    "0": "793",
                                    "1": "Road-250 Black, 44",
                                    "2": "Black",
                                    "3": "1642"
                                },
                                {
                                    "0": "794",
                                    "1": "Road-250 Black, 48",
                                    "2": "Black",
                                    "3": "1498"
                                },
                                {
                                    "0": "795",
                                    "1": "Road-250 Black, 52",
                                    "2": "Black",
                                    "3": "1245"
                                },
                                {
                                    "0": "796",
                                    "1": "Road-250 Black, 58",
                                    "2": "Black",
                                    "3": "910"
                                },
                                {
                                    "0": "797",
                                    "1": "Road-550-W Yellow, 38",
                                    "2": "Yellow",
                                    "3": "1744"
                                },
                                {
                                    "0": "798",
                                    "1": "Road-550-W Yellow, 40",
                                    "2": "Yellow",
                                    "3": "1500"
                                },
                                {
                                    "0": "799",
                                    "1": "Road-550-W Yellow, 42",
                                    "2": "Yellow",
                                    "3": "1249"
                                },
                                {
                                    "0": "800",
                                    "1": "Road-550-W Yellow, 44",
                                    "2": "Yellow",
                                    "3": "927"
                                },
                                {
                                    "0": "801",
                                    "1": "Road-550-W Yellow, 48",
                                    "2": "Yellow",
                                    "3": "1763"
                                },
                                {
                                    "0": "802",
                                    "1": "LL Fork",
                                    "2": "NULL",
                                    "3": "190"
                                },
                                {
                                    "0": "804",
                                    "1": "HL Fork",
                                    "2": "NULL",
                                    "3": "444"
                                },
                                {
                                    "0": "805",
                                    "1": "LL Headset",
                                    "2": "NULL",
                                    "3": "95"
                                },
                                {
                                    "0": "806",
                                    "1": "ML Headset",
                                    "2": "NULL",
                                    "3": "659"
                                },
                                {
                                    "0": "807",
                                    "1": "HL Headset",
                                    "2": "NULL",
                                    "3": "255"
                                },
                                {
                                    "0": "808",
                                    "1": "LL Mountain Handlebars",
                                    "2": "NULL",
                                    "3": "865"
                                },
                                {
                                    "0": "809",
                                    "1": "ML Mountain Handlebars",
                                    "2": "NULL",
                                    "3": "1465"
                                },
                                {
                                    "0": "810",
                                    "1": "HL Mountain Handlebars",
                                    "2": "NULL",
                                    "3": "500"
                                },
                                {
                                    "0": "811",
                                    "1": "LL Road Handlebars",
                                    "2": "NULL",
                                    "3": "213"
                                },
                                {
                                    "0": "813",
                                    "1": "HL Road Handlebars",
                                    "2": "NULL",
                                    "3": "631"
                                },
                                {
                                    "0": "814",
                                    "1": "ML Mountain Frame - Black, 38",
                                    "2": "Black",
                                    "3": "514"
                                },
                                {
                                    "0": "815",
                                    "1": "LL Mountain Front Wheel",
                                    "2": "Black",
                                    "3": "617"
                                },
                                {
                                    "0": "816",
                                    "1": "ML Mountain Front Wheel",
                                    "2": "Black",
                                    "3": "266"
                                },
                                {
                                    "0": "817",
                                    "1": "HL Mountain Front Wheel",
                                    "2": "Black",
                                    "3": "222"
                                },
                                {
                                    "0": "819",
                                    "1": "ML Road Front Wheel",
                                    "2": "Black",
                                    "3": "532"
                                },
                                {
                                    "0": "820",
                                    "1": "HL Road Front Wheel",
                                    "2": "Black",
                                    "3": "567"
                                },
                                {
                                    "0": "822",
                                    "1": "ML Road Frame-W - Yellow, 38",
                                    "2": "Yellow",
                                    "3": "895"
                                },
                                {
                                    "0": "823",
                                    "1": "LL Mountain Rear Wheel",
                                    "2": "Black",
                                    "3": "342"
                                },
                                {
                                    "0": "824",
                                    "1": "ML Mountain Rear Wheel",
                                    "2": "Black",
                                    "3": "851"
                                },
                                {
                                    "0": "825",
                                    "1": "HL Mountain Rear Wheel",
                                    "2": "Black",
                                    "3": "850"
                                },
                                {
                                    "0": "826",
                                    "1": "LL Road Rear Wheel",
                                    "2": "Black",
                                    "3": "868"
                                },
                                {
                                    "0": "827",
                                    "1": "ML Road Rear Wheel",
                                    "2": "Black",
                                    "3": "64"
                                },
                                {
                                    "0": "828",
                                    "1": "HL Road Rear Wheel",
                                    "2": "Black",
                                    "3": "94"
                                },
                                {
                                    "0": "830",
                                    "1": "ML Mountain Frame - Black, 40",
                                    "2": "Black",
                                    "3": "68"
                                },
                                {
                                    "0": "831",
                                    "1": "ML Mountain Frame - Black, 44",
                                    "2": "Black",
                                    "3": "619"
                                },
                                {
                                    "0": "832",
                                    "1": "ML Mountain Frame - Black, 48",
                                    "2": "Black",
                                    "3": "959"
                                },
                                {
                                    "0": "833",
                                    "1": "ML Road Frame-W - Yellow, 40",
                                    "2": "Yellow",
                                    "3": "203"
                                },
                                {
                                    "0": "835",
                                    "1": "ML Road Frame-W - Yellow, 44",
                                    "2": "Yellow",
                                    "3": "1435"
                                },
                                {
                                    "0": "836",
                                    "1": "ML Road Frame-W - Yellow, 48",
                                    "2": "Yellow",
                                    "3": "889"
                                },
                                {
                                    "0": "838",
                                    "1": "HL Road Frame - Black, 44",
                                    "2": "Black",
                                    "3": "459"
                                },
                                {
                                    "0": "839",
                                    "1": "HL Road Frame - Black, 48",
                                    "2": "Black",
                                    "3": "109"
                                },
                                {
                                    "0": "841",
                                    "1": "Men's Sports Shorts, S",
                                    "2": "Black",
                                    "3": "567"
                                },
                                {
                                    "0": "843",
                                    "1": "Cable Lock",
                                    "2": "NULL",
                                    "3": "1087"
                                },
                                {
                                    "0": "844",
                                    "1": "Minipump",
                                    "2": "NULL",
                                    "3": "1130"
                                },
                                {
                                    "0": "849",
                                    "1": "Men's Sports Shorts, M",
                                    "2": "Black",
                                    "3": "1276"
                                },
                                {
                                    "0": "850",
                                    "1": "Men's Sports Shorts, L",
                                    "2": "Black",
                                    "3": "445"
                                },
                                {
                                    "0": "852",
                                    "1": "Women's Tights, S",
                                    "2": "Black",
                                    "3": "2072"
                                },
                                {
                                    "0": "853",
                                    "1": "Women's Tights, M",
                                    "2": "Black",
                                    "3": "394"
                                },
                                {
                                    "0": "854",
                                    "1": "Women's Tights, L",
                                    "2": "Black",
                                    "3": "2123"
                                },
                                {
                                    "0": "855",
                                    "1": "Men's Bib-Shorts, S",
                                    "2": "Multi",
                                    "3": "876"
                                },
                                {
                                    "0": "856",
                                    "1": "Men's Bib-Shorts, M",
                                    "2": "Multi",
                                    "3": "1616"
                                },
                                {
                                    "0": "857",
                                    "1": "Men's Bib-Shorts, L",
                                    "2": "Multi",
                                    "3": "633"
                                },
                                {
                                    "0": "858",
                                    "1": "Half-Finger Gloves, S",
                                    "2": "Black",
                                    "3": "2188"
                                },
                                {
                                    "0": "859",
                                    "1": "Half-Finger Gloves, M",
                                    "2": "Black",
                                    "3": "3464"
                                },
                                {
                                    "0": "860",
                                    "1": "Half-Finger Gloves, L",
                                    "2": "Black",
                                    "3": "1276"
                                },
                                {
                                    "0": "861",
                                    "1": "Full-Finger Gloves, S",
                                    "2": "Black",
                                    "3": "500"
                                },
                                {
                                    "0": "862",
                                    "1": "Full-Finger Gloves, M",
                                    "2": "Black",
                                    "3": "2206"
                                },
                                {
                                    "0": "863",
                                    "1": "Full-Finger Gloves, L",
                                    "2": "Black",
                                    "3": "3378"
                                },
                                {
                                    "0": "864",
                                    "1": "Classic Vest, S",
                                    "2": "Blue",
                                    "3": "4247"
                                },
                                {
                                    "0": "865",
                                    "1": "Classic Vest, M",
                                    "2": "Blue",
                                    "3": "2284"
                                },
                                {
                                    "0": "866",
                                    "1": "Classic Vest, L",
                                    "2": "Blue",
                                    "3": "207"
                                },
                                {
                                    "0": "867",
                                    "1": "Women's Mountain Shorts, S",
                                    "2": "Black",
                                    "3": "3296"
                                },
                                {
                                    "0": "868",
                                    "1": "Women's Mountain Shorts, M",
                                    "2": "Black",
                                    "3": "1139"
                                },
                                {
                                    "0": "869",
                                    "1": "Women's Mountain Shorts, L",
                                    "2": "Black",
                                    "3": "3244"
                                },
                                {
                                    "0": "870",
                                    "1": "Water Bottle - 30 oz.",
                                    "2": "NULL",
                                    "3": "6815"
                                },
                                {
                                    "0": "871",
                                    "1": "Mountain Bottle Cage",
                                    "2": "NULL",
                                    "3": "2025"
                                },
                                {
                                    "0": "872",
                                    "1": "Road Bottle Cage",
                                    "2": "NULL",
                                    "3": "1712"
                                },
                                {
                                    "0": "873",
                                    "1": "Patch Kit/8 Patches",
                                    "2": "NULL",
                                    "3": "3865"
                                },
                                {
                                    "0": "874",
                                    "1": "Racing Socks, M",
                                    "2": "White",
                                    "3": "1547"
                                },
                                {
                                    "0": "875",
                                    "1": "Racing Socks, L",
                                    "2": "White",
                                    "3": "2473"
                                },
                                {
                                    "0": "876",
                                    "1": "Hitch Rack - 4-Bike",
                                    "2": "NULL",
                                    "3": "3166"
                                },
                                {
                                    "0": "877",
                                    "1": "Bike Wash - Dissolver",
                                    "2": "NULL",
                                    "3": "3319"
                                },
                                {
                                    "0": "878",
                                    "1": "Fender Set - Mountain",
                                    "2": "NULL",
                                    "3": "2121"
                                },
                                {
                                    "0": "879",
                                    "1": "All-Purpose Bike Stand",
                                    "2": "NULL",
                                    "3": "249"
                                },
                                {
                                    "0": "880",
                                    "1": "Hydration Pack - 70 oz.",
                                    "2": "Silver",
                                    "3": "2761"
                                },
                                {
                                    "0": "881",
                                    "1": "Short-Sleeve Classic Jersey, S",
                                    "2": "Yellow",
                                    "3": "1955"
                                },
                                {
                                    "0": "882",
                                    "1": "Short-Sleeve Classic Jersey, M",
                                    "2": "Yellow",
                                    "3": "407"
                                },
                                {
                                    "0": "883",
                                    "1": "Short-Sleeve Classic Jersey, L",
                                    "2": "Yellow",
                                    "3": "2848"
                                },
                                {
                                    "0": "884",
                                    "1": "Short-Sleeve Classic Jersey, XL",
                                    "2": "Yellow",
                                    "3": "3864"
                                },
                                {
                                    "0": "885",
                                    "1": "HL Touring Frame - Yellow, 60",
                                    "2": "Yellow",
                                    "3": "387"
                                },
                                {
                                    "0": "886",
                                    "1": "LL Touring Frame - Yellow, 62",
                                    "2": "Yellow",
                                    "3": "348"
                                },
                                {
                                    "0": "887",
                                    "1": "HL Touring Frame - Yellow, 46",
                                    "2": "Yellow",
                                    "3": "87"
                                },
                                {
                                    "0": "888",
                                    "1": "HL Touring Frame - Yellow, 50",
                                    "2": "Yellow",
                                    "3": "83"
                                },
                                {
                                    "0": "889",
                                    "1": "HL Touring Frame - Yellow, 54",
                                    "2": "Yellow",
                                    "3": "540"
                                },
                                {
                                    "0": "890",
                                    "1": "HL Touring Frame - Blue, 46",
                                    "2": "Blue",
                                    "3": "114"
                                },
                                {
                                    "0": "891",
                                    "1": "HL Touring Frame - Blue, 50",
                                    "2": "Blue",
                                    "3": "124"
                                },
                                {
                                    "0": "892",
                                    "1": "HL Touring Frame - Blue, 54",
                                    "2": "Blue",
                                    "3": "542"
                                },
                                {
                                    "0": "893",
                                    "1": "HL Touring Frame - Blue, 60",
                                    "2": "Blue",
                                    "3": "371"
                                },
                                {
                                    "0": "894",
                                    "1": "Rear Derailleur",
                                    "2": "Silver",
                                    "3": "353"
                                },
                                {
                                    "0": "895",
                                    "1": "LL Touring Frame - Blue, 50",
                                    "2": "Blue",
                                    "3": "316"
                                },
                                {
                                    "0": "896",
                                    "1": "LL Touring Frame - Blue, 54",
                                    "2": "Blue",
                                    "3": "211"
                                },
                                {
                                    "0": "897",
                                    "1": "LL Touring Frame - Blue, 58",
                                    "2": "Blue",
                                    "3": "4"
                                },
                                {
                                    "0": "898",
                                    "1": "LL Touring Frame - Blue, 62",
                                    "2": "Blue",
                                    "3": "15"
                                },
                                {
                                    "0": "899",
                                    "1": "LL Touring Frame - Yellow, 44",
                                    "2": "Yellow",
                                    "3": "294"
                                },
                                {
                                    "0": "900",
                                    "1": "LL Touring Frame - Yellow, 50",
                                    "2": "Yellow",
                                    "3": "228"
                                },
                                {
                                    "0": "902",
                                    "1": "LL Touring Frame - Yellow, 58",
                                    "2": "Yellow",
                                    "3": "36"
                                },
                                {
                                    "0": "903",
                                    "1": "LL Touring Frame - Blue, 44",
                                    "2": "Blue",
                                    "3": "25"
                                },
                                {
                                    "0": "904",
                                    "1": "ML Mountain Frame-W - Silver, 40",
                                    "2": "Silver",
                                    "3": "899"
                                },
                                {
                                    "0": "905",
                                    "1": "ML Mountain Frame-W - Silver, 42",
                                    "2": "Silver",
                                    "3": "627"
                                },
                                {
                                    "0": "906",
                                    "1": "ML Mountain Frame-W - Silver, 46",
                                    "2": "Silver",
                                    "3": "188"
                                },
                                {
                                    "0": "907",
                                    "1": "Rear Brakes",
                                    "2": "Silver",
                                    "3": "246"
                                },
                                {
                                    "0": "908",
                                    "1": "LL Mountain Seat/Saddle",
                                    "2": "NULL",
                                    "3": "347"
                                },
                                {
                                    "0": "909",
                                    "1": "ML Mountain Seat/Saddle",
                                    "2": "NULL",
                                    "3": "534"
                                },
                                {
                                    "0": "910",
                                    "1": "HL Mountain Seat/Saddle",
                                    "2": "NULL",
                                    "3": "519"
                                },
                                {
                                    "0": "911",
                                    "1": "LL Road Seat/Saddle",
                                    "2": "NULL",
                                    "3": "10"
                                },
                                {
                                    "0": "913",
                                    "1": "HL Road Seat/Saddle",
                                    "2": "NULL",
                                    "3": "134"
                                },
                                {
                                    "0": "914",
                                    "1": "LL Touring Seat/Saddle",
                                    "2": "NULL",
                                    "3": "91"
                                },
                                {
                                    "0": "915",
                                    "1": "ML Touring Seat/Saddle",
                                    "2": "NULL",
                                    "3": "84"
                                },
                                {
                                    "0": "916",
                                    "1": "HL Touring Seat/Saddle",
                                    "2": "NULL",
                                    "3": "426"
                                },
                                {
                                    "0": "917",
                                    "1": "LL Mountain Frame - Silver, 42",
                                    "2": "Silver",
                                    "3": "638"
                                },
                                {
                                    "0": "918",
                                    "1": "LL Mountain Frame - Silver, 44",
                                    "2": "Silver",
                                    "3": "371"
                                },
                                {
                                    "0": "919",
                                    "1": "LL Mountain Frame - Silver, 48",
                                    "2": "Silver",
                                    "3": "44"
                                },
                                {
                                    "0": "920",
                                    "1": "LL Mountain Frame - Silver, 52",
                                    "2": "Silver",
                                    "3": "425"
                                },
                                {
                                    "0": "921",
                                    "1": "Mountain Tire Tube",
                                    "2": "NULL",
                                    "3": "3095"
                                },
                                {
                                    "0": "922",
                                    "1": "Road Tire Tube",
                                    "2": "NULL",
                                    "3": "2376"
                                },
                                {
                                    "0": "923",
                                    "1": "Touring Tire Tube",
                                    "2": "NULL",
                                    "3": "1488"
                                },
                                {
                                    "0": "924",
                                    "1": "LL Mountain Frame - Black, 42",
                                    "2": "Black",
                                    "3": "423"
                                },
                                {
                                    "0": "925",
                                    "1": "LL Mountain Frame - Black, 44",
                                    "2": "Black",
                                    "3": "625"
                                },
                                {
                                    "0": "926",
                                    "1": "LL Mountain Frame - Black, 48",
                                    "2": "Black",
                                    "3": "386"
                                },
                                {
                                    "0": "927",
                                    "1": "LL Mountain Frame - Black, 52",
                                    "2": "Black",
                                    "3": "15"
                                },
                                {
                                    "0": "928",
                                    "1": "LL Mountain Tire",
                                    "2": "NULL",
                                    "3": "862"
                                },
                                {
                                    "0": "929",
                                    "1": "ML Mountain Tire",
                                    "2": "NULL",
                                    "3": "1161"
                                },
                                {
                                    "0": "930",
                                    "1": "HL Mountain Tire",
                                    "2": "NULL",
                                    "3": "1396"
                                },
                                {
                                    "0": "931",
                                    "1": "LL Road Tire",
                                    "2": "NULL",
                                    "3": "1044"
                                },
                                {
                                    "0": "932",
                                    "1": "ML Road Tire",
                                    "2": "NULL",
                                    "3": "926"
                                },
                                {
                                    "0": "933",
                                    "1": "HL Road Tire",
                                    "2": "NULL",
                                    "3": "858"
                                },
                                {
                                    "0": "934",
                                    "1": "Touring Tire",
                                    "2": "NULL",
                                    "3": "935"
                                },
                                {
                                    "0": "935",
                                    "1": "LL Mountain Pedal",
                                    "2": "Silver/Black",
                                    "3": "449"
                                },
                                {
                                    "0": "936",
                                    "1": "ML Mountain Pedal",
                                    "2": "Silver/Black",
                                    "3": "345"
                                },
                                {
                                    "0": "937",
                                    "1": "HL Mountain Pedal",
                                    "2": "Silver/Black",
                                    "3": "785"
                                },
                                {
                                    "0": "938",
                                    "1": "LL Road Pedal",
                                    "2": "Silver/Black",
                                    "3": "868"
                                },
                                {
                                    "0": "939",
                                    "1": "ML Road Pedal",
                                    "2": "Silver/Black",
                                    "3": "661"
                                },
                                {
                                    "0": "940",
                                    "1": "HL Road Pedal",
                                    "2": "Silver/Black",
                                    "3": "676"
                                },
                                {
                                    "0": "941",
                                    "1": "Touring Pedal",
                                    "2": "Silver/Black",
                                    "3": "147"
                                },
                                {
                                    "0": "942",
                                    "1": "ML Mountain Frame-W - Silver, 38",
                                    "2": "Silver",
                                    "3": "7"
                                },
                                {
                                    "0": "943",
                                    "1": "LL Mountain Frame - Black, 40",
                                    "2": "Black",
                                    "3": "8"
                                },
                                {
                                    "0": "944",
                                    "1": "LL Mountain Frame - Silver, 40",
                                    "2": "Silver",
                                    "3": "442"
                                },
                                {
                                    "0": "945",
                                    "1": "Front Derailleur",
                                    "2": "Silver",
                                    "3": "813"
                                },
                                {
                                    "0": "946",
                                    "1": "LL Touring Handlebars",
                                    "2": "NULL",
                                    "3": "56"
                                },
                                {
                                    "0": "947",
                                    "1": "HL Touring Handlebars",
                                    "2": "NULL",
                                    "3": "220"
                                },
                                {
                                    "0": "948",
                                    "1": "Front Brakes",
                                    "2": "Silver",
                                    "3": "789"
                                },
                                {
                                    "0": "949",
                                    "1": "LL Crankset",
                                    "2": "Black",
                                    "3": "426"
                                },
                                {
                                    "0": "950",
                                    "1": "ML Crankset",
                                    "2": "Black",
                                    "3": "68"
                                },
                                {
                                    "0": "951",
                                    "1": "HL Crankset",
                                    "2": "Black",
                                    "3": "613"
                                },
                                {
                                    "0": "952",
                                    "1": "Chain",
                                    "2": "Silver",
                                    "3": "774"
                                },
                                {
                                    "0": "953",
                                    "1": "Touring-2000 Blue, 60",
                                    "2": "Blue",
                                    "3": "820"
                                },
                                {
                                    "0": "954",
                                    "1": "Touring-1000 Yellow, 46",
                                    "2": "Yellow",
                                    "3": "1005"
                                },
                                {
                                    "0": "955",
                                    "1": "Touring-1000 Yellow, 50",
                                    "2": "Yellow",
                                    "3": "652"
                                },
                                {
                                    "0": "956",
                                    "1": "Touring-1000 Yellow, 54",
                                    "2": "Yellow",
                                    "3": "397"
                                },
                                {
                                    "0": "957",
                                    "1": "Touring-1000 Yellow, 60",
                                    "2": "Yellow",
                                    "3": "1114"
                                },
                                {
                                    "0": "958",
                                    "1": "Touring-3000 Blue, 54",
                                    "2": "Blue",
                                    "3": "686"
                                },
                                {
                                    "0": "959",
                                    "1": "Touring-3000 Blue, 58",
                                    "2": "Blue",
                                    "3": "482"
                                },
                                {
                                    "0": "960",
                                    "1": "Touring-3000 Blue, 62",
                                    "2": "Blue",
                                    "3": "281"
                                },
                                {
                                    "0": "961",
                                    "1": "Touring-3000 Yellow, 44",
                                    "2": "Yellow",
                                    "3": "851"
                                },
                                {
                                    "0": "962",
                                    "1": "Touring-3000 Yellow, 50",
                                    "2": "Yellow",
                                    "3": "686"
                                },
                                {
                                    "0": "963",
                                    "1": "Touring-3000 Yellow, 54",
                                    "2": "Yellow",
                                    "3": "453"
                                },
                                {
                                    "0": "964",
                                    "1": "Touring-3000 Yellow, 58",
                                    "2": "Yellow",
                                    "3": "293"
                                },
                                {
                                    "0": "965",
                                    "1": "Touring-3000 Yellow, 62",
                                    "2": "Yellow",
                                    "3": "844"
                                },
                                {
                                    "0": "966",
                                    "1": "Touring-1000 Blue, 46",
                                    "2": "Blue",
                                    "3": "1002"
                                },
                                {
                                    "0": "967",
                                    "1": "Touring-1000 Blue, 50",
                                    "2": "Blue",
                                    "3": "649"
                                },
                                {
                                    "0": "968",
                                    "1": "Touring-1000 Blue, 54",
                                    "2": "Blue",
                                    "3": "413"
                                },
                                {
                                    "0": "969",
                                    "1": "Touring-1000 Blue, 60",
                                    "2": "Blue",
                                    "3": "1120"
                                },
                                {
                                    "0": "970",
                                    "1": "Touring-2000 Blue, 46",
                                    "2": "Blue",
                                    "3": "538"
                                },
                                {
                                    "0": "971",
                                    "1": "Touring-2000 Blue, 50",
                                    "2": "Blue",
                                    "3": "322"
                                },
                                {
                                    "0": "972",
                                    "1": "Touring-2000 Blue, 54",
                                    "2": "Blue",
                                    "3": "1010"
                                },
                                {
                                    "0": "973",
                                    "1": "Road-350-W Yellow, 40",
                                    "2": "Yellow",
                                    "3": "1477"
                                },
                                {
                                    "0": "974",
                                    "1": "Road-350-W Yellow, 42",
                                    "2": "Yellow",
                                    "3": "944"
                                },
                                {
                                    "0": "975",
                                    "1": "Road-350-W Yellow, 44",
                                    "2": "Yellow",
                                    "3": "536"
                                },
                                {
                                    "0": "976",
                                    "1": "Road-350-W Yellow, 48",
                                    "2": "Yellow",
                                    "3": "1622"
                                },
                                {
                                    "0": "977",
                                    "1": "Road-750 Black, 58",
                                    "2": "Black",
                                    "3": "892"
                                },
                                {
                                    "0": "978",
                                    "1": "Touring-3000 Blue, 44",
                                    "2": "Blue",
                                    "3": "292"
                                },
                                {
                                    "0": "979",
                                    "1": "Touring-3000 Blue, 50",
                                    "2": "Blue",
                                    "3": "841"
                                },
                                {
                                    "0": "980",
                                    "1": "Mountain-400-W Silver, 38",
                                    "2": "Silver",
                                    "3": "425"
                                },
                                {
                                    "0": "981",
                                    "1": "Mountain-400-W Silver, 40",
                                    "2": "Silver",
                                    "3": "617"
                                },
                                {
                                    "0": "982",
                                    "1": "Mountain-400-W Silver, 42",
                                    "2": "Silver",
                                    "3": "385"
                                },
                                {
                                    "0": "983",
                                    "1": "Mountain-400-W Silver, 46",
                                    "2": "Silver",
                                    "3": "401"
                                },
                                {
                                    "0": "984",
                                    "1": "Mountain-500 Silver, 40",
                                    "2": "Silver",
                                    "3": "450"
                                },
                                {
                                    "0": "985",
                                    "1": "Mountain-500 Silver, 42",
                                    "2": "Silver",
                                    "3": "455"
                                },
                                {
                                    "0": "986",
                                    "1": "Mountain-500 Silver, 44",
                                    "2": "Silver",
                                    "3": "381"
                                },
                                {
                                    "0": "987",
                                    "1": "Mountain-500 Silver, 48",
                                    "2": "Silver",
                                    "3": "457"
                                },
                                {
                                    "0": "988",
                                    "1": "Mountain-500 Silver, 52",
                                    "2": "Silver",
                                    "3": "515"
                                },
                                {
                                    "0": "989",
                                    "1": "Mountain-500 Black, 40",
                                    "2": "Black",
                                    "3": "282"
                                },
                                {
                                    "0": "990",
                                    "1": "Mountain-500 Black, 42",
                                    "2": "Black",
                                    "3": "388"
                                },
                                {
                                    "0": "991",
                                    "1": "Mountain-500 Black, 44",
                                    "2": "Black",
                                    "3": "350"
                                },
                                {
                                    "0": "992",
                                    "1": "Mountain-500 Black, 48",
                                    "2": "Black",
                                    "3": "449"
                                },
                                {
                                    "0": "993",
                                    "1": "Mountain-500 Black, 52",
                                    "2": "Black",
                                    "3": "272"
                                },
                                {
                                    "0": "994",
                                    "1": "LL Bottom Bracket",
                                    "2": "NULL",
                                    "3": "378"
                                },
                                {
                                    "0": "996",
                                    "1": "HL Bottom Bracket",
                                    "2": "NULL",
                                    "3": "543"
                                },
                                {
                                    "0": "997",
                                    "1": "Road-750 Black, 44",
                                    "2": "Black",
                                    "3": "656"
                                },
                                {
                                    "0": "998",
                                    "1": "Road-750 Black, 48",
                                    "2": "Black",
                                    "3": "1556"
                                },
                                {
                                    "0": "999",
                                    "1": "Road-750 Black, 52",
                                    "2": "Black",
                                    "3": "1338"
                                }
                            ]
                        },
                        "text/html": [
                            "<table>",
                            "<tr><th>ProductID</th><th>Name</th><th>Color</th><th>TotalQty</th></tr>",
                            "<tr><td>707</td><td>Sport-100 Helmet, Red</td><td>Red</td><td>6266</td></tr>",
                            "<tr><td>708</td><td>Sport-100 Helmet, Black</td><td>Black</td><td>6532</td></tr>",
                            "<tr><td>709</td><td>Mountain Bike Socks, M</td><td>White</td><td>1107</td></tr>",
                            "<tr><td>710</td><td>Mountain Bike Socks, L</td><td>White</td><td>90</td></tr>",
                            "<tr><td>711</td><td>Sport-100 Helmet, Blue</td><td>Blue</td><td>6743</td></tr>",
                            "<tr><td>712</td><td>AWC Logo Cap</td><td>Multi</td><td>8311</td></tr>",
                            "<tr><td>713</td><td>Long-Sleeve Logo Jersey, S</td><td>Multi</td><td>429</td></tr>",
                            "<tr><td>714</td><td>Long-Sleeve Logo Jersey, M</td><td>Multi</td><td>3636</td></tr>",
                            "<tr><td>715</td><td>Long-Sleeve Logo Jersey, L</td><td>Multi</td><td>6592</td></tr>",
                            "<tr><td>716</td><td>Long-Sleeve Logo Jersey, XL</td><td>Multi</td><td>2980</td></tr>",
                            "<tr><td>717</td><td>HL Road Frame - Red, 62</td><td>Red</td><td>485</td></tr>",
                            "<tr><td>718</td><td>HL Road Frame - Red, 44</td><td>Red</td><td>486</td></tr>",
                            "<tr><td>719</td><td>HL Road Frame - Red, 48</td><td>Red</td><td>109</td></tr>",
                            "<tr><td>722</td><td>LL Road Frame - Black, 58</td><td>Black</td><td>940</td></tr>",
                            "<tr><td>723</td><td>LL Road Frame - Black, 60</td><td>Black</td><td>129</td></tr>",
                            "<tr><td>725</td><td>LL Road Frame - Red, 44</td><td>Red</td><td>991</td></tr>",
                            "<tr><td>726</td><td>LL Road Frame - Red, 48</td><td>Red</td><td>671</td></tr>",
                            "<tr><td>727</td><td>LL Road Frame - Red, 52</td><td>Red</td><td>100</td></tr>",
                            "<tr><td>729</td><td>LL Road Frame - Red, 60</td><td>Red</td><td>996</td></tr>",
                            "<tr><td>730</td><td>LL Road Frame - Red, 62</td><td>Red</td><td>697</td></tr>",
                            "<tr><td>732</td><td>ML Road Frame - Red, 48</td><td>Red</td><td>250</td></tr>",
                            "<tr><td>733</td><td>ML Road Frame - Red, 52</td><td>Red</td><td>90</td></tr>",
                            "<tr><td>736</td><td>LL Road Frame - Black, 44</td><td>Black</td><td>238</td></tr>",
                            "<tr><td>738</td><td>LL Road Frame - Black, 52</td><td>Black</td><td>1581</td></tr>",
                            "<tr><td>739</td><td>HL Mountain Frame - Silver, 42</td><td>Silver</td><td>347</td></tr>",
                            "<tr><td>741</td><td>HL Mountain Frame - Silver, 48</td><td>Silver</td><td>173</td></tr>",
                            "<tr><td>742</td><td>HL Mountain Frame - Silver, 46</td><td>Silver</td><td>649</td></tr>",
                            "<tr><td>743</td><td>HL Mountain Frame - Black, 42</td><td>Black</td><td>1181</td></tr>",
                            "<tr><td>744</td><td>HL Mountain Frame - Black, 44</td><td>Black</td><td>17</td></tr>",
                            "<tr><td>745</td><td>HL Mountain Frame - Black, 48</td><td>Black</td><td>131</td></tr>",
                            "<tr><td>747</td><td>HL Mountain Frame - Black, 38</td><td>Black</td><td>659</td></tr>",
                            "<tr><td>748</td><td>HL Mountain Frame - Silver, 38</td><td>Silver</td><td>1206</td></tr>",
                            "<tr><td>749</td><td>Road-150 Red, 62</td><td>Red</td><td>600</td></tr>",
                            "<tr><td>750</td><td>Road-150 Red, 44</td><td>Red</td><td>437</td></tr>",
                            "<tr><td>751</td><td>Road-150 Red, 48</td><td>Red</td><td>493</td></tr>",
                            "<tr><td>752</td><td>Road-150 Red, 52</td><td>Red</td><td>458</td></tr>",
                            "<tr><td>753</td><td>Road-150 Red, 56</td><td>Red</td><td>664</td></tr>",
                            "<tr><td>754</td><td>Road-450 Red, 58</td><td>Red</td><td>582</td></tr>",
                            "<tr><td>755</td><td>Road-450 Red, 60</td><td>Red</td><td>350</td></tr>",
                            "<tr><td>756</td><td>Road-450 Red, 44</td><td>Red</td><td>346</td></tr>",
                            "<tr><td>757</td><td>Road-450 Red, 48</td><td>Red</td><td>156</td></tr>",
                            "<tr><td>758</td><td>Road-450 Red, 52</td><td>Red</td><td>710</td></tr>",
                            "<tr><td>759</td><td>Road-650 Red, 58</td><td>Red</td><td>618</td></tr>",
                            "<tr><td>760</td><td>Road-650 Red, 60</td><td>Red</td><td>2232</td></tr>",
                            "<tr><td>761</td><td>Road-650 Red, 62</td><td>Red</td><td>1896</td></tr>",
                            "<tr><td>762</td><td>Road-650 Red, 44</td><td>Red</td><td>2254</td></tr>",
                            "<tr><td>763</td><td>Road-650 Red, 48</td><td>Red</td><td>1888</td></tr>",
                            "<tr><td>764</td><td>Road-650 Red, 52</td><td>Red</td><td>1112</td></tr>",
                            "<tr><td>765</td><td>Road-650 Black, 58</td><td>Black</td><td>1871</td></tr>",
                            "<tr><td>766</td><td>Road-650 Black, 60</td><td>Black</td><td>1100</td></tr>",
                            "<tr><td>767</td><td>Road-650 Black, 62</td><td>Black</td><td>644</td></tr>",
                            "<tr><td>768</td><td>Road-650 Black, 44</td><td>Black</td><td>1080</td></tr>",
                            "<tr><td>769</td><td>Road-650 Black, 48</td><td>Black</td><td>644</td></tr>",
                            "<tr><td>770</td><td>Road-650 Black, 52</td><td>Black</td><td>2270</td></tr>",
                            "<tr><td>771</td><td>Mountain-100 Silver, 38</td><td>Silver</td><td>642</td></tr>",
                            "<tr><td>772</td><td>Mountain-100 Silver, 42</td><td>Silver</td><td>593</td></tr>",
                            "<tr><td>773</td><td>Mountain-100 Silver, 44</td><td>Silver</td><td>601</td></tr>",
                            "<tr><td>774</td><td>Mountain-100 Silver, 48</td><td>Silver</td><td>505</td></tr>",
                            "<tr><td>775</td><td>Mountain-100 Black, 38</td><td>Black</td><td>682</td></tr>",
                            "<tr><td>776</td><td>Mountain-100 Black, 42</td><td>Black</td><td>634</td></tr>",
                            "<tr><td>777</td><td>Mountain-100 Black, 44</td><td>Black</td><td>678</td></tr>",
                            "<tr><td>778</td><td>Mountain-100 Black, 48</td><td>Black</td><td>616</td></tr>",
                            "<tr><td>779</td><td>Mountain-200 Silver, 38</td><td>Silver</td><td>2394</td></tr>",
                            "<tr><td>780</td><td>Mountain-200 Silver, 42</td><td>Silver</td><td>2234</td></tr>",
                            "<tr><td>781</td><td>Mountain-200 Silver, 46</td><td>Silver</td><td>2216</td></tr>",
                            "<tr><td>782</td><td>Mountain-200 Black, 38</td><td>Black</td><td>2977</td></tr>",
                            "<tr><td>783</td><td>Mountain-200 Black, 42</td><td>Black</td><td>2664</td></tr>",
                            "<tr><td>784</td><td>Mountain-200 Black, 46</td><td>Black</td><td>2111</td></tr>",
                            "<tr><td>785</td><td>Mountain-300 Black, 38</td><td>Black</td><td>684</td></tr>",
                            "<tr><td>786</td><td>Mountain-300 Black, 40</td><td>Black</td><td>776</td></tr>",
                            "<tr><td>787</td><td>Mountain-300 Black, 44</td><td>Black</td><td>747</td></tr>",
                            "<tr><td>788</td><td>Mountain-300 Black, 48</td><td>Black</td><td>740</td></tr>",
                            "<tr><td>789</td><td>Road-250 Red, 44</td><td>Red</td><td>895</td></tr>",
                            "<tr><td>790</td><td>Road-250 Red, 48</td><td>Red</td><td>812</td></tr>",
                            "<tr><td>791</td><td>Road-250 Red, 52</td><td>Red</td><td>639</td></tr>",
                            "<tr><td>792</td><td>Road-250 Red, 58</td><td>Red</td><td>946</td></tr>",
                            "<tr><td>793</td><td>Road-250 Black, 44</td><td>Black</td><td>1642</td></tr>",
                            "<tr><td>794</td><td>Road-250 Black, 48</td><td>Black</td><td>1498</td></tr>",
                            "<tr><td>795</td><td>Road-250 Black, 52</td><td>Black</td><td>1245</td></tr>",
                            "<tr><td>796</td><td>Road-250 Black, 58</td><td>Black</td><td>910</td></tr>",
                            "<tr><td>797</td><td>Road-550-W Yellow, 38</td><td>Yellow</td><td>1744</td></tr>",
                            "<tr><td>798</td><td>Road-550-W Yellow, 40</td><td>Yellow</td><td>1500</td></tr>",
                            "<tr><td>799</td><td>Road-550-W Yellow, 42</td><td>Yellow</td><td>1249</td></tr>",
                            "<tr><td>800</td><td>Road-550-W Yellow, 44</td><td>Yellow</td><td>927</td></tr>",
                            "<tr><td>801</td><td>Road-550-W Yellow, 48</td><td>Yellow</td><td>1763</td></tr>",
                            "<tr><td>802</td><td>LL Fork</td><td>NULL</td><td>190</td></tr>",
                            "<tr><td>804</td><td>HL Fork</td><td>NULL</td><td>444</td></tr>",
                            "<tr><td>805</td><td>LL Headset</td><td>NULL</td><td>95</td></tr>",
                            "<tr><td>806</td><td>ML Headset</td><td>NULL</td><td>659</td></tr>",
                            "<tr><td>807</td><td>HL Headset</td><td>NULL</td><td>255</td></tr>",
                            "<tr><td>808</td><td>LL Mountain Handlebars</td><td>NULL</td><td>865</td></tr>",
                            "<tr><td>809</td><td>ML Mountain Handlebars</td><td>NULL</td><td>1465</td></tr>",
                            "<tr><td>810</td><td>HL Mountain Handlebars</td><td>NULL</td><td>500</td></tr>",
                            "<tr><td>811</td><td>LL Road Handlebars</td><td>NULL</td><td>213</td></tr>",
                            "<tr><td>813</td><td>HL Road Handlebars</td><td>NULL</td><td>631</td></tr>",
                            "<tr><td>814</td><td>ML Mountain Frame - Black, 38</td><td>Black</td><td>514</td></tr>",
                            "<tr><td>815</td><td>LL Mountain Front Wheel</td><td>Black</td><td>617</td></tr>",
                            "<tr><td>816</td><td>ML Mountain Front Wheel</td><td>Black</td><td>266</td></tr>",
                            "<tr><td>817</td><td>HL Mountain Front Wheel</td><td>Black</td><td>222</td></tr>",
                            "<tr><td>819</td><td>ML Road Front Wheel</td><td>Black</td><td>532</td></tr>",
                            "<tr><td>820</td><td>HL Road Front Wheel</td><td>Black</td><td>567</td></tr>",
                            "<tr><td>822</td><td>ML Road Frame-W - Yellow, 38</td><td>Yellow</td><td>895</td></tr>",
                            "<tr><td>823</td><td>LL Mountain Rear Wheel</td><td>Black</td><td>342</td></tr>",
                            "<tr><td>824</td><td>ML Mountain Rear Wheel</td><td>Black</td><td>851</td></tr>",
                            "<tr><td>825</td><td>HL Mountain Rear Wheel</td><td>Black</td><td>850</td></tr>",
                            "<tr><td>826</td><td>LL Road Rear Wheel</td><td>Black</td><td>868</td></tr>",
                            "<tr><td>827</td><td>ML Road Rear Wheel</td><td>Black</td><td>64</td></tr>",
                            "<tr><td>828</td><td>HL Road Rear Wheel</td><td>Black</td><td>94</td></tr>",
                            "<tr><td>830</td><td>ML Mountain Frame - Black, 40</td><td>Black</td><td>68</td></tr>",
                            "<tr><td>831</td><td>ML Mountain Frame - Black, 44</td><td>Black</td><td>619</td></tr>",
                            "<tr><td>832</td><td>ML Mountain Frame - Black, 48</td><td>Black</td><td>959</td></tr>",
                            "<tr><td>833</td><td>ML Road Frame-W - Yellow, 40</td><td>Yellow</td><td>203</td></tr>",
                            "<tr><td>835</td><td>ML Road Frame-W - Yellow, 44</td><td>Yellow</td><td>1435</td></tr>",
                            "<tr><td>836</td><td>ML Road Frame-W - Yellow, 48</td><td>Yellow</td><td>889</td></tr>",
                            "<tr><td>838</td><td>HL Road Frame - Black, 44</td><td>Black</td><td>459</td></tr>",
                            "<tr><td>839</td><td>HL Road Frame - Black, 48</td><td>Black</td><td>109</td></tr>",
                            "<tr><td>841</td><td>Men's Sports Shorts, S</td><td>Black</td><td>567</td></tr>",
                            "<tr><td>843</td><td>Cable Lock</td><td>NULL</td><td>1087</td></tr>",
                            "<tr><td>844</td><td>Minipump</td><td>NULL</td><td>1130</td></tr>",
                            "<tr><td>849</td><td>Men's Sports Shorts, M</td><td>Black</td><td>1276</td></tr>",
                            "<tr><td>850</td><td>Men's Sports Shorts, L</td><td>Black</td><td>445</td></tr>",
                            "<tr><td>852</td><td>Women's Tights, S</td><td>Black</td><td>2072</td></tr>",
                            "<tr><td>853</td><td>Women's Tights, M</td><td>Black</td><td>394</td></tr>",
                            "<tr><td>854</td><td>Women's Tights, L</td><td>Black</td><td>2123</td></tr>",
                            "<tr><td>855</td><td>Men's Bib-Shorts, S</td><td>Multi</td><td>876</td></tr>",
                            "<tr><td>856</td><td>Men's Bib-Shorts, M</td><td>Multi</td><td>1616</td></tr>",
                            "<tr><td>857</td><td>Men's Bib-Shorts, L</td><td>Multi</td><td>633</td></tr>",
                            "<tr><td>858</td><td>Half-Finger Gloves, S</td><td>Black</td><td>2188</td></tr>",
                            "<tr><td>859</td><td>Half-Finger Gloves, M</td><td>Black</td><td>3464</td></tr>",
                            "<tr><td>860</td><td>Half-Finger Gloves, L</td><td>Black</td><td>1276</td></tr>",
                            "<tr><td>861</td><td>Full-Finger Gloves, S</td><td>Black</td><td>500</td></tr>",
                            "<tr><td>862</td><td>Full-Finger Gloves, M</td><td>Black</td><td>2206</td></tr>",
                            "<tr><td>863</td><td>Full-Finger Gloves, L</td><td>Black</td><td>3378</td></tr>",
                            "<tr><td>864</td><td>Classic Vest, S</td><td>Blue</td><td>4247</td></tr>",
                            "<tr><td>865</td><td>Classic Vest, M</td><td>Blue</td><td>2284</td></tr>",
                            "<tr><td>866</td><td>Classic Vest, L</td><td>Blue</td><td>207</td></tr>",
                            "<tr><td>867</td><td>Women's Mountain Shorts, S</td><td>Black</td><td>3296</td></tr>",
                            "<tr><td>868</td><td>Women's Mountain Shorts, M</td><td>Black</td><td>1139</td></tr>",
                            "<tr><td>869</td><td>Women's Mountain Shorts, L</td><td>Black</td><td>3244</td></tr>",
                            "<tr><td>870</td><td>Water Bottle - 30 oz.</td><td>NULL</td><td>6815</td></tr>",
                            "<tr><td>871</td><td>Mountain Bottle Cage</td><td>NULL</td><td>2025</td></tr>",
                            "<tr><td>872</td><td>Road Bottle Cage</td><td>NULL</td><td>1712</td></tr>",
                            "<tr><td>873</td><td>Patch Kit/8 Patches</td><td>NULL</td><td>3865</td></tr>",
                            "<tr><td>874</td><td>Racing Socks, M</td><td>White</td><td>1547</td></tr>",
                            "<tr><td>875</td><td>Racing Socks, L</td><td>White</td><td>2473</td></tr>",
                            "<tr><td>876</td><td>Hitch Rack - 4-Bike</td><td>NULL</td><td>3166</td></tr>",
                            "<tr><td>877</td><td>Bike Wash - Dissolver</td><td>NULL</td><td>3319</td></tr>",
                            "<tr><td>878</td><td>Fender Set - Mountain</td><td>NULL</td><td>2121</td></tr>",
                            "<tr><td>879</td><td>All-Purpose Bike Stand</td><td>NULL</td><td>249</td></tr>",
                            "<tr><td>880</td><td>Hydration Pack - 70 oz.</td><td>Silver</td><td>2761</td></tr>",
                            "<tr><td>881</td><td>Short-Sleeve Classic Jersey, S</td><td>Yellow</td><td>1955</td></tr>",
                            "<tr><td>882</td><td>Short-Sleeve Classic Jersey, M</td><td>Yellow</td><td>407</td></tr>",
                            "<tr><td>883</td><td>Short-Sleeve Classic Jersey, L</td><td>Yellow</td><td>2848</td></tr>",
                            "<tr><td>884</td><td>Short-Sleeve Classic Jersey, XL</td><td>Yellow</td><td>3864</td></tr>",
                            "<tr><td>885</td><td>HL Touring Frame - Yellow, 60</td><td>Yellow</td><td>387</td></tr>",
                            "<tr><td>886</td><td>LL Touring Frame - Yellow, 62</td><td>Yellow</td><td>348</td></tr>",
                            "<tr><td>887</td><td>HL Touring Frame - Yellow, 46</td><td>Yellow</td><td>87</td></tr>",
                            "<tr><td>888</td><td>HL Touring Frame - Yellow, 50</td><td>Yellow</td><td>83</td></tr>",
                            "<tr><td>889</td><td>HL Touring Frame - Yellow, 54</td><td>Yellow</td><td>540</td></tr>",
                            "<tr><td>890</td><td>HL Touring Frame - Blue, 46</td><td>Blue</td><td>114</td></tr>",
                            "<tr><td>891</td><td>HL Touring Frame - Blue, 50</td><td>Blue</td><td>124</td></tr>",
                            "<tr><td>892</td><td>HL Touring Frame - Blue, 54</td><td>Blue</td><td>542</td></tr>",
                            "<tr><td>893</td><td>HL Touring Frame - Blue, 60</td><td>Blue</td><td>371</td></tr>",
                            "<tr><td>894</td><td>Rear Derailleur</td><td>Silver</td><td>353</td></tr>",
                            "<tr><td>895</td><td>LL Touring Frame - Blue, 50</td><td>Blue</td><td>316</td></tr>",
                            "<tr><td>896</td><td>LL Touring Frame - Blue, 54</td><td>Blue</td><td>211</td></tr>",
                            "<tr><td>897</td><td>LL Touring Frame - Blue, 58</td><td>Blue</td><td>4</td></tr>",
                            "<tr><td>898</td><td>LL Touring Frame - Blue, 62</td><td>Blue</td><td>15</td></tr>",
                            "<tr><td>899</td><td>LL Touring Frame - Yellow, 44</td><td>Yellow</td><td>294</td></tr>",
                            "<tr><td>900</td><td>LL Touring Frame - Yellow, 50</td><td>Yellow</td><td>228</td></tr>",
                            "<tr><td>902</td><td>LL Touring Frame - Yellow, 58</td><td>Yellow</td><td>36</td></tr>",
                            "<tr><td>903</td><td>LL Touring Frame - Blue, 44</td><td>Blue</td><td>25</td></tr>",
                            "<tr><td>904</td><td>ML Mountain Frame-W - Silver, 40</td><td>Silver</td><td>899</td></tr>",
                            "<tr><td>905</td><td>ML Mountain Frame-W - Silver, 42</td><td>Silver</td><td>627</td></tr>",
                            "<tr><td>906</td><td>ML Mountain Frame-W - Silver, 46</td><td>Silver</td><td>188</td></tr>",
                            "<tr><td>907</td><td>Rear Brakes</td><td>Silver</td><td>246</td></tr>",
                            "<tr><td>908</td><td>LL Mountain Seat/Saddle</td><td>NULL</td><td>347</td></tr>",
                            "<tr><td>909</td><td>ML Mountain Seat/Saddle</td><td>NULL</td><td>534</td></tr>",
                            "<tr><td>910</td><td>HL Mountain Seat/Saddle</td><td>NULL</td><td>519</td></tr>",
                            "<tr><td>911</td><td>LL Road Seat/Saddle</td><td>NULL</td><td>10</td></tr>",
                            "<tr><td>913</td><td>HL Road Seat/Saddle</td><td>NULL</td><td>134</td></tr>",
                            "<tr><td>914</td><td>LL Touring Seat/Saddle</td><td>NULL</td><td>91</td></tr>",
                            "<tr><td>915</td><td>ML Touring Seat/Saddle</td><td>NULL</td><td>84</td></tr>",
                            "<tr><td>916</td><td>HL Touring Seat/Saddle</td><td>NULL</td><td>426</td></tr>",
                            "<tr><td>917</td><td>LL Mountain Frame - Silver, 42</td><td>Silver</td><td>638</td></tr>",
                            "<tr><td>918</td><td>LL Mountain Frame - Silver, 44</td><td>Silver</td><td>371</td></tr>",
                            "<tr><td>919</td><td>LL Mountain Frame - Silver, 48</td><td>Silver</td><td>44</td></tr>",
                            "<tr><td>920</td><td>LL Mountain Frame - Silver, 52</td><td>Silver</td><td>425</td></tr>",
                            "<tr><td>921</td><td>Mountain Tire Tube</td><td>NULL</td><td>3095</td></tr>",
                            "<tr><td>922</td><td>Road Tire Tube</td><td>NULL</td><td>2376</td></tr>",
                            "<tr><td>923</td><td>Touring Tire Tube</td><td>NULL</td><td>1488</td></tr>",
                            "<tr><td>924</td><td>LL Mountain Frame - Black, 42</td><td>Black</td><td>423</td></tr>",
                            "<tr><td>925</td><td>LL Mountain Frame - Black, 44</td><td>Black</td><td>625</td></tr>",
                            "<tr><td>926</td><td>LL Mountain Frame - Black, 48</td><td>Black</td><td>386</td></tr>",
                            "<tr><td>927</td><td>LL Mountain Frame - Black, 52</td><td>Black</td><td>15</td></tr>",
                            "<tr><td>928</td><td>LL Mountain Tire</td><td>NULL</td><td>862</td></tr>",
                            "<tr><td>929</td><td>ML Mountain Tire</td><td>NULL</td><td>1161</td></tr>",
                            "<tr><td>930</td><td>HL Mountain Tire</td><td>NULL</td><td>1396</td></tr>",
                            "<tr><td>931</td><td>LL Road Tire</td><td>NULL</td><td>1044</td></tr>",
                            "<tr><td>932</td><td>ML Road Tire</td><td>NULL</td><td>926</td></tr>",
                            "<tr><td>933</td><td>HL Road Tire</td><td>NULL</td><td>858</td></tr>",
                            "<tr><td>934</td><td>Touring Tire</td><td>NULL</td><td>935</td></tr>",
                            "<tr><td>935</td><td>LL Mountain Pedal</td><td>Silver/Black</td><td>449</td></tr>",
                            "<tr><td>936</td><td>ML Mountain Pedal</td><td>Silver/Black</td><td>345</td></tr>",
                            "<tr><td>937</td><td>HL Mountain Pedal</td><td>Silver/Black</td><td>785</td></tr>",
                            "<tr><td>938</td><td>LL Road Pedal</td><td>Silver/Black</td><td>868</td></tr>",
                            "<tr><td>939</td><td>ML Road Pedal</td><td>Silver/Black</td><td>661</td></tr>",
                            "<tr><td>940</td><td>HL Road Pedal</td><td>Silver/Black</td><td>676</td></tr>",
                            "<tr><td>941</td><td>Touring Pedal</td><td>Silver/Black</td><td>147</td></tr>",
                            "<tr><td>942</td><td>ML Mountain Frame-W - Silver, 38</td><td>Silver</td><td>7</td></tr>",
                            "<tr><td>943</td><td>LL Mountain Frame - Black, 40</td><td>Black</td><td>8</td></tr>",
                            "<tr><td>944</td><td>LL Mountain Frame - Silver, 40</td><td>Silver</td><td>442</td></tr>",
                            "<tr><td>945</td><td>Front Derailleur</td><td>Silver</td><td>813</td></tr>",
                            "<tr><td>946</td><td>LL Touring Handlebars</td><td>NULL</td><td>56</td></tr>",
                            "<tr><td>947</td><td>HL Touring Handlebars</td><td>NULL</td><td>220</td></tr>",
                            "<tr><td>948</td><td>Front Brakes</td><td>Silver</td><td>789</td></tr>",
                            "<tr><td>949</td><td>LL Crankset</td><td>Black</td><td>426</td></tr>",
                            "<tr><td>950</td><td>ML Crankset</td><td>Black</td><td>68</td></tr>",
                            "<tr><td>951</td><td>HL Crankset</td><td>Black</td><td>613</td></tr>",
                            "<tr><td>952</td><td>Chain</td><td>Silver</td><td>774</td></tr>",
                            "<tr><td>953</td><td>Touring-2000 Blue, 60</td><td>Blue</td><td>820</td></tr>",
                            "<tr><td>954</td><td>Touring-1000 Yellow, 46</td><td>Yellow</td><td>1005</td></tr>",
                            "<tr><td>955</td><td>Touring-1000 Yellow, 50</td><td>Yellow</td><td>652</td></tr>",
                            "<tr><td>956</td><td>Touring-1000 Yellow, 54</td><td>Yellow</td><td>397</td></tr>",
                            "<tr><td>957</td><td>Touring-1000 Yellow, 60</td><td>Yellow</td><td>1114</td></tr>",
                            "<tr><td>958</td><td>Touring-3000 Blue, 54</td><td>Blue</td><td>686</td></tr>",
                            "<tr><td>959</td><td>Touring-3000 Blue, 58</td><td>Blue</td><td>482</td></tr>",
                            "<tr><td>960</td><td>Touring-3000 Blue, 62</td><td>Blue</td><td>281</td></tr>",
                            "<tr><td>961</td><td>Touring-3000 Yellow, 44</td><td>Yellow</td><td>851</td></tr>",
                            "<tr><td>962</td><td>Touring-3000 Yellow, 50</td><td>Yellow</td><td>686</td></tr>",
                            "<tr><td>963</td><td>Touring-3000 Yellow, 54</td><td>Yellow</td><td>453</td></tr>",
                            "<tr><td>964</td><td>Touring-3000 Yellow, 58</td><td>Yellow</td><td>293</td></tr>",
                            "<tr><td>965</td><td>Touring-3000 Yellow, 62</td><td>Yellow</td><td>844</td></tr>",
                            "<tr><td>966</td><td>Touring-1000 Blue, 46</td><td>Blue</td><td>1002</td></tr>",
                            "<tr><td>967</td><td>Touring-1000 Blue, 50</td><td>Blue</td><td>649</td></tr>",
                            "<tr><td>968</td><td>Touring-1000 Blue, 54</td><td>Blue</td><td>413</td></tr>",
                            "<tr><td>969</td><td>Touring-1000 Blue, 60</td><td>Blue</td><td>1120</td></tr>",
                            "<tr><td>970</td><td>Touring-2000 Blue, 46</td><td>Blue</td><td>538</td></tr>",
                            "<tr><td>971</td><td>Touring-2000 Blue, 50</td><td>Blue</td><td>322</td></tr>",
                            "<tr><td>972</td><td>Touring-2000 Blue, 54</td><td>Blue</td><td>1010</td></tr>",
                            "<tr><td>973</td><td>Road-350-W Yellow, 40</td><td>Yellow</td><td>1477</td></tr>",
                            "<tr><td>974</td><td>Road-350-W Yellow, 42</td><td>Yellow</td><td>944</td></tr>",
                            "<tr><td>975</td><td>Road-350-W Yellow, 44</td><td>Yellow</td><td>536</td></tr>",
                            "<tr><td>976</td><td>Road-350-W Yellow, 48</td><td>Yellow</td><td>1622</td></tr>",
                            "<tr><td>977</td><td>Road-750 Black, 58</td><td>Black</td><td>892</td></tr>",
                            "<tr><td>978</td><td>Touring-3000 Blue, 44</td><td>Blue</td><td>292</td></tr>",
                            "<tr><td>979</td><td>Touring-3000 Blue, 50</td><td>Blue</td><td>841</td></tr>",
                            "<tr><td>980</td><td>Mountain-400-W Silver, 38</td><td>Silver</td><td>425</td></tr>",
                            "<tr><td>981</td><td>Mountain-400-W Silver, 40</td><td>Silver</td><td>617</td></tr>",
                            "<tr><td>982</td><td>Mountain-400-W Silver, 42</td><td>Silver</td><td>385</td></tr>",
                            "<tr><td>983</td><td>Mountain-400-W Silver, 46</td><td>Silver</td><td>401</td></tr>",
                            "<tr><td>984</td><td>Mountain-500 Silver, 40</td><td>Silver</td><td>450</td></tr>",
                            "<tr><td>985</td><td>Mountain-500 Silver, 42</td><td>Silver</td><td>455</td></tr>",
                            "<tr><td>986</td><td>Mountain-500 Silver, 44</td><td>Silver</td><td>381</td></tr>",
                            "<tr><td>987</td><td>Mountain-500 Silver, 48</td><td>Silver</td><td>457</td></tr>",
                            "<tr><td>988</td><td>Mountain-500 Silver, 52</td><td>Silver</td><td>515</td></tr>",
                            "<tr><td>989</td><td>Mountain-500 Black, 40</td><td>Black</td><td>282</td></tr>",
                            "<tr><td>990</td><td>Mountain-500 Black, 42</td><td>Black</td><td>388</td></tr>",
                            "<tr><td>991</td><td>Mountain-500 Black, 44</td><td>Black</td><td>350</td></tr>",
                            "<tr><td>992</td><td>Mountain-500 Black, 48</td><td>Black</td><td>449</td></tr>",
                            "<tr><td>993</td><td>Mountain-500 Black, 52</td><td>Black</td><td>272</td></tr>",
                            "<tr><td>994</td><td>LL Bottom Bracket</td><td>NULL</td><td>378</td></tr>",
                            "<tr><td>996</td><td>HL Bottom Bracket</td><td>NULL</td><td>543</td></tr>",
                            "<tr><td>997</td><td>Road-750 Black, 44</td><td>Black</td><td>656</td></tr>",
                            "<tr><td>998</td><td>Road-750 Black, 48</td><td>Black</td><td>1556</td></tr>",
                            "<tr><td>999</td><td>Road-750 Black, 52</td><td>Black</td><td>1338</td></tr>",
                            "</table>"
                        ]
                    }
                }
            ],
            "execution_count": 28
        },
        {
            "cell_type": "markdown",
            "source": [
                "1. Change the query so that it also includes the Average calculation."
            ],
            "metadata": {
                "azdata_cell_guid": "2a26135e-2889-495c-b06e-ae4b46dfd82d"
            },
            "attachments": {}
        },
        {
            "cell_type": "code",
            "source": [
                "WITH Sales AS (\n",
                "       SELECT ProductID, SUM(OrderQty) AS TotalQty, \n",
                "       AVG(OrderQty) as AveOrderQty\n",
                "       FROM Sales.SalesOrderDetail\n",
                "       GROUP BY ProductID)\n",
                "SELECT Prod.ProductID, Name, Color, TotalQty, AveOrderQty\n",
                "FROM Production.Product AS Prod\n",
                "INNER JOIN Sales ON Sales.ProductID = Prod.ProductID\n",
                "WHERE Prod.FinishedGoodsFlag =1;\n",
                ""
            ],
            "metadata": {
                "azdata_cell_guid": "1af663b0-c490-42fc-9876-231ef5543349"
            },
            "outputs": [
                {
                    "output_type": "display_data",
                    "data": {
                        "text/html": "(266 rows affected)"
                    },
                    "metadata": {}
                },
                {
                    "output_type": "display_data",
                    "data": {
                        "text/html": "Total execution time: 00:00:00.153"
                    },
                    "metadata": {}
                },
                {
                    "output_type": "execute_result",
                    "metadata": {},
                    "execution_count": 32,
                    "data": {
                        "application/vnd.dataresource+json": {
                            "schema": {
                                "fields": [
                                    {
                                        "name": "ProductID"
                                    },
                                    {
                                        "name": "Name"
                                    },
                                    {
                                        "name": "Color"
                                    },
                                    {
                                        "name": "TotalQty"
                                    },
                                    {
                                        "name": "AveOrderQty"
                                    }
                                ]
                            },
                            "data": [
                                {
                                    "0": "707",
                                    "1": "Sport-100 Helmet, Red",
                                    "2": "Red",
                                    "3": "6266",
                                    "4": "2"
                                },
                                {
                                    "0": "708",
                                    "1": "Sport-100 Helmet, Black",
                                    "2": "Black",
                                    "3": "6532",
                                    "4": "2"
                                },
                                {
                                    "0": "709",
                                    "1": "Mountain Bike Socks, M",
                                    "2": "White",
                                    "3": "1107",
                                    "4": "5"
                                },
                                {
                                    "0": "710",
                                    "1": "Mountain Bike Socks, L",
                                    "2": "White",
                                    "3": "90",
                                    "4": "2"
                                },
                                {
                                    "0": "711",
                                    "1": "Sport-100 Helmet, Blue",
                                    "2": "Blue",
                                    "3": "6743",
                                    "4": "2"
                                },
                                {
                                    "0": "712",
                                    "1": "AWC Logo Cap",
                                    "2": "Multi",
                                    "3": "8311",
                                    "4": "2"
                                },
                                {
                                    "0": "713",
                                    "1": "Long-Sleeve Logo Jersey, S",
                                    "2": "Multi",
                                    "3": "429",
                                    "4": "1"
                                },
                                {
                                    "0": "714",
                                    "1": "Long-Sleeve Logo Jersey, M",
                                    "2": "Multi",
                                    "3": "3636",
                                    "4": "2"
                                },
                                {
                                    "0": "715",
                                    "1": "Long-Sleeve Logo Jersey, L",
                                    "2": "Multi",
                                    "3": "6592",
                                    "4": "4"
                                },
                                {
                                    "0": "716",
                                    "1": "Long-Sleeve Logo Jersey, XL",
                                    "2": "Multi",
                                    "3": "2980",
                                    "4": "2"
                                },
                                {
                                    "0": "717",
                                    "1": "HL Road Frame - Red, 62",
                                    "2": "Red",
                                    "3": "485",
                                    "4": "2"
                                },
                                {
                                    "0": "718",
                                    "1": "HL Road Frame - Red, 44",
                                    "2": "Red",
                                    "3": "486",
                                    "4": "2"
                                },
                                {
                                    "0": "719",
                                    "1": "HL Road Frame - Red, 48",
                                    "2": "Red",
                                    "3": "109",
                                    "4": "2"
                                },
                                {
                                    "0": "722",
                                    "1": "LL Road Frame - Black, 58",
                                    "2": "Black",
                                    "3": "940",
                                    "4": "2"
                                },
                                {
                                    "0": "723",
                                    "1": "LL Road Frame - Black, 60",
                                    "2": "Black",
                                    "3": "129",
                                    "4": "2"
                                },
                                {
                                    "0": "725",
                                    "1": "LL Road Frame - Red, 44",
                                    "2": "Red",
                                    "3": "991",
                                    "4": "2"
                                },
                                {
                                    "0": "726",
                                    "1": "LL Road Frame - Red, 48",
                                    "2": "Red",
                                    "3": "671",
                                    "4": "2"
                                },
                                {
                                    "0": "727",
                                    "1": "LL Road Frame - Red, 52",
                                    "2": "Red",
                                    "3": "100",
                                    "4": "2"
                                },
                                {
                                    "0": "729",
                                    "1": "LL Road Frame - Red, 60",
                                    "2": "Red",
                                    "3": "996",
                                    "4": "2"
                                },
                                {
                                    "0": "730",
                                    "1": "LL Road Frame - Red, 62",
                                    "2": "Red",
                                    "3": "697",
                                    "4": "2"
                                },
                                {
                                    "0": "732",
                                    "1": "ML Road Frame - Red, 48",
                                    "2": "Red",
                                    "3": "250",
                                    "4": "1"
                                },
                                {
                                    "0": "733",
                                    "1": "ML Road Frame - Red, 52",
                                    "2": "Red",
                                    "3": "90",
                                    "4": "2"
                                },
                                {
                                    "0": "736",
                                    "1": "LL Road Frame - Black, 44",
                                    "2": "Black",
                                    "3": "238",
                                    "4": "2"
                                },
                                {
                                    "0": "738",
                                    "1": "LL Road Frame - Black, 52",
                                    "2": "Black",
                                    "3": "1581",
                                    "4": "2"
                                },
                                {
                                    "0": "739",
                                    "1": "HL Mountain Frame - Silver, 42",
                                    "2": "Silver",
                                    "3": "347",
                                    "4": "2"
                                },
                                {
                                    "0": "741",
                                    "1": "HL Mountain Frame - Silver, 48",
                                    "2": "Silver",
                                    "3": "173",
                                    "4": "1"
                                },
                                {
                                    "0": "742",
                                    "1": "HL Mountain Frame - Silver, 46",
                                    "2": "Silver",
                                    "3": "649",
                                    "4": "2"
                                },
                                {
                                    "0": "743",
                                    "1": "HL Mountain Frame - Black, 42",
                                    "2": "Black",
                                    "3": "1181",
                                    "4": "2"
                                },
                                {
                                    "0": "744",
                                    "1": "HL Mountain Frame - Black, 44",
                                    "2": "Black",
                                    "3": "17",
                                    "4": "1"
                                },
                                {
                                    "0": "745",
                                    "1": "HL Mountain Frame - Black, 48",
                                    "2": "Black",
                                    "3": "131",
                                    "4": "1"
                                },
                                {
                                    "0": "747",
                                    "1": "HL Mountain Frame - Black, 38",
                                    "2": "Black",
                                    "3": "659",
                                    "4": "2"
                                },
                                {
                                    "0": "748",
                                    "1": "HL Mountain Frame - Silver, 38",
                                    "2": "Silver",
                                    "3": "1206",
                                    "4": "2"
                                },
                                {
                                    "0": "749",
                                    "1": "Road-150 Red, 62",
                                    "2": "Red",
                                    "3": "600",
                                    "4": "1"
                                },
                                {
                                    "0": "750",
                                    "1": "Road-150 Red, 44",
                                    "2": "Red",
                                    "3": "437",
                                    "4": "1"
                                },
                                {
                                    "0": "751",
                                    "1": "Road-150 Red, 48",
                                    "2": "Red",
                                    "3": "493",
                                    "4": "1"
                                },
                                {
                                    "0": "752",
                                    "1": "Road-150 Red, 52",
                                    "2": "Red",
                                    "3": "458",
                                    "4": "1"
                                },
                                {
                                    "0": "753",
                                    "1": "Road-150 Red, 56",
                                    "2": "Red",
                                    "3": "664",
                                    "4": "1"
                                },
                                {
                                    "0": "754",
                                    "1": "Road-450 Red, 58",
                                    "2": "Red",
                                    "3": "582",
                                    "4": "2"
                                },
                                {
                                    "0": "755",
                                    "1": "Road-450 Red, 60",
                                    "2": "Red",
                                    "3": "350",
                                    "4": "2"
                                },
                                {
                                    "0": "756",
                                    "1": "Road-450 Red, 44",
                                    "2": "Red",
                                    "3": "346",
                                    "4": "2"
                                },
                                {
                                    "0": "757",
                                    "1": "Road-450 Red, 48",
                                    "2": "Red",
                                    "3": "156",
                                    "4": "2"
                                },
                                {
                                    "0": "758",
                                    "1": "Road-450 Red, 52",
                                    "2": "Red",
                                    "3": "710",
                                    "4": "2"
                                },
                                {
                                    "0": "759",
                                    "1": "Road-650 Red, 58",
                                    "2": "Red",
                                    "3": "618",
                                    "4": "2"
                                },
                                {
                                    "0": "760",
                                    "1": "Road-650 Red, 60",
                                    "2": "Red",
                                    "3": "2232",
                                    "4": "3"
                                },
                                {
                                    "0": "761",
                                    "1": "Road-650 Red, 62",
                                    "2": "Red",
                                    "3": "1896",
                                    "4": "2"
                                },
                                {
                                    "0": "762",
                                    "1": "Road-650 Red, 44",
                                    "2": "Red",
                                    "3": "2254",
                                    "4": "3"
                                },
                                {
                                    "0": "763",
                                    "1": "Road-650 Red, 48",
                                    "2": "Red",
                                    "3": "1888",
                                    "4": "2"
                                },
                                {
                                    "0": "764",
                                    "1": "Road-650 Red, 52",
                                    "2": "Red",
                                    "3": "1112",
                                    "4": "2"
                                },
                                {
                                    "0": "765",
                                    "1": "Road-650 Black, 58",
                                    "2": "Black",
                                    "3": "1871",
                                    "4": "2"
                                },
                                {
                                    "0": "766",
                                    "1": "Road-650 Black, 60",
                                    "2": "Black",
                                    "3": "1100",
                                    "4": "2"
                                },
                                {
                                    "0": "767",
                                    "1": "Road-650 Black, 62",
                                    "2": "Black",
                                    "3": "644",
                                    "4": "2"
                                },
                                {
                                    "0": "768",
                                    "1": "Road-650 Black, 44",
                                    "2": "Black",
                                    "3": "1080",
                                    "4": "2"
                                },
                                {
                                    "0": "769",
                                    "1": "Road-650 Black, 48",
                                    "2": "Black",
                                    "3": "644",
                                    "4": "2"
                                },
                                {
                                    "0": "770",
                                    "1": "Road-650 Black, 52",
                                    "2": "Black",
                                    "3": "2270",
                                    "4": "3"
                                },
                                {
                                    "0": "771",
                                    "1": "Mountain-100 Silver, 38",
                                    "2": "Silver",
                                    "3": "642",
                                    "4": "2"
                                },
                                {
                                    "0": "772",
                                    "1": "Mountain-100 Silver, 42",
                                    "2": "Silver",
                                    "3": "593",
                                    "4": "2"
                                },
                                {
                                    "0": "773",
                                    "1": "Mountain-100 Silver, 44",
                                    "2": "Silver",
                                    "3": "601",
                                    "4": "2"
                                },
                                {
                                    "0": "774",
                                    "1": "Mountain-100 Silver, 48",
                                    "2": "Silver",
                                    "3": "505",
                                    "4": "2"
                                },
                                {
                                    "0": "775",
                                    "1": "Mountain-100 Black, 38",
                                    "2": "Black",
                                    "3": "682",
                                    "4": "2"
                                },
                                {
                                    "0": "776",
                                    "1": "Mountain-100 Black, 42",
                                    "2": "Black",
                                    "3": "634",
                                    "4": "2"
                                },
                                {
                                    "0": "777",
                                    "1": "Mountain-100 Black, 44",
                                    "2": "Black",
                                    "3": "678",
                                    "4": "2"
                                },
                                {
                                    "0": "778",
                                    "1": "Mountain-100 Black, 48",
                                    "2": "Black",
                                    "3": "616",
                                    "4": "2"
                                },
                                {
                                    "0": "779",
                                    "1": "Mountain-200 Silver, 38",
                                    "2": "Silver",
                                    "3": "2394",
                                    "4": "2"
                                },
                                {
                                    "0": "780",
                                    "1": "Mountain-200 Silver, 42",
                                    "2": "Silver",
                                    "3": "2234",
                                    "4": "2"
                                },
                                {
                                    "0": "781",
                                    "1": "Mountain-200 Silver, 46",
                                    "2": "Silver",
                                    "3": "2216",
                                    "4": "2"
                                },
                                {
                                    "0": "782",
                                    "1": "Mountain-200 Black, 38",
                                    "2": "Black",
                                    "3": "2977",
                                    "4": "2"
                                },
                                {
                                    "0": "783",
                                    "1": "Mountain-200 Black, 42",
                                    "2": "Black",
                                    "3": "2664",
                                    "4": "2"
                                },
                                {
                                    "0": "784",
                                    "1": "Mountain-200 Black, 46",
                                    "2": "Black",
                                    "3": "2111",
                                    "4": "1"
                                },
                                {
                                    "0": "785",
                                    "1": "Mountain-300 Black, 38",
                                    "2": "Black",
                                    "3": "684",
                                    "4": "3"
                                },
                                {
                                    "0": "786",
                                    "1": "Mountain-300 Black, 40",
                                    "2": "Black",
                                    "3": "776",
                                    "4": "3"
                                },
                                {
                                    "0": "787",
                                    "1": "Mountain-300 Black, 44",
                                    "2": "Black",
                                    "3": "747",
                                    "4": "3"
                                },
                                {
                                    "0": "788",
                                    "1": "Mountain-300 Black, 48",
                                    "2": "Black",
                                    "3": "740",
                                    "4": "3"
                                },
                                {
                                    "0": "789",
                                    "1": "Road-250 Red, 44",
                                    "2": "Red",
                                    "3": "895",
                                    "4": "2"
                                },
                                {
                                    "0": "790",
                                    "1": "Road-250 Red, 48",
                                    "2": "Red",
                                    "3": "812",
                                    "4": "2"
                                },
                                {
                                    "0": "791",
                                    "1": "Road-250 Red, 52",
                                    "2": "Red",
                                    "3": "639",
                                    "4": "2"
                                },
                                {
                                    "0": "792",
                                    "1": "Road-250 Red, 58",
                                    "2": "Red",
                                    "3": "946",
                                    "4": "1"
                                },
                                {
                                    "0": "793",
                                    "1": "Road-250 Black, 44",
                                    "2": "Black",
                                    "3": "1642",
                                    "4": "2"
                                },
                                {
                                    "0": "794",
                                    "1": "Road-250 Black, 48",
                                    "2": "Black",
                                    "3": "1498",
                                    "4": "2"
                                },
                                {
                                    "0": "795",
                                    "1": "Road-250 Black, 52",
                                    "2": "Black",
                                    "3": "1245",
                                    "4": "1"
                                },
                                {
                                    "0": "796",
                                    "1": "Road-250 Black, 58",
                                    "2": "Black",
                                    "3": "910",
                                    "4": "1"
                                },
                                {
                                    "0": "797",
                                    "1": "Road-550-W Yellow, 38",
                                    "2": "Yellow",
                                    "3": "1744",
                                    "4": "2"
                                },
                                {
                                    "0": "798",
                                    "1": "Road-550-W Yellow, 40",
                                    "2": "Yellow",
                                    "3": "1500",
                                    "4": "2"
                                },
                                {
                                    "0": "799",
                                    "1": "Road-550-W Yellow, 42",
                                    "2": "Yellow",
                                    "3": "1249",
                                    "4": "1"
                                },
                                {
                                    "0": "800",
                                    "1": "Road-550-W Yellow, 44",
                                    "2": "Yellow",
                                    "3": "927",
                                    "4": "1"
                                },
                                {
                                    "0": "801",
                                    "1": "Road-550-W Yellow, 48",
                                    "2": "Yellow",
                                    "3": "1763",
                                    "4": "2"
                                },
                                {
                                    "0": "802",
                                    "1": "LL Fork",
                                    "2": "NULL",
                                    "3": "190",
                                    "4": "2"
                                },
                                {
                                    "0": "804",
                                    "1": "HL Fork",
                                    "2": "NULL",
                                    "3": "444",
                                    "4": "3"
                                },
                                {
                                    "0": "805",
                                    "1": "LL Headset",
                                    "2": "NULL",
                                    "3": "95",
                                    "4": "2"
                                },
                                {
                                    "0": "806",
                                    "1": "ML Headset",
                                    "2": "NULL",
                                    "3": "659",
                                    "4": "5"
                                },
                                {
                                    "0": "807",
                                    "1": "HL Headset",
                                    "2": "NULL",
                                    "3": "255",
                                    "4": "2"
                                },
                                {
                                    "0": "808",
                                    "1": "LL Mountain Handlebars",
                                    "2": "NULL",
                                    "3": "865",
                                    "4": "2"
                                },
                                {
                                    "0": "809",
                                    "1": "ML Mountain Handlebars",
                                    "2": "NULL",
                                    "3": "1465",
                                    "4": "2"
                                },
                                {
                                    "0": "810",
                                    "1": "HL Mountain Handlebars",
                                    "2": "NULL",
                                    "3": "500",
                                    "4": "2"
                                },
                                {
                                    "0": "811",
                                    "1": "LL Road Handlebars",
                                    "2": "NULL",
                                    "3": "213",
                                    "4": "2"
                                },
                                {
                                    "0": "813",
                                    "1": "HL Road Handlebars",
                                    "2": "NULL",
                                    "3": "631",
                                    "4": "2"
                                },
                                {
                                    "0": "814",
                                    "1": "ML Mountain Frame - Black, 38",
                                    "2": "Black",
                                    "3": "514",
                                    "4": "2"
                                },
                                {
                                    "0": "815",
                                    "1": "LL Mountain Front Wheel",
                                    "2": "Black",
                                    "3": "617",
                                    "4": "2"
                                },
                                {
                                    "0": "816",
                                    "1": "ML Mountain Front Wheel",
                                    "2": "Black",
                                    "3": "266",
                                    "4": "2"
                                },
                                {
                                    "0": "817",
                                    "1": "HL Mountain Front Wheel",
                                    "2": "Black",
                                    "3": "222",
                                    "4": "2"
                                },
                                {
                                    "0": "819",
                                    "1": "ML Road Front Wheel",
                                    "2": "Black",
                                    "3": "532",
                                    "4": "2"
                                },
                                {
                                    "0": "820",
                                    "1": "HL Road Front Wheel",
                                    "2": "Black",
                                    "3": "567",
                                    "4": "2"
                                },
                                {
                                    "0": "822",
                                    "1": "ML Road Frame-W - Yellow, 38",
                                    "2": "Yellow",
                                    "3": "895",
                                    "4": "2"
                                },
                                {
                                    "0": "823",
                                    "1": "LL Mountain Rear Wheel",
                                    "2": "Black",
                                    "3": "342",
                                    "4": "2"
                                },
                                {
                                    "0": "824",
                                    "1": "ML Mountain Rear Wheel",
                                    "2": "Black",
                                    "3": "851",
                                    "4": "3"
                                },
                                {
                                    "0": "825",
                                    "1": "HL Mountain Rear Wheel",
                                    "2": "Black",
                                    "3": "850",
                                    "4": "3"
                                },
                                {
                                    "0": "826",
                                    "1": "LL Road Rear Wheel",
                                    "2": "Black",
                                    "3": "868",
                                    "4": "2"
                                },
                                {
                                    "0": "827",
                                    "1": "ML Road Rear Wheel",
                                    "2": "Black",
                                    "3": "64",
                                    "4": "2"
                                },
                                {
                                    "0": "828",
                                    "1": "HL Road Rear Wheel",
                                    "2": "Black",
                                    "3": "94",
                                    "4": "2"
                                },
                                {
                                    "0": "830",
                                    "1": "ML Mountain Frame - Black, 40",
                                    "2": "Black",
                                    "3": "68",
                                    "4": "2"
                                },
                                {
                                    "0": "831",
                                    "1": "ML Mountain Frame - Black, 44",
                                    "2": "Black",
                                    "3": "619",
                                    "4": "3"
                                },
                                {
                                    "0": "832",
                                    "1": "ML Mountain Frame - Black, 48",
                                    "2": "Black",
                                    "3": "959",
                                    "4": "3"
                                },
                                {
                                    "0": "833",
                                    "1": "ML Road Frame-W - Yellow, 40",
                                    "2": "Yellow",
                                    "3": "203",
                                    "4": "2"
                                },
                                {
                                    "0": "835",
                                    "1": "ML Road Frame-W - Yellow, 44",
                                    "2": "Yellow",
                                    "3": "1435",
                                    "4": "2"
                                },
                                {
                                    "0": "836",
                                    "1": "ML Road Frame-W - Yellow, 48",
                                    "2": "Yellow",
                                    "3": "889",
                                    "4": "2"
                                },
                                {
                                    "0": "838",
                                    "1": "HL Road Frame - Black, 44",
                                    "2": "Black",
                                    "3": "459",
                                    "4": "2"
                                },
                                {
                                    "0": "839",
                                    "1": "HL Road Frame - Black, 48",
                                    "2": "Black",
                                    "3": "109",
                                    "4": "2"
                                },
                                {
                                    "0": "841",
                                    "1": "Men's Sports Shorts, S",
                                    "2": "Black",
                                    "3": "567",
                                    "4": "3"
                                },
                                {
                                    "0": "843",
                                    "1": "Cable Lock",
                                    "2": "NULL",
                                    "3": "1087",
                                    "4": "4"
                                },
                                {
                                    "0": "844",
                                    "1": "Minipump",
                                    "2": "NULL",
                                    "3": "1130",
                                    "4": "4"
                                },
                                {
                                    "0": "849",
                                    "1": "Men's Sports Shorts, M",
                                    "2": "Black",
                                    "3": "1276",
                                    "4": "4"
                                },
                                {
                                    "0": "850",
                                    "1": "Men's Sports Shorts, L",
                                    "2": "Black",
                                    "3": "445",
                                    "4": "3"
                                },
                                {
                                    "0": "852",
                                    "1": "Women's Tights, S",
                                    "2": "Black",
                                    "3": "2072",
                                    "4": "4"
                                },
                                {
                                    "0": "853",
                                    "1": "Women's Tights, M",
                                    "2": "Black",
                                    "3": "394",
                                    "4": "3"
                                },
                                {
                                    "0": "854",
                                    "1": "Women's Tights, L",
                                    "2": "Black",
                                    "3": "2123",
                                    "4": "4"
                                },
                                {
                                    "0": "855",
                                    "1": "Men's Bib-Shorts, S",
                                    "2": "Multi",
                                    "3": "876",
                                    "4": "3"
                                },
                                {
                                    "0": "856",
                                    "1": "Men's Bib-Shorts, M",
                                    "2": "Multi",
                                    "3": "1616",
                                    "4": "4"
                                },
                                {
                                    "0": "857",
                                    "1": "Men's Bib-Shorts, L",
                                    "2": "Multi",
                                    "3": "633",
                                    "4": "3"
                                },
                                {
                                    "0": "858",
                                    "1": "Half-Finger Gloves, S",
                                    "2": "Black",
                                    "3": "2188",
                                    "4": "2"
                                },
                                {
                                    "0": "859",
                                    "1": "Half-Finger Gloves, M",
                                    "2": "Black",
                                    "3": "3464",
                                    "4": "3"
                                },
                                {
                                    "0": "860",
                                    "1": "Half-Finger Gloves, L",
                                    "2": "Black",
                                    "3": "1276",
                                    "4": "1"
                                },
                                {
                                    "0": "861",
                                    "1": "Full-Finger Gloves, S",
                                    "2": "Black",
                                    "3": "500",
                                    "4": "2"
                                },
                                {
                                    "0": "862",
                                    "1": "Full-Finger Gloves, M",
                                    "2": "Black",
                                    "3": "2206",
                                    "4": "6"
                                },
                                {
                                    "0": "863",
                                    "1": "Full-Finger Gloves, L",
                                    "2": "Black",
                                    "3": "3378",
                                    "4": "9"
                                },
                                {
                                    "0": "864",
                                    "1": "Classic Vest, S",
                                    "2": "Blue",
                                    "3": "4247",
                                    "4": "6"
                                },
                                {
                                    "0": "865",
                                    "1": "Classic Vest, M",
                                    "2": "Blue",
                                    "3": "2284",
                                    "4": "4"
                                },
                                {
                                    "0": "866",
                                    "1": "Classic Vest, L",
                                    "2": "Blue",
                                    "3": "207",
                                    "4": "1"
                                },
                                {
                                    "0": "867",
                                    "1": "Women's Mountain Shorts, S",
                                    "2": "Black",
                                    "3": "3296",
                                    "4": "5"
                                },
                                {
                                    "0": "868",
                                    "1": "Women's Mountain Shorts, M",
                                    "2": "Black",
                                    "3": "1139",
                                    "4": "1"
                                },
                                {
                                    "0": "869",
                                    "1": "Women's Mountain Shorts, L",
                                    "2": "Black",
                                    "3": "3244",
                                    "4": "4"
                                },
                                {
                                    "0": "870",
                                    "1": "Water Bottle - 30 oz.",
                                    "2": "NULL",
                                    "3": "6815",
                                    "4": "1"
                                },
                                {
                                    "0": "871",
                                    "1": "Mountain Bottle Cage",
                                    "2": "NULL",
                                    "3": "2025",
                                    "4": "1"
                                },
                                {
                                    "0": "872",
                                    "1": "Road Bottle Cage",
                                    "2": "NULL",
                                    "3": "1712",
                                    "4": "1"
                                },
                                {
                                    "0": "873",
                                    "1": "Patch Kit/8 Patches",
                                    "2": "NULL",
                                    "3": "3865",
                                    "4": "1"
                                },
                                {
                                    "0": "874",
                                    "1": "Racing Socks, M",
                                    "2": "White",
                                    "3": "1547",
                                    "4": "2"
                                },
                                {
                                    "0": "875",
                                    "1": "Racing Socks, L",
                                    "2": "White",
                                    "3": "2473",
                                    "4": "4"
                                },
                                {
                                    "0": "876",
                                    "1": "Hitch Rack - 4-Bike",
                                    "2": "NULL",
                                    "3": "3166",
                                    "4": "3"
                                },
                                {
                                    "0": "877",
                                    "1": "Bike Wash - Dissolver",
                                    "2": "NULL",
                                    "3": "3319",
                                    "4": "2"
                                },
                                {
                                    "0": "878",
                                    "1": "Fender Set - Mountain",
                                    "2": "NULL",
                                    "3": "2121",
                                    "4": "1"
                                },
                                {
                                    "0": "879",
                                    "1": "All-Purpose Bike Stand",
                                    "2": "NULL",
                                    "3": "249",
                                    "4": "1"
                                },
                                {
                                    "0": "880",
                                    "1": "Hydration Pack - 70 oz.",
                                    "2": "Silver",
                                    "3": "2761",
                                    "4": "2"
                                },
                                {
                                    "0": "881",
                                    "1": "Short-Sleeve Classic Jersey, S",
                                    "2": "Yellow",
                                    "3": "1955",
                                    "4": "2"
                                },
                                {
                                    "0": "882",
                                    "1": "Short-Sleeve Classic Jersey, M",
                                    "2": "Yellow",
                                    "3": "407",
                                    "4": "1"
                                },
                                {
                                    "0": "883",
                                    "1": "Short-Sleeve Classic Jersey, L",
                                    "2": "Yellow",
                                    "3": "2848",
                                    "4": "3"
                                },
                                {
                                    "0": "884",
                                    "1": "Short-Sleeve Classic Jersey, XL",
                                    "2": "Yellow",
                                    "3": "3864",
                                    "4": "4"
                                },
                                {
                                    "0": "885",
                                    "1": "HL Touring Frame - Yellow, 60",
                                    "2": "Yellow",
                                    "3": "387",
                                    "4": "2"
                                },
                                {
                                    "0": "886",
                                    "1": "LL Touring Frame - Yellow, 62",
                                    "2": "Yellow",
                                    "3": "348",
                                    "4": "2"
                                },
                                {
                                    "0": "887",
                                    "1": "HL Touring Frame - Yellow, 46",
                                    "2": "Yellow",
                                    "3": "87",
                                    "4": "2"
                                },
                                {
                                    "0": "888",
                                    "1": "HL Touring Frame - Yellow, 50",
                                    "2": "Yellow",
                                    "3": "83",
                                    "4": "2"
                                },
                                {
                                    "0": "889",
                                    "1": "HL Touring Frame - Yellow, 54",
                                    "2": "Yellow",
                                    "3": "540",
                                    "4": "3"
                                },
                                {
                                    "0": "890",
                                    "1": "HL Touring Frame - Blue, 46",
                                    "2": "Blue",
                                    "3": "114",
                                    "4": "1"
                                },
                                {
                                    "0": "891",
                                    "1": "HL Touring Frame - Blue, 50",
                                    "2": "Blue",
                                    "3": "124",
                                    "4": "2"
                                },
                                {
                                    "0": "892",
                                    "1": "HL Touring Frame - Blue, 54",
                                    "2": "Blue",
                                    "3": "542",
                                    "4": "3"
                                },
                                {
                                    "0": "893",
                                    "1": "HL Touring Frame - Blue, 60",
                                    "2": "Blue",
                                    "3": "371",
                                    "4": "2"
                                },
                                {
                                    "0": "894",
                                    "1": "Rear Derailleur",
                                    "2": "Silver",
                                    "3": "353",
                                    "4": "2"
                                },
                                {
                                    "0": "895",
                                    "1": "LL Touring Frame - Blue, 50",
                                    "2": "Blue",
                                    "3": "316",
                                    "4": "2"
                                },
                                {
                                    "0": "896",
                                    "1": "LL Touring Frame - Blue, 54",
                                    "2": "Blue",
                                    "3": "211",
                                    "4": "2"
                                },
                                {
                                    "0": "897",
                                    "1": "LL Touring Frame - Blue, 58",
                                    "2": "Blue",
                                    "3": "4",
                                    "4": "2"
                                },
                                {
                                    "0": "898",
                                    "1": "LL Touring Frame - Blue, 62",
                                    "2": "Blue",
                                    "3": "15",
                                    "4": "1"
                                },
                                {
                                    "0": "899",
                                    "1": "LL Touring Frame - Yellow, 44",
                                    "2": "Yellow",
                                    "3": "294",
                                    "4": "2"
                                },
                                {
                                    "0": "900",
                                    "1": "LL Touring Frame - Yellow, 50",
                                    "2": "Yellow",
                                    "3": "228",
                                    "4": "2"
                                },
                                {
                                    "0": "902",
                                    "1": "LL Touring Frame - Yellow, 58",
                                    "2": "Yellow",
                                    "3": "36",
                                    "4": "1"
                                },
                                {
                                    "0": "903",
                                    "1": "LL Touring Frame - Blue, 44",
                                    "2": "Blue",
                                    "3": "25",
                                    "4": "1"
                                },
                                {
                                    "0": "904",
                                    "1": "ML Mountain Frame-W - Silver, 40",
                                    "2": "Silver",
                                    "3": "899",
                                    "4": "3"
                                },
                                {
                                    "0": "905",
                                    "1": "ML Mountain Frame-W - Silver, 42",
                                    "2": "Silver",
                                    "3": "627",
                                    "4": "2"
                                },
                                {
                                    "0": "906",
                                    "1": "ML Mountain Frame-W - Silver, 46",
                                    "2": "Silver",
                                    "3": "188",
                                    "4": "2"
                                },
                                {
                                    "0": "907",
                                    "1": "Rear Brakes",
                                    "2": "Silver",
                                    "3": "246",
                                    "4": "2"
                                },
                                {
                                    "0": "908",
                                    "1": "LL Mountain Seat/Saddle",
                                    "2": "NULL",
                                    "3": "347",
                                    "4": "2"
                                },
                                {
                                    "0": "909",
                                    "1": "ML Mountain Seat/Saddle",
                                    "2": "NULL",
                                    "3": "534",
                                    "4": "3"
                                },
                                {
                                    "0": "910",
                                    "1": "HL Mountain Seat/Saddle",
                                    "2": "NULL",
                                    "3": "519",
                                    "4": "2"
                                },
                                {
                                    "0": "911",
                                    "1": "LL Road Seat/Saddle",
                                    "2": "NULL",
                                    "3": "10",
                                    "4": "1"
                                },
                                {
                                    "0": "913",
                                    "1": "HL Road Seat/Saddle",
                                    "2": "NULL",
                                    "3": "134",
                                    "4": "2"
                                },
                                {
                                    "0": "914",
                                    "1": "LL Touring Seat/Saddle",
                                    "2": "NULL",
                                    "3": "91",
                                    "4": "2"
                                },
                                {
                                    "0": "915",
                                    "1": "ML Touring Seat/Saddle",
                                    "2": "NULL",
                                    "3": "84",
                                    "4": "2"
                                },
                                {
                                    "0": "916",
                                    "1": "HL Touring Seat/Saddle",
                                    "2": "NULL",
                                    "3": "426",
                                    "4": "2"
                                },
                                {
                                    "0": "917",
                                    "1": "LL Mountain Frame - Silver, 42",
                                    "2": "Silver",
                                    "3": "638",
                                    "4": "2"
                                },
                                {
                                    "0": "918",
                                    "1": "LL Mountain Frame - Silver, 44",
                                    "2": "Silver",
                                    "3": "371",
                                    "4": "2"
                                },
                                {
                                    "0": "919",
                                    "1": "LL Mountain Frame - Silver, 48",
                                    "2": "Silver",
                                    "3": "44",
                                    "4": "2"
                                },
                                {
                                    "0": "920",
                                    "1": "LL Mountain Frame - Silver, 52",
                                    "2": "Silver",
                                    "3": "425",
                                    "4": "2"
                                },
                                {
                                    "0": "921",
                                    "1": "Mountain Tire Tube",
                                    "2": "NULL",
                                    "3": "3095",
                                    "4": "1"
                                },
                                {
                                    "0": "922",
                                    "1": "Road Tire Tube",
                                    "2": "NULL",
                                    "3": "2376",
                                    "4": "1"
                                },
                                {
                                    "0": "923",
                                    "1": "Touring Tire Tube",
                                    "2": "NULL",
                                    "3": "1488",
                                    "4": "1"
                                },
                                {
                                    "0": "924",
                                    "1": "LL Mountain Frame - Black, 42",
                                    "2": "Black",
                                    "3": "423",
                                    "4": "2"
                                },
                                {
                                    "0": "925",
                                    "1": "LL Mountain Frame - Black, 44",
                                    "2": "Black",
                                    "3": "625",
                                    "4": "2"
                                },
                                {
                                    "0": "926",
                                    "1": "LL Mountain Frame - Black, 48",
                                    "2": "Black",
                                    "3": "386",
                                    "4": "2"
                                },
                                {
                                    "0": "927",
                                    "1": "LL Mountain Frame - Black, 52",
                                    "2": "Black",
                                    "3": "15",
                                    "4": "1"
                                },
                                {
                                    "0": "928",
                                    "1": "LL Mountain Tire",
                                    "2": "NULL",
                                    "3": "862",
                                    "4": "1"
                                },
                                {
                                    "0": "929",
                                    "1": "ML Mountain Tire",
                                    "2": "NULL",
                                    "3": "1161",
                                    "4": "1"
                                },
                                {
                                    "0": "930",
                                    "1": "HL Mountain Tire",
                                    "2": "NULL",
                                    "3": "1396",
                                    "4": "1"
                                },
                                {
                                    "0": "931",
                                    "1": "LL Road Tire",
                                    "2": "NULL",
                                    "3": "1044",
                                    "4": "1"
                                },
                                {
                                    "0": "932",
                                    "1": "ML Road Tire",
                                    "2": "NULL",
                                    "3": "926",
                                    "4": "1"
                                },
                                {
                                    "0": "933",
                                    "1": "HL Road Tire",
                                    "2": "NULL",
                                    "3": "858",
                                    "4": "1"
                                },
                                {
                                    "0": "934",
                                    "1": "Touring Tire",
                                    "2": "NULL",
                                    "3": "935",
                                    "4": "1"
                                },
                                {
                                    "0": "935",
                                    "1": "LL Mountain Pedal",
                                    "2": "Silver/Black",
                                    "3": "449",
                                    "4": "2"
                                },
                                {
                                    "0": "936",
                                    "1": "ML Mountain Pedal",
                                    "2": "Silver/Black",
                                    "3": "345",
                                    "4": "2"
                                },
                                {
                                    "0": "937",
                                    "1": "HL Mountain Pedal",
                                    "2": "Silver/Black",
                                    "3": "785",
                                    "4": "3"
                                },
                                {
                                    "0": "938",
                                    "1": "LL Road Pedal",
                                    "2": "Silver/Black",
                                    "3": "868",
                                    "4": "2"
                                },
                                {
                                    "0": "939",
                                    "1": "ML Road Pedal",
                                    "2": "Silver/Black",
                                    "3": "661",
                                    "4": "2"
                                },
                                {
                                    "0": "940",
                                    "1": "HL Road Pedal",
                                    "2": "Silver/Black",
                                    "3": "676",
                                    "4": "2"
                                },
                                {
                                    "0": "941",
                                    "1": "Touring Pedal",
                                    "2": "Silver/Black",
                                    "3": "147",
                                    "4": "2"
                                },
                                {
                                    "0": "942",
                                    "1": "ML Mountain Frame-W - Silver, 38",
                                    "2": "Silver",
                                    "3": "7",
                                    "4": "1"
                                },
                                {
                                    "0": "943",
                                    "1": "LL Mountain Frame - Black, 40",
                                    "2": "Black",
                                    "3": "8",
                                    "4": "1"
                                },
                                {
                                    "0": "944",
                                    "1": "LL Mountain Frame - Silver, 40",
                                    "2": "Silver",
                                    "3": "442",
                                    "4": "2"
                                },
                                {
                                    "0": "945",
                                    "1": "Front Derailleur",
                                    "2": "Silver",
                                    "3": "813",
                                    "4": "3"
                                },
                                {
                                    "0": "946",
                                    "1": "LL Touring Handlebars",
                                    "2": "NULL",
                                    "3": "56",
                                    "4": "1"
                                },
                                {
                                    "0": "947",
                                    "1": "HL Touring Handlebars",
                                    "2": "NULL",
                                    "3": "220",
                                    "4": "2"
                                },
                                {
                                    "0": "948",
                                    "1": "Front Brakes",
                                    "2": "Silver",
                                    "3": "789",
                                    "4": "2"
                                },
                                {
                                    "0": "949",
                                    "1": "LL Crankset",
                                    "2": "Black",
                                    "3": "426",
                                    "4": "2"
                                },
                                {
                                    "0": "950",
                                    "1": "ML Crankset",
                                    "2": "Black",
                                    "3": "68",
                                    "4": "2"
                                },
                                {
                                    "0": "951",
                                    "1": "HL Crankset",
                                    "2": "Black",
                                    "3": "613",
                                    "4": "2"
                                },
                                {
                                    "0": "952",
                                    "1": "Chain",
                                    "2": "Silver",
                                    "3": "774",
                                    "4": "3"
                                },
                                {
                                    "0": "953",
                                    "1": "Touring-2000 Blue, 60",
                                    "2": "Blue",
                                    "3": "820",
                                    "4": "2"
                                },
                                {
                                    "0": "954",
                                    "1": "Touring-1000 Yellow, 46",
                                    "2": "Yellow",
                                    "3": "1005",
                                    "4": "2"
                                },
                                {
                                    "0": "955",
                                    "1": "Touring-1000 Yellow, 50",
                                    "2": "Yellow",
                                    "3": "652",
                                    "4": "1"
                                },
                                {
                                    "0": "956",
                                    "1": "Touring-1000 Yellow, 54",
                                    "2": "Yellow",
                                    "3": "397",
                                    "4": "1"
                                },
                                {
                                    "0": "957",
                                    "1": "Touring-1000 Yellow, 60",
                                    "2": "Yellow",
                                    "3": "1114",
                                    "4": "2"
                                },
                                {
                                    "0": "958",
                                    "1": "Touring-3000 Blue, 54",
                                    "2": "Blue",
                                    "3": "686",
                                    "4": "2"
                                },
                                {
                                    "0": "959",
                                    "1": "Touring-3000 Blue, 58",
                                    "2": "Blue",
                                    "3": "482",
                                    "4": "2"
                                },
                                {
                                    "0": "960",
                                    "1": "Touring-3000 Blue, 62",
                                    "2": "Blue",
                                    "3": "281",
                                    "4": "1"
                                },
                                {
                                    "0": "961",
                                    "1": "Touring-3000 Yellow, 44",
                                    "2": "Yellow",
                                    "3": "851",
                                    "4": "2"
                                },
                                {
                                    "0": "962",
                                    "1": "Touring-3000 Yellow, 50",
                                    "2": "Yellow",
                                    "3": "686",
                                    "4": "2"
                                },
                                {
                                    "0": "963",
                                    "1": "Touring-3000 Yellow, 54",
                                    "2": "Yellow",
                                    "3": "453",
                                    "4": "1"
                                },
                                {
                                    "0": "964",
                                    "1": "Touring-3000 Yellow, 58",
                                    "2": "Yellow",
                                    "3": "293",
                                    "4": "1"
                                },
                                {
                                    "0": "965",
                                    "1": "Touring-3000 Yellow, 62",
                                    "2": "Yellow",
                                    "3": "844",
                                    "4": "2"
                                },
                                {
                                    "0": "966",
                                    "1": "Touring-1000 Blue, 46",
                                    "2": "Blue",
                                    "3": "1002",
                                    "4": "2"
                                },
                                {
                                    "0": "967",
                                    "1": "Touring-1000 Blue, 50",
                                    "2": "Blue",
                                    "3": "649",
                                    "4": "1"
                                },
                                {
                                    "0": "968",
                                    "1": "Touring-1000 Blue, 54",
                                    "2": "Blue",
                                    "3": "413",
                                    "4": "1"
                                },
                                {
                                    "0": "969",
                                    "1": "Touring-1000 Blue, 60",
                                    "2": "Blue",
                                    "3": "1120",
                                    "4": "2"
                                },
                                {
                                    "0": "970",
                                    "1": "Touring-2000 Blue, 46",
                                    "2": "Blue",
                                    "3": "538",
                                    "4": "1"
                                },
                                {
                                    "0": "971",
                                    "1": "Touring-2000 Blue, 50",
                                    "2": "Blue",
                                    "3": "322",
                                    "4": "1"
                                },
                                {
                                    "0": "972",
                                    "1": "Touring-2000 Blue, 54",
                                    "2": "Blue",
                                    "3": "1010",
                                    "4": "2"
                                },
                                {
                                    "0": "973",
                                    "1": "Road-350-W Yellow, 40",
                                    "2": "Yellow",
                                    "3": "1477",
                                    "4": "2"
                                },
                                {
                                    "0": "974",
                                    "1": "Road-350-W Yellow, 42",
                                    "2": "Yellow",
                                    "3": "944",
                                    "4": "2"
                                },
                                {
                                    "0": "975",
                                    "1": "Road-350-W Yellow, 44",
                                    "2": "Yellow",
                                    "3": "536",
                                    "4": "1"
                                },
                                {
                                    "0": "976",
                                    "1": "Road-350-W Yellow, 48",
                                    "2": "Yellow",
                                    "3": "1622",
                                    "4": "2"
                                },
                                {
                                    "0": "977",
                                    "1": "Road-750 Black, 58",
                                    "2": "Black",
                                    "3": "892",
                                    "4": "1"
                                },
                                {
                                    "0": "978",
                                    "1": "Touring-3000 Blue, 44",
                                    "2": "Blue",
                                    "3": "292",
                                    "4": "1"
                                },
                                {
                                    "0": "979",
                                    "1": "Touring-3000 Blue, 50",
                                    "2": "Blue",
                                    "3": "841",
                                    "4": "2"
                                },
                                {
                                    "0": "980",
                                    "1": "Mountain-400-W Silver, 38",
                                    "2": "Silver",
                                    "3": "425",
                                    "4": "1"
                                },
                                {
                                    "0": "981",
                                    "1": "Mountain-400-W Silver, 40",
                                    "2": "Silver",
                                    "3": "617",
                                    "4": "2"
                                },
                                {
                                    "0": "982",
                                    "1": "Mountain-400-W Silver, 42",
                                    "2": "Silver",
                                    "3": "385",
                                    "4": "1"
                                },
                                {
                                    "0": "983",
                                    "1": "Mountain-400-W Silver, 46",
                                    "2": "Silver",
                                    "3": "401",
                                    "4": "1"
                                },
                                {
                                    "0": "984",
                                    "1": "Mountain-500 Silver, 40",
                                    "2": "Silver",
                                    "3": "450",
                                    "4": "2"
                                },
                                {
                                    "0": "985",
                                    "1": "Mountain-500 Silver, 42",
                                    "2": "Silver",
                                    "3": "455",
                                    "4": "2"
                                },
                                {
                                    "0": "986",
                                    "1": "Mountain-500 Silver, 44",
                                    "2": "Silver",
                                    "3": "381",
                                    "4": "1"
                                },
                                {
                                    "0": "987",
                                    "1": "Mountain-500 Silver, 48",
                                    "2": "Silver",
                                    "3": "457",
                                    "4": "2"
                                },
                                {
                                    "0": "988",
                                    "1": "Mountain-500 Silver, 52",
                                    "2": "Silver",
                                    "3": "515",
                                    "4": "2"
                                },
                                {
                                    "0": "989",
                                    "1": "Mountain-500 Black, 40",
                                    "2": "Black",
                                    "3": "282",
                                    "4": "1"
                                },
                                {
                                    "0": "990",
                                    "1": "Mountain-500 Black, 42",
                                    "2": "Black",
                                    "3": "388",
                                    "4": "1"
                                },
                                {
                                    "0": "991",
                                    "1": "Mountain-500 Black, 44",
                                    "2": "Black",
                                    "3": "350",
                                    "4": "1"
                                },
                                {
                                    "0": "992",
                                    "1": "Mountain-500 Black, 48",
                                    "2": "Black",
                                    "3": "449",
                                    "4": "1"
                                },
                                {
                                    "0": "993",
                                    "1": "Mountain-500 Black, 52",
                                    "2": "Black",
                                    "3": "272",
                                    "4": "1"
                                },
                                {
                                    "0": "994",
                                    "1": "LL Bottom Bracket",
                                    "2": "NULL",
                                    "3": "378",
                                    "4": "2"
                                },
                                {
                                    "0": "996",
                                    "1": "HL Bottom Bracket",
                                    "2": "NULL",
                                    "3": "543",
                                    "4": "2"
                                },
                                {
                                    "0": "997",
                                    "1": "Road-750 Black, 44",
                                    "2": "Black",
                                    "3": "656",
                                    "4": "1"
                                },
                                {
                                    "0": "998",
                                    "1": "Road-750 Black, 48",
                                    "2": "Black",
                                    "3": "1556",
                                    "4": "2"
                                },
                                {
                                    "0": "999",
                                    "1": "Road-750 Black, 52",
                                    "2": "Black",
                                    "3": "1338",
                                    "4": "1"
                                }
                            ]
                        },
                        "text/html": [
                            "<table>",
                            "<tr><th>ProductID</th><th>Name</th><th>Color</th><th>TotalQty</th><th>AveOrderQty</th></tr>",
                            "<tr><td>707</td><td>Sport-100 Helmet, Red</td><td>Red</td><td>6266</td><td>2</td></tr>",
                            "<tr><td>708</td><td>Sport-100 Helmet, Black</td><td>Black</td><td>6532</td><td>2</td></tr>",
                            "<tr><td>709</td><td>Mountain Bike Socks, M</td><td>White</td><td>1107</td><td>5</td></tr>",
                            "<tr><td>710</td><td>Mountain Bike Socks, L</td><td>White</td><td>90</td><td>2</td></tr>",
                            "<tr><td>711</td><td>Sport-100 Helmet, Blue</td><td>Blue</td><td>6743</td><td>2</td></tr>",
                            "<tr><td>712</td><td>AWC Logo Cap</td><td>Multi</td><td>8311</td><td>2</td></tr>",
                            "<tr><td>713</td><td>Long-Sleeve Logo Jersey, S</td><td>Multi</td><td>429</td><td>1</td></tr>",
                            "<tr><td>714</td><td>Long-Sleeve Logo Jersey, M</td><td>Multi</td><td>3636</td><td>2</td></tr>",
                            "<tr><td>715</td><td>Long-Sleeve Logo Jersey, L</td><td>Multi</td><td>6592</td><td>4</td></tr>",
                            "<tr><td>716</td><td>Long-Sleeve Logo Jersey, XL</td><td>Multi</td><td>2980</td><td>2</td></tr>",
                            "<tr><td>717</td><td>HL Road Frame - Red, 62</td><td>Red</td><td>485</td><td>2</td></tr>",
                            "<tr><td>718</td><td>HL Road Frame - Red, 44</td><td>Red</td><td>486</td><td>2</td></tr>",
                            "<tr><td>719</td><td>HL Road Frame - Red, 48</td><td>Red</td><td>109</td><td>2</td></tr>",
                            "<tr><td>722</td><td>LL Road Frame - Black, 58</td><td>Black</td><td>940</td><td>2</td></tr>",
                            "<tr><td>723</td><td>LL Road Frame - Black, 60</td><td>Black</td><td>129</td><td>2</td></tr>",
                            "<tr><td>725</td><td>LL Road Frame - Red, 44</td><td>Red</td><td>991</td><td>2</td></tr>",
                            "<tr><td>726</td><td>LL Road Frame - Red, 48</td><td>Red</td><td>671</td><td>2</td></tr>",
                            "<tr><td>727</td><td>LL Road Frame - Red, 52</td><td>Red</td><td>100</td><td>2</td></tr>",
                            "<tr><td>729</td><td>LL Road Frame - Red, 60</td><td>Red</td><td>996</td><td>2</td></tr>",
                            "<tr><td>730</td><td>LL Road Frame - Red, 62</td><td>Red</td><td>697</td><td>2</td></tr>",
                            "<tr><td>732</td><td>ML Road Frame - Red, 48</td><td>Red</td><td>250</td><td>1</td></tr>",
                            "<tr><td>733</td><td>ML Road Frame - Red, 52</td><td>Red</td><td>90</td><td>2</td></tr>",
                            "<tr><td>736</td><td>LL Road Frame - Black, 44</td><td>Black</td><td>238</td><td>2</td></tr>",
                            "<tr><td>738</td><td>LL Road Frame - Black, 52</td><td>Black</td><td>1581</td><td>2</td></tr>",
                            "<tr><td>739</td><td>HL Mountain Frame - Silver, 42</td><td>Silver</td><td>347</td><td>2</td></tr>",
                            "<tr><td>741</td><td>HL Mountain Frame - Silver, 48</td><td>Silver</td><td>173</td><td>1</td></tr>",
                            "<tr><td>742</td><td>HL Mountain Frame - Silver, 46</td><td>Silver</td><td>649</td><td>2</td></tr>",
                            "<tr><td>743</td><td>HL Mountain Frame - Black, 42</td><td>Black</td><td>1181</td><td>2</td></tr>",
                            "<tr><td>744</td><td>HL Mountain Frame - Black, 44</td><td>Black</td><td>17</td><td>1</td></tr>",
                            "<tr><td>745</td><td>HL Mountain Frame - Black, 48</td><td>Black</td><td>131</td><td>1</td></tr>",
                            "<tr><td>747</td><td>HL Mountain Frame - Black, 38</td><td>Black</td><td>659</td><td>2</td></tr>",
                            "<tr><td>748</td><td>HL Mountain Frame - Silver, 38</td><td>Silver</td><td>1206</td><td>2</td></tr>",
                            "<tr><td>749</td><td>Road-150 Red, 62</td><td>Red</td><td>600</td><td>1</td></tr>",
                            "<tr><td>750</td><td>Road-150 Red, 44</td><td>Red</td><td>437</td><td>1</td></tr>",
                            "<tr><td>751</td><td>Road-150 Red, 48</td><td>Red</td><td>493</td><td>1</td></tr>",
                            "<tr><td>752</td><td>Road-150 Red, 52</td><td>Red</td><td>458</td><td>1</td></tr>",
                            "<tr><td>753</td><td>Road-150 Red, 56</td><td>Red</td><td>664</td><td>1</td></tr>",
                            "<tr><td>754</td><td>Road-450 Red, 58</td><td>Red</td><td>582</td><td>2</td></tr>",
                            "<tr><td>755</td><td>Road-450 Red, 60</td><td>Red</td><td>350</td><td>2</td></tr>",
                            "<tr><td>756</td><td>Road-450 Red, 44</td><td>Red</td><td>346</td><td>2</td></tr>",
                            "<tr><td>757</td><td>Road-450 Red, 48</td><td>Red</td><td>156</td><td>2</td></tr>",
                            "<tr><td>758</td><td>Road-450 Red, 52</td><td>Red</td><td>710</td><td>2</td></tr>",
                            "<tr><td>759</td><td>Road-650 Red, 58</td><td>Red</td><td>618</td><td>2</td></tr>",
                            "<tr><td>760</td><td>Road-650 Red, 60</td><td>Red</td><td>2232</td><td>3</td></tr>",
                            "<tr><td>761</td><td>Road-650 Red, 62</td><td>Red</td><td>1896</td><td>2</td></tr>",
                            "<tr><td>762</td><td>Road-650 Red, 44</td><td>Red</td><td>2254</td><td>3</td></tr>",
                            "<tr><td>763</td><td>Road-650 Red, 48</td><td>Red</td><td>1888</td><td>2</td></tr>",
                            "<tr><td>764</td><td>Road-650 Red, 52</td><td>Red</td><td>1112</td><td>2</td></tr>",
                            "<tr><td>765</td><td>Road-650 Black, 58</td><td>Black</td><td>1871</td><td>2</td></tr>",
                            "<tr><td>766</td><td>Road-650 Black, 60</td><td>Black</td><td>1100</td><td>2</td></tr>",
                            "<tr><td>767</td><td>Road-650 Black, 62</td><td>Black</td><td>644</td><td>2</td></tr>",
                            "<tr><td>768</td><td>Road-650 Black, 44</td><td>Black</td><td>1080</td><td>2</td></tr>",
                            "<tr><td>769</td><td>Road-650 Black, 48</td><td>Black</td><td>644</td><td>2</td></tr>",
                            "<tr><td>770</td><td>Road-650 Black, 52</td><td>Black</td><td>2270</td><td>3</td></tr>",
                            "<tr><td>771</td><td>Mountain-100 Silver, 38</td><td>Silver</td><td>642</td><td>2</td></tr>",
                            "<tr><td>772</td><td>Mountain-100 Silver, 42</td><td>Silver</td><td>593</td><td>2</td></tr>",
                            "<tr><td>773</td><td>Mountain-100 Silver, 44</td><td>Silver</td><td>601</td><td>2</td></tr>",
                            "<tr><td>774</td><td>Mountain-100 Silver, 48</td><td>Silver</td><td>505</td><td>2</td></tr>",
                            "<tr><td>775</td><td>Mountain-100 Black, 38</td><td>Black</td><td>682</td><td>2</td></tr>",
                            "<tr><td>776</td><td>Mountain-100 Black, 42</td><td>Black</td><td>634</td><td>2</td></tr>",
                            "<tr><td>777</td><td>Mountain-100 Black, 44</td><td>Black</td><td>678</td><td>2</td></tr>",
                            "<tr><td>778</td><td>Mountain-100 Black, 48</td><td>Black</td><td>616</td><td>2</td></tr>",
                            "<tr><td>779</td><td>Mountain-200 Silver, 38</td><td>Silver</td><td>2394</td><td>2</td></tr>",
                            "<tr><td>780</td><td>Mountain-200 Silver, 42</td><td>Silver</td><td>2234</td><td>2</td></tr>",
                            "<tr><td>781</td><td>Mountain-200 Silver, 46</td><td>Silver</td><td>2216</td><td>2</td></tr>",
                            "<tr><td>782</td><td>Mountain-200 Black, 38</td><td>Black</td><td>2977</td><td>2</td></tr>",
                            "<tr><td>783</td><td>Mountain-200 Black, 42</td><td>Black</td><td>2664</td><td>2</td></tr>",
                            "<tr><td>784</td><td>Mountain-200 Black, 46</td><td>Black</td><td>2111</td><td>1</td></tr>",
                            "<tr><td>785</td><td>Mountain-300 Black, 38</td><td>Black</td><td>684</td><td>3</td></tr>",
                            "<tr><td>786</td><td>Mountain-300 Black, 40</td><td>Black</td><td>776</td><td>3</td></tr>",
                            "<tr><td>787</td><td>Mountain-300 Black, 44</td><td>Black</td><td>747</td><td>3</td></tr>",
                            "<tr><td>788</td><td>Mountain-300 Black, 48</td><td>Black</td><td>740</td><td>3</td></tr>",
                            "<tr><td>789</td><td>Road-250 Red, 44</td><td>Red</td><td>895</td><td>2</td></tr>",
                            "<tr><td>790</td><td>Road-250 Red, 48</td><td>Red</td><td>812</td><td>2</td></tr>",
                            "<tr><td>791</td><td>Road-250 Red, 52</td><td>Red</td><td>639</td><td>2</td></tr>",
                            "<tr><td>792</td><td>Road-250 Red, 58</td><td>Red</td><td>946</td><td>1</td></tr>",
                            "<tr><td>793</td><td>Road-250 Black, 44</td><td>Black</td><td>1642</td><td>2</td></tr>",
                            "<tr><td>794</td><td>Road-250 Black, 48</td><td>Black</td><td>1498</td><td>2</td></tr>",
                            "<tr><td>795</td><td>Road-250 Black, 52</td><td>Black</td><td>1245</td><td>1</td></tr>",
                            "<tr><td>796</td><td>Road-250 Black, 58</td><td>Black</td><td>910</td><td>1</td></tr>",
                            "<tr><td>797</td><td>Road-550-W Yellow, 38</td><td>Yellow</td><td>1744</td><td>2</td></tr>",
                            "<tr><td>798</td><td>Road-550-W Yellow, 40</td><td>Yellow</td><td>1500</td><td>2</td></tr>",
                            "<tr><td>799</td><td>Road-550-W Yellow, 42</td><td>Yellow</td><td>1249</td><td>1</td></tr>",
                            "<tr><td>800</td><td>Road-550-W Yellow, 44</td><td>Yellow</td><td>927</td><td>1</td></tr>",
                            "<tr><td>801</td><td>Road-550-W Yellow, 48</td><td>Yellow</td><td>1763</td><td>2</td></tr>",
                            "<tr><td>802</td><td>LL Fork</td><td>NULL</td><td>190</td><td>2</td></tr>",
                            "<tr><td>804</td><td>HL Fork</td><td>NULL</td><td>444</td><td>3</td></tr>",
                            "<tr><td>805</td><td>LL Headset</td><td>NULL</td><td>95</td><td>2</td></tr>",
                            "<tr><td>806</td><td>ML Headset</td><td>NULL</td><td>659</td><td>5</td></tr>",
                            "<tr><td>807</td><td>HL Headset</td><td>NULL</td><td>255</td><td>2</td></tr>",
                            "<tr><td>808</td><td>LL Mountain Handlebars</td><td>NULL</td><td>865</td><td>2</td></tr>",
                            "<tr><td>809</td><td>ML Mountain Handlebars</td><td>NULL</td><td>1465</td><td>2</td></tr>",
                            "<tr><td>810</td><td>HL Mountain Handlebars</td><td>NULL</td><td>500</td><td>2</td></tr>",
                            "<tr><td>811</td><td>LL Road Handlebars</td><td>NULL</td><td>213</td><td>2</td></tr>",
                            "<tr><td>813</td><td>HL Road Handlebars</td><td>NULL</td><td>631</td><td>2</td></tr>",
                            "<tr><td>814</td><td>ML Mountain Frame - Black, 38</td><td>Black</td><td>514</td><td>2</td></tr>",
                            "<tr><td>815</td><td>LL Mountain Front Wheel</td><td>Black</td><td>617</td><td>2</td></tr>",
                            "<tr><td>816</td><td>ML Mountain Front Wheel</td><td>Black</td><td>266</td><td>2</td></tr>",
                            "<tr><td>817</td><td>HL Mountain Front Wheel</td><td>Black</td><td>222</td><td>2</td></tr>",
                            "<tr><td>819</td><td>ML Road Front Wheel</td><td>Black</td><td>532</td><td>2</td></tr>",
                            "<tr><td>820</td><td>HL Road Front Wheel</td><td>Black</td><td>567</td><td>2</td></tr>",
                            "<tr><td>822</td><td>ML Road Frame-W - Yellow, 38</td><td>Yellow</td><td>895</td><td>2</td></tr>",
                            "<tr><td>823</td><td>LL Mountain Rear Wheel</td><td>Black</td><td>342</td><td>2</td></tr>",
                            "<tr><td>824</td><td>ML Mountain Rear Wheel</td><td>Black</td><td>851</td><td>3</td></tr>",
                            "<tr><td>825</td><td>HL Mountain Rear Wheel</td><td>Black</td><td>850</td><td>3</td></tr>",
                            "<tr><td>826</td><td>LL Road Rear Wheel</td><td>Black</td><td>868</td><td>2</td></tr>",
                            "<tr><td>827</td><td>ML Road Rear Wheel</td><td>Black</td><td>64</td><td>2</td></tr>",
                            "<tr><td>828</td><td>HL Road Rear Wheel</td><td>Black</td><td>94</td><td>2</td></tr>",
                            "<tr><td>830</td><td>ML Mountain Frame - Black, 40</td><td>Black</td><td>68</td><td>2</td></tr>",
                            "<tr><td>831</td><td>ML Mountain Frame - Black, 44</td><td>Black</td><td>619</td><td>3</td></tr>",
                            "<tr><td>832</td><td>ML Mountain Frame - Black, 48</td><td>Black</td><td>959</td><td>3</td></tr>",
                            "<tr><td>833</td><td>ML Road Frame-W - Yellow, 40</td><td>Yellow</td><td>203</td><td>2</td></tr>",
                            "<tr><td>835</td><td>ML Road Frame-W - Yellow, 44</td><td>Yellow</td><td>1435</td><td>2</td></tr>",
                            "<tr><td>836</td><td>ML Road Frame-W - Yellow, 48</td><td>Yellow</td><td>889</td><td>2</td></tr>",
                            "<tr><td>838</td><td>HL Road Frame - Black, 44</td><td>Black</td><td>459</td><td>2</td></tr>",
                            "<tr><td>839</td><td>HL Road Frame - Black, 48</td><td>Black</td><td>109</td><td>2</td></tr>",
                            "<tr><td>841</td><td>Men's Sports Shorts, S</td><td>Black</td><td>567</td><td>3</td></tr>",
                            "<tr><td>843</td><td>Cable Lock</td><td>NULL</td><td>1087</td><td>4</td></tr>",
                            "<tr><td>844</td><td>Minipump</td><td>NULL</td><td>1130</td><td>4</td></tr>",
                            "<tr><td>849</td><td>Men's Sports Shorts, M</td><td>Black</td><td>1276</td><td>4</td></tr>",
                            "<tr><td>850</td><td>Men's Sports Shorts, L</td><td>Black</td><td>445</td><td>3</td></tr>",
                            "<tr><td>852</td><td>Women's Tights, S</td><td>Black</td><td>2072</td><td>4</td></tr>",
                            "<tr><td>853</td><td>Women's Tights, M</td><td>Black</td><td>394</td><td>3</td></tr>",
                            "<tr><td>854</td><td>Women's Tights, L</td><td>Black</td><td>2123</td><td>4</td></tr>",
                            "<tr><td>855</td><td>Men's Bib-Shorts, S</td><td>Multi</td><td>876</td><td>3</td></tr>",
                            "<tr><td>856</td><td>Men's Bib-Shorts, M</td><td>Multi</td><td>1616</td><td>4</td></tr>",
                            "<tr><td>857</td><td>Men's Bib-Shorts, L</td><td>Multi</td><td>633</td><td>3</td></tr>",
                            "<tr><td>858</td><td>Half-Finger Gloves, S</td><td>Black</td><td>2188</td><td>2</td></tr>",
                            "<tr><td>859</td><td>Half-Finger Gloves, M</td><td>Black</td><td>3464</td><td>3</td></tr>",
                            "<tr><td>860</td><td>Half-Finger Gloves, L</td><td>Black</td><td>1276</td><td>1</td></tr>",
                            "<tr><td>861</td><td>Full-Finger Gloves, S</td><td>Black</td><td>500</td><td>2</td></tr>",
                            "<tr><td>862</td><td>Full-Finger Gloves, M</td><td>Black</td><td>2206</td><td>6</td></tr>",
                            "<tr><td>863</td><td>Full-Finger Gloves, L</td><td>Black</td><td>3378</td><td>9</td></tr>",
                            "<tr><td>864</td><td>Classic Vest, S</td><td>Blue</td><td>4247</td><td>6</td></tr>",
                            "<tr><td>865</td><td>Classic Vest, M</td><td>Blue</td><td>2284</td><td>4</td></tr>",
                            "<tr><td>866</td><td>Classic Vest, L</td><td>Blue</td><td>207</td><td>1</td></tr>",
                            "<tr><td>867</td><td>Women's Mountain Shorts, S</td><td>Black</td><td>3296</td><td>5</td></tr>",
                            "<tr><td>868</td><td>Women's Mountain Shorts, M</td><td>Black</td><td>1139</td><td>1</td></tr>",
                            "<tr><td>869</td><td>Women's Mountain Shorts, L</td><td>Black</td><td>3244</td><td>4</td></tr>",
                            "<tr><td>870</td><td>Water Bottle - 30 oz.</td><td>NULL</td><td>6815</td><td>1</td></tr>",
                            "<tr><td>871</td><td>Mountain Bottle Cage</td><td>NULL</td><td>2025</td><td>1</td></tr>",
                            "<tr><td>872</td><td>Road Bottle Cage</td><td>NULL</td><td>1712</td><td>1</td></tr>",
                            "<tr><td>873</td><td>Patch Kit/8 Patches</td><td>NULL</td><td>3865</td><td>1</td></tr>",
                            "<tr><td>874</td><td>Racing Socks, M</td><td>White</td><td>1547</td><td>2</td></tr>",
                            "<tr><td>875</td><td>Racing Socks, L</td><td>White</td><td>2473</td><td>4</td></tr>",
                            "<tr><td>876</td><td>Hitch Rack - 4-Bike</td><td>NULL</td><td>3166</td><td>3</td></tr>",
                            "<tr><td>877</td><td>Bike Wash - Dissolver</td><td>NULL</td><td>3319</td><td>2</td></tr>",
                            "<tr><td>878</td><td>Fender Set - Mountain</td><td>NULL</td><td>2121</td><td>1</td></tr>",
                            "<tr><td>879</td><td>All-Purpose Bike Stand</td><td>NULL</td><td>249</td><td>1</td></tr>",
                            "<tr><td>880</td><td>Hydration Pack - 70 oz.</td><td>Silver</td><td>2761</td><td>2</td></tr>",
                            "<tr><td>881</td><td>Short-Sleeve Classic Jersey, S</td><td>Yellow</td><td>1955</td><td>2</td></tr>",
                            "<tr><td>882</td><td>Short-Sleeve Classic Jersey, M</td><td>Yellow</td><td>407</td><td>1</td></tr>",
                            "<tr><td>883</td><td>Short-Sleeve Classic Jersey, L</td><td>Yellow</td><td>2848</td><td>3</td></tr>",
                            "<tr><td>884</td><td>Short-Sleeve Classic Jersey, XL</td><td>Yellow</td><td>3864</td><td>4</td></tr>",
                            "<tr><td>885</td><td>HL Touring Frame - Yellow, 60</td><td>Yellow</td><td>387</td><td>2</td></tr>",
                            "<tr><td>886</td><td>LL Touring Frame - Yellow, 62</td><td>Yellow</td><td>348</td><td>2</td></tr>",
                            "<tr><td>887</td><td>HL Touring Frame - Yellow, 46</td><td>Yellow</td><td>87</td><td>2</td></tr>",
                            "<tr><td>888</td><td>HL Touring Frame - Yellow, 50</td><td>Yellow</td><td>83</td><td>2</td></tr>",
                            "<tr><td>889</td><td>HL Touring Frame - Yellow, 54</td><td>Yellow</td><td>540</td><td>3</td></tr>",
                            "<tr><td>890</td><td>HL Touring Frame - Blue, 46</td><td>Blue</td><td>114</td><td>1</td></tr>",
                            "<tr><td>891</td><td>HL Touring Frame - Blue, 50</td><td>Blue</td><td>124</td><td>2</td></tr>",
                            "<tr><td>892</td><td>HL Touring Frame - Blue, 54</td><td>Blue</td><td>542</td><td>3</td></tr>",
                            "<tr><td>893</td><td>HL Touring Frame - Blue, 60</td><td>Blue</td><td>371</td><td>2</td></tr>",
                            "<tr><td>894</td><td>Rear Derailleur</td><td>Silver</td><td>353</td><td>2</td></tr>",
                            "<tr><td>895</td><td>LL Touring Frame - Blue, 50</td><td>Blue</td><td>316</td><td>2</td></tr>",
                            "<tr><td>896</td><td>LL Touring Frame - Blue, 54</td><td>Blue</td><td>211</td><td>2</td></tr>",
                            "<tr><td>897</td><td>LL Touring Frame - Blue, 58</td><td>Blue</td><td>4</td><td>2</td></tr>",
                            "<tr><td>898</td><td>LL Touring Frame - Blue, 62</td><td>Blue</td><td>15</td><td>1</td></tr>",
                            "<tr><td>899</td><td>LL Touring Frame - Yellow, 44</td><td>Yellow</td><td>294</td><td>2</td></tr>",
                            "<tr><td>900</td><td>LL Touring Frame - Yellow, 50</td><td>Yellow</td><td>228</td><td>2</td></tr>",
                            "<tr><td>902</td><td>LL Touring Frame - Yellow, 58</td><td>Yellow</td><td>36</td><td>1</td></tr>",
                            "<tr><td>903</td><td>LL Touring Frame - Blue, 44</td><td>Blue</td><td>25</td><td>1</td></tr>",
                            "<tr><td>904</td><td>ML Mountain Frame-W - Silver, 40</td><td>Silver</td><td>899</td><td>3</td></tr>",
                            "<tr><td>905</td><td>ML Mountain Frame-W - Silver, 42</td><td>Silver</td><td>627</td><td>2</td></tr>",
                            "<tr><td>906</td><td>ML Mountain Frame-W - Silver, 46</td><td>Silver</td><td>188</td><td>2</td></tr>",
                            "<tr><td>907</td><td>Rear Brakes</td><td>Silver</td><td>246</td><td>2</td></tr>",
                            "<tr><td>908</td><td>LL Mountain Seat/Saddle</td><td>NULL</td><td>347</td><td>2</td></tr>",
                            "<tr><td>909</td><td>ML Mountain Seat/Saddle</td><td>NULL</td><td>534</td><td>3</td></tr>",
                            "<tr><td>910</td><td>HL Mountain Seat/Saddle</td><td>NULL</td><td>519</td><td>2</td></tr>",
                            "<tr><td>911</td><td>LL Road Seat/Saddle</td><td>NULL</td><td>10</td><td>1</td></tr>",
                            "<tr><td>913</td><td>HL Road Seat/Saddle</td><td>NULL</td><td>134</td><td>2</td></tr>",
                            "<tr><td>914</td><td>LL Touring Seat/Saddle</td><td>NULL</td><td>91</td><td>2</td></tr>",
                            "<tr><td>915</td><td>ML Touring Seat/Saddle</td><td>NULL</td><td>84</td><td>2</td></tr>",
                            "<tr><td>916</td><td>HL Touring Seat/Saddle</td><td>NULL</td><td>426</td><td>2</td></tr>",
                            "<tr><td>917</td><td>LL Mountain Frame - Silver, 42</td><td>Silver</td><td>638</td><td>2</td></tr>",
                            "<tr><td>918</td><td>LL Mountain Frame - Silver, 44</td><td>Silver</td><td>371</td><td>2</td></tr>",
                            "<tr><td>919</td><td>LL Mountain Frame - Silver, 48</td><td>Silver</td><td>44</td><td>2</td></tr>",
                            "<tr><td>920</td><td>LL Mountain Frame - Silver, 52</td><td>Silver</td><td>425</td><td>2</td></tr>",
                            "<tr><td>921</td><td>Mountain Tire Tube</td><td>NULL</td><td>3095</td><td>1</td></tr>",
                            "<tr><td>922</td><td>Road Tire Tube</td><td>NULL</td><td>2376</td><td>1</td></tr>",
                            "<tr><td>923</td><td>Touring Tire Tube</td><td>NULL</td><td>1488</td><td>1</td></tr>",
                            "<tr><td>924</td><td>LL Mountain Frame - Black, 42</td><td>Black</td><td>423</td><td>2</td></tr>",
                            "<tr><td>925</td><td>LL Mountain Frame - Black, 44</td><td>Black</td><td>625</td><td>2</td></tr>",
                            "<tr><td>926</td><td>LL Mountain Frame - Black, 48</td><td>Black</td><td>386</td><td>2</td></tr>",
                            "<tr><td>927</td><td>LL Mountain Frame - Black, 52</td><td>Black</td><td>15</td><td>1</td></tr>",
                            "<tr><td>928</td><td>LL Mountain Tire</td><td>NULL</td><td>862</td><td>1</td></tr>",
                            "<tr><td>929</td><td>ML Mountain Tire</td><td>NULL</td><td>1161</td><td>1</td></tr>",
                            "<tr><td>930</td><td>HL Mountain Tire</td><td>NULL</td><td>1396</td><td>1</td></tr>",
                            "<tr><td>931</td><td>LL Road Tire</td><td>NULL</td><td>1044</td><td>1</td></tr>",
                            "<tr><td>932</td><td>ML Road Tire</td><td>NULL</td><td>926</td><td>1</td></tr>",
                            "<tr><td>933</td><td>HL Road Tire</td><td>NULL</td><td>858</td><td>1</td></tr>",
                            "<tr><td>934</td><td>Touring Tire</td><td>NULL</td><td>935</td><td>1</td></tr>",
                            "<tr><td>935</td><td>LL Mountain Pedal</td><td>Silver/Black</td><td>449</td><td>2</td></tr>",
                            "<tr><td>936</td><td>ML Mountain Pedal</td><td>Silver/Black</td><td>345</td><td>2</td></tr>",
                            "<tr><td>937</td><td>HL Mountain Pedal</td><td>Silver/Black</td><td>785</td><td>3</td></tr>",
                            "<tr><td>938</td><td>LL Road Pedal</td><td>Silver/Black</td><td>868</td><td>2</td></tr>",
                            "<tr><td>939</td><td>ML Road Pedal</td><td>Silver/Black</td><td>661</td><td>2</td></tr>",
                            "<tr><td>940</td><td>HL Road Pedal</td><td>Silver/Black</td><td>676</td><td>2</td></tr>",
                            "<tr><td>941</td><td>Touring Pedal</td><td>Silver/Black</td><td>147</td><td>2</td></tr>",
                            "<tr><td>942</td><td>ML Mountain Frame-W - Silver, 38</td><td>Silver</td><td>7</td><td>1</td></tr>",
                            "<tr><td>943</td><td>LL Mountain Frame - Black, 40</td><td>Black</td><td>8</td><td>1</td></tr>",
                            "<tr><td>944</td><td>LL Mountain Frame - Silver, 40</td><td>Silver</td><td>442</td><td>2</td></tr>",
                            "<tr><td>945</td><td>Front Derailleur</td><td>Silver</td><td>813</td><td>3</td></tr>",
                            "<tr><td>946</td><td>LL Touring Handlebars</td><td>NULL</td><td>56</td><td>1</td></tr>",
                            "<tr><td>947</td><td>HL Touring Handlebars</td><td>NULL</td><td>220</td><td>2</td></tr>",
                            "<tr><td>948</td><td>Front Brakes</td><td>Silver</td><td>789</td><td>2</td></tr>",
                            "<tr><td>949</td><td>LL Crankset</td><td>Black</td><td>426</td><td>2</td></tr>",
                            "<tr><td>950</td><td>ML Crankset</td><td>Black</td><td>68</td><td>2</td></tr>",
                            "<tr><td>951</td><td>HL Crankset</td><td>Black</td><td>613</td><td>2</td></tr>",
                            "<tr><td>952</td><td>Chain</td><td>Silver</td><td>774</td><td>3</td></tr>",
                            "<tr><td>953</td><td>Touring-2000 Blue, 60</td><td>Blue</td><td>820</td><td>2</td></tr>",
                            "<tr><td>954</td><td>Touring-1000 Yellow, 46</td><td>Yellow</td><td>1005</td><td>2</td></tr>",
                            "<tr><td>955</td><td>Touring-1000 Yellow, 50</td><td>Yellow</td><td>652</td><td>1</td></tr>",
                            "<tr><td>956</td><td>Touring-1000 Yellow, 54</td><td>Yellow</td><td>397</td><td>1</td></tr>",
                            "<tr><td>957</td><td>Touring-1000 Yellow, 60</td><td>Yellow</td><td>1114</td><td>2</td></tr>",
                            "<tr><td>958</td><td>Touring-3000 Blue, 54</td><td>Blue</td><td>686</td><td>2</td></tr>",
                            "<tr><td>959</td><td>Touring-3000 Blue, 58</td><td>Blue</td><td>482</td><td>2</td></tr>",
                            "<tr><td>960</td><td>Touring-3000 Blue, 62</td><td>Blue</td><td>281</td><td>1</td></tr>",
                            "<tr><td>961</td><td>Touring-3000 Yellow, 44</td><td>Yellow</td><td>851</td><td>2</td></tr>",
                            "<tr><td>962</td><td>Touring-3000 Yellow, 50</td><td>Yellow</td><td>686</td><td>2</td></tr>",
                            "<tr><td>963</td><td>Touring-3000 Yellow, 54</td><td>Yellow</td><td>453</td><td>1</td></tr>",
                            "<tr><td>964</td><td>Touring-3000 Yellow, 58</td><td>Yellow</td><td>293</td><td>1</td></tr>",
                            "<tr><td>965</td><td>Touring-3000 Yellow, 62</td><td>Yellow</td><td>844</td><td>2</td></tr>",
                            "<tr><td>966</td><td>Touring-1000 Blue, 46</td><td>Blue</td><td>1002</td><td>2</td></tr>",
                            "<tr><td>967</td><td>Touring-1000 Blue, 50</td><td>Blue</td><td>649</td><td>1</td></tr>",
                            "<tr><td>968</td><td>Touring-1000 Blue, 54</td><td>Blue</td><td>413</td><td>1</td></tr>",
                            "<tr><td>969</td><td>Touring-1000 Blue, 60</td><td>Blue</td><td>1120</td><td>2</td></tr>",
                            "<tr><td>970</td><td>Touring-2000 Blue, 46</td><td>Blue</td><td>538</td><td>1</td></tr>",
                            "<tr><td>971</td><td>Touring-2000 Blue, 50</td><td>Blue</td><td>322</td><td>1</td></tr>",
                            "<tr><td>972</td><td>Touring-2000 Blue, 54</td><td>Blue</td><td>1010</td><td>2</td></tr>",
                            "<tr><td>973</td><td>Road-350-W Yellow, 40</td><td>Yellow</td><td>1477</td><td>2</td></tr>",
                            "<tr><td>974</td><td>Road-350-W Yellow, 42</td><td>Yellow</td><td>944</td><td>2</td></tr>",
                            "<tr><td>975</td><td>Road-350-W Yellow, 44</td><td>Yellow</td><td>536</td><td>1</td></tr>",
                            "<tr><td>976</td><td>Road-350-W Yellow, 48</td><td>Yellow</td><td>1622</td><td>2</td></tr>",
                            "<tr><td>977</td><td>Road-750 Black, 58</td><td>Black</td><td>892</td><td>1</td></tr>",
                            "<tr><td>978</td><td>Touring-3000 Blue, 44</td><td>Blue</td><td>292</td><td>1</td></tr>",
                            "<tr><td>979</td><td>Touring-3000 Blue, 50</td><td>Blue</td><td>841</td><td>2</td></tr>",
                            "<tr><td>980</td><td>Mountain-400-W Silver, 38</td><td>Silver</td><td>425</td><td>1</td></tr>",
                            "<tr><td>981</td><td>Mountain-400-W Silver, 40</td><td>Silver</td><td>617</td><td>2</td></tr>",
                            "<tr><td>982</td><td>Mountain-400-W Silver, 42</td><td>Silver</td><td>385</td><td>1</td></tr>",
                            "<tr><td>983</td><td>Mountain-400-W Silver, 46</td><td>Silver</td><td>401</td><td>1</td></tr>",
                            "<tr><td>984</td><td>Mountain-500 Silver, 40</td><td>Silver</td><td>450</td><td>2</td></tr>",
                            "<tr><td>985</td><td>Mountain-500 Silver, 42</td><td>Silver</td><td>455</td><td>2</td></tr>",
                            "<tr><td>986</td><td>Mountain-500 Silver, 44</td><td>Silver</td><td>381</td><td>1</td></tr>",
                            "<tr><td>987</td><td>Mountain-500 Silver, 48</td><td>Silver</td><td>457</td><td>2</td></tr>",
                            "<tr><td>988</td><td>Mountain-500 Silver, 52</td><td>Silver</td><td>515</td><td>2</td></tr>",
                            "<tr><td>989</td><td>Mountain-500 Black, 40</td><td>Black</td><td>282</td><td>1</td></tr>",
                            "<tr><td>990</td><td>Mountain-500 Black, 42</td><td>Black</td><td>388</td><td>1</td></tr>",
                            "<tr><td>991</td><td>Mountain-500 Black, 44</td><td>Black</td><td>350</td><td>1</td></tr>",
                            "<tr><td>992</td><td>Mountain-500 Black, 48</td><td>Black</td><td>449</td><td>1</td></tr>",
                            "<tr><td>993</td><td>Mountain-500 Black, 52</td><td>Black</td><td>272</td><td>1</td></tr>",
                            "<tr><td>994</td><td>LL Bottom Bracket</td><td>NULL</td><td>378</td><td>2</td></tr>",
                            "<tr><td>996</td><td>HL Bottom Bracket</td><td>NULL</td><td>543</td><td>2</td></tr>",
                            "<tr><td>997</td><td>Road-750 Black, 44</td><td>Black</td><td>656</td><td>1</td></tr>",
                            "<tr><td>998</td><td>Road-750 Black, 48</td><td>Black</td><td>1556</td><td>2</td></tr>",
                            "<tr><td>999</td><td>Road-750 Black, 52</td><td>Black</td><td>1338</td><td>1</td></tr>",
                            "</table>"
                        ]
                    }
                }
            ],
            "execution_count": 32
        }
    ]
}